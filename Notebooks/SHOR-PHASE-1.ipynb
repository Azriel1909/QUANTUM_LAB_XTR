{
  "cells": [
    {
      "cell_type": "code",
      "execution_count": 1,
      "metadata": {
        "jupyter": {
          "outputs_hidden": false,
          "source_hidden": false
        },
        "nteract": {
          "transient": {
            "deleting": false
          }
        }
      },
      "outputs": [
        {
          "data": {
            "application/x-qsharp-data": "\"\"",
            "text/plain": []
          },
          "metadata": {
            "application/x-qsharp-data": {},
            "text/plain": {}
          },
          "output_type": "display_data"
        },
        {
          "name": "stdout",
          "output_type": "stream",
          "text": [
            "Authenticated using Microsoft.Azure.Quantum.Authentication.TokenFileCredential\n",
            "\n",
            "\n",
            "Connected to Azure Quantum workspace LaboratorioQuantum-Ximena-Toledo-RIvera in location eastus.\n"
          ]
        },
        {
          "data": {
            "application/x-qsharp-data": "[{\"id\":\"microsoft.estimator\",\"current_availability\":{},\"average_queue_time\":0}]",
            "text/html": [
              "<table><thead><tr><th style=\"text-align: start;\">Target ID</th><th style=\"text-align: start;\">Current Availability</th><th style=\"text-align: start;\">Average Queue Time (Seconds)</th></tr></thead><tbody><tr><td style=\"text-align: start;\">microsoft.estimator</td><td style=\"text-align: start;\">Available</td><td style=\"text-align: start;\">0</td></tr></tbody></table>"
            ],
            "text/plain": [
              "Target ID           Current Availability Average Queue Time (Seconds)\n",
              "------------------- --------- -\n",
              "microsoft.estimator Available 0\n"
            ]
          },
          "execution_count": 1,
          "metadata": {
            "application/x-qsharp-data": {},
            "text/html": {},
            "text/plain": {}
          },
          "output_type": "execute_result"
        }
      ],
      "source": [
        "%azure.connect \"LaboratorioQuantum-Ximena-Toledo-RIvera\" location=\"eastus\"\n"
      ]
    },
    {
      "cell_type": "code",
      "execution_count": 2,
      "metadata": {
        "jupyter": {
          "outputs_hidden": false,
          "source_hidden": false
        },
        "nteract": {
          "transient": {
            "deleting": false
          }
        }
      },
      "outputs": [
        {
          "data": {
            "application/x-qsharp-data": "[\"ramdomNumberGenerator\"]",
            "text/html": [
              "<ul><li>ramdomNumberGenerator</li></ul>"
            ],
            "text/plain": [
              "ramdomNumberGenerator"
            ]
          },
          "execution_count": 2,
          "metadata": {
            "application/x-qsharp-data": {},
            "text/html": {},
            "text/plain": {}
          },
          "output_type": "execute_result"
        }
      ],
      "source": [
        "open Microsoft.Quantum.Canon;\n",
        "open Microsoft.Quantum.Intrinsic;\n",
        "open Microsoft.Quantum.Measurement;\n",
        "open Microsoft.Quantum.Math;\n",
        "open Microsoft.Quantum.Convert;\n",
        "\n",
        "operation ramdomNumberGenerator() : Result {\n",
        "        use q1 = Qubit();\n",
        "        H(q1);\n",
        "        return M(q1);\n",
        "    }"
      ]
    },
    {
      "cell_type": "code",
      "execution_count": 3,
      "metadata": {
        "jupyter": {
          "outputs_hidden": false,
          "source_hidden": false
        },
        "nteract": {
          "transient": {
            "deleting": false
          }
        }
      },
      "outputs": [
        {
          "data": {
            "application/x-qsharp-data": "1",
            "text/plain": [
              "One"
            ]
          },
          "execution_count": 3,
          "metadata": {
            "application/x-qsharp-data": {},
            "text/plain": {}
          },
          "output_type": "execute_result"
        }
      ],
      "source": [
        "%simulate ramdomNumberGenerator count=1000 initial=1"
      ]
    },
    {
      "cell_type": "code",
      "execution_count": 18,
      "metadata": {
        "jupyter": {
          "outputs_hidden": false,
          "source_hidden": false
        },
        "nteract": {
          "transient": {
            "deleting": false
          }
        }
      },
      "outputs": [
        {
          "data": {
            "application/x-qsharp-data": "[\"randomNumberRange\"]",
            "text/html": [
              "<ul><li>randomNumberRange</li></ul>"
            ],
            "text/plain": [
              "randomNumberRange"
            ]
          },
          "execution_count": 18,
          "metadata": {
            "application/x-qsharp-data": {},
            "text/html": {},
            "text/plain": {}
          },
          "output_type": "execute_result"
        }
      ],
      "source": [
        " operation randomNumberRange(min: Int, max: Int) : Int {\n",
        "        mutable output = 0;\n",
        "        repeat { // Loop to generate random numbers until it generates one that's equal or less than max or equal or more than min\n",
        "            mutable bits = [];\n",
        "            for indexBit in 1..BitSizeI(max) { // Returns the number of bits required\n",
        "                set bits = bits + [ramdomNumberGenerator()];\n",
        "            }\n",
        "            for indexBit in 1..BitSizeI(min){\n",
        "                set bits = bits + [ramdomNumberGenerator()];\n",
        "            }\n",
        "            set output = ResultArrayAsInt(bits);\n",
        "        } until (output >= min and output <= max );\n",
        "        Message($\"Random number between {min} and {max} ->  \");\n",
        "        return output;\n",
        "    }"
      ]
    },
    {
      "cell_type": "code",
      "execution_count": 19,
      "metadata": {
        "jupyter": {
          "outputs_hidden": false,
          "source_hidden": false
        },
        "nteract": {
          "transient": {
            "deleting": false
          }
        }
      },
      "outputs": [
        {
          "name": "stdout",
          "output_type": "stream",
          "text": [
            "Random number between 100 and 200 ->  \n"
          ]
        },
        {
          "data": {
            "application/x-qsharp-data": "182",
            "text/plain": [
              "182"
            ]
          },
          "execution_count": 19,
          "metadata": {
            "application/x-qsharp-data": {},
            "text/plain": {}
          },
          "output_type": "execute_result"
        }
      ],
      "source": [
        "%simulate randomNumberRange count=1000 initial=1 min=100 max=200"
      ]
    }
  ],
  "metadata": {
    "kernel_info": {
      "name": "iqsharp"
    },
    "kernelspec": {
      "display_name": "Q#",
      "language": "qsharp",
      "name": "iqsharp"
    },
    "language_info": {
      "file_extension": ".qs",
      "mimetype": "text/x-qsharp",
      "name": "qsharp",
      "version": "0.27"
    },
    "nteract": {
      "version": "nteract-front-end@1.0.0"
    }
  },
  "nbformat": 4,
  "nbformat_minor": 0
}
