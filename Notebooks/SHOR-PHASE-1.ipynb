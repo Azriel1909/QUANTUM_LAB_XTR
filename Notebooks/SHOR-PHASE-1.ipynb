{
  "cells": [
    {
      "cell_type": "code",
      "source": [
        "%azure.connect \"/subscriptions/b3ed2c3e-e784-4a4e-9474-a3d279d2f9e4/resourceGroups/AzureQuantum/providers/Microsoft.Quantum/Workspaces/LaboratorioQuantum-Ximena-Toledo-RIvera\" location=\"eastus\"\n"
      ],
      "outputs": [
        {
          "output_type": "display_data",
          "data": {
            "text/plain": "",
            "application/x-qsharp-data": "\"\""
          },
          "metadata": {
            "text/plain": {},
            "application/x-qsharp-data": {}
          }
        },
        {
          "output_type": "stream",
          "name": "stdout",
          "text": "Authenticated using Microsoft.Azure.Quantum.Authentication.TokenFileCredential\n\n\nConnected to Azure Quantum workspace LaboratorioQuantum-Ximena-Toledo-RIvera in location eastus.\n"
        },
        {
          "output_type": "execute_result",
          "execution_count": 1,
          "data": {
            "text/plain": "Target ID           Current Availability Average Queue Time (Seconds)\n------------------- --------- -\nmicrosoft.estimator Available 0\n",
            "text/html": "<table><thead><tr><th style=\"text-align: start;\">Target ID</th><th style=\"text-align: start;\">Current Availability</th><th style=\"text-align: start;\">Average Queue Time (Seconds)</th></tr></thead><tbody><tr><td style=\"text-align: start;\">microsoft.estimator</td><td style=\"text-align: start;\">Available</td><td style=\"text-align: start;\">0</td></tr></tbody></table>",
            "application/x-qsharp-data": "[{\"id\":\"microsoft.estimator\",\"current_availability\":{},\"average_queue_time\":0}]"
          },
          "metadata": {
            "text/plain": {},
            "text/html": {},
            "application/x-qsharp-data": {}
          }
        }
      ],
      "execution_count": 1,
      "metadata": {
        "jupyter": {
          "source_hidden": false,
          "outputs_hidden": false
        },
        "nteract": {
          "transient": {
            "deleting": false
          }
        }
      }
    },
    {
      "cell_type": "code",
      "source": [
        "open Microsoft.Quantum.Canon;\n",
        "open Microsoft.Quantum.Intrinsic;\n",
        "open Microsoft.Quantum.Measurement;\n",
        "open Microsoft.Quantum.Math;\n",
        "open Microsoft.Quantum.Convert;\n",
        "\n",
        "operation ramdomNumberGenerator() : Result {\n",
        "        use q1 = Qubit();\n",
        "        H(q1);\n",
        "        return M(q1);\n",
        "    }"
      ],
      "outputs": [
        {
          "output_type": "execute_result",
          "execution_count": 2,
          "data": {
            "text/plain": "ramdomNumberGenerator",
            "text/html": "<ul><li>ramdomNumberGenerator</li></ul>",
            "application/x-qsharp-data": "[\"ramdomNumberGenerator\"]"
          },
          "metadata": {
            "text/plain": {},
            "text/html": {},
            "application/x-qsharp-data": {}
          }
        }
      ],
      "execution_count": 2,
      "metadata": {
        "jupyter": {
          "source_hidden": false,
          "outputs_hidden": false
        },
        "nteract": {
          "transient": {
            "deleting": false
          }
        }
      }
    },
    {
      "cell_type": "code",
      "source": [
        "%simulate ramdomNumberGenerator count=1000 initial=1"
      ],
      "outputs": [
        {
          "output_type": "execute_result",
          "execution_count": 3,
          "data": {
            "text/plain": "One",
            "application/x-qsharp-data": "1"
          },
          "metadata": {
            "text/plain": {},
            "application/x-qsharp-data": {}
          }
        }
      ],
      "execution_count": 3,
      "metadata": {
        "jupyter": {
          "source_hidden": false,
          "outputs_hidden": false
        },
        "nteract": {
          "transient": {
            "deleting": false
          }
        }
      }
    },
    {
      "cell_type": "code",
      "source": [
        " operation randomNumberRange(min: Int, max: Int) : Int {\n",
        "        mutable output = 0;\n",
        "        repeat { // Loop to generate random numbers until it generates one that's equal or less than max or equal or more than min\n",
        "            mutable bits = [];\n",
        "            for indexBit in 1..BitSizeI(max) { // Returns the number of bits required\n",
        "                set bits = bits + [ramdomNumberGenerator()];\n",
        "            }\n",
        "            for indexBit in 1..BitSizeI(min){\n",
        "                set bits = bits + [ramdomNumberGenerator()];\n",
        "            }\n",
        "            set output = ResultArrayAsInt(bits);\n",
        "        } until (output >= min and output <= max );\n",
        "        Message($\"Random number between {min} and {max} ->  \");\n",
        "        return output;\n",
        "    }"
      ],
      "outputs": [
        {
          "output_type": "execute_result",
          "execution_count": 18,
          "data": {
            "text/plain": "randomNumberRange",
            "text/html": "<ul><li>randomNumberRange</li></ul>",
            "application/x-qsharp-data": "[\"randomNumberRange\"]"
          },
          "metadata": {
            "text/plain": {},
            "text/html": {},
            "application/x-qsharp-data": {}
          }
        }
      ],
      "execution_count": 18,
      "metadata": {
        "jupyter": {
          "source_hidden": false,
          "outputs_hidden": false
        },
        "nteract": {
          "transient": {
            "deleting": false
          }
        }
      }
    },
    {
      "cell_type": "code",
      "source": [
        "%simulate randomNumberRange count=1000 initial=1 min=100 max=200"
      ],
      "outputs": [
        {
          "output_type": "stream",
          "name": "stdout",
          "text": "Random number between 100 and 200 ->  \n"
        },
        {
          "output_type": "execute_result",
          "execution_count": 19,
          "data": {
            "text/plain": "182",
            "application/x-qsharp-data": "182"
          },
          "metadata": {
            "text/plain": {},
            "application/x-qsharp-data": {}
          }
        }
      ],
      "execution_count": 19,
      "metadata": {
        "jupyter": {
          "source_hidden": false,
          "outputs_hidden": false
        },
        "nteract": {
          "transient": {
            "deleting": false
          }
        }
      }
    }
  ],
  "metadata": {
    "language_info": {
      "name": "qsharp",
      "version": "0.27",
      "mimetype": "text/x-qsharp",
      "file_extension": ".qs"
    },
    "kernelspec": {
      "name": "iqsharp",
      "language": "qsharp",
      "display_name": "Q#"
    },
    "kernel_info": {
      "name": "iqsharp"
    },
    "nteract": {
      "version": "nteract-front-end@1.0.0"
    }
  },
  "nbformat": 4,
  "nbformat_minor": 0
}