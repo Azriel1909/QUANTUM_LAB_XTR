{
  "cells": [
    {
      "cell_type": "code",
      "execution_count": 1,
      "metadata": {
        "jupyter": {
          "outputs_hidden": false,
          "source_hidden": false
        },
        "nteract": {
          "transient": {
            "deleting": false
          }
        }
      },
      "outputs": [
        {
          "data": {
            "application/x-qsharp-data": "\"\"",
            "text/plain": []
          },
          "metadata": {
            "application/x-qsharp-data": {},
            "text/plain": {}
          },
          "output_type": "display_data"
        },
        {
          "name": "stdout",
          "output_type": "stream",
          "text": [
            "Authenticated using Microsoft.Azure.Quantum.Authentication.TokenFileCredential\n",
            "\n",
            "\n",
            "Connected to Azure Quantum workspace LaboratorioQuantum-Ximena-Toledo-RIvera in location eastus.\n"
          ]
        },
        {
          "data": {
            "application/x-qsharp-data": "[{\"id\":\"microsoft.estimator\",\"current_availability\":{},\"average_queue_time\":0}]",
            "text/html": [
              "<table><thead><tr><th style=\"text-align: start;\">Target ID</th><th style=\"text-align: start;\">Current Availability</th><th style=\"text-align: start;\">Average Queue Time (Seconds)</th></tr></thead><tbody><tr><td style=\"text-align: start;\">microsoft.estimator</td><td style=\"text-align: start;\">Available</td><td style=\"text-align: start;\">0</td></tr></tbody></table>"
            ],
            "text/plain": [
              "Target ID           Current Availability Average Queue Time (Seconds)\n",
              "------------------- --------- -\n",
              "microsoft.estimator Available 0\n"
            ]
          },
          "execution_count": 1,
          "metadata": {
            "application/x-qsharp-data": {},
            "text/html": {},
            "text/plain": {}
          },
          "output_type": "execute_result"
        }
      ],
      "source": [
        "%azure.connect \"/Workspaces/LaboratorioQuantum-Ximena-Toledo-RIvera\" location=\"eastus\"\n"
      ]
    },
    {
      "attachments": {},
      "cell_type": "markdown",
      "metadata": {
        "nteract": {
          "transient": {
            "deleting": false
          }
        }
      },
      "source": [
        "# Shor Algorithm\n",
        "## Phase 1 \n",
        "1. pseudo-random number\n",
        "2. Compute gcd(a, N) using the Euclidean algorithm\n",
        "   1. If gcd(a, N) ≠ 1, then there is a nontrivial factor of N, so we are done."
      ]
    },
    {
      "cell_type": "code",
      "execution_count": 2,
      "metadata": {
        "jupyter": {
          "outputs_hidden": false,
          "source_hidden": false
        },
        "nteract": {
          "transient": {
            "deleting": false
          }
        }
      },
      "outputs": [
        {
          "data": {
            "application/x-qsharp-data": "[\"ramdomNumberGenerator\"]",
            "text/html": [
              "<ul><li>ramdomNumberGenerator</li></ul>"
            ],
            "text/plain": [
              "ramdomNumberGenerator"
            ]
          },
          "execution_count": 2,
          "metadata": {
            "application/x-qsharp-data": {},
            "text/html": {},
            "text/plain": {}
          },
          "output_type": "execute_result"
        }
      ],
      "source": [
        "open Microsoft.Quantum.Canon;\n",
        "open Microsoft.Quantum.Intrinsic;\n",
        "open Microsoft.Quantum.Measurement;\n",
        "open Microsoft.Quantum.Math;\n",
        "open Microsoft.Quantum.Convert;\n",
        "\n",
        "operation ramdomNumberGenerator() : Result {\n",
        "        use q1 = Qubit();\n",
        "        H(q1);\n",
        "        return M(q1);\n",
        "    }"
      ]
    },
    {
      "cell_type": "code",
      "execution_count": 3,
      "metadata": {
        "jupyter": {
          "outputs_hidden": false,
          "source_hidden": false
        },
        "nteract": {
          "transient": {
            "deleting": false
          }
        }
      },
      "outputs": [
        {
          "data": {
            "application/x-qsharp-data": "0",
            "text/plain": [
              "Zero"
            ]
          },
          "execution_count": 3,
          "metadata": {
            "application/x-qsharp-data": {},
            "text/plain": {}
          },
          "output_type": "execute_result"
        }
      ],
      "source": [
        "%simulate ramdomNumberGenerator"
      ]
    },
    {
      "cell_type": "code",
      "execution_count": 4,
      "metadata": {
        "jupyter": {
          "outputs_hidden": false,
          "source_hidden": false
        },
        "nteract": {
          "transient": {
            "deleting": false
          }
        }
      },
      "outputs": [
        {
          "data": {
            "application/x-qsharp-data": "[\"randomNumberRange\"]",
            "text/html": [
              "<ul><li>randomNumberRange</li></ul>"
            ],
            "text/plain": [
              "randomNumberRange"
            ]
          },
          "execution_count": 4,
          "metadata": {
            "application/x-qsharp-data": {},
            "text/html": {},
            "text/plain": {}
          },
          "output_type": "execute_result"
        }
      ],
      "source": [
        "operation randomNumberRange(min: Int, max: Int) : Int {\n",
        "        mutable output = 0;\n",
        "        repeat { // Loop to generate random numbers until it generates one that's equal or less than max or equal or more than min\n",
        "            mutable bits = [];\n",
        "            for indexBit in 1..BitSizeI(max) { // Returns the number of bits required\n",
        "                set bits = bits + [ramdomNumberGenerator()];\n",
        "            }\n",
        "            for indexBit in 1..BitSizeI(min) {\n",
        "                set bits = bits + [ramdomNumberGenerator()];\n",
        "            }\n",
        "            set output = ResultArrayAsInt(bits);\n",
        "        } until (output >= min and output <= max );\n",
        "        Message($\"Random number between {min} and {max} ->  \");\n",
        "        return output;\n",
        "    }"
      ]
    },
    {
      "cell_type": "code",
      "execution_count": 5,
      "metadata": {
        "jupyter": {
          "outputs_hidden": false,
          "source_hidden": false
        },
        "nteract": {
          "transient": {
            "deleting": false
          }
        }
      },
      "outputs": [
        {
          "name": "stdout",
          "output_type": "stream",
          "text": [
            "Random number between 100 and 200 ->  \n"
          ]
        },
        {
          "data": {
            "application/x-qsharp-data": "159",
            "text/plain": [
              "159"
            ]
          },
          "execution_count": 5,
          "metadata": {
            "application/x-qsharp-data": {},
            "text/plain": {}
          },
          "output_type": "execute_result"
        }
      ],
      "source": [
        "%simulate randomNumberRange min=100 max=200"
      ]
    },
    {
      "cell_type": "code",
      "execution_count": 6,
      "metadata": {
        "jupyter": {
          "outputs_hidden": false,
          "source_hidden": false
        },
        "nteract": {
          "transient": {
            "deleting": false
          }
        }
      },
      "outputs": [
        {
          "name": "stdout",
          "output_type": "stream",
          "text": [
            "Random number between 100 and 200 ->  \n"
          ]
        },
        {
          "data": {
            "application/x-qsharp-data": "127",
            "text/plain": [
              "127"
            ]
          },
          "execution_count": 6,
          "metadata": {
            "application/x-qsharp-data": {},
            "text/plain": {}
          },
          "output_type": "execute_result"
        }
      ],
      "source": [
        "%simulate randomNumberRange min=100 max=200"
      ]
    },
    {
      "cell_type": "code",
      "execution_count": 7,
      "metadata": {
        "jupyter": {
          "outputs_hidden": false,
          "source_hidden": false
        },
        "nteract": {
          "transient": {
            "deleting": false
          }
        }
      },
      "outputs": [
        {
          "name": "stdout",
          "output_type": "stream",
          "text": [
            "Random number between 100 and 200 ->  \n"
          ]
        },
        {
          "data": {
            "application/x-qsharp-data": "198",
            "text/plain": [
              "198"
            ]
          },
          "execution_count": 7,
          "metadata": {
            "application/x-qsharp-data": {},
            "text/plain": {}
          },
          "output_type": "execute_result"
        }
      ],
      "source": [
        "%simulate randomNumberRange min=100 max=200"
      ]
    },
    {
      "cell_type": "code",
      "execution_count": 8,
      "metadata": {
        "jupyter": {
          "outputs_hidden": false,
          "source_hidden": false
        },
        "nteract": {
          "transient": {
            "deleting": false
          }
        }
      },
      "outputs": [
        {
          "name": "stdout",
          "output_type": "stream",
          "text": [
            "Random number between 100 and 200 ->  \n"
          ]
        },
        {
          "data": {
            "application/x-qsharp-data": "104",
            "text/plain": [
              "104"
            ]
          },
          "execution_count": 8,
          "metadata": {
            "application/x-qsharp-data": {},
            "text/plain": {}
          },
          "output_type": "execute_result"
        }
      ],
      "source": [
        "%simulate randomNumberRange min=100 max=200"
      ]
    },
    {
      "cell_type": "code",
      "execution_count": 9,
      "metadata": {
        "jupyter": {
          "outputs_hidden": false,
          "source_hidden": false
        },
        "nteract": {
          "transient": {
            "deleting": false
          }
        }
      },
      "outputs": [
        {
          "name": "stdout",
          "output_type": "stream",
          "text": [
            "Random number between 100 and 200 ->  \n"
          ]
        },
        {
          "data": {
            "application/x-qsharp-data": "136",
            "text/plain": [
              "136"
            ]
          },
          "execution_count": 9,
          "metadata": {
            "application/x-qsharp-data": {},
            "text/plain": {}
          },
          "output_type": "execute_result"
        }
      ],
      "source": [
        "%simulate randomNumberRange min=100 max=200"
      ]
    },
    {
      "cell_type": "code",
      "execution_count": 10,
      "metadata": {
        "jupyter": {
          "outputs_hidden": false,
          "source_hidden": false
        },
        "nteract": {
          "transient": {
            "deleting": false
          }
        }
      },
      "outputs": [
        {
          "name": "stdout",
          "output_type": "stream",
          "text": [
            "Random number between 100 and 200 ->  \n"
          ]
        },
        {
          "data": {
            "application/x-qsharp-data": "147",
            "text/plain": [
              "147"
            ]
          },
          "execution_count": 10,
          "metadata": {
            "application/x-qsharp-data": {},
            "text/plain": {}
          },
          "output_type": "execute_result"
        }
      ],
      "source": [
        "%simulate randomNumberRange min=100 max=200"
      ]
    },
    {
      "cell_type": "markdown",
      "metadata": {
        "nteract": {
          "transient": {
            "deleting": false
          }
        }
      },
      "source": [
        "## Euclidean Algorithm "
      ]
    },
    {
      "cell_type": "code",
      "execution_count": 11,
      "metadata": {
        "jupyter": {
          "outputs_hidden": false,
          "source_hidden": false
        },
        "nteract": {
          "transient": {
            "deleting": false
          }
        }
      },
      "outputs": [
        {
          "data": {
            "application/x-qsharp-data": "[\"euclideanAlgoGCD\"]",
            "text/html": [
              "<ul><li>euclideanAlgoGCD</li></ul>"
            ],
            "text/plain": [
              "euclideanAlgoGCD"
            ]
          },
          "execution_count": 11,
          "metadata": {
            "application/x-qsharp-data": {},
            "text/html": {},
            "text/plain": {}
          },
          "output_type": "execute_result"
        }
      ],
      "source": [
        "function euclideanAlgoGCD(a: Int, N: Int) : Int {\n",
        "        Message($\"GCD of {a} and {N} ->  \");\n",
        "        return GreatestCommonDivisorI((a),(N));\n",
        "}"
      ]
    },
    {
      "cell_type": "code",
      "execution_count": 13,
      "metadata": {
        "jupyter": {
          "outputs_hidden": false,
          "source_hidden": false
        },
        "nteract": {
          "transient": {
            "deleting": false
          }
        }
      },
      "outputs": [
        {
          "name": "stdout",
          "output_type": "stream",
          "text": [
            "GCD of 60 and 48 ->  \n"
          ]
        },
        {
          "data": {
            "application/x-qsharp-data": "12",
            "text/plain": [
              "12"
            ]
          },
          "execution_count": 13,
          "metadata": {
            "application/x-qsharp-data": {},
            "text/plain": {}
          },
          "output_type": "execute_result"
        }
      ],
      "source": [
        "%simulate euclideanAlgoGCD a=60 N=48"
      ]
    },
    {
      "cell_type": "code",
      "execution_count": 14,
      "metadata": {
        "jupyter": {
          "outputs_hidden": false,
          "source_hidden": false
        },
        "nteract": {
          "transient": {
            "deleting": false
          }
        }
      },
      "outputs": [
        {
          "data": {
            "application/x-qsharp-data": "[\"euclideanAlgoGCDIm\"]",
            "text/html": [
              "<ul><li>euclideanAlgoGCDIm</li></ul>"
            ],
            "text/plain": [
              "euclideanAlgoGCDIm"
            ]
          },
          "execution_count": 14,
          "metadata": {
            "application/x-qsharp-data": {},
            "text/html": {},
            "text/plain": {}
          },
          "output_type": "execute_result"
        }
      ],
      "source": [
        "operation euclideanAlgoGCDIm(a: Int, N: Int) : Int {\n",
        "        if((N) == 0) {\n",
        "            return a;\n",
        "        }  Message($\"GCD of {a} -> \"); \n",
        "        return euclideanAlgoGCDIm((N), (a) % (N));\n",
        "    }"
      ]
    },
    {
      "cell_type": "code",
      "execution_count": 15,
      "metadata": {
        "jupyter": {
          "outputs_hidden": false,
          "source_hidden": false
        },
        "nteract": {
          "transient": {
            "deleting": false
          }
        }
      },
      "outputs": [
        {
          "name": "stdout",
          "output_type": "stream",
          "text": [
            "GCD of 60 -> \n",
            "GCD of 48 -> \n"
          ]
        },
        {
          "data": {
            "application/x-qsharp-data": "12",
            "text/plain": [
              "12"
            ]
          },
          "execution_count": 15,
          "metadata": {
            "application/x-qsharp-data": {},
            "text/plain": {}
          },
          "output_type": "execute_result"
        }
      ],
      "source": [
        "%simulate euclideanAlgoGCDIm a=60 N=48"
      ]
    },
    {
      "cell_type": "code",
      "execution_count": 16,
      "metadata": {
        "jupyter": {
          "outputs_hidden": false,
          "source_hidden": false
        },
        "nteract": {
          "transient": {
            "deleting": false
          }
        }
      },
      "outputs": [
        {
          "data": {
            "application/x-qsharp-data": "[\"euclideanAlgoGCDImp2\"]",
            "text/html": [
              "<ul><li>euclideanAlgoGCDImp2</li></ul>"
            ],
            "text/plain": [
              "euclideanAlgoGCDImp2"
            ]
          },
          "execution_count": 16,
          "metadata": {
            "application/x-qsharp-data": {},
            "text/html": {},
            "text/plain": {}
          },
          "output_type": "execute_result"
        }
      ],
      "source": [
        "operation euclideanAlgoGCDImp2(a: Int, N: Int) : Int {\n",
        "        if((a) == 0) {\n",
        "            return (N);\n",
        "        } if ((N) == 0) {\n",
        "            return (a);\n",
        "        } if ((a) == (N)) {\n",
        "            return (a);\n",
        "        } if ((a) > (N)) {\n",
        "            Message($\"GCD of {a} and {N} -> \"); \n",
        "            return euclideanAlgoGCDImp2((a)-(N), (N));\n",
        "        }\n",
        "        return euclideanAlgoGCDImp2((a), (N)-(a));\n",
        "    }"
      ]
    },
    {
      "cell_type": "code",
      "execution_count": 17,
      "metadata": {
        "jupyter": {
          "outputs_hidden": false,
          "source_hidden": false
        },
        "nteract": {
          "transient": {
            "deleting": false
          }
        }
      },
      "outputs": [
        {
          "name": "stdout",
          "output_type": "stream",
          "text": [
            "GCD of 60 and 48 -> \n"
          ]
        },
        {
          "data": {
            "application/x-qsharp-data": "12",
            "text/plain": [
              "12"
            ]
          },
          "execution_count": 17,
          "metadata": {
            "application/x-qsharp-data": {},
            "text/plain": {}
          },
          "output_type": "execute_result"
        }
      ],
      "source": [
        "%simulate euclideanAlgoGCDImp2 a=60 N=48"
      ]
    }
  ],
  "metadata": {
    "kernel_info": {
      "name": "iqsharp"
    },
    "kernelspec": {
      "display_name": "Q#",
      "language": "qsharp",
      "name": "iqsharp"
    },
    "language_info": {
      "file_extension": ".qs",
      "mimetype": "text/x-qsharp",
      "name": "qsharp",
      "version": "0.27"
    },
    "nteract": {
      "version": "nteract-front-end@1.0.0"
    }
  },
  "nbformat": 4,
  "nbformat_minor": 0
}
