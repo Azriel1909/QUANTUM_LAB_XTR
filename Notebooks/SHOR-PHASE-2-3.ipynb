{
  "cells": [
    {
      "cell_type": "code",
      "source": [
        "%azure.connect \"/subscriptions/b3ed2c3e-e784-4a4e-9474-a3d279d2f9e4/resourceGroups/AzureQuantum/providers/Microsoft.Quantum/Workspaces/LaboratorioQuantum-Ximena-Toledo-RIvera\" location=\"eastus\"\n"
      ],
      "outputs": [
        {
          "output_type": "display_data",
          "data": {
            "text/plain": "",
            "application/x-qsharp-data": "\"\""
          },
          "metadata": {
            "text/plain": {},
            "application/x-qsharp-data": {}
          }
        },
        {
          "output_type": "stream",
          "name": "stdout",
          "text": "Authenticated using Microsoft.Azure.Quantum.Authentication.TokenFileCredential\n\n\nConnected to Azure Quantum workspace LaboratorioQuantum-Ximena-Toledo-RIvera in location eastus.\n"
        },
        {
          "output_type": "execute_result",
          "execution_count": 1,
          "data": {
            "text/plain": "Target ID           Current Availability Average Queue Time (Seconds)\n------------------- --------- -\nmicrosoft.estimator Available 0\n",
            "text/html": "<table><thead><tr><th style=\"text-align: start;\">Target ID</th><th style=\"text-align: start;\">Current Availability</th><th style=\"text-align: start;\">Average Queue Time (Seconds)</th></tr></thead><tbody><tr><td style=\"text-align: start;\">microsoft.estimator</td><td style=\"text-align: start;\">Available</td><td style=\"text-align: start;\">0</td></tr></tbody></table>",
            "application/x-qsharp-data": "[{\"id\":\"microsoft.estimator\",\"current_availability\":{},\"average_queue_time\":0}]"
          },
          "metadata": {
            "text/plain": {},
            "text/html": {},
            "application/x-qsharp-data": {}
          }
        }
      ],
      "execution_count": 1,
      "metadata": {
        "jupyter": {
          "source_hidden": false,
          "outputs_hidden": false
        },
        "nteract": {
          "transient": {
            "deleting": false
          }
        }
      }
    },
    {
      "cell_type": "markdown",
      "source": [
        "# Shor Algorithm\n",
        "## Phase 1 "
      ],
      "metadata": {
        "nteract": {
          "transient": {
            "deleting": false
          }
        }
      }
    },
    {
      "cell_type": "code",
      "source": [
        "open Microsoft.Quantum.Canon;\n",
        "    open Microsoft.Quantum.Intrinsic;\n",
        "    open Microsoft.Quantum.Measurement;\n",
        "    open Microsoft.Quantum.Math;\n",
        "    open Microsoft.Quantum.Convert;\n",
        "    open Microsoft.Quantum.Arithmetic;\n",
        "    open Microsoft.Quantum.Oracles;\n",
        "    open Microsoft.Quantum.Random;\n",
        "    open Microsoft.Quantum.Diagnostics;\n",
        "    open Microsoft.Quantum.Characterization;\n",
        "\n",
        "operation ramdomNumberGenerator() : Result {\n",
        "        use q1 = Qubit();\n",
        "        H(q1);\n",
        "        return M(q1);\n",
        "    }"
      ],
      "outputs": [
        {
          "output_type": "execute_result",
          "execution_count": 3,
          "data": {
            "text/plain": "ramdomNumberGenerator",
            "text/html": "<ul><li>ramdomNumberGenerator</li></ul>",
            "application/x-qsharp-data": "[\"ramdomNumberGenerator\"]"
          },
          "metadata": {
            "text/plain": {},
            "text/html": {},
            "application/x-qsharp-data": {}
          }
        }
      ],
      "execution_count": 3,
      "metadata": {
        "jupyter": {
          "source_hidden": false,
          "outputs_hidden": false
        },
        "nteract": {
          "transient": {
            "deleting": false
          }
        }
      }
    },
    {
      "cell_type": "code",
      "source": [
        "%simulate ramdomNumberGenerator"
      ],
      "outputs": [
        {
          "output_type": "execute_result",
          "execution_count": 8,
          "data": {
            "text/plain": "One",
            "application/x-qsharp-data": "1"
          },
          "metadata": {
            "text/plain": {},
            "application/x-qsharp-data": {}
          }
        }
      ],
      "execution_count": 8,
      "metadata": {
        "jupyter": {
          "source_hidden": false,
          "outputs_hidden": false
        },
        "nteract": {
          "transient": {
            "deleting": false
          }
        }
      }
    },
    {
      "cell_type": "code",
      "source": [
        "operation randomNumberRange(min: Int, max: Int) : Int {\n",
        "        mutable output = 0;\n",
        "        repeat { // Loop to generate random numbers until it generates one that's equal or less than max or equal or more than min\n",
        "            mutable bits = [];\n",
        "            for indexBit in 1..BitSizeI(max) { // Returns the number of bits required\n",
        "                set bits = bits + [ramdomNumberGenerator()];\n",
        "            }\n",
        "            for indexBit in 1..BitSizeI(min) {\n",
        "                set bits = bits + [ramdomNumberGenerator()];\n",
        "            }\n",
        "            set output = ResultArrayAsInt(bits);\n",
        "        } until (output >= min and output <= max );\n",
        "        Message($\"Random nuIntmber between {min} and {max} ->  \");\n",
        "        return output;\n",
        "    }"
      ],
      "outputs": [
        {
          "output_type": "execute_result",
          "execution_count": 9,
          "data": {
            "text/plain": "randomNumberRange",
            "text/html": "<ul><li>randomNumberRange</li></ul>",
            "application/x-qsharp-data": "[\"randomNumberRange\"]"
          },
          "metadata": {
            "text/plain": {},
            "text/html": {},
            "application/x-qsharp-data": {}
          }
        }
      ],
      "execution_count": 9,
      "metadata": {
        "jupyter": {
          "source_hidden": false,
          "outputs_hidden": false
        },
        "nteract": {
          "transient": {
            "deleting": false
          }
        }
      }
    },
    {
      "cell_type": "code",
      "source": [
        "%simulate randomNumberRange min=100 max=200"
      ],
      "outputs": [
        {
          "output_type": "stream",
          "name": "stdout",
          "text": "Random nuIntmber between 100 and 200 ->  \n"
        },
        {
          "output_type": "execute_result",
          "execution_count": 10,
          "data": {
            "text/plain": "147",
            "application/x-qsharp-data": "147"
          },
          "metadata": {
            "text/plain": {},
            "application/x-qsharp-data": {}
          }
        }
      ],
      "execution_count": 10,
      "metadata": {
        "jupyter": {
          "source_hidden": false,
          "outputs_hidden": false
        },
        "nteract": {
          "transient": {
            "deleting": false
          }
        }
      }
    },
    {
      "cell_type": "code",
      "source": [
        "%simulate randomNumberRange min=100 max=200"
      ],
      "outputs": [
        {
          "output_type": "stream",
          "name": "stdout",
          "text": "Random nuIntmber between 100 and 200 ->  \n"
        },
        {
          "output_type": "execute_result",
          "execution_count": 11,
          "data": {
            "text/plain": "137",
            "application/x-qsharp-data": "137"
          },
          "metadata": {
            "text/plain": {},
            "application/x-qsharp-data": {}
          }
        }
      ],
      "execution_count": 11,
      "metadata": {
        "jupyter": {
          "source_hidden": false,
          "outputs_hidden": false
        },
        "nteract": {
          "transient": {
            "deleting": false
          }
        }
      }
    },
    {
      "cell_type": "code",
      "source": [
        "%simulate randomNumberRange min=100 max=200"
      ],
      "outputs": [
        {
          "output_type": "stream",
          "name": "stdout",
          "text": "Random nuIntmber between 100 and 200 ->  \n"
        },
        {
          "output_type": "execute_result",
          "execution_count": 12,
          "data": {
            "text/plain": "145",
            "application/x-qsharp-data": "145"
          },
          "metadata": {
            "text/plain": {},
            "application/x-qsharp-data": {}
          }
        }
      ],
      "execution_count": 12,
      "metadata": {
        "jupyter": {
          "source_hidden": false,
          "outputs_hidden": false
        },
        "nteract": {
          "transient": {
            "deleting": false
          }
        }
      }
    },
    {
      "cell_type": "code",
      "source": [
        "%simulate randomNumberRange min=100 max=200"
      ],
      "outputs": [
        {
          "output_type": "stream",
          "name": "stdout",
          "text": "Random nuIntmber between 100 and 200 ->  \n"
        },
        {
          "output_type": "execute_result",
          "execution_count": 13,
          "data": {
            "text/plain": "103",
            "application/x-qsharp-data": "103"
          },
          "metadata": {
            "text/plain": {},
            "application/x-qsharp-data": {}
          }
        }
      ],
      "execution_count": 13,
      "metadata": {
        "jupyter": {
          "source_hidden": false,
          "outputs_hidden": false
        },
        "nteract": {
          "transient": {
            "deleting": false
          }
        }
      }
    },
    {
      "cell_type": "code",
      "source": [
        "%simulate randomNumberRange min=100 max=200"
      ],
      "outputs": [
        {
          "output_type": "stream",
          "name": "stdout",
          "text": "Random nuIntmber between 100 and 200 ->  \n"
        },
        {
          "output_type": "execute_result",
          "execution_count": 14,
          "data": {
            "text/plain": "142",
            "application/x-qsharp-data": "142"
          },
          "metadata": {
            "text/plain": {},
            "application/x-qsharp-data": {}
          }
        }
      ],
      "execution_count": 14,
      "metadata": {
        "jupyter": {
          "source_hidden": false,
          "outputs_hidden": false
        },
        "nteract": {
          "transient": {
            "deleting": false
          }
        }
      }
    },
    {
      "cell_type": "code",
      "source": [
        "%simulate randomNumberRange min=100 max=200"
      ],
      "outputs": [
        {
          "output_type": "stream",
          "name": "stdout",
          "text": "Random nuIntmber between 100 and 200 ->  \n"
        },
        {
          "output_type": "execute_result",
          "execution_count": 15,
          "data": {
            "text/plain": "115",
            "application/x-qsharp-data": "115"
          },
          "metadata": {
            "text/plain": {},
            "application/x-qsharp-data": {}
          }
        }
      ],
      "execution_count": 15,
      "metadata": {
        "jupyter": {
          "source_hidden": false,
          "outputs_hidden": false
        },
        "nteract": {
          "transient": {
            "deleting": false
          }
        }
      }
    },
    {
      "cell_type": "markdown",
      "source": [
        "## Euclidean Algorithm "
      ],
      "metadata": {
        "nteract": {
          "transient": {
            "deleting": false
          }
        }
      }
    },
    {
      "cell_type": "code",
      "source": [
        "function euclideanAlgoGCD(a: Int, N: Int) : Int {\n",
        "        Message($\"GCD of {a} and {N} ->  \");\n",
        "        return GreatestCommonDivisorI((a),(N));\n",
        "}"
      ],
      "outputs": [
        {
          "output_type": "execute_result",
          "execution_count": 16,
          "data": {
            "text/plain": "euclideanAlgoGCD",
            "text/html": "<ul><li>euclideanAlgoGCD</li></ul>",
            "application/x-qsharp-data": "[\"euclideanAlgoGCD\"]"
          },
          "metadata": {
            "text/plain": {},
            "text/html": {},
            "application/x-qsharp-data": {}
          }
        }
      ],
      "execution_count": 16,
      "metadata": {
        "jupyter": {
          "source_hidden": false,
          "outputs_hidden": false
        },
        "nteract": {
          "transient": {
            "deleting": false
          }
        }
      }
    },
    {
      "cell_type": "code",
      "source": [
        "%simulate euclideanAlgoGCD a=60 N=48"
      ],
      "outputs": [
        {
          "output_type": "stream",
          "name": "stdout",
          "text": "GCD of 60 and 48 ->  \n"
        },
        {
          "output_type": "execute_result",
          "execution_count": 17,
          "data": {
            "text/plain": "12",
            "application/x-qsharp-data": "12"
          },
          "metadata": {
            "text/plain": {},
            "application/x-qsharp-data": {}
          }
        }
      ],
      "execution_count": 17,
      "metadata": {
        "jupyter": {
          "source_hidden": false,
          "outputs_hidden": false
        },
        "nteract": {
          "transient": {
            "deleting": false
          }
        }
      }
    },
    {
      "cell_type": "code",
      "source": [
        "operation euclideanAlgoGCDIm(a: Int, N: Int) : Int {\n",
        "        if((N) == 0) {\n",
        "            return a;\n",
        "        }  Message($\"GCD of {a} -> \"); \n",
        "        return euclideanAlgoGCDIm((N), (a) % (N));\n",
        "    }"
      ],
      "outputs": [
        {
          "output_type": "execute_result",
          "execution_count": 18,
          "data": {
            "text/plain": "euclideanAlgoGCDIm",
            "text/html": "<ul><li>euclideanAlgoGCDIm</li></ul>",
            "application/x-qsharp-data": "[\"euclideanAlgoGCDIm\"]"
          },
          "metadata": {
            "text/plain": {},
            "text/html": {},
            "application/x-qsharp-data": {}
          }
        }
      ],
      "execution_count": 18,
      "metadata": {
        "jupyter": {
          "source_hidden": false,
          "outputs_hidden": false
        },
        "nteract": {
          "transient": {
            "deleting": false
          }
        }
      }
    },
    {
      "cell_type": "code",
      "source": [
        "%simulate euclideanAlgoGCDIm a=60 N=48"
      ],
      "outputs": [
        {
          "output_type": "stream",
          "name": "stdout",
          "text": "GCD of 60 -> \nGCD of 48 -> \n"
        },
        {
          "output_type": "execute_result",
          "execution_count": 19,
          "data": {
            "text/plain": "12",
            "application/x-qsharp-data": "12"
          },
          "metadata": {
            "text/plain": {},
            "application/x-qsharp-data": {}
          }
        }
      ],
      "execution_count": 19,
      "metadata": {
        "jupyter": {
          "source_hidden": false,
          "outputs_hidden": false
        },
        "nteract": {
          "transient": {
            "deleting": false
          }
        }
      }
    },
    {
      "cell_type": "code",
      "source": [
        "operation euclideanAlgoGCDImp2(a: Int, N: Int) : Int {\n",
        "        if((a) == 0) {\n",
        "            return (N);\n",
        "        } if ((N) == 0) {\n",
        "            return (a);\n",
        "        } if ((a) == (N)) {\n",
        "            return (a);\n",
        "        } if ((a) > (N)) {\n",
        "            Message($\"GCD of {a} and {N} -> \"); \n",
        "            return euclideanAlgoGCDImp2((a)-(N), (N));\n",
        "        }\n",
        "        return euclideanAlgoGCDImp2((a), (N)-(a));\n",
        "    }"
      ],
      "outputs": [
        {
          "output_type": "execute_result",
          "execution_count": 20,
          "data": {
            "text/plain": "euclideanAlgoGCDImp2",
            "text/html": "<ul><li>euclideanAlgoGCDImp2</li></ul>",
            "application/x-qsharp-data": "[\"euclideanAlgoGCDImp2\"]"
          },
          "metadata": {
            "text/plain": {},
            "text/html": {},
            "application/x-qsharp-data": {}
          }
        }
      ],
      "execution_count": 20,
      "metadata": {
        "jupyter": {
          "source_hidden": false,
          "outputs_hidden": false
        },
        "nteract": {
          "transient": {
            "deleting": false
          }
        }
      }
    },
    {
      "cell_type": "code",
      "source": [
        "%simulate euclideanAlgoGCDImp2 a=60 N=48"
      ],
      "outputs": [
        {
          "output_type": "stream",
          "name": "stdout",
          "text": "GCD of 60 and 48 -> \n"
        },
        {
          "output_type": "execute_result",
          "execution_count": 21,
          "data": {
            "text/plain": "12",
            "application/x-qsharp-data": "12"
          },
          "metadata": {
            "text/plain": {},
            "application/x-qsharp-data": {}
          }
        }
      ],
      "execution_count": 21,
      "metadata": {
        "jupyter": {
          "source_hidden": false,
          "outputs_hidden": false
        },
        "nteract": {
          "transient": {
            "deleting": false
          }
        }
      }
    },
    {
      "cell_type": "code",
      "source": [
        "operation possibleFactorsR (module: Int, randomGenerator: Int, r:Int) : (Bool, (Int, Int)) {\n",
        "        if r % 2 == 0 {\n",
        "            let halfExponentiation = ExpModI(randomGenerator, r/2, module);\n",
        "            if halfExponentiation != module - 1 {\n",
        "                let factor = MaxI (\n",
        "                    GreatestCommonDivisorI(halfExponentiation - 1, module),\n",
        "                    GreatestCommonDivisorI(halfExponentiation + 1, module)\n",
        "                );\n",
        "                return (true, (factor, module / factor));\n",
        "            } else {\n",
        "                return (false, (1,1));\n",
        "            }\n",
        "        } else {\n",
        "        return(false, (1,1));\n",
        "        } \n",
        "    }"
      ],
      "outputs": [
        {
          "output_type": "execute_result",
          "execution_count": 22,
          "data": {
            "text/plain": "possibleFactorsR",
            "text/html": "<ul><li>possibleFactorsR</li></ul>",
            "application/x-qsharp-data": "[\"possibleFactorsR\"]"
          },
          "metadata": {
            "text/plain": {},
            "text/html": {},
            "application/x-qsharp-data": {}
          }
        }
      ],
      "execution_count": 22,
      "metadata": {
        "jupyter": {
          "source_hidden": false,
          "outputs_hidden": false
        },
        "nteract": {
          "transient": {
            "deleting": false
          }
        }
      }
    },
    {
      "cell_type": "code",
      "source": [
        "%simulate possibleFactorsR module=2 randomGenerator=20 r=4\n",
        "// testeng 1 "
      ],
      "outputs": [
        {
          "output_type": "execute_result",
          "execution_count": 25,
          "data": {
            "text/plain": "(True, (1, 2))",
            "application/x-qsharp-data": "{\"@type\":\"@tuple\",\"Item1\":true,\"Item2\":{\"@type\":\"@tuple\",\"Item1\":1,\"Item2\":2}}"
          },
          "metadata": {
            "text/plain": {},
            "application/x-qsharp-data": {}
          }
        }
      ],
      "execution_count": 25,
      "metadata": {
        "jupyter": {
          "source_hidden": false,
          "outputs_hidden": false
        },
        "nteract": {
          "transient": {
            "deleting": false
          }
        }
      }
    },
    {
      "cell_type": "code",
      "source": [
        "operation applyFindingOracle (randomGenerator : Int, module: Int, power : Int, target: Qubit[] ) : Unit is Adj + Ctl{\n",
        "        Fact(IsCoprimeI(randomGenerator,module),\"The guess number is `randomGenerator`, and the mudule is `module`.\");\n",
        "\n",
        "        // ! https://learn.microsoft.com/en-us/qsharp/api/qsharp/microsoft.quantum.arithmetic.multiplybymodularinteger\n",
        "\n",
        "        // Performing modular multiplication by an integer constant on a qubit register.\n",
        "        MultiplyByModularInteger(ExpModI(randomGenerator, power, module),module, LittleEndian(target));\n",
        "    }"
      ],
      "outputs": [
        {
          "output_type": "execute_result",
          "execution_count": 26,
          "data": {
            "text/plain": "applyFindingOracle",
            "text/html": "<ul><li>applyFindingOracle</li></ul>",
            "application/x-qsharp-data": "[\"applyFindingOracle\"]"
          },
          "metadata": {
            "text/plain": {},
            "text/html": {},
            "application/x-qsharp-data": {}
          }
        }
      ],
      "execution_count": 26,
      "metadata": {
        "jupyter": {
          "source_hidden": false,
          "outputs_hidden": false
        },
        "nteract": {
          "transient": {
            "deleting": false
          }
        }
      }
    },
    {
      "cell_type": "code",
      "source": [
        "operation periodFrequency (module : Int, frequencyEstimation : Int, bitsPrecision: Int, currentDivisor: Int) : Int {\n",
        "        // ! https://learn.microsoft.com/en-us/qsharp/api/qsharp/microsoft.quantum.math.continuedfractionconvergenti\n",
        "        // Finds the continued fraction convergent closest to fraction with the denominator less or equal to denominatorBound\n",
        "        let (s, r) = (ContinuedFractionConvergentI(Fraction(frequencyEstimation, 2 ^ bitsPrecision), module))!;\n",
        "        let (sAbsolute, rAbsolute) = (AbsI(s), AbsI(r));\n",
        "        //  Computes the greatest common divisor of two integers.\n",
        "        return (rAbsolute * currentDivisor) / GreatestCommonDivisorI(currentDivisor, rAbsolute);\n",
        "    } "
      ],
      "outputs": [
        {
          "output_type": "execute_result",
          "execution_count": 52,
          "data": {
            "text/plain": "periodFrequency",
            "text/html": "<ul><li>periodFrequency</li></ul>",
            "application/x-qsharp-data": "[\"periodFrequency\"]"
          },
          "metadata": {
            "text/plain": {},
            "text/html": {},
            "application/x-qsharp-data": {}
          }
        }
      ],
      "execution_count": 52,
      "metadata": {
        "jupyter": {
          "source_hidden": false,
          "outputs_hidden": false
        },
        "nteract": {
          "transient": {
            "deleting": false
          }
        }
      }
    },
    {
      "cell_type": "code",
      "source": [
        "operation EstimateFrequencyValue (randomGenerator : Int, module: Int, bits : Int) : Int {   \n",
        "        mutable frequencyEstimation = 0;\n",
        "        // ! https://learn.microsoft.com/fr-fr/qsharp/api/qsharp/microsoft.quantum.characterization.robustphaseestimation?view=qsharp-preview\n",
        "        let bitsPrecision = 2 * bits + 1;\n",
        "\n",
        "        // ! https://learn.microsoft.com/en-us/azure/quantum/concepts-advanced-matrices\n",
        "        use eigenStateRegister = Qubit[bits];\n",
        "        \n",
        "        // ! https://learn.microsoft.com/en-us/qsharp/api/qsharp/microsoft.quantum.arithmetic.littleendian\n",
        "        let eigenStateRegisterLittleEndian = LittleEndian(eigenStateRegister);\n",
        "\n",
        "        // Applying a bitwise-XOR operation between a classical integer and an integer represented by a register of qubits.\n",
        "        ApplyXorInPlace(1, eigenStateRegisterLittleEndian);\n",
        "        let oracle = applyFindingOracle(randomGenerator, module, _, _);\n",
        "\n",
        "        // * QFT to estimate the frequency\n",
        "        use a = Qubit();\n",
        "        for index in bitsPrecision -1..-1..0 {\n",
        "            within {\n",
        "                H(a);\n",
        "            } apply {\n",
        "                Controlled oracle([a], (1 <<< index, eigenStateRegisterLittleEndian!));\n",
        "                // Applying a rotation about the |1> state by an angle specified as a dyadic fraction.\n",
        "                // ! https://learn.microsoft.com/en-us/qsharp/api/qsharp/microsoft.quantum.intrinsic.r1frac\n",
        "                R1Frac(frequencyEstimation, bitsPrecision - 1 - index, a);\n",
        "            } if MResetZ(a) == One {\n",
        "                set frequencyEstimation += 1 <<< (bitsPrecision - 1 - index);\n",
        "            }\n",
        "        }\n",
        "        // Measuring the qubits and ensure they are in the |0⟩ state such that they can be safely released.\n",
        "        ResetAll(eigenStateRegister);\n",
        "        return frequencyEstimation;\n",
        "    }"
      ],
      "outputs": [
        {
          "output_type": "execute_result",
          "execution_count": 56,
          "data": {
            "text/plain": "EstimateFrequencyValue",
            "text/html": "<ul><li>EstimateFrequencyValue</li></ul>",
            "application/x-qsharp-data": "[\"EstimateFrequencyValue\"]"
          },
          "metadata": {
            "text/plain": {},
            "text/html": {},
            "application/x-qsharp-data": {}
          }
        }
      ],
      "execution_count": 56,
      "metadata": {
        "jupyter": {
          "source_hidden": false,
          "outputs_hidden": false
        },
        "nteract": {
          "transient": {
            "deleting": false
          }
        }
      }
    },
    {
      "cell_type": "code",
      "source": [
        "operation phaseEstimation (randomGenerator: Int, module: Int ) : Int {\n",
        "        // ! https://learn.microsoft.com/en-us/qsharp/api/qsharp/microsoft.quantum.diagnostics.fact\n",
        "        Fact(IsCoprimeI(randomGenerator,module),\"The guess number is `randomGenerator`, and the mudule is `module`.\");\n",
        "\n",
        "        // Storing the r found. \n",
        "        mutable result = 1;\n",
        "\n",
        "        // Number of bits in the mudule \n",
        "        let bits = BitSizeI(module);\n",
        "\n",
        "        let bitsPrecision = 2 * bits + 1;\n",
        "\n",
        "        mutable frequencyEstimation = 0;\n",
        "\n",
        "        set frequencyEstimation = EstimateFrequencyValue (randomGenerator, module,bits);\n",
        "        \n",
        "        if  frequencyEstimation != 0 {\n",
        "            set result = periodFrequency (module, frequencyEstimation, bitsPrecision, result);\n",
        "        } else {\n",
        "            Message(\"Estimated frecuency was 0.\");\n",
        "        }\n",
        "        return result;\n",
        "    }"
      ],
      "outputs": [
        {
          "output_type": "execute_result",
          "execution_count": 57,
          "data": {
            "text/plain": "phaseEstimation",
            "text/html": "<ul><li>phaseEstimation</li></ul>",
            "application/x-qsharp-data": "[\"phaseEstimation\"]"
          },
          "metadata": {
            "text/plain": {},
            "text/html": {},
            "application/x-qsharp-data": {}
          }
        }
      ],
      "execution_count": 57,
      "metadata": {
        "jupyter": {
          "source_hidden": false,
          "outputs_hidden": false
        },
        "nteract": {
          "transient": {
            "deleting": false
          }
        }
      }
    },
    {
      "cell_type": "code",
      "source": [
        "operation shorImplementatonTest (n: Int): (Int, Int) {\n",
        "        // Trivial case: Even number\n",
        "        if n % 2 == 0 {\n",
        "            // Checking if there is a even number.\n",
        "            Message(\"Even number.\");\n",
        "            return (n/2, 2);\n",
        "        }\n",
        "        \n",
        "        // Set up the unknown factors and set the default values.\n",
        "        mutable setUpFactors = false;\n",
        "        mutable defaultFactors = (1,1); \n",
        "\n",
        "        // ! https://learn.microsoft.com/en-us/qsharp/api/qsharp/microsoft.quantum.random.drawrandomint\n",
        "        repeat {\n",
        "            let randomGenerator =  DrawRandomInt(2, n - 1); // ? IBM(2, N-1),  MICROSOT(1 < a < N-1)\n",
        "            // ! https://learn.microsoft.com/es-mx/qsharp/api/qsharp/microsoft.quantum.math.iscoprimei\n",
        "            if IsCoprimeI (randomGenerator,n) {\n",
        "                Message($\"Guess number: {randomGenerator}\");\n",
        "                let r = phaseEstimation(randomGenerator, n);\n",
        "                set (setUpFactors,defaultFactors) = possibleFactorsR(n, randomGenerator, r);\n",
        "            }  else {\n",
        "                let GCD = GreatestCommonDivisorI(n,randomGenerator);\n",
        "                Message($\"Divisor guessed: {n} GCD: {GCD}.\");\n",
        "                set setUpFactors = true;\n",
        "                set defaultFactors = (GCD, n/ GCD);\n",
        "            }\n",
        "        } until setUpFactors \n",
        "        fixup {\n",
        "        Message(\"The estimated period did not return a valid factor.\");\n",
        "        }\n",
        "        return defaultFactors;\n",
        "    }"
      ],
      "outputs": [
        {
          "output_type": "execute_result",
          "execution_count": 71,
          "data": {
            "text/plain": "shorImplementatonTest",
            "text/html": "<ul><li>shorImplementatonTest</li></ul>",
            "application/x-qsharp-data": "[\"shorImplementatonTest\"]"
          },
          "metadata": {
            "text/plain": {},
            "text/html": {},
            "application/x-qsharp-data": {}
          }
        }
      ],
      "execution_count": 71,
      "metadata": {
        "jupyter": {
          "source_hidden": false,
          "outputs_hidden": false
        },
        "nteract": {
          "transient": {
            "deleting": false
          }
        }
      }
    },
    {
      "cell_type": "code",
      "source": [
        "%simulate shorImplementatonTest n=102"
      ],
      "outputs": [
        {
          "output_type": "stream",
          "name": "stdout",
          "text": "Even number.\n"
        },
        {
          "output_type": "execute_result",
          "execution_count": 72,
          "data": {
            "text/plain": "(51, 2)",
            "application/x-qsharp-data": "{\"@type\":\"@tuple\",\"Item1\":51,\"Item2\":2}"
          },
          "metadata": {
            "text/plain": {},
            "application/x-qsharp-data": {}
          }
        }
      ],
      "execution_count": 72,
      "metadata": {
        "jupyter": {
          "source_hidden": false,
          "outputs_hidden": false
        },
        "nteract": {
          "transient": {
            "deleting": false
          }
        }
      }
    },
    {
      "cell_type": "code",
      "source": [
        "%simulate shorImplementatonTest n=15"
      ],
      "outputs": [
        {
          "output_type": "stream",
          "name": "stdout",
          "text": "Divisor guessed: 15 GCD: 3.\n"
        },
        {
          "output_type": "execute_result",
          "execution_count": 73,
          "data": {
            "text/plain": "(3, 5)",
            "application/x-qsharp-data": "{\"@type\":\"@tuple\",\"Item1\":3,\"Item2\":5}"
          },
          "metadata": {
            "text/plain": {},
            "application/x-qsharp-data": {}
          }
        }
      ],
      "execution_count": 73,
      "metadata": {
        "jupyter": {
          "source_hidden": false,
          "outputs_hidden": false
        },
        "nteract": {
          "transient": {
            "deleting": false
          }
        }
      }
    },
    {
      "cell_type": "code",
      "source": [
        "%simulate shorImplementatonTest n=21"
      ],
      "outputs": [
        {
          "output_type": "stream",
          "name": "stdout",
          "text": "Guess number: 5\nThe estimated period did not return a valid factor.\nGuess number: 19\n"
        },
        {
          "output_type": "execute_result",
          "execution_count": 74,
          "data": {
            "text/plain": "(3, 7)",
            "application/x-qsharp-data": "{\"@type\":\"@tuple\",\"Item1\":3,\"Item2\":7}"
          },
          "metadata": {
            "text/plain": {},
            "application/x-qsharp-data": {}
          }
        }
      ],
      "execution_count": 74,
      "metadata": {
        "jupyter": {
          "source_hidden": false,
          "outputs_hidden": false
        },
        "nteract": {
          "transient": {
            "deleting": false
          }
        }
      }
    },
    {
      "cell_type": "code",
      "source": [
        "%simulate shorImplementatonTest n=1004"
      ],
      "outputs": [
        {
          "output_type": "stream",
          "name": "stdout",
          "text": "Even number.\n"
        },
        {
          "output_type": "execute_result",
          "execution_count": 75,
          "data": {
            "text/plain": "(502, 2)",
            "application/x-qsharp-data": "{\"@type\":\"@tuple\",\"Item1\":502,\"Item2\":2}"
          },
          "metadata": {
            "text/plain": {},
            "application/x-qsharp-data": {}
          }
        }
      ],
      "execution_count": 75,
      "metadata": {
        "jupyter": {
          "source_hidden": false,
          "outputs_hidden": false
        },
        "nteract": {
          "transient": {
            "deleting": false
          }
        }
      }
    },
    {
      "cell_type": "code",
      "source": [
        "%simulate shorImplementatonTest n=35"
      ],
      "outputs": [
        {
          "output_type": "stream",
          "name": "stdout",
          "text": "Guess number: 23\n"
        },
        {
          "output_type": "execute_result",
          "execution_count": 76,
          "data": {
            "text/plain": "(7, 5)",
            "application/x-qsharp-data": "{\"@type\":\"@tuple\",\"Item1\":7,\"Item2\":5}"
          },
          "metadata": {
            "text/plain": {},
            "application/x-qsharp-data": {}
          }
        }
      ],
      "execution_count": 76,
      "metadata": {
        "jupyter": {
          "source_hidden": false,
          "outputs_hidden": false
        },
        "nteract": {
          "transient": {
            "deleting": false
          }
        }
      }
    },
    {
      "cell_type": "code",
      "source": [
        "%simulate shorImplementatonTest n=39"
      ],
      "outputs": [
        {
          "output_type": "stream",
          "name": "stdout",
          "text": "Guess number: 29\nEstimated frecuency was 0.\nThe estimated period did not return a valid factor.\nGuess number: 14\nEstimated frecuency was 0.\nThe estimated period did not return a valid factor.\nDivisor guessed: 39 GCD: 3.\n"
        },
        {
          "output_type": "execute_result",
          "execution_count": 77,
          "data": {
            "text/plain": "(3, 13)",
            "application/x-qsharp-data": "{\"@type\":\"@tuple\",\"Item1\":3,\"Item2\":13}"
          },
          "metadata": {
            "text/plain": {},
            "application/x-qsharp-data": {}
          }
        }
      ],
      "execution_count": 77,
      "metadata": {
        "jupyter": {
          "source_hidden": false,
          "outputs_hidden": false
        },
        "nteract": {
          "transient": {
            "deleting": false
          }
        }
      }
    }
  ],
  "metadata": {
    "language_info": {
      "name": "qsharp",
      "version": "0.27",
      "mimetype": "text/x-qsharp",
      "file_extension": ".qs"
    },
    "kernelspec": {
      "name": "iqsharp",
      "language": "qsharp",
      "display_name": "Q#"
    },
    "kernel_info": {
      "name": "iqsharp"
    },
    "nteract": {
      "version": "nteract-front-end@1.0.0"
    }
  },
  "nbformat": 4,
  "nbformat_minor": 0
}