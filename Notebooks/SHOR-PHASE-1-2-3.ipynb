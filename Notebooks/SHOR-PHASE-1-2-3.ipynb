{
  "cells": [
    {
      "cell_type": "markdown",
      "source": [
        "# Suscripción de Azure Quantum\n",
        "### Conexión al espacio de trabajo de Azure Quantum"
      ],
      "metadata": {
        "nteract": {
          "transient": {
            "deleting": false
          }
        }
      }
    },
    {
      "cell_type": "code",
      "source": [
        "%azure.connect \"/subscriptions/b3ed2c3e-e784-4a4e-9474-a3d279d2f9e4/resourceGroups/AzureQuantum/providers/Microsoft.Quantum/Workspaces/LaboratorioQuantum-Ximena-Toledo-RIvera\" location=\"eastus\"\n"
      ],
      "outputs": [
        {
          "output_type": "display_data",
          "data": {
            "text/plain": "",
            "application/x-qsharp-data": "\"\""
          },
          "metadata": {
            "text/plain": {},
            "application/x-qsharp-data": {}
          }
        },
        {
          "output_type": "stream",
          "name": "stdout",
          "text": "Authenticated using Microsoft.Azure.Quantum.Authentication.TokenFileCredential\n\n\nConnected to Azure Quantum workspace LaboratorioQuantum-Ximena-Toledo-RIvera in location eastus.\n"
        },
        {
          "output_type": "execute_result",
          "execution_count": 24,
          "data": {
            "text/plain": "Target ID             Current Availability Average Queue Time (Seconds)\n--------------------- --------- -\nmicrosoft.estimator   Available 0\nrigetti.sim.qvm       Available 5\nrigetti.qpu.aspen-m-2 Available 5\nrigetti.qpu.aspen-m-3 Degraded  5\n",
            "text/html": "<table><thead><tr><th style=\"text-align: start;\">Target ID</th><th style=\"text-align: start;\">Current Availability</th><th style=\"text-align: start;\">Average Queue Time (Seconds)</th></tr></thead><tbody><tr><td style=\"text-align: start;\">microsoft.estimator</td><td style=\"text-align: start;\">Available</td><td style=\"text-align: start;\">0</td></tr><tr><td style=\"text-align: start;\">rigetti.sim.qvm</td><td style=\"text-align: start;\">Available</td><td style=\"text-align: start;\">5</td></tr><tr><td style=\"text-align: start;\">rigetti.qpu.aspen-m-2</td><td style=\"text-align: start;\">Available</td><td style=\"text-align: start;\">5</td></tr><tr><td style=\"text-align: start;\">rigetti.qpu.aspen-m-3</td><td style=\"text-align: start;\">Degraded</td><td style=\"text-align: start;\">5</td></tr></tbody></table>",
            "application/x-qsharp-data": "[{\"id\":\"microsoft.estimator\",\"current_availability\":{},\"average_queue_time\":0},{\"id\":\"rigetti.sim.qvm\",\"current_availability\":{},\"average_queue_time\":5},{\"id\":\"rigetti.qpu.aspen-m-2\",\"current_availability\":{},\"average_queue_time\":5},{\"id\":\"rigetti.qpu.aspen-m-3\",\"current_availability\":{},\"average_queue_time\":5}]"
          },
          "metadata": {
            "text/plain": {},
            "text/html": {},
            "application/x-qsharp-data": {}
          }
        }
      ],
      "execution_count": 24,
      "metadata": {
        "jupyter": {
          "source_hidden": false,
          "outputs_hidden": false
        },
        "nteract": {
          "transient": {
            "deleting": false
          }
        }
      }
    },
    {
      "cell_type": "markdown",
      "source": [
        "# Implementación del Algoritmo de Shor\n",
        "## Fase 1 \n",
        "1. Invocación de bibliotecas necesarias.\n",
        "2. Creación de un generador de números pseudoaleatorios.\n",
        "    + Se inicializa un bit cuántico.\n",
        "    + Se coloca en superposición.\n",
        "    + Se somete al proceso de medición.\n",
        "    + Se retorna el resultado.\n"
      ],
      "metadata": {
        "nteract": {
          "transient": {
            "deleting": false
          }
        }
      }
    },
    {
      "cell_type": "code",
      "source": [
        "open Microsoft.Quantum.Canon;\n",
        "open Microsoft.Quantum.Intrinsic;\n",
        "open Microsoft.Quantum.Measurement;\n",
        "open Microsoft.Quantum.Math;\n",
        "open Microsoft.Quantum.Convert;\n",
        "open Microsoft.Quantum.Arithmetic;\n",
        "open Microsoft.Quantum.Oracles;\n",
        "open Microsoft.Quantum.Random;\n",
        "open Microsoft.Quantum.Diagnostics;\n",
        "open Microsoft.Quantum.Characterization;\n",
        "\n",
        "operation ramdomNumberGeneratorTest() : Result {\n",
        "        use q1 = Qubit();\n",
        "        Message(\"Estado inicial de Qubit:\");\n",
        "        DumpMachine();\n",
        "        H(q1);\n",
        "        Message(\"Estado de superpocision:\");\n",
        "        DumpMachine();\n",
        "        let measuredQubit = M(q1);\n",
        "        Message(\"Proceso de medicion:\");\n",
        "        DumpMachine();\n",
        "        return measuredQubit;\n",
        "    }\n"
      ],
      "outputs": [
        {
          "output_type": "execute_result",
          "execution_count": 25,
          "data": {
            "text/plain": "ramdomNumberGeneratorTest",
            "text/html": "<ul><li>ramdomNumberGeneratorTest</li></ul>",
            "application/x-qsharp-data": "[\"ramdomNumberGeneratorTest\"]"
          },
          "metadata": {
            "text/plain": {},
            "text/html": {},
            "application/x-qsharp-data": {}
          }
        }
      ],
      "execution_count": 25,
      "metadata": {
        "jupyter": {
          "source_hidden": false,
          "outputs_hidden": false
        },
        "nteract": {
          "transient": {
            "deleting": false
          }
        }
      }
    },
    {
      "cell_type": "code",
      "source": [
        "%simulate ramdomNumberGeneratorTest"
      ],
      "outputs": [
        {
          "output_type": "stream",
          "name": "stdout",
          "text": "Estado inicial de Qubit:\n"
        },
        {
          "output_type": "display_data",
          "data": {
            "text/plain": "|0⟩\t1 + 0𝑖\n|1⟩\t0 + 0𝑖",
            "text/html": "\r\n                    <table style=\"table-layout: fixed; width: 100%\">\r\n                        <thead>\r\n                            \r\n                        <tr>\r\n                            <th>Qubit IDs</th>\r\n                            <td span=\"3\">0</td>\r\n                        </tr>\r\n                    \r\n                            <tr>\r\n                                <th style=\"width: 20ch)\">Basis state (little endian)</th>\r\n                                <th style=\"width: 20ch\">Amplitude</th><th style=\"width: calc(100% - 26ch - 20ch)\">Meas. Pr.</th><th style=\"width: 6ch\">Phase</th>\r\n                            </tr>\r\n                        </thead>\r\n                        <tbody>\r\n                        \r\n                            <tr>\r\n                                <td>$\\left|0\\right\\rangle$</td>\r\n                                <td>$1.0000 + 0.0000 i$</td>\r\n                                \r\n                                <td>\r\n                                    <progress\r\n                                        max=\"100\"\r\n                                        value=\"100\"\r\n                                        style=\"width: 100%;\"\r\n                                    > \r\n                                    <td>\r\n                                    <p id=\"round-93127649-a317-430b-a522-6ab3f5ddc586\"> \r\n                                    <script>\r\n                                    var num = 100;\r\n                                    num = num.toFixed(4);\r\n                                    var num_string = num + \"%\";\r\n                                     document.getElementById(\"round-93127649-a317-430b-a522-6ab3f5ddc586\").innerHTML = num_string;\r\n                                    </script> </p>\r\n                                    </td>\r\n                                </td>\r\n                            \r\n                                \r\n                                <td style=\"transform: rotate(0deg);\r\n                   text-align: center;\">\r\n                                 ↑\r\n                                </td>\r\n                            \r\n                            </tr>\r\n                        \n\r\n                            <tr>\r\n                                <td>$\\left|1\\right\\rangle$</td>\r\n                                <td>$0.0000 + 0.0000 i$</td>\r\n                                \r\n                                <td>\r\n                                    <progress\r\n                                        max=\"100\"\r\n                                        value=\"0\"\r\n                                        style=\"width: 100%;\"\r\n                                    > \r\n                                    <td>\r\n                                    <p id=\"round-ee50f52c-4a37-4b19-a514-6a653cb41160\"> \r\n                                    <script>\r\n                                    var num = 0;\r\n                                    num = num.toFixed(4);\r\n                                    var num_string = num + \"%\";\r\n                                     document.getElementById(\"round-ee50f52c-4a37-4b19-a514-6a653cb41160\").innerHTML = num_string;\r\n                                    </script> </p>\r\n                                    </td>\r\n                                </td>\r\n                            \r\n                                \r\n                                <td style=\"transform: rotate(0deg);\r\n                   text-align: center;\">\r\n                                 ↑\r\n                                </td>\r\n                            \r\n                            </tr>\r\n                        \r\n                        </tbody>\r\n                    </table>",
            "application/x-qsharp-data": "{\"diagnostic_kind\":\"state-vector\",\"qubit_ids\":[0],\"n_qubits\":1,\"amplitudes\":{\"0\":{\"Real\":1.0,\"Imaginary\":0.0,\"Magnitude\":1.0,\"Phase\":0.0},\"1\":{\"Real\":0.0,\"Imaginary\":0.0,\"Magnitude\":0.0,\"Phase\":0.0}}}"
          },
          "metadata": {
            "text/plain": {},
            "text/html": {},
            "application/x-qsharp-data": {}
          }
        },
        {
          "output_type": "stream",
          "name": "stdout",
          "text": "Estado de superpocision:\n"
        },
        {
          "output_type": "display_data",
          "data": {
            "text/plain": "|0⟩\t0.7071067811865476 + 0𝑖\n|1⟩\t0.7071067811865476 + 0𝑖",
            "text/html": "\r\n                    <table style=\"table-layout: fixed; width: 100%\">\r\n                        <thead>\r\n                            \r\n                        <tr>\r\n                            <th>Qubit IDs</th>\r\n                            <td span=\"3\">0</td>\r\n                        </tr>\r\n                    \r\n                            <tr>\r\n                                <th style=\"width: 20ch)\">Basis state (little endian)</th>\r\n                                <th style=\"width: 20ch\">Amplitude</th><th style=\"width: calc(100% - 26ch - 20ch)\">Meas. Pr.</th><th style=\"width: 6ch\">Phase</th>\r\n                            </tr>\r\n                        </thead>\r\n                        <tbody>\r\n                        \r\n                            <tr>\r\n                                <td>$\\left|0\\right\\rangle$</td>\r\n                                <td>$0.7071 + 0.0000 i$</td>\r\n                                \r\n                                <td>\r\n                                    <progress\r\n                                        max=\"100\"\r\n                                        value=\"50.000000000000014\"\r\n                                        style=\"width: 100%;\"\r\n                                    > \r\n                                    <td>\r\n                                    <p id=\"round-3df4ef96-3b34-4caa-b9b1-cc4271ffd1f3\"> \r\n                                    <script>\r\n                                    var num = 50.000000000000014;\r\n                                    num = num.toFixed(4);\r\n                                    var num_string = num + \"%\";\r\n                                     document.getElementById(\"round-3df4ef96-3b34-4caa-b9b1-cc4271ffd1f3\").innerHTML = num_string;\r\n                                    </script> </p>\r\n                                    </td>\r\n                                </td>\r\n                            \r\n                                \r\n                                <td style=\"transform: rotate(0deg);\r\n                   text-align: center;\">\r\n                                 ↑\r\n                                </td>\r\n                            \r\n                            </tr>\r\n                        \n\r\n                            <tr>\r\n                                <td>$\\left|1\\right\\rangle$</td>\r\n                                <td>$0.7071 + 0.0000 i$</td>\r\n                                \r\n                                <td>\r\n                                    <progress\r\n                                        max=\"100\"\r\n                                        value=\"50.000000000000014\"\r\n                                        style=\"width: 100%;\"\r\n                                    > \r\n                                    <td>\r\n                                    <p id=\"round-56a636e9-b3e8-4b50-ae69-b3deb7e39b19\"> \r\n                                    <script>\r\n                                    var num = 50.000000000000014;\r\n                                    num = num.toFixed(4);\r\n                                    var num_string = num + \"%\";\r\n                                     document.getElementById(\"round-56a636e9-b3e8-4b50-ae69-b3deb7e39b19\").innerHTML = num_string;\r\n                                    </script> </p>\r\n                                    </td>\r\n                                </td>\r\n                            \r\n                                \r\n                                <td style=\"transform: rotate(0deg);\r\n                   text-align: center;\">\r\n                                 ↑\r\n                                </td>\r\n                            \r\n                            </tr>\r\n                        \r\n                        </tbody>\r\n                    </table>",
            "application/x-qsharp-data": "{\"diagnostic_kind\":\"state-vector\",\"qubit_ids\":[0],\"n_qubits\":1,\"amplitudes\":{\"0\":{\"Real\":0.7071067811865476,\"Imaginary\":0.0,\"Magnitude\":0.7071067811865476,\"Phase\":0.0},\"1\":{\"Real\":0.7071067811865476,\"Imaginary\":0.0,\"Magnitude\":0.7071067811865476,\"Phase\":0.0}}}"
          },
          "metadata": {
            "text/plain": {},
            "text/html": {},
            "application/x-qsharp-data": {}
          }
        },
        {
          "output_type": "stream",
          "name": "stdout",
          "text": "Proceso de medicion:\n"
        },
        {
          "output_type": "display_data",
          "data": {
            "text/plain": "|0⟩\t0 + 0𝑖\n|1⟩\t1 + 0𝑖",
            "text/html": "\r\n                    <table style=\"table-layout: fixed; width: 100%\">\r\n                        <thead>\r\n                            \r\n                        <tr>\r\n                            <th>Qubit IDs</th>\r\n                            <td span=\"3\">0</td>\r\n                        </tr>\r\n                    \r\n                            <tr>\r\n                                <th style=\"width: 20ch)\">Basis state (little endian)</th>\r\n                                <th style=\"width: 20ch\">Amplitude</th><th style=\"width: calc(100% - 26ch - 20ch)\">Meas. Pr.</th><th style=\"width: 6ch\">Phase</th>\r\n                            </tr>\r\n                        </thead>\r\n                        <tbody>\r\n                        \r\n                            <tr>\r\n                                <td>$\\left|0\\right\\rangle$</td>\r\n                                <td>$0.0000 + 0.0000 i$</td>\r\n                                \r\n                                <td>\r\n                                    <progress\r\n                                        max=\"100\"\r\n                                        value=\"0\"\r\n                                        style=\"width: 100%;\"\r\n                                    > \r\n                                    <td>\r\n                                    <p id=\"round-8c3c6668-0246-4c38-926b-34823d0dd990\"> \r\n                                    <script>\r\n                                    var num = 0;\r\n                                    num = num.toFixed(4);\r\n                                    var num_string = num + \"%\";\r\n                                     document.getElementById(\"round-8c3c6668-0246-4c38-926b-34823d0dd990\").innerHTML = num_string;\r\n                                    </script> </p>\r\n                                    </td>\r\n                                </td>\r\n                            \r\n                                \r\n                                <td style=\"transform: rotate(0deg);\r\n                   text-align: center;\">\r\n                                 ↑\r\n                                </td>\r\n                            \r\n                            </tr>\r\n                        \n\r\n                            <tr>\r\n                                <td>$\\left|1\\right\\rangle$</td>\r\n                                <td>$1.0000 + 0.0000 i$</td>\r\n                                \r\n                                <td>\r\n                                    <progress\r\n                                        max=\"100\"\r\n                                        value=\"100\"\r\n                                        style=\"width: 100%;\"\r\n                                    > \r\n                                    <td>\r\n                                    <p id=\"round-ca20ec47-c0ac-44a2-968b-5fd5c3df1887\"> \r\n                                    <script>\r\n                                    var num = 100;\r\n                                    num = num.toFixed(4);\r\n                                    var num_string = num + \"%\";\r\n                                     document.getElementById(\"round-ca20ec47-c0ac-44a2-968b-5fd5c3df1887\").innerHTML = num_string;\r\n                                    </script> </p>\r\n                                    </td>\r\n                                </td>\r\n                            \r\n                                \r\n                                <td style=\"transform: rotate(0deg);\r\n                   text-align: center;\">\r\n                                 ↑\r\n                                </td>\r\n                            \r\n                            </tr>\r\n                        \r\n                        </tbody>\r\n                    </table>",
            "application/x-qsharp-data": "{\"diagnostic_kind\":\"state-vector\",\"qubit_ids\":[0],\"n_qubits\":1,\"amplitudes\":{\"0\":{\"Real\":0.0,\"Imaginary\":0.0,\"Magnitude\":0.0,\"Phase\":0.0},\"1\":{\"Real\":1.0,\"Imaginary\":0.0,\"Magnitude\":1.0,\"Phase\":0.0}}}"
          },
          "metadata": {
            "text/plain": {},
            "text/html": {},
            "application/x-qsharp-data": {}
          }
        },
        {
          "output_type": "execute_result",
          "execution_count": 26,
          "data": {
            "text/plain": "One",
            "application/x-qsharp-data": "1"
          },
          "metadata": {
            "text/plain": {},
            "application/x-qsharp-data": {}
          }
        }
      ],
      "execution_count": 26,
      "metadata": {
        "jupyter": {
          "source_hidden": false,
          "outputs_hidden": false
        },
        "nteract": {
          "transient": {
            "deleting": false
          }
        }
      }
    },
    {
      "cell_type": "code",
      "source": [
        "operation ramdomNumberGenerator() : Result {\n",
        "        use q1 = Qubit();\n",
        "        H(q1);\n",
        "        let measuredQubit = M(q1);\n",
        "        return measuredQubit;\n",
        "    }"
      ],
      "outputs": [
        {
          "output_type": "execute_result",
          "execution_count": 64,
          "data": {
            "text/plain": "ramdomNumberGenerator",
            "text/html": "<ul><li>ramdomNumberGenerator</li></ul>",
            "application/x-qsharp-data": "[\"ramdomNumberGenerator\"]"
          },
          "metadata": {
            "text/plain": {},
            "text/html": {},
            "application/x-qsharp-data": {}
          }
        }
      ],
      "execution_count": 64,
      "metadata": {
        "jupyter": {
          "source_hidden": false,
          "outputs_hidden": false
        },
        "nteract": {
          "transient": {
            "deleting": false
          }
        }
      }
    },
    {
      "cell_type": "code",
      "source": [
        "%simulate ramdomNumberGenerator"
      ],
      "outputs": [
        {
          "output_type": "execute_result",
          "execution_count": 65,
          "data": {
            "text/plain": "One",
            "application/x-qsharp-data": "1"
          },
          "metadata": {
            "text/plain": {},
            "application/x-qsharp-data": {}
          }
        }
      ],
      "execution_count": 65,
      "metadata": {
        "jupyter": {
          "source_hidden": false,
          "outputs_hidden": false
        },
        "nteract": {
          "transient": {
            "deleting": false
          }
        }
      }
    },
    {
      "cell_type": "markdown",
      "source": [
        "## Generador de número pseudoaleatorio\n",
        "1. Definimos un número máximo y mínimo\n",
        "2. Definición de la cantidad de bits cuánticos expresados en valores enteros para llegar al valor máximo.\n",
        "3. Crear cadena de longitud n.\n",
        "4. Si la cadena de bits supera el valor máximo, crear cadena de longitud n.\n",
        "5. Si la cadena de bits es menor al valor mínimo, crear cadena de longitd n.\n",
        "6. Retornar valor aleatorio."
      ],
      "metadata": {
        "nteract": {
          "transient": {
            "deleting": false
          }
        }
      }
    },
    {
      "cell_type": "code",
      "source": [
        "operation randomNumberRange(min: Int, max: Int) : Int {\n",
        "        mutable output = 0;\n",
        "        repeat { // Bucle para generar números aleatorios hasta que genere uno que sea igual o menor que el máximo o igual o mayor que el mínimo\n",
        "            mutable bits = [];\n",
        "            for indexBit in 1..BitSizeI(max) { // Retornar el valor de bits necesarios\n",
        "                set bits = bits + [ramdomNumberGenerator()];\n",
        "            }\n",
        "            for indexBit in 1..BitSizeI(min) {\n",
        "                set bits = bits + [ramdomNumberGenerator()];\n",
        "            }\n",
        "            set output = ResultArrayAsInt(bits);\n",
        "        } until (output >= min and output <= max );\n",
        "        Message($\"Número aleatorio entre {min} y {max}: \");\n",
        "        return output;\n",
        "    }"
      ],
      "outputs": [
        {
          "output_type": "execute_result",
          "execution_count": 66,
          "data": {
            "text/plain": "randomNumberRange",
            "text/html": "<ul><li>randomNumberRange</li></ul>",
            "application/x-qsharp-data": "[\"randomNumberRange\"]"
          },
          "metadata": {
            "text/plain": {},
            "text/html": {},
            "application/x-qsharp-data": {}
          }
        }
      ],
      "execution_count": 66,
      "metadata": {
        "jupyter": {
          "source_hidden": false,
          "outputs_hidden": false
        },
        "nteract": {
          "transient": {
            "deleting": false
          }
        }
      }
    },
    {
      "cell_type": "code",
      "source": [
        "%simulate randomNumberRange min=10 max=20"
      ],
      "outputs": [
        {
          "output_type": "stream",
          "name": "stdout",
          "text": "Número aleatorio entre 10 y 20: \n"
        },
        {
          "output_type": "execute_result",
          "execution_count": 67,
          "data": {
            "text/plain": "19",
            "application/x-qsharp-data": "19"
          },
          "metadata": {
            "text/plain": {},
            "application/x-qsharp-data": {}
          }
        }
      ],
      "execution_count": 67,
      "metadata": {
        "jupyter": {
          "source_hidden": false,
          "outputs_hidden": false
        },
        "nteract": {
          "transient": {
            "deleting": false
          }
        }
      }
    },
    {
      "cell_type": "code",
      "source": [
        "%simulate randomNumberRange min=100 max=200"
      ],
      "outputs": [
        {
          "output_type": "stream",
          "name": "stdout",
          "text": "Número aleatorio entre 100 y 200: \n"
        },
        {
          "output_type": "execute_result",
          "execution_count": 68,
          "data": {
            "text/plain": "110",
            "application/x-qsharp-data": "110"
          },
          "metadata": {
            "text/plain": {},
            "application/x-qsharp-data": {}
          }
        }
      ],
      "execution_count": 68,
      "metadata": {
        "jupyter": {
          "source_hidden": false,
          "outputs_hidden": false
        },
        "nteract": {
          "transient": {
            "deleting": false
          }
        }
      }
    },
    {
      "cell_type": "code",
      "source": [
        "%simulate randomNumberRange min=1000 max=2000"
      ],
      "outputs": [
        {
          "output_type": "stream",
          "name": "stdout",
          "text": "Número aleatorio entre 1000 y 2000: \n"
        },
        {
          "output_type": "execute_result",
          "execution_count": 73,
          "data": {
            "text/plain": "1010",
            "application/x-qsharp-data": "1010"
          },
          "metadata": {
            "text/plain": {},
            "application/x-qsharp-data": {}
          }
        }
      ],
      "execution_count": 73,
      "metadata": {
        "jupyter": {
          "source_hidden": false,
          "outputs_hidden": false
        },
        "nteract": {
          "transient": {
            "deleting": false
          }
        }
      }
    },
    {
      "cell_type": "code",
      "source": [
        "%simulate randomNumberRange min=9999 max=19999\n"
      ],
      "outputs": [
        {
          "output_type": "stream",
          "name": "stdout",
          "text": "Número aleatorio entre 9999 y 19999: \n"
        },
        {
          "output_type": "execute_result",
          "execution_count": 74,
          "data": {
            "text/plain": "16038",
            "application/x-qsharp-data": "16038"
          },
          "metadata": {
            "text/plain": {},
            "application/x-qsharp-data": {}
          }
        }
      ],
      "execution_count": 74,
      "metadata": {
        "jupyter": {
          "source_hidden": false,
          "outputs_hidden": false
        },
        "nteract": {
          "transient": {
            "deleting": false
          }
        }
      }
    },
    {
      "cell_type": "markdown",
      "source": [
        "## Algoritmo de Euclides\n",
        "1. Hallar el máximo común divisor para identificar los factores primos.\n",
        "    + Si restamos el número menor del número mayor, el máximo común divisor no cambia.\n",
        "    + Mantener restas sucesivas al número mayor.\n",
        "    + Dividir el número menor\n",
        "        + Detenerse cuando el residuo es 0."
      ],
      "metadata": {
        "nteract": {
          "transient": {
            "deleting": false
          }
        }
      }
    },
    {
      "cell_type": "markdown",
      "source": [
        "## Método 1: Llamada directa a la función"
      ],
      "metadata": {
        "nteract": {
          "transient": {
            "deleting": false
          }
        }
      }
    },
    {
      "cell_type": "code",
      "source": [
        "function euclideanAlgoGCDm1(a: Int, N: Int) : Int {\n",
        "        Message($\"GCD de {a} y {N} es..  \");\n",
        "        return GreatestCommonDivisorI((a),(N));\n",
        "}"
      ],
      "outputs": [
        {
          "output_type": "execute_result",
          "execution_count": 80,
          "data": {
            "text/plain": "euclideanAlgoGCDm1",
            "text/html": "<ul><li>euclideanAlgoGCDm1</li></ul>",
            "application/x-qsharp-data": "[\"euclideanAlgoGCDm1\"]"
          },
          "metadata": {
            "text/plain": {},
            "text/html": {},
            "application/x-qsharp-data": {}
          }
        }
      ],
      "execution_count": 80,
      "metadata": {
        "jupyter": {
          "source_hidden": false,
          "outputs_hidden": false
        },
        "nteract": {
          "transient": {
            "deleting": false
          }
        }
      }
    },
    {
      "cell_type": "code",
      "source": [
        "%simulate euclideanAlgoGCDm1 a=60 N=48"
      ],
      "outputs": [
        {
          "output_type": "stream",
          "name": "stdout",
          "text": "GCD de 60 y 48 es..  \n"
        },
        {
          "output_type": "execute_result",
          "execution_count": 81,
          "data": {
            "text/plain": "12",
            "application/x-qsharp-data": "12"
          },
          "metadata": {
            "text/plain": {},
            "application/x-qsharp-data": {}
          }
        }
      ],
      "execution_count": 81,
      "metadata": {
        "jupyter": {
          "source_hidden": false,
          "outputs_hidden": false
        },
        "nteract": {
          "transient": {
            "deleting": false
          }
        }
      }
    },
    {
      "cell_type": "markdown",
      "source": [
        "## Método 2: Versión recursiva"
      ],
      "metadata": {
        "nteract": {
          "transient": {
            "deleting": false
          }
        }
      }
    },
    {
      "cell_type": "code",
      "source": [
        "operation euclideanAlgoGCDm2(a: Int, N: Int) : Int {\n",
        "        if((N) == 0) {\n",
        "            return a;\n",
        "        }  Message($\"GCD de {a} -> \"); \n",
        "        return euclideanAlgoGCDm2((N), (a) % (N));\n",
        "    }"
      ],
      "outputs": [
        {
          "output_type": "execute_result",
          "execution_count": 82,
          "data": {
            "text/plain": "euclideanAlgoGCDm2",
            "text/html": "<ul><li>euclideanAlgoGCDm2</li></ul>",
            "application/x-qsharp-data": "[\"euclideanAlgoGCDm2\"]"
          },
          "metadata": {
            "text/plain": {},
            "text/html": {},
            "application/x-qsharp-data": {}
          }
        }
      ],
      "execution_count": 82,
      "metadata": {
        "jupyter": {
          "source_hidden": false,
          "outputs_hidden": false
        },
        "nteract": {
          "transient": {
            "deleting": false
          }
        }
      }
    },
    {
      "cell_type": "code",
      "source": [
        "%simulate euclideanAlgoGCDm2 a=60 N=48"
      ],
      "outputs": [
        {
          "output_type": "stream",
          "name": "stdout",
          "text": "GCD de 60 -> \nGCD de 48 -> \n"
        },
        {
          "output_type": "execute_result",
          "execution_count": 83,
          "data": {
            "text/plain": "12",
            "application/x-qsharp-data": "12"
          },
          "metadata": {
            "text/plain": {},
            "application/x-qsharp-data": {}
          }
        }
      ],
      "execution_count": 83,
      "metadata": {
        "jupyter": {
          "source_hidden": false,
          "outputs_hidden": false
        },
        "nteract": {
          "transient": {
            "deleting": false
          }
        }
      }
    },
    {
      "cell_type": "markdown",
      "source": [
        "## Método 3: Restas sucesivas"
      ],
      "metadata": {
        "nteract": {
          "transient": {
            "deleting": false
          }
        }
      }
    },
    {
      "cell_type": "code",
      "source": [
        "operation euclideanAlgoGCDm3(a: Int, N: Int) : Int {\n",
        "        if((a) == 0) {\n",
        "            return (N);\n",
        "        } if ((N) == 0) {\n",
        "            return (a);\n",
        "        } if ((a) == (N)) {\n",
        "            return (a);\n",
        "        } if ((a) > (N)) {\n",
        "            Message($\"GCD de {a} y {N} es... \"); \n",
        "            return euclideanAlgoGCDm3((a)-(N), (N));\n",
        "        }\n",
        "        return euclideanAlgoGCDm3((a), (N)-(a));\n",
        "    }"
      ],
      "outputs": [
        {
          "output_type": "execute_result",
          "execution_count": 84,
          "data": {
            "text/plain": "euclideanAlgoGCDm3",
            "text/html": "<ul><li>euclideanAlgoGCDm3</li></ul>",
            "application/x-qsharp-data": "[\"euclideanAlgoGCDm3\"]"
          },
          "metadata": {
            "text/plain": {},
            "text/html": {},
            "application/x-qsharp-data": {}
          }
        }
      ],
      "execution_count": 84,
      "metadata": {
        "jupyter": {
          "source_hidden": false,
          "outputs_hidden": false
        },
        "nteract": {
          "transient": {
            "deleting": false
          }
        }
      }
    },
    {
      "cell_type": "code",
      "source": [
        "%simulate euclideanAlgoGCDm3 a=60 N=48"
      ],
      "outputs": [
        {
          "output_type": "stream",
          "name": "stdout",
          "text": "GCD de 60 y 48 es... \n"
        },
        {
          "output_type": "execute_result",
          "execution_count": 86,
          "data": {
            "text/plain": "12",
            "application/x-qsharp-data": "12"
          },
          "metadata": {
            "text/plain": {},
            "application/x-qsharp-data": {}
          }
        }
      ],
      "execution_count": 86,
      "metadata": {
        "jupyter": {
          "source_hidden": false,
          "outputs_hidden": false
        },
        "nteract": {
          "transient": {
            "deleting": false
          }
        }
      }
    },
    {
      "cell_type": "markdown",
      "source": [
        "# Implementación del Algoritmo de Shor\n",
        "## Fase 2: Parte clásica \n",
        "1. Determinar si el orden es par\n",
        "    + gcd=(a,n)=1\n",
        "        + a^(φ(n)) ≡ 1 (mod n)\n",
        "2. Una vez realizada la condición del teorema de Euler aplicamos el teorema de euclides.\n",
        "3. El valor del orden se le resta 1 y se aplica junto con el número primo para encontrar el primer factor.\n",
        "4. El valor del orden se le suma 1 y se aplica junto con el número primo para encontrar el primer factor.\n",
        "\n",
        "φ(n): Es equivalente al orden dividido entre dos."
      ],
      "metadata": {
        "nteract": {
          "transient": {
            "deleting": false
          }
        }
      }
    },
    {
      "cell_type": "code",
      "source": [
        "operation possibleFactorsR (module: Int, randomGenerator: Int, r:Int) : (Bool, (Int, Int)) {\n",
        "        if r % 2 == 0 {\n",
        "            let halfExponentiation = ExpModI(randomGenerator, r/2, module);\n",
        "            if halfExponentiation != module - 1 {\n",
        "                let factor = MaxI (\n",
        "                    euclideanAlgoGCDm2(halfExponentiation - 1, module),\n",
        "                    euclideanAlgoGCDm1(halfExponentiation + 1, module)\n",
        "                );\n",
        "                return (true, (factor, module / factor));\n",
        "            } else {\n",
        "                return (false, (1,1));\n",
        "            }\n",
        "        } else {\n",
        "        return(false, (1,1));\n",
        "        } \n",
        "    }"
      ],
      "outputs": [
        {
          "output_type": "execute_result",
          "execution_count": 106,
          "data": {
            "text/plain": "possibleFactorsR",
            "text/html": "<ul><li>possibleFactorsR</li></ul>",
            "application/x-qsharp-data": "[\"possibleFactorsR\"]"
          },
          "metadata": {
            "text/plain": {},
            "text/html": {},
            "application/x-qsharp-data": {}
          }
        }
      ],
      "execution_count": 106,
      "metadata": {
        "jupyter": {
          "source_hidden": false,
          "outputs_hidden": false
        },
        "nteract": {
          "transient": {
            "deleting": false
          }
        }
      }
    },
    {
      "cell_type": "markdown",
      "source": [
        "## Multiplicador de un entero modular\n",
        "1. Realiza la multiplicación modular por una constante entera en un registro qubit.\n",
        "2. Dado un estado de un Qubi, se multiplica una constante y por el modulo de N.\n",
        "3. Entonces la operación implementa una operación unitaria definida por:\n",
        "\n",
        "|y⟩↦|(a⋅y) mod N⟩\n",
        "\n",
        "4. Esta operación se realiza en el algoritmo de estimación de fase cuántica para el calculo entre el registro de almacenamiento y computacional.\n"
      ],
      "metadata": {
        "nteract": {
          "transient": {
            "deleting": false
          }
        }
      }
    },
    {
      "cell_type": "code",
      "source": [
        "operation applyFindingOracle (randomGenerator : Int, module: Int, power : Int, target: Qubit[] ) : Unit is Adj + Ctl{\n",
        "        Fact(IsCoprimeI(randomGenerator,module),\"El número aleatorio es `randomGenerator`, y el modulo es `module`.\");\n",
        "        // Realización de una multiplicación modular por una constante entera en un registro qubit.\n",
        "        MultiplyByModularInteger(ExpModI(randomGenerator, power, module),module, LittleEndian(target));\n",
        "    }"
      ],
      "outputs": [
        {
          "output_type": "execute_result",
          "execution_count": 107,
          "data": {
            "text/plain": "applyFindingOracle",
            "text/html": "<ul><li>applyFindingOracle</li></ul>",
            "application/x-qsharp-data": "[\"applyFindingOracle\"]"
          },
          "metadata": {
            "text/plain": {},
            "text/html": {},
            "application/x-qsharp-data": {}
          }
        }
      ],
      "execution_count": 107,
      "metadata": {
        "jupyter": {
          "source_hidden": false,
          "outputs_hidden": false
        },
        "nteract": {
          "transient": {
            "deleting": false
          }
        }
      }
    },
    {
      "cell_type": "markdown",
      "source": [
        "# Función convergente de fracción continua\n",
        "Encuentra la fracción continua convergente más cercana a la fracción con el denominador menor o igual al limite del denominador, además, se implementa el calculo del máximo común divisor.\n"
      ],
      "metadata": {
        "nteract": {
          "transient": {
            "deleting": false
          }
        }
      }
    },
    {
      "cell_type": "code",
      "source": [
        "operation periodFrequency (module : Int, frequencyEstimation : Int, bitsPrecision: Int, currentDivisor: Int) : Int {\n",
        "        let (s, r) = (ContinuedFractionConvergentI(Fraction(frequencyEstimation, 2 ^ bitsPrecision), module))!;\n",
        "        let (sAbsolute, rAbsolute) = (AbsI(s), AbsI(r));\n",
        "        //  Calcula el máximo común divisor de dos enteros (se llama al método 3 de implementación del GCD).\n",
        "        return (rAbsolute * currentDivisor) / euclideanAlgoGCDm3(currentDivisor, rAbsolute);\n",
        "    } "
      ],
      "outputs": [
        {
          "output_type": "execute_result",
          "execution_count": 108,
          "data": {
            "text/plain": "periodFrequency",
            "text/html": "<ul><li>periodFrequency</li></ul>",
            "application/x-qsharp-data": "[\"periodFrequency\"]"
          },
          "metadata": {
            "text/plain": {},
            "text/html": {},
            "application/x-qsharp-data": {}
          }
        }
      ],
      "execution_count": 108,
      "metadata": {
        "jupyter": {
          "source_hidden": false,
          "outputs_hidden": false
        },
        "nteract": {
          "transient": {
            "deleting": false
          }
        }
      }
    },
    {
      "cell_type": "markdown",
      "source": [
        "## Estimación de la frecuencia\n",
        "Esta función realiza la multiplicación de un entero modular a partir de la sumatoria del registro computacional más el registro de almacenamiento desde 0 hasta n bits.\n",
        "\n",
        "1. Se determina los bits de precisión\n",
        "2. Se crea una cadena de bits cuánticos de valores propios correspondientes a un vector.\n",
        "3. Se crea una variable de registro para la codificación de valores con índice 0 (el bit más bajo de un entero sin signo).\n",
        "4. Aplicación de la operación XOR al registro de los valores propios basados en el entero 1.\n",
        "\n",
        "|y⟩→|y⊕a⟩\n",
        "\n",
        "5. Se recorre el indicé de los bits de precisión\n",
        "    + Dentro de cada valor con un bit cuántico en superposición, se alplica una rotación sobre el estado |1⟩.\n",
        "\n",
        "R1(n,k):=diag(1,e^(iπk/2n))\n",
        "\n",
        "6. Si el valor de la medición se encuentra en la base Z es igual a 1\n",
        "    + Se reestablece al estado inicial después de la medición\n",
        "    + Se asigna la frecuencia de estimación\n",
        "7. Se resetean los valores propio.\n",
        "8. se retorna el valor de la frecuencia.\n",
        "\n",
        "  \n",
        "    "
      ],
      "metadata": {
        "nteract": {
          "transient": {
            "deleting": false
          }
        }
      }
    },
    {
      "cell_type": "code",
      "source": [
        "operation EstimateFrequencyValue (randomGenerator : Int, module: Int, bits : Int) : Int {   \n",
        "        mutable frequencyEstimation = 0;\n",
        "        \n",
        "        let bitsPrecision = 2 * bits + 1;\n",
        "\n",
        "        use eigenStateRegister = Qubit[bits];\n",
        "        \n",
        "        let eigenStateRegisterLittleEndian = LittleEndian(eigenStateRegister);\n",
        "\n",
        "        // Aplicando una operación XOR entre un entero clásico y un entero representado por un registro de qubits.\n",
        "        ApplyXorInPlace(1, eigenStateRegisterLittleEndian);\n",
        "        let oracle = applyFindingOracle(randomGenerator, module, _, _);\n",
        "\n",
        "        // * QFT to estimate the frequency\n",
        "        use a = Qubit();\n",
        "        for index in bitsPrecision -1..-1..0 {\n",
        "            within {\n",
        "                H(a);\n",
        "            } apply {\n",
        "                Controlled oracle([a], (1 <<< index, eigenStateRegisterLittleEndian!));\n",
        "                // Aplicar una rotación sobre el estado |1> por un ángulo especificado como una fracción diádica.\n",
        "                R1Frac(frequencyEstimation, bitsPrecision - 1 - index, a);\n",
        "            } if MResetZ(a) == One {\n",
        "                set frequencyEstimation += 1 <<< (bitsPrecision - 1 - index);\n",
        "            }\n",
        "        }\n",
        "        // Mide los qubits y se asegura de que estén en el estado |0⟩ para que puedan liberarse de forma segura.\n",
        "        ResetAll(eigenStateRegister);\n",
        "        return frequencyEstimation;\n",
        "    }"
      ],
      "outputs": [
        {
          "output_type": "execute_result",
          "execution_count": 109,
          "data": {
            "text/plain": "EstimateFrequencyValue",
            "text/html": "<ul><li>EstimateFrequencyValue</li></ul>",
            "application/x-qsharp-data": "[\"EstimateFrequencyValue\"]"
          },
          "metadata": {
            "text/plain": {},
            "text/html": {},
            "application/x-qsharp-data": {}
          }
        }
      ],
      "execution_count": 109,
      "metadata": {
        "jupyter": {
          "source_hidden": false,
          "outputs_hidden": false
        },
        "nteract": {
          "transient": {
            "deleting": false
          }
        }
      }
    },
    {
      "cell_type": "code",
      "source": [
        "operation phaseEstimation (randomGenerator: Int, module: Int ) : Int {\n",
        "        // ! https://learn.microsoft.com/en-us/qsharp/api/qsharp/microsoft.quantum.diagnostics.fact\n",
        "        Fact(IsCoprimeI(randomGenerator,module),\"The guess number is `randomGenerator`, and the mudule is `module`.\");\n",
        "\n",
        "        // Storing the r found. \n",
        "        mutable result = 1;\n",
        "\n",
        "        // Number of bits in the mudule \n",
        "        let bits = BitSizeI(module);\n",
        "\n",
        "        let bitsPrecision = 2 * bits + 1;\n",
        "\n",
        "        mutable frequencyEstimation = 0;\n",
        "\n",
        "        set frequencyEstimation = EstimateFrequencyValue (randomGenerator, module,bits);\n",
        "        \n",
        "        if  frequencyEstimation != 0 {\n",
        "            set result = periodFrequency (module, frequencyEstimation, bitsPrecision, result);\n",
        "        } else {\n",
        "            Message(\"Estimated frecuency was 0.\");\n",
        "        }\n",
        "        return result;\n",
        "    }"
      ],
      "outputs": [
        {
          "output_type": "execute_result",
          "execution_count": 57,
          "data": {
            "text/plain": "phaseEstimation",
            "text/html": "<ul><li>phaseEstimation</li></ul>",
            "application/x-qsharp-data": "[\"phaseEstimation\"]"
          },
          "metadata": {
            "text/plain": {},
            "text/html": {},
            "application/x-qsharp-data": {}
          }
        }
      ],
      "execution_count": 57,
      "metadata": {
        "jupyter": {
          "source_hidden": false,
          "outputs_hidden": false
        },
        "nteract": {
          "transient": {
            "deleting": false
          }
        }
      }
    },
    {
      "cell_type": "code",
      "source": [
        "operation shorImplementatonTest (n: Int): (Int, Int) {\n",
        "        // Trivial case: Even number\n",
        "        if n % 2 == 0 {\n",
        "            // Checking if there is a even number.\n",
        "            Message(\"Even number.\");\n",
        "            return (n/2, 2);\n",
        "        }\n",
        "        \n",
        "        // Set up the unknown factors and set the default values.\n",
        "        mutable setUpFactors = false;\n",
        "        mutable defaultFactors = (1,1); \n",
        "\n",
        "        // ! https://learn.microsoft.com/en-us/qsharp/api/qsharp/microsoft.quantum.random.drawrandomint\n",
        "        repeat {\n",
        "            let randomGenerator =  DrawRandomInt(2, n - 1); // ? IBM(2, N-1),  MICROSOT(1 < a < N-1)\n",
        "            // ! https://learn.microsoft.com/es-mx/qsharp/api/qsharp/microsoft.quantum.math.iscoprimei\n",
        "            if IsCoprimeI (randomGenerator,n) {\n",
        "                Message($\"Guess number: {randomGenerator}\");\n",
        "                let r = phaseEstimation(randomGenerator, n);\n",
        "                set (setUpFactors,defaultFactors) = possibleFactorsR(n, randomGenerator, r);\n",
        "            }  else {\n",
        "                let GCD = GreatestCommonDivisorI(n,randomGenerator);\n",
        "                Message($\"Divisor guessed: {n} GCD: {GCD}.\");\n",
        "                set setUpFactors = true;\n",
        "                set defaultFactors = (GCD, n/ GCD);\n",
        "            }\n",
        "        } until setUpFactors \n",
        "        fixup {\n",
        "        Message(\"The estimated period did not return a valid factor.\");\n",
        "        }\n",
        "        return defaultFactors;\n",
        "    }"
      ],
      "outputs": [
        {
          "output_type": "execute_result",
          "execution_count": 71,
          "data": {
            "text/plain": "shorImplementatonTest",
            "text/html": "<ul><li>shorImplementatonTest</li></ul>",
            "application/x-qsharp-data": "[\"shorImplementatonTest\"]"
          },
          "metadata": {
            "text/plain": {},
            "text/html": {},
            "application/x-qsharp-data": {}
          }
        }
      ],
      "execution_count": 71,
      "metadata": {
        "jupyter": {
          "source_hidden": false,
          "outputs_hidden": false
        },
        "nteract": {
          "transient": {
            "deleting": false
          }
        }
      }
    },
    {
      "cell_type": "code",
      "source": [
        "%simulate shorImplementatonTest n=102"
      ],
      "outputs": [
        {
          "output_type": "stream",
          "name": "stdout",
          "text": "Even number.\n"
        },
        {
          "output_type": "execute_result",
          "execution_count": 72,
          "data": {
            "text/plain": "(51, 2)",
            "application/x-qsharp-data": "{\"@type\":\"@tuple\",\"Item1\":51,\"Item2\":2}"
          },
          "metadata": {
            "text/plain": {},
            "application/x-qsharp-data": {}
          }
        }
      ],
      "execution_count": 72,
      "metadata": {
        "jupyter": {
          "source_hidden": false,
          "outputs_hidden": false
        },
        "nteract": {
          "transient": {
            "deleting": false
          }
        }
      }
    },
    {
      "cell_type": "code",
      "source": [
        "%simulate shorImplementatonTest n=15"
      ],
      "outputs": [
        {
          "output_type": "stream",
          "name": "stdout",
          "text": "Divisor guessed: 15 GCD: 3.\n"
        },
        {
          "output_type": "execute_result",
          "execution_count": 73,
          "data": {
            "text/plain": "(3, 5)",
            "application/x-qsharp-data": "{\"@type\":\"@tuple\",\"Item1\":3,\"Item2\":5}"
          },
          "metadata": {
            "text/plain": {},
            "application/x-qsharp-data": {}
          }
        }
      ],
      "execution_count": 73,
      "metadata": {
        "jupyter": {
          "source_hidden": false,
          "outputs_hidden": false
        },
        "nteract": {
          "transient": {
            "deleting": false
          }
        }
      }
    },
    {
      "cell_type": "code",
      "source": [
        "%simulate shorImplementatonTest n=21"
      ],
      "outputs": [
        {
          "output_type": "stream",
          "name": "stdout",
          "text": "Guess number: 5\nThe estimated period did not return a valid factor.\nGuess number: 19\n"
        },
        {
          "output_type": "execute_result",
          "execution_count": 74,
          "data": {
            "text/plain": "(3, 7)",
            "application/x-qsharp-data": "{\"@type\":\"@tuple\",\"Item1\":3,\"Item2\":7}"
          },
          "metadata": {
            "text/plain": {},
            "application/x-qsharp-data": {}
          }
        }
      ],
      "execution_count": 74,
      "metadata": {
        "jupyter": {
          "source_hidden": false,
          "outputs_hidden": false
        },
        "nteract": {
          "transient": {
            "deleting": false
          }
        }
      }
    },
    {
      "cell_type": "code",
      "source": [
        "%simulate shorImplementatonTest n=1004"
      ],
      "outputs": [
        {
          "output_type": "stream",
          "name": "stdout",
          "text": "Even number.\n"
        },
        {
          "output_type": "execute_result",
          "execution_count": 75,
          "data": {
            "text/plain": "(502, 2)",
            "application/x-qsharp-data": "{\"@type\":\"@tuple\",\"Item1\":502,\"Item2\":2}"
          },
          "metadata": {
            "text/plain": {},
            "application/x-qsharp-data": {}
          }
        }
      ],
      "execution_count": 75,
      "metadata": {
        "jupyter": {
          "source_hidden": false,
          "outputs_hidden": false
        },
        "nteract": {
          "transient": {
            "deleting": false
          }
        }
      }
    },
    {
      "cell_type": "code",
      "source": [
        "%simulate shorImplementatonTest n=35"
      ],
      "outputs": [
        {
          "output_type": "stream",
          "name": "stdout",
          "text": "Guess number: 23\n"
        },
        {
          "output_type": "execute_result",
          "execution_count": 76,
          "data": {
            "text/plain": "(7, 5)",
            "application/x-qsharp-data": "{\"@type\":\"@tuple\",\"Item1\":7,\"Item2\":5}"
          },
          "metadata": {
            "text/plain": {},
            "application/x-qsharp-data": {}
          }
        }
      ],
      "execution_count": 76,
      "metadata": {
        "jupyter": {
          "source_hidden": false,
          "outputs_hidden": false
        },
        "nteract": {
          "transient": {
            "deleting": false
          }
        }
      }
    },
    {
      "cell_type": "code",
      "source": [
        "%simulate shorImplementatonTest n=39"
      ],
      "outputs": [
        {
          "output_type": "stream",
          "name": "stdout",
          "text": "Guess number: 29\nEstimated frecuency was 0.\nThe estimated period did not return a valid factor.\nGuess number: 14\nEstimated frecuency was 0.\nThe estimated period did not return a valid factor.\nDivisor guessed: 39 GCD: 3.\n"
        },
        {
          "output_type": "execute_result",
          "execution_count": 77,
          "data": {
            "text/plain": "(3, 13)",
            "application/x-qsharp-data": "{\"@type\":\"@tuple\",\"Item1\":3,\"Item2\":13}"
          },
          "metadata": {
            "text/plain": {},
            "application/x-qsharp-data": {}
          }
        }
      ],
      "execution_count": 77,
      "metadata": {
        "jupyter": {
          "source_hidden": false,
          "outputs_hidden": false
        },
        "nteract": {
          "transient": {
            "deleting": false
          }
        }
      }
    }
  ],
  "metadata": {
    "language_info": {
      "name": "qsharp",
      "version": "0.27",
      "mimetype": "text/x-qsharp",
      "file_extension": ".qs"
    },
    "kernelspec": {
      "name": "iqsharp",
      "language": "qsharp",
      "display_name": "Q#"
    },
    "kernel_info": {
      "name": "iqsharp"
    },
    "nteract": {
      "version": "nteract-front-end@1.0.0"
    }
  },
  "nbformat": 4,
  "nbformat_minor": 0
}