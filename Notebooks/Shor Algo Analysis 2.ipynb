{
  "cells": [
    {
      "cell_type": "markdown",
      "source": [
        "# Suscripción de Azure Quantum\n",
        "### Conexión al espacio de trabajo de Azure Quantum"
      ],
      "metadata": {
        "nteract": {
          "transient": {
            "deleting": false
          }
        }
      }
    },
    {
      "cell_type": "code",
      "source": [
        "%azure.connect \"/subscriptions/b3ed2c3e-e784-4a4e-9474-a3d279d2f9e4/resourceGroups/AzureQuantum/providers/Microsoft.Quantum/Workspaces/LaboratorioQuantum-Ximena-Toledo-RIvera\" location=\"eastus\"\n"
      ],
      "outputs": [
        {
          "output_type": "display_data",
          "data": {
            "text/plain": "",
            "application/x-qsharp-data": "\"\""
          },
          "metadata": {
            "text/plain": {},
            "application/x-qsharp-data": {}
          }
        },
        {
          "output_type": "stream",
          "name": "stdout",
          "text": "Authenticated using Microsoft.Azure.Quantum.Authentication.TokenFileCredential\n\n\nConnected to Azure Quantum workspace LaboratorioQuantum-Ximena-Toledo-RIvera in location eastus.\n"
        },
        {
          "output_type": "execute_result",
          "execution_count": 2,
          "data": {
            "text/plain": "Target ID             Current Availability Average Queue Time (Seconds)\n--------------------- --------- -\nmicrosoft.estimator   Available 0\nrigetti.sim.qvm       Available 5\nrigetti.qpu.aspen-m-2 Available 5\nrigetti.qpu.aspen-m-3 Available 5\n",
            "text/html": "<table><thead><tr><th style=\"text-align: start;\">Target ID</th><th style=\"text-align: start;\">Current Availability</th><th style=\"text-align: start;\">Average Queue Time (Seconds)</th></tr></thead><tbody><tr><td style=\"text-align: start;\">microsoft.estimator</td><td style=\"text-align: start;\">Available</td><td style=\"text-align: start;\">0</td></tr><tr><td style=\"text-align: start;\">rigetti.sim.qvm</td><td style=\"text-align: start;\">Available</td><td style=\"text-align: start;\">5</td></tr><tr><td style=\"text-align: start;\">rigetti.qpu.aspen-m-2</td><td style=\"text-align: start;\">Available</td><td style=\"text-align: start;\">5</td></tr><tr><td style=\"text-align: start;\">rigetti.qpu.aspen-m-3</td><td style=\"text-align: start;\">Available</td><td style=\"text-align: start;\">5</td></tr></tbody></table>",
            "application/x-qsharp-data": "[{\"id\":\"microsoft.estimator\",\"current_availability\":{},\"average_queue_time\":0},{\"id\":\"rigetti.sim.qvm\",\"current_availability\":{},\"average_queue_time\":5},{\"id\":\"rigetti.qpu.aspen-m-2\",\"current_availability\":{},\"average_queue_time\":5},{\"id\":\"rigetti.qpu.aspen-m-3\",\"current_availability\":{},\"average_queue_time\":5}]"
          },
          "metadata": {
            "text/plain": {},
            "text/html": {},
            "application/x-qsharp-data": {}
          }
        }
      ],
      "execution_count": 2,
      "metadata": {
        "jupyter": {
          "outputs_hidden": false,
          "source_hidden": false
        },
        "nteract": {
          "transient": {
            "deleting": false
          }
        }
      }
    },
    {
      "cell_type": "markdown",
      "source": [
        "# Implementación del Algoritmo de Shor\n",
        "## Fase 1 \n",
        "1. Invocación de bibliotecas necesarias.\n",
        "2. Creación de un generador de números pseudoaleatorios.\n",
        "    + Se inicializa un bit cuántico.\n",
        "    + Se coloca en superposición.\n",
        "    + Se somete al proceso de medición.\n",
        "    + Se retorna el resultado.\n"
      ],
      "metadata": {
        "nteract": {
          "transient": {
            "deleting": false
          }
        }
      }
    },
    {
      "cell_type": "code",
      "source": [
        "open Microsoft.Quantum.Canon;\n",
        "open Microsoft.Quantum.Intrinsic;\n",
        "open Microsoft.Quantum.Measurement;\n",
        "open Microsoft.Quantum.Math;\n",
        "open Microsoft.Quantum.Convert;\n",
        "open Microsoft.Quantum.Arithmetic;\n",
        "open Microsoft.Quantum.Oracles;\n",
        "open Microsoft.Quantum.Random;\n",
        "open Microsoft.Quantum.Diagnostics;\n",
        "open Microsoft.Quantum.Characterization;\n",
        "\n",
        "operation ramdomNumberGeneratorTest() : Result {// Complejidad algorítmica: O(10) = O(1)   \n",
        "        use q1 = Qubit();                       // O(1)\n",
        "        Message(\"Estado inicial de Qubit:\");    // O(1)\n",
        "        DumpMachine();                          // O(1)\n",
        "        H(q1);                                  // O(1)\n",
        "        Message(\"Estado de superpocision:\");    // O(1)\n",
        "        DumpMachine();                          // O(1)\n",
        "        let measuredQubit = M(q1);              // O(1)\n",
        "        Message(\"Proceso de medicion:\");        // O(1)\n",
        "        DumpMachine();                          // O(1)\n",
        "        return measuredQubit;                   // O(1)\n",
        "    }\n"
      ],
      "outputs": [
        {
          "output_type": "execute_result",
          "execution_count": 3,
          "data": {
            "text/plain": "ramdomNumberGeneratorTest",
            "text/html": "<ul><li>ramdomNumberGeneratorTest</li></ul>",
            "application/x-qsharp-data": "[\"ramdomNumberGeneratorTest\"]"
          },
          "metadata": {
            "text/plain": {},
            "text/html": {},
            "application/x-qsharp-data": {}
          }
        }
      ],
      "execution_count": 3,
      "metadata": {
        "jupyter": {
          "outputs_hidden": false,
          "source_hidden": false
        },
        "nteract": {
          "transient": {
            "deleting": false
          }
        }
      }
    },
    {
      "cell_type": "code",
      "source": [
        "%simulate ramdomNumberGeneratorTest"
      ],
      "outputs": [
        {
          "output_type": "stream",
          "name": "stdout",
          "text": "Estado inicial de Qubit:\n"
        },
        {
          "output_type": "display_data",
          "data": {
            "text/plain": "|0⟩\t1 + 0𝑖\n|1⟩\t0 + 0𝑖",
            "text/html": "\r\n                    <table style=\"table-layout: fixed; width: 100%\">\r\n                        <thead>\r\n                            \r\n                        <tr>\r\n                            <th>Qubit IDs</th>\r\n                            <td span=\"3\">0</td>\r\n                        </tr>\r\n                    \r\n                            <tr>\r\n                                <th style=\"width: 20ch)\">Basis state (little endian)</th>\r\n                                <th style=\"width: 20ch\">Amplitude</th><th style=\"width: calc(100% - 26ch - 20ch)\">Meas. Pr.</th><th style=\"width: 6ch\">Phase</th>\r\n                            </tr>\r\n                        </thead>\r\n                        <tbody>\r\n                        \r\n                            <tr>\r\n                                <td>$\\left|0\\right\\rangle$</td>\r\n                                <td>$1.0000 + 0.0000 i$</td>\r\n                                \r\n                                <td>\r\n                                    <progress\r\n                                        max=\"100\"\r\n                                        value=\"100\"\r\n                                        style=\"width: 100%;\"\r\n                                    > \r\n                                    <td>\r\n                                    <p id=\"round-c001f778-0fa4-4005-a703-94bb1f2095c2\"> \r\n                                    <script>\r\n                                    var num = 100;\r\n                                    num = num.toFixed(4);\r\n                                    var num_string = num + \"%\";\r\n                                     document.getElementById(\"round-c001f778-0fa4-4005-a703-94bb1f2095c2\").innerHTML = num_string;\r\n                                    </script> </p>\r\n                                    </td>\r\n                                </td>\r\n                            \r\n                                \r\n                                <td style=\"transform: rotate(0deg);\r\n                   text-align: center;\">\r\n                                 ↑\r\n                                </td>\r\n                            \r\n                            </tr>\r\n                        \n\r\n                            <tr>\r\n                                <td>$\\left|1\\right\\rangle$</td>\r\n                                <td>$0.0000 + 0.0000 i$</td>\r\n                                \r\n                                <td>\r\n                                    <progress\r\n                                        max=\"100\"\r\n                                        value=\"0\"\r\n                                        style=\"width: 100%;\"\r\n                                    > \r\n                                    <td>\r\n                                    <p id=\"round-d4b9e26f-bcb6-4254-9c85-7c78bd2ca24c\"> \r\n                                    <script>\r\n                                    var num = 0;\r\n                                    num = num.toFixed(4);\r\n                                    var num_string = num + \"%\";\r\n                                     document.getElementById(\"round-d4b9e26f-bcb6-4254-9c85-7c78bd2ca24c\").innerHTML = num_string;\r\n                                    </script> </p>\r\n                                    </td>\r\n                                </td>\r\n                            \r\n                                \r\n                                <td style=\"transform: rotate(0deg);\r\n                   text-align: center;\">\r\n                                 ↑\r\n                                </td>\r\n                            \r\n                            </tr>\r\n                        \r\n                        </tbody>\r\n                    </table>",
            "application/x-qsharp-data": "{\"diagnostic_kind\":\"state-vector\",\"qubit_ids\":[0],\"n_qubits\":1,\"amplitudes\":{\"0\":{\"Real\":1.0,\"Imaginary\":0.0,\"Magnitude\":1.0,\"Phase\":0.0},\"1\":{\"Real\":0.0,\"Imaginary\":0.0,\"Magnitude\":0.0,\"Phase\":0.0}}}"
          },
          "metadata": {
            "text/plain": {},
            "text/html": {},
            "application/x-qsharp-data": {}
          }
        },
        {
          "output_type": "stream",
          "name": "stdout",
          "text": "Estado de superpocision:\n"
        },
        {
          "output_type": "display_data",
          "data": {
            "text/plain": "|0⟩\t0.7071067811865476 + 0𝑖\n|1⟩\t0.7071067811865476 + 0𝑖",
            "text/html": "\r\n                    <table style=\"table-layout: fixed; width: 100%\">\r\n                        <thead>\r\n                            \r\n                        <tr>\r\n                            <th>Qubit IDs</th>\r\n                            <td span=\"3\">0</td>\r\n                        </tr>\r\n                    \r\n                            <tr>\r\n                                <th style=\"width: 20ch)\">Basis state (little endian)</th>\r\n                                <th style=\"width: 20ch\">Amplitude</th><th style=\"width: calc(100% - 26ch - 20ch)\">Meas. Pr.</th><th style=\"width: 6ch\">Phase</th>\r\n                            </tr>\r\n                        </thead>\r\n                        <tbody>\r\n                        \r\n                            <tr>\r\n                                <td>$\\left|0\\right\\rangle$</td>\r\n                                <td>$0.7071 + 0.0000 i$</td>\r\n                                \r\n                                <td>\r\n                                    <progress\r\n                                        max=\"100\"\r\n                                        value=\"50.000000000000014\"\r\n                                        style=\"width: 100%;\"\r\n                                    > \r\n                                    <td>\r\n                                    <p id=\"round-8006341d-bf99-42de-b6b4-b5f47941f305\"> \r\n                                    <script>\r\n                                    var num = 50.000000000000014;\r\n                                    num = num.toFixed(4);\r\n                                    var num_string = num + \"%\";\r\n                                     document.getElementById(\"round-8006341d-bf99-42de-b6b4-b5f47941f305\").innerHTML = num_string;\r\n                                    </script> </p>\r\n                                    </td>\r\n                                </td>\r\n                            \r\n                                \r\n                                <td style=\"transform: rotate(0deg);\r\n                   text-align: center;\">\r\n                                 ↑\r\n                                </td>\r\n                            \r\n                            </tr>\r\n                        \n\r\n                            <tr>\r\n                                <td>$\\left|1\\right\\rangle$</td>\r\n                                <td>$0.7071 + 0.0000 i$</td>\r\n                                \r\n                                <td>\r\n                                    <progress\r\n                                        max=\"100\"\r\n                                        value=\"50.000000000000014\"\r\n                                        style=\"width: 100%;\"\r\n                                    > \r\n                                    <td>\r\n                                    <p id=\"round-1c8887ce-7a92-4337-b5c0-cc4d811c2a0e\"> \r\n                                    <script>\r\n                                    var num = 50.000000000000014;\r\n                                    num = num.toFixed(4);\r\n                                    var num_string = num + \"%\";\r\n                                     document.getElementById(\"round-1c8887ce-7a92-4337-b5c0-cc4d811c2a0e\").innerHTML = num_string;\r\n                                    </script> </p>\r\n                                    </td>\r\n                                </td>\r\n                            \r\n                                \r\n                                <td style=\"transform: rotate(0deg);\r\n                   text-align: center;\">\r\n                                 ↑\r\n                                </td>\r\n                            \r\n                            </tr>\r\n                        \r\n                        </tbody>\r\n                    </table>",
            "application/x-qsharp-data": "{\"diagnostic_kind\":\"state-vector\",\"qubit_ids\":[0],\"n_qubits\":1,\"amplitudes\":{\"0\":{\"Real\":0.7071067811865476,\"Imaginary\":0.0,\"Magnitude\":0.7071067811865476,\"Phase\":0.0},\"1\":{\"Real\":0.7071067811865476,\"Imaginary\":0.0,\"Magnitude\":0.7071067811865476,\"Phase\":0.0}}}"
          },
          "metadata": {
            "text/plain": {},
            "text/html": {},
            "application/x-qsharp-data": {}
          }
        },
        {
          "output_type": "stream",
          "name": "stdout",
          "text": "Proceso de medicion:\n"
        },
        {
          "output_type": "display_data",
          "data": {
            "text/plain": "|0⟩\t0 + 0𝑖\n|1⟩\t1 + 0𝑖",
            "text/html": "\r\n                    <table style=\"table-layout: fixed; width: 100%\">\r\n                        <thead>\r\n                            \r\n                        <tr>\r\n                            <th>Qubit IDs</th>\r\n                            <td span=\"3\">0</td>\r\n                        </tr>\r\n                    \r\n                            <tr>\r\n                                <th style=\"width: 20ch)\">Basis state (little endian)</th>\r\n                                <th style=\"width: 20ch\">Amplitude</th><th style=\"width: calc(100% - 26ch - 20ch)\">Meas. Pr.</th><th style=\"width: 6ch\">Phase</th>\r\n                            </tr>\r\n                        </thead>\r\n                        <tbody>\r\n                        \r\n                            <tr>\r\n                                <td>$\\left|0\\right\\rangle$</td>\r\n                                <td>$0.0000 + 0.0000 i$</td>\r\n                                \r\n                                <td>\r\n                                    <progress\r\n                                        max=\"100\"\r\n                                        value=\"0\"\r\n                                        style=\"width: 100%;\"\r\n                                    > \r\n                                    <td>\r\n                                    <p id=\"round-34168a5e-f91b-4513-bb06-c922d6d8fca1\"> \r\n                                    <script>\r\n                                    var num = 0;\r\n                                    num = num.toFixed(4);\r\n                                    var num_string = num + \"%\";\r\n                                     document.getElementById(\"round-34168a5e-f91b-4513-bb06-c922d6d8fca1\").innerHTML = num_string;\r\n                                    </script> </p>\r\n                                    </td>\r\n                                </td>\r\n                            \r\n                                \r\n                                <td style=\"transform: rotate(0deg);\r\n                   text-align: center;\">\r\n                                 ↑\r\n                                </td>\r\n                            \r\n                            </tr>\r\n                        \n\r\n                            <tr>\r\n                                <td>$\\left|1\\right\\rangle$</td>\r\n                                <td>$1.0000 + 0.0000 i$</td>\r\n                                \r\n                                <td>\r\n                                    <progress\r\n                                        max=\"100\"\r\n                                        value=\"100\"\r\n                                        style=\"width: 100%;\"\r\n                                    > \r\n                                    <td>\r\n                                    <p id=\"round-c37fb847-7276-4c58-b84e-a07b9bf1e123\"> \r\n                                    <script>\r\n                                    var num = 100;\r\n                                    num = num.toFixed(4);\r\n                                    var num_string = num + \"%\";\r\n                                     document.getElementById(\"round-c37fb847-7276-4c58-b84e-a07b9bf1e123\").innerHTML = num_string;\r\n                                    </script> </p>\r\n                                    </td>\r\n                                </td>\r\n                            \r\n                                \r\n                                <td style=\"transform: rotate(0deg);\r\n                   text-align: center;\">\r\n                                 ↑\r\n                                </td>\r\n                            \r\n                            </tr>\r\n                        \r\n                        </tbody>\r\n                    </table>",
            "application/x-qsharp-data": "{\"diagnostic_kind\":\"state-vector\",\"qubit_ids\":[0],\"n_qubits\":1,\"amplitudes\":{\"0\":{\"Real\":0.0,\"Imaginary\":0.0,\"Magnitude\":0.0,\"Phase\":0.0},\"1\":{\"Real\":1.0,\"Imaginary\":0.0,\"Magnitude\":1.0,\"Phase\":0.0}}}"
          },
          "metadata": {
            "text/plain": {},
            "text/html": {},
            "application/x-qsharp-data": {}
          }
        },
        {
          "output_type": "execute_result",
          "execution_count": 3,
          "data": {
            "text/plain": "One",
            "application/x-qsharp-data": "1"
          },
          "metadata": {
            "text/plain": {},
            "application/x-qsharp-data": {}
          }
        }
      ],
      "execution_count": 3,
      "metadata": {
        "jupyter": {
          "outputs_hidden": false,
          "source_hidden": false
        },
        "nteract": {
          "transient": {
            "deleting": false
          }
        }
      }
    },
    {
      "cell_type": "code",
      "source": [
        "operation ramdomNumberGenerator() : Result { \n",
        "                                        // Complejidad algorítmica: O(4) = O(1)\n",
        "        use q1 = Qubit();               // O(1)\n",
        "        H(q1);                          // O(1) // ?\n",
        "        let measuredQubit = M(q1);      // O(1)\n",
        "        return measuredQubit;           // O(1)\n",
        "    }"
      ],
      "outputs": [
        {
          "output_type": "execute_result",
          "execution_count": 4,
          "data": {
            "text/plain": "ramdomNumberGenerator",
            "text/html": "<ul><li>ramdomNumberGenerator</li></ul>",
            "application/x-qsharp-data": "[\"ramdomNumberGenerator\"]"
          },
          "metadata": {
            "text/plain": {},
            "text/html": {},
            "application/x-qsharp-data": {}
          }
        }
      ],
      "execution_count": 4,
      "metadata": {
        "jupyter": {
          "outputs_hidden": false,
          "source_hidden": false
        },
        "nteract": {
          "transient": {
            "deleting": false
          }
        }
      }
    },
    {
      "cell_type": "markdown",
      "source": [
        "## Generador de número pseudoaleatorio\n",
        "1. Definimos un número máximo y mínimo\n",
        "2. Definición de la cantidad de bits cuánticos expresados en valores enteros para llegar al valor máximo.\n",
        "3. Crear cadena de longitud n.\n",
        "4. Si la cadena de bits supera el valor máximo, crear cadena de longitud n.\n",
        "5. Si la cadena de bits es menor al valor mínimo, crear cadena de longitd n.\n",
        "6. Retornar valor aleatorio."
      ],
      "metadata": {
        "nteract": {
          "transient": {
            "deleting": false
          }
        }
      }
    },
    {
      "cell_type": "code",
      "source": [
        "operation randomNumberRange(min: Int, max: Int) : Int {\n",
        "                                                                // Complejidad algorítmica: O(8) = O(1), O(n) * O(2n) = O(n²) \n",
        "        mutable output = 0;                                     // O(1)\n",
        "        repeat {                                                // O(n)\n",
        "            // Bucle para generar números aleatorios hasta que genere uno que sea igual o menor que el máximo o igual o mayor que el mínimo\n",
        "            mutable bits = [];                                  // O(1)\n",
        "            for indexBit in 1..BitSizeI(max) {                  // O(n)\n",
        "                // Retornar el valor de bits necesarios                                      \n",
        "                set bits = bits + [ramdomNumberGenerator()];    // O(1)\n",
        "            }\n",
        "            for indexBit in 1..BitSizeI(min) {                  // O(n)\n",
        "                set bits = bits + [ramdomNumberGenerator()];    // O(1)\n",
        "            }\n",
        "            set output = ResultArrayAsInt(bits);                // O(1)\n",
        "        } until (output >= min and output <= max );             // O(1)\n",
        "        Message($\"Número aleatorio entre {min} y {max}: \");     // O(1)\n",
        "        return output;                                          // O(1)\n",
        "    }"
      ],
      "outputs": [
        {
          "output_type": "execute_result",
          "execution_count": 5,
          "data": {
            "text/plain": "randomNumberRange",
            "text/html": "<ul><li>randomNumberRange</li></ul>",
            "application/x-qsharp-data": "[\"randomNumberRange\"]"
          },
          "metadata": {
            "text/plain": {},
            "text/html": {},
            "application/x-qsharp-data": {}
          }
        }
      ],
      "execution_count": 5,
      "metadata": {
        "jupyter": {
          "outputs_hidden": false,
          "source_hidden": false
        },
        "nteract": {
          "transient": {
            "deleting": false
          }
        }
      }
    },
    {
      "cell_type": "code",
      "source": [
        "%simulate randomNumberRange min=10 max=20"
      ],
      "outputs": [
        {
          "output_type": "stream",
          "name": "stdout",
          "text": "Número aleatorio entre 10 y 20: \n"
        },
        {
          "output_type": "execute_result",
          "execution_count": 6,
          "data": {
            "text/plain": "18",
            "application/x-qsharp-data": "18"
          },
          "metadata": {
            "text/plain": {},
            "application/x-qsharp-data": {}
          }
        }
      ],
      "execution_count": 6,
      "metadata": {
        "jupyter": {
          "outputs_hidden": false,
          "source_hidden": false
        },
        "nteract": {
          "transient": {
            "deleting": false
          }
        }
      }
    },
    {
      "cell_type": "code",
      "source": [
        "%simulate randomNumberRange min=100 max=200"
      ],
      "outputs": [
        {
          "output_type": "stream",
          "name": "stdout",
          "text": "Número aleatorio entre 100 y 200: \n"
        },
        {
          "output_type": "execute_result",
          "execution_count": 7,
          "data": {
            "text/plain": "127",
            "application/x-qsharp-data": "127"
          },
          "metadata": {
            "text/plain": {},
            "application/x-qsharp-data": {}
          }
        }
      ],
      "execution_count": 7,
      "metadata": {
        "jupyter": {
          "outputs_hidden": false,
          "source_hidden": false
        },
        "nteract": {
          "transient": {
            "deleting": false
          }
        }
      }
    },
    {
      "cell_type": "code",
      "source": [
        "%simulate randomNumberRange min=1000 max=2000 "
      ],
      "outputs": [
        {
          "output_type": "stream",
          "name": "stdout",
          "text": "Número aleatorio entre 1000 y 2000: \n"
        },
        {
          "output_type": "execute_result",
          "execution_count": 8,
          "data": {
            "text/plain": "1126",
            "application/x-qsharp-data": "1126"
          },
          "metadata": {
            "text/plain": {},
            "application/x-qsharp-data": {}
          }
        }
      ],
      "execution_count": 8,
      "metadata": {
        "jupyter": {
          "outputs_hidden": false,
          "source_hidden": false
        },
        "nteract": {
          "transient": {
            "deleting": false
          }
        }
      }
    },
    {
      "cell_type": "code",
      "source": [
        "%simulate randomNumberRange min=9999 max=19999"
      ],
      "outputs": [
        {
          "output_type": "stream",
          "name": "stdout",
          "text": "Número aleatorio entre 9999 y 19999: \n"
        },
        {
          "output_type": "execute_result",
          "execution_count": 9,
          "data": {
            "text/plain": "19739",
            "application/x-qsharp-data": "19739"
          },
          "metadata": {
            "text/plain": {},
            "application/x-qsharp-data": {}
          }
        }
      ],
      "execution_count": 9,
      "metadata": {
        "jupyter": {
          "source_hidden": false,
          "outputs_hidden": false
        },
        "nteract": {
          "transient": {
            "deleting": false
          }
        },
        "editable": true,
        "run_control": {
          "frozen": false
        }
      }
    },
    {
      "cell_type": "markdown",
      "source": [
        "## Algoritmo de Euclides\n",
        "1. Hallar el máximo común divisor para identificar los factores primos.\n",
        "    + Si restamos el número menor del número mayor, el máximo común divisor no cambia.\n",
        "    + Mantener restas sucesivas al número mayor.\n",
        "    + Dividir el número menor\n",
        "        + Detenerse cuando el residuo es 0."
      ],
      "metadata": {
        "nteract": {
          "transient": {
            "deleting": false
          }
        }
      }
    },
    {
      "cell_type": "markdown",
      "source": [
        "## Método 1: Llamada directa a la función"
      ],
      "metadata": {
        "nteract": {
          "transient": {
            "deleting": false
          }
        }
      }
    },
    {
      "cell_type": "code",
      "source": [
        "function euclideanAlgoGCDm1(a: Int, N: Int) : Int {\n",
        "                                                        // Complejidad algorítmica: O(2) = O(1)\n",
        "        Message($\"GCD de {a} y {N} es...\");             // O(1)\n",
        "        return GreatestCommonDivisorI((a),(N));         // O(1)\n",
        "}"
      ],
      "outputs": [
        {
          "output_type": "execute_result",
          "execution_count": 6,
          "data": {
            "text/plain": "euclideanAlgoGCDm1",
            "text/html": "<ul><li>euclideanAlgoGCDm1</li></ul>",
            "application/x-qsharp-data": "[\"euclideanAlgoGCDm1\"]"
          },
          "metadata": {
            "text/plain": {},
            "text/html": {},
            "application/x-qsharp-data": {}
          }
        }
      ],
      "execution_count": 6,
      "metadata": {
        "jupyter": {
          "outputs_hidden": false,
          "source_hidden": false
        },
        "nteract": {
          "transient": {
            "deleting": false
          }
        }
      }
    },
    {
      "cell_type": "code",
      "source": [
        "%simulate euclideanAlgoGCDm1 a=60 N=48"
      ],
      "outputs": [
        {
          "output_type": "stream",
          "name": "stdout",
          "text": "GCD de 60 y 48 es...\n"
        },
        {
          "output_type": "execute_result",
          "execution_count": 11,
          "data": {
            "text/plain": "12",
            "application/x-qsharp-data": "12"
          },
          "metadata": {
            "text/plain": {},
            "application/x-qsharp-data": {}
          }
        }
      ],
      "execution_count": 11,
      "metadata": {
        "jupyter": {
          "outputs_hidden": false,
          "source_hidden": false
        },
        "nteract": {
          "transient": {
            "deleting": false
          }
        }
      }
    },
    {
      "cell_type": "markdown",
      "source": [
        "## Método 2: Versión recursiva"
      ],
      "metadata": {
        "nteract": {
          "transient": {
            "deleting": false
          }
        }
      }
    },
    {
      "cell_type": "code",
      "source": [
        "operation euclideanAlgoGCDm2(a: Int, N: Int) : Int {\n",
        "                                                        // Complejidad algorítmica: O(3) = O(1), O(log(n))\n",
        "        if((N) == 0) {                                  // O(1)\n",
        "            return a;                                   // O(1)\n",
        "        } Message($\"GCD: {a}\");                         // O(1)\n",
        "        return euclideanAlgoGCDm2((N), (a) % (N));      // O(log(n))\n",
        "    }"
      ],
      "outputs": [
        {
          "output_type": "execute_result",
          "execution_count": 7,
          "data": {
            "text/plain": "euclideanAlgoGCDm2",
            "text/html": "<ul><li>euclideanAlgoGCDm2</li></ul>",
            "application/x-qsharp-data": "[\"euclideanAlgoGCDm2\"]"
          },
          "metadata": {
            "text/plain": {},
            "text/html": {},
            "application/x-qsharp-data": {}
          }
        }
      ],
      "execution_count": 7,
      "metadata": {
        "jupyter": {
          "outputs_hidden": false,
          "source_hidden": false
        },
        "nteract": {
          "transient": {
            "deleting": false
          }
        }
      }
    },
    {
      "cell_type": "code",
      "source": [
        "%simulate euclideanAlgoGCDm2 a=60 N=48"
      ],
      "outputs": [
        {
          "output_type": "stream",
          "name": "stdout",
          "text": "GCD: 60\nGCD: 48\n"
        },
        {
          "output_type": "execute_result",
          "execution_count": 13,
          "data": {
            "text/plain": "12",
            "application/x-qsharp-data": "12"
          },
          "metadata": {
            "text/plain": {},
            "application/x-qsharp-data": {}
          }
        }
      ],
      "execution_count": 13,
      "metadata": {
        "jupyter": {
          "outputs_hidden": false,
          "source_hidden": false
        },
        "nteract": {
          "transient": {
            "deleting": false
          }
        }
      }
    },
    {
      "cell_type": "markdown",
      "source": [
        "## Método 3: Restas sucesivas"
      ],
      "metadata": {
        "nteract": {
          "transient": {
            "deleting": false
          }
        }
      }
    },
    {
      "cell_type": "code",
      "source": [
        "operation euclideanAlgoGCDm3(a: Int, N: Int) : Int {\n",
        "                                                        // Complejidad algorítmica: 8(n), O(log(n)) + O(log(n)) = O(log(n))\n",
        "        if((a) == 0) {                                  // O(1)\n",
        "            return (N);                                 // O(1)\n",
        "        } if ((N) == 0) {                               // O(1)\n",
        "            return (a);                                 // O(1)\n",
        "        } if ((a) == (N)) {                             // O(1)\n",
        "            return (a);                                 // O(1)\n",
        "        } if ((a) > (N)) {                              // O(1)\n",
        "            Message($\"GCD de {a} y {N}:\");              // O(1)\n",
        "            Message($\"Nuevo intento.\");\n",
        "            return euclideanAlgoGCDm3((a)-(N), (N));    // O(log(n))\n",
        "        } \n",
        "        return euclideanAlgoGCDm3((a), (N)-(a));        // O(log(n))\n",
        "    }"
      ],
      "outputs": [
        {
          "output_type": "execute_result",
          "execution_count": 8,
          "data": {
            "text/plain": "euclideanAlgoGCDm3",
            "text/html": "<ul><li>euclideanAlgoGCDm3</li></ul>",
            "application/x-qsharp-data": "[\"euclideanAlgoGCDm3\"]"
          },
          "metadata": {
            "text/plain": {},
            "text/html": {},
            "application/x-qsharp-data": {}
          }
        }
      ],
      "execution_count": 8,
      "metadata": {
        "jupyter": {
          "outputs_hidden": false,
          "source_hidden": false
        },
        "nteract": {
          "transient": {
            "deleting": false
          }
        }
      }
    },
    {
      "cell_type": "code",
      "source": [
        "%simulate euclideanAlgoGCDm3 a=60 N=48"
      ],
      "outputs": [
        {
          "output_type": "stream",
          "name": "stdout",
          "text": "GCD de 60 y 48:\nNuevo intento.\n"
        },
        {
          "output_type": "execute_result",
          "execution_count": 15,
          "data": {
            "text/plain": "12",
            "application/x-qsharp-data": "12"
          },
          "metadata": {
            "text/plain": {},
            "application/x-qsharp-data": {}
          }
        }
      ],
      "execution_count": 15,
      "metadata": {
        "jupyter": {
          "outputs_hidden": false,
          "source_hidden": false
        },
        "nteract": {
          "transient": {
            "deleting": false
          }
        }
      }
    },
    {
      "cell_type": "markdown",
      "source": [
        "# Implementación del Algoritmo de Shor\n",
        "## Fase 2: Parte clásica \n",
        "1. Determinar si el orden es par\n",
        "    + gcd=(a,n)=1\n",
        "        + a^(φ(n)) ≡ 1 (mod n)\n",
        "2. Una vez realizada la condición del teorema de Euler aplicamos el teorema de euclides.\n",
        "3. El valor del orden se le resta 1 y se aplica junto con el número primo para encontrar el primer factor.\n",
        "4. El valor del orden se le suma 1 y se aplica junto con el número primo para encontrar el primer factor.\n",
        "    + Retorna el factor y el módulo dividido entre el factor.\n",
        "5. Fin\n",
        "\n",
        "φ(n): Es equivalente al orden dividido entre dos."
      ],
      "metadata": {
        "nteract": {
          "transient": {
            "deleting": false
          }
        }
      }
    },
    {
      "cell_type": "code",
      "source": [
        "operation possibleFactorsR (module: Int, randomGenerator: Int, r:Int) : (Bool, (Int, Int)) {\n",
        "                                                                                // Complejidad algorítmica: O(9) = O(1), O(log(n)) + O(log(n)) + O(log(n)) =  O(log(n))\n",
        "        if r % 2 == 0 {                                                         // O(1)\n",
        "            let halfExponentiation = ExpModI(randomGenerator, r/2, module);     // O(log(n))\n",
        "            if halfExponentiation != module - 1 {                               // O(1)\n",
        "                let factor = MaxI (                                             // O(1)\n",
        "                    euclideanAlgoGCDm3(halfExponentiation - 1, module),         // O(log(n))\n",
        "                    euclideanAlgoGCDm3(halfExponentiation + 1, module)          // O(log(n))\n",
        "                );\n",
        "                return (true, (factor, module / factor));                       // O(1)\n",
        "            } else {                                                            // O(1)\n",
        "                return (false, (1,1));                                          // O(1)\n",
        "            }\n",
        "        } else {                                                                // O(1)\n",
        "        return(false, (1,1));                                                   // O(1)\n",
        "        } \n",
        "    }"
      ],
      "outputs": [
        {
          "output_type": "execute_result",
          "execution_count": 9,
          "data": {
            "text/plain": "possibleFactorsR",
            "text/html": "<ul><li>possibleFactorsR</li></ul>",
            "application/x-qsharp-data": "[\"possibleFactorsR\"]"
          },
          "metadata": {
            "text/plain": {},
            "text/html": {},
            "application/x-qsharp-data": {}
          }
        }
      ],
      "execution_count": 9,
      "metadata": {
        "jupyter": {
          "outputs_hidden": false,
          "source_hidden": false
        },
        "nteract": {
          "transient": {
            "deleting": false
          }
        }
      }
    },
    {
      "cell_type": "markdown",
      "source": [
        "## Multiplicador de un entero modular\n",
        "### Fase 3: Parte cuántica\n",
        "1. Realiza la multiplicación modular por una constante entera en un registro qubit.\n",
        "2. Dado un estado de un Qubi, se multiplica una constante y por el modulo de N.\n",
        "3. Entonces la operación implementa una operación unitaria definida por:\n",
        "\n",
        "|y⟩↦|(a⋅y) mod N⟩\n",
        "\n",
        "4. Ejecutar el algoritmo de estimación de fase cuántica para el calculo entre el registro de almacenamiento y computacional.\n",
        "5. Fin"
      ],
      "metadata": {
        "nteract": {
          "transient": {
            "deleting": false
          }
        }
      }
    },
    {
      "cell_type": "code",
      "source": [
        "operation applyFindingOracle (randomGenerator : Int, module: Int, power : Int, target: Qubit[] ) : Unit is Adj + Ctl{\n",
        "                                                                                                                        // Complejidad algorítmica: O(1), O(log²(n))\n",
        "        Fact(IsCoprimeI(randomGenerator,module),\"El número aleatorio es `randomGenerator`, y el modulo es `module`.\");  // O(1)\n",
        "        // Realización de una multiplicación modular por una constante entera en un registro qubit.\n",
        "        MultiplyByModularInteger(ExpModI(randomGenerator, power, module),module, LittleEndian(target));                 // O(log²(n))\n",
        "    }"
      ],
      "outputs": [
        {
          "output_type": "execute_result",
          "execution_count": 10,
          "data": {
            "text/plain": "applyFindingOracle",
            "text/html": "<ul><li>applyFindingOracle</li></ul>",
            "application/x-qsharp-data": "[\"applyFindingOracle\"]"
          },
          "metadata": {
            "text/plain": {},
            "text/html": {},
            "application/x-qsharp-data": {}
          }
        }
      ],
      "execution_count": 10,
      "metadata": {
        "jupyter": {
          "outputs_hidden": false,
          "source_hidden": false
        },
        "nteract": {
          "transient": {
            "deleting": false
          }
        }
      }
    },
    {
      "cell_type": "markdown",
      "source": [
        "# Función convergente de fracción continua\n",
        "Encuentra la fracción continua convergente más cercana a la fracción con el denominador menor o igual al limite del denominador, además, se implementa el calculo del máximo común divisor.\n"
      ],
      "metadata": {
        "nteract": {
          "transient": {
            "deleting": false
          }
        }
      }
    },
    {
      "cell_type": "code",
      "source": [
        "operation periodFrequency (module : Int, frequencyEstimation : Int, bitsPrecision: Int, currentDivisor: Int) : Int {    \n",
        "                                                                                                                    // Complejidad algorítmica: O(4) = O(1), O(log(n)) + O(1/(log(n))) = O(log(n)) \n",
        "        let (s, r) = (ContinuedFractionConvergentI(Fraction(frequencyEstimation, 2 ^ bitsPrecision), module))!;     // O(log(n)) \n",
        "        let (sAbsolute, rAbsolute) = (AbsI(s), AbsI(r));                                                            // O(2)\n",
        "        //  Calcula el máximo común divisor de dos enteros (se llama al método 3 de implementación del GCD).\n",
        "        return (rAbsolute * currentDivisor) / euclideanAlgoGCDm3(currentDivisor, rAbsolute);                        // O(1/(log(n)))\n",
        "    } "
      ],
      "outputs": [
        {
          "output_type": "execute_result",
          "execution_count": 11,
          "data": {
            "text/plain": "periodFrequency",
            "text/html": "<ul><li>periodFrequency</li></ul>",
            "application/x-qsharp-data": "[\"periodFrequency\"]"
          },
          "metadata": {
            "text/plain": {},
            "text/html": {},
            "application/x-qsharp-data": {}
          }
        }
      ],
      "execution_count": 11,
      "metadata": {
        "jupyter": {
          "outputs_hidden": false,
          "source_hidden": false
        },
        "nteract": {
          "transient": {
            "deleting": false
          }
        }
      }
    },
    {
      "cell_type": "markdown",
      "source": [
        "## Estimación de la frecuencia\n",
        "Esta función realiza la multiplicación de un entero modular a partir de la sumatoria del registro computacional más el registro de almacenamiento desde 0 hasta n bits.\n",
        "\n",
        "1. Se determina los bits de precisión\n",
        "2. Se crea una cadena de bits cuánticos de valores propios correspondientes a un vector.\n",
        "3. Se crea una variable de registro para la codificación de valores con índice 0 (el bit más bajo de un entero sin signo).\n",
        "4. Aplicación de la operación XOR al registro de los valores propios basados en el entero 1.\n",
        "\n",
        "|y⟩→|y⊕a⟩\n",
        "\n",
        "5. Se recorre el indicé de los bits de precisión\n",
        "    + Dentro de cada valor con un bit cuántico en superposición, se alplica una rotación sobre el estado |1⟩.\n",
        "\n",
        "R1(n,k):=diag(1,e^(iπk/2n))\n",
        "\n",
        "6. Si el valor de la medición se encuentra en la base Z es igual a 1\n",
        "    + Se reestablece al estado inicial después de la medición\n",
        "    + Se asigna la frecuencia de estimación\n",
        "7. Se resetean los valores propio.\n",
        "8. se retorna el valor de la frecuencia.\n",
        "9. Fin\n",
        "\n",
        "  \n",
        "    "
      ],
      "metadata": {
        "nteract": {
          "transient": {
            "deleting": false
          }
        }
      }
    },
    {
      "cell_type": "code",
      "source": [
        "operation EstimateFrequencyValue (randomGenerator : Int, module: Int, bits : Int) : Int { \n",
        "                                                                                            // Complejidad algorítmica: O(12) = O(1), O(n) + O(n) + O(log²(n)) = O(log²(n))\n",
        "        mutable frequencyEstimation = 0;                                                    // O(1)\n",
        "        \n",
        "        let bitsPrecision = 2 * bits + 1;                                                   // O(1)\n",
        "\n",
        "        use eigenStateRegister = Qubit[bits];                                               // O(1)\n",
        "        \n",
        "        let eigenStateRegisterLittleEndian = LittleEndian(eigenStateRegister);              // O(1)\n",
        "\n",
        "        // Aplicando una operación XOR entre un entero clásico y un entero representado por un registro de qubits.\n",
        "        ApplyXorInPlace(1, eigenStateRegisterLittleEndian);                                 // O(n) // Suma de n registros\n",
        "        let oracle = applyFindingOracle(randomGenerator, module, _, _);                     // O(log²(n))\n",
        "\n",
        "        use a = Qubit();                                                                    // O(1)\n",
        "\n",
        "        for index in bitsPrecision -1..-1..0 {                                              // O(n)\n",
        "            within {\n",
        "                H(a);                                                                       // O(1)\n",
        "            } apply {\n",
        "                Controlled oracle([a], (1 <<< index, eigenStateRegisterLittleEndian!));     // O(1)      \n",
        "                // Aplicar una rotación sobre el estado |1> por un ángulo especificado como una fracción diádica.\n",
        "                R1Frac(frequencyEstimation, bitsPrecision - 1 - index, a);                  // O(1)\n",
        "            } if MResetZ(a) == One {                                                        // O(1)\n",
        "                set frequencyEstimation += 1 <<< (bitsPrecision - 1 - index);               // O(1)\n",
        "            }\n",
        "        }\n",
        "        // Mide los qubits y se asegura de que estén en el estado |0⟩ para que puedan liberarse de forma segura.\n",
        "        ResetAll(eigenStateRegister);                                                       // O(1)\n",
        "        return frequencyEstimation;                                                         // O(1)\n",
        "    }"
      ],
      "outputs": [
        {
          "output_type": "execute_result",
          "execution_count": 12,
          "data": {
            "text/plain": "EstimateFrequencyValue",
            "text/html": "<ul><li>EstimateFrequencyValue</li></ul>",
            "application/x-qsharp-data": "[\"EstimateFrequencyValue\"]"
          },
          "metadata": {
            "text/plain": {},
            "text/html": {},
            "application/x-qsharp-data": {}
          }
        }
      ],
      "execution_count": 12,
      "metadata": {
        "jupyter": {
          "outputs_hidden": false,
          "source_hidden": false
        },
        "nteract": {
          "transient": {
            "deleting": false
          }
        }
      }
    },
    {
      "cell_type": "markdown",
      "source": [
        "## Algoritmo de estimación de fase\n",
        "En este apartado se identifican los eigenvalues de operadores unitarios, dado un operador unitario U y un estado |ϕ⟩ tal que |ϕ⟩ es un autoestado de U con un eigenvalue desconocido ϕ, a este problema se le conoce como estimación de fase.\n",
        "\n",
        "U|ϕ⟩=ϕ|ϕ⟩\n",
        "\n",
        "1. Revisar si una condición clásica es verdadera.\n",
        "    + Se revisa si el número aleatorio y el módulo son coprimos entre sí.\n",
        "2. Se almacena el resultado de la estimación de fase dentro de una variable muteable.\n",
        "3. Si la estimación de frecuencia es diferente de 0, entonces se asigna el valor del periodo con los valores determinados.\n",
        "4. Si la estimación de frecuencia es igual a 0, se notifica al usuario.\n",
        "5. Se retorna el valor.\n",
        "6. Fin\n",
        "\n",
        "\n",
        " "
      ],
      "metadata": {
        "nteract": {
          "transient": {
            "deleting": false
          }
        }
      }
    },
    {
      "cell_type": "code",
      "source": [
        "operation phaseEstimation (randomGenerator: Int, module: Int ) : Int {\n",
        "                                                                                                                        // Complejidad algorítmica: O(9) = O(1), O(n) +  O(log(n)) + O(log²(n)) = O(log²(n)) \n",
        "        Fact(IsCoprimeI(randomGenerator,module),\"El numero aleatorio es `randomGenerator` y el modulo es `module`.\");   // O(1)\n",
        "\n",
        "        mutable result = 1;                                                                                             // O(1)\n",
        "\n",
        "        let bits = BitSizeI(module);                                                                                    // O(n) // a < 2^n     \n",
        "\n",
        "        let bitsPrecision = 2 * bits + 1;                                                                               // O(1)\n",
        "\n",
        "        mutable frequencyEstimation = 0;                                                                                // O(1)\n",
        "\n",
        "        set frequencyEstimation = EstimateFrequencyValue(randomGenerator, module,bits);                                 // O(log²(n))\n",
        "        \n",
        "        if  frequencyEstimation != 0 {                                                                                  // O(1)\n",
        "            set result = periodFrequency (module, frequencyEstimation, bitsPrecision, result);                          // O(log(n))\n",
        "        } else {                                                                                                        // O(1)\n",
        "            Message(\"La frecuencia estimada tiene el valor 0.\");                                                        // O(1)\n",
        "        }\n",
        "        return result;                                                                                                  // O(1)\n",
        "    }"
      ],
      "outputs": [
        {
          "output_type": "execute_result",
          "execution_count": 13,
          "data": {
            "text/plain": "phaseEstimation",
            "text/html": "<ul><li>phaseEstimation</li></ul>",
            "application/x-qsharp-data": "[\"phaseEstimation\"]"
          },
          "metadata": {
            "text/plain": {},
            "text/html": {},
            "application/x-qsharp-data": {}
          }
        }
      ],
      "execution_count": 13,
      "metadata": {
        "jupyter": {
          "outputs_hidden": false,
          "source_hidden": false
        },
        "nteract": {
          "transient": {
            "deleting": false
          }
        }
      }
    },
    {
      "cell_type": "markdown",
      "source": [
        "## Prueba de implementación del algoritmo Shor\n",
        "1. Se determina si el número es par\n",
        "    + Si el número es par, se calcula n/2\n",
        "2. Se establecen los factores predeterminados\n",
        "3. Hasta que los valores de los factores esten establecidos, verificar si el número aleatorio y el número primo son coprimos:\n",
        "    + Calcular el orden por medio de la estimación de fase.\n",
        "    + Asignar los valores por defecto a los posibles factores encontrados.\n",
        "4. Si no son coprimos, ejecutar el algoritmo de euclides directamente.\n",
        "5. Si la condición es diferente, se bloquea y continua la iteración.\n",
        "6. Se retornan los factores.\n",
        "7. Fin\n"
      ],
      "metadata": {
        "nteract": {
          "transient": {
            "deleting": false
          }
        }
      }
    },
    {
      "cell_type": "code",
      "source": [
        "operation shorImplementatonTest (n: Int): (Int, Int) {\n",
        "                                                                                                // Complejidad algorítmica: O(16) = O(1)+O(n)[log²(n)+ log(n)+log(n)]=O(nlog²(n))\n",
        "        if n % 2 == 0 {                                                                         // O(1)\n",
        "            // Comprobar si hay un número par.\n",
        "            Message(\"Caso trivial: El número es par.\");                                         // O(1)\n",
        "            return (n/2, 2);                                                                    // O(1)\n",
        "        }\n",
        "        \n",
        "        // Configura los factores desconocidos y establece los valores predeterminados.\n",
        "        mutable setUpFactors = false;                                                           // O(1)\n",
        "        mutable defaultFactors = (1,1);                                                         // O(2)\n",
        "\n",
        "    \n",
        "        repeat {                                                                                // O(n)\n",
        "            let randomGenerator = randomNumberRange(2, n - 1);                                  // O(1)\n",
        "            // DrawRandomInt \n",
        "            // Casos:  IBM(2, N-1),  MICROSOT(1 < a < N-1)\n",
        "            if IsCoprimeI (randomGenerator,n) {                                                 // O(1)\n",
        "                Message($\"Número aleatorio: {randomGenerator}\");                                // O(1)\n",
        "                let r = phaseEstimation(randomGenerator, n);                                    // O(log²(n))\n",
        "                set (setUpFactors,defaultFactors) = possibleFactorsR(n, randomGenerator, r);    // O(log(n))\n",
        "            }  else {                                                                           // O(1)\n",
        "                let GCD = euclideanAlgoGCDm3(n,randomGenerator);                                // O(log(n))\n",
        "                Message($\"Divisor optenido: {n}, GCD: {GCD}.\");                                 // O(1)\n",
        "                set setUpFactors = true;                                                        // O(1)\n",
        "                set defaultFactors = (GCD, n/ GCD);                                             // O(1)\n",
        "            }\n",
        "        } until setUpFactors                                                                    // O(1)\n",
        "        fixup {                                                                                 // O(1)\n",
        "        Message(\"La estimación del periodo no retorna un factor valido.\");                      // O(1)\n",
        "        }\n",
        "        return defaultFactors;                                                                  // O(1)\n",
        "    }"
      ],
      "outputs": [
        {
          "output_type": "execute_result",
          "execution_count": 14,
          "data": {
            "text/plain": "shorImplementatonTest",
            "text/html": "<ul><li>shorImplementatonTest</li></ul>",
            "application/x-qsharp-data": "[\"shorImplementatonTest\"]"
          },
          "metadata": {
            "text/plain": {},
            "text/html": {},
            "application/x-qsharp-data": {}
          }
        }
      ],
      "execution_count": 14,
      "metadata": {
        "jupyter": {
          "outputs_hidden": false,
          "source_hidden": false
        },
        "nteract": {
          "transient": {
            "deleting": false
          }
        }
      }
    },
    {
      "cell_type": "code",
      "source": [
        "%simulate shorImplementatonTest n=15"
      ],
      "outputs": [
        {
          "output_type": "stream",
          "name": "stdout",
          "text": "Número aleatorio entre 2 y 14: \nGCD de 15 y 6:\nNuevo intento.\nGCD de 9 y 6:\nNuevo intento.\nDivisor optenido: 15, GCD: 3.\n"
        },
        {
          "output_type": "execute_result",
          "execution_count": 22,
          "data": {
            "text/plain": "(3, 5)",
            "application/x-qsharp-data": "{\"@type\":\"@tuple\",\"Item1\":3,\"Item2\":5}"
          },
          "metadata": {
            "text/plain": {},
            "application/x-qsharp-data": {}
          }
        }
      ],
      "execution_count": 22,
      "metadata": {
        "jupyter": {
          "outputs_hidden": false,
          "source_hidden": false
        },
        "nteract": {
          "transient": {
            "deleting": false
          }
        }
      }
    },
    {
      "cell_type": "code",
      "source": [
        "%simulate shorImplementatonTest n=15"
      ],
      "outputs": [
        {
          "output_type": "stream",
          "name": "stdout",
          "text": "Número aleatorio entre 2 y 14: \nNúmero aleatorio: 11\nGCD de 10 y 5:\nNuevo intento.\nGCD de 12 y 3:\nNuevo intento.\nGCD de 9 y 3:\nNuevo intento.\nGCD de 6 y 3:\nNuevo intento.\n"
        },
        {
          "output_type": "execute_result",
          "execution_count": 29,
          "data": {
            "text/plain": "(5, 3)",
            "application/x-qsharp-data": "{\"@type\":\"@tuple\",\"Item1\":5,\"Item2\":3}"
          },
          "metadata": {
            "text/plain": {},
            "application/x-qsharp-data": {}
          }
        }
      ],
      "execution_count": 29,
      "metadata": {
        "jupyter": {
          "outputs_hidden": false,
          "source_hidden": false
        },
        "nteract": {
          "transient": {
            "deleting": false
          }
        }
      }
    },
    {
      "cell_type": "code",
      "source": [
        "%simulate shorImplementatonTest n=15"
      ],
      "outputs": [
        {
          "output_type": "stream",
          "name": "stdout",
          "text": "Número aleatorio entre 2 y 14: \nGCD de 15 y 3:\nNuevo intento.\nGCD de 12 y 3:\nNuevo intento.\nGCD de 9 y 3:\nNuevo intento.\nGCD de 6 y 3:\nNuevo intento.\nDivisor optenido: 15, GCD: 3.\n"
        },
        {
          "output_type": "execute_result",
          "execution_count": 30,
          "data": {
            "text/plain": "(3, 5)",
            "application/x-qsharp-data": "{\"@type\":\"@tuple\",\"Item1\":3,\"Item2\":5}"
          },
          "metadata": {
            "text/plain": {},
            "application/x-qsharp-data": {}
          }
        }
      ],
      "execution_count": 30,
      "metadata": {
        "jupyter": {
          "outputs_hidden": false,
          "source_hidden": false
        },
        "nteract": {
          "transient": {
            "deleting": false
          }
        }
      }
    },
    {
      "cell_type": "code",
      "source": [
        "%simulate shorImplementatonTest n=21"
      ],
      "outputs": [
        {
          "output_type": "stream",
          "name": "stdout",
          "text": "Número aleatorio entre 2 y 20: \nGCD de 21 y 3:\nNuevo intento.\nGCD de 18 y 3:\nNuevo intento.\nGCD de 15 y 3:\nNuevo intento.\nGCD de 12 y 3:\nNuevo intento.\nGCD de 9 y 3:\nNuevo intento.\nGCD de 6 y 3:\nNuevo intento.\nDivisor optenido: 21, GCD: 3.\n"
        },
        {
          "output_type": "execute_result",
          "execution_count": 33,
          "data": {
            "text/plain": "(3, 7)",
            "application/x-qsharp-data": "{\"@type\":\"@tuple\",\"Item1\":3,\"Item2\":7}"
          },
          "metadata": {
            "text/plain": {},
            "application/x-qsharp-data": {}
          }
        }
      ],
      "execution_count": 33,
      "metadata": {
        "jupyter": {
          "outputs_hidden": false,
          "source_hidden": false
        },
        "nteract": {
          "transient": {
            "deleting": false
          }
        }
      }
    },
    {
      "cell_type": "code",
      "source": [
        "%simulate shorImplementatonTest n=21"
      ],
      "outputs": [
        {
          "output_type": "stream",
          "name": "stdout",
          "text": "Número aleatorio entre 2 y 20: \nGCD de 21 y 6:\nNuevo intento.\nGCD de 15 y 6:\nNuevo intento.\nGCD de 9 y 6:\nNuevo intento.\nDivisor optenido: 21, GCD: 3.\n"
        },
        {
          "output_type": "execute_result",
          "execution_count": 38,
          "data": {
            "text/plain": "(3, 7)",
            "application/x-qsharp-data": "{\"@type\":\"@tuple\",\"Item1\":3,\"Item2\":7}"
          },
          "metadata": {
            "text/plain": {},
            "application/x-qsharp-data": {}
          }
        }
      ],
      "execution_count": 38,
      "metadata": {
        "jupyter": {
          "source_hidden": false,
          "outputs_hidden": false
        },
        "nteract": {
          "transient": {
            "deleting": false
          }
        }
      }
    },
    {
      "cell_type": "code",
      "source": [
        "%simulate shorImplementatonTest n=21"
      ],
      "outputs": [
        {
          "output_type": "stream",
          "name": "stdout",
          "text": "Número aleatorio entre 2 y 20: \nNúmero aleatorio: 5\nGCD de 4 y 1:\nNuevo intento.\nGCD de 3 y 1:\nNuevo intento.\nGCD de 2 y 1:\nNuevo intento.\nGCD de 6 y 3:\nNuevo intento.\n"
        },
        {
          "output_type": "execute_result",
          "execution_count": 39,
          "data": {
            "text/plain": "(3, 7)",
            "application/x-qsharp-data": "{\"@type\":\"@tuple\",\"Item1\":3,\"Item2\":7}"
          },
          "metadata": {
            "text/plain": {},
            "application/x-qsharp-data": {}
          }
        }
      ],
      "execution_count": 39,
      "metadata": {
        "jupyter": {
          "source_hidden": false,
          "outputs_hidden": false
        },
        "nteract": {
          "transient": {
            "deleting": false
          }
        }
      }
    },
    {
      "cell_type": "code",
      "source": [
        "%simulate shorImplementatonTest n=95"
      ],
      "outputs": [
        {
          "output_type": "stream",
          "name": "stdout",
          "text": "Número aleatorio entre 2 y 94: \nGCD de 95 y 55:\nNuevo intento.\nGCD de 40 y 15:\nNuevo intento.\nGCD de 25 y 15:\nNuevo intento.\nGCD de 10 y 5:\nNuevo intento.\nDivisor optenido: 95, GCD: 5.\n"
        },
        {
          "output_type": "execute_result",
          "execution_count": 40,
          "data": {
            "text/plain": "(5, 19)",
            "application/x-qsharp-data": "{\"@type\":\"@tuple\",\"Item1\":5,\"Item2\":19}"
          },
          "metadata": {
            "text/plain": {},
            "application/x-qsharp-data": {}
          }
        }
      ],
      "execution_count": 40,
      "metadata": {
        "jupyter": {
          "outputs_hidden": false,
          "source_hidden": false
        },
        "nteract": {
          "transient": {
            "deleting": false
          }
        }
      }
    },
    {
      "cell_type": "code",
      "source": [
        "%simulate shorImplementatonTest n=95"
      ],
      "outputs": [
        {
          "output_type": "stream",
          "name": "stdout",
          "text": "Número aleatorio entre 2 y 94: \nNúmero aleatorio: 62\nLa estimación del periodo no retorna un factor valido.\nNúmero aleatorio entre 2 y 94: \nNúmero aleatorio: 66\nLa estimación del periodo no retorna un factor valido.\nNúmero aleatorio entre 2 y 94: \nNúmero aleatorio: 63\nGCD de 38 y 19:\nNuevo intento.\nGCD de 40 y 15:\nNuevo intento.\nGCD de 25 y 15:\nNuevo intento.\nGCD de 10 y 5:\nNuevo intento.\n"
        },
        {
          "output_type": "execute_result",
          "execution_count": 41,
          "data": {
            "text/plain": "(19, 5)",
            "application/x-qsharp-data": "{\"@type\":\"@tuple\",\"Item1\":19,\"Item2\":5}"
          },
          "metadata": {
            "text/plain": {},
            "application/x-qsharp-data": {}
          }
        }
      ],
      "execution_count": 41,
      "metadata": {
        "jupyter": {
          "source_hidden": false,
          "outputs_hidden": false
        },
        "nteract": {
          "transient": {
            "deleting": false
          }
        }
      }
    },
    {
      "cell_type": "code",
      "source": [
        "%simulate shorImplementatonTest n=95"
      ],
      "outputs": [
        {
          "output_type": "stream",
          "name": "stdout",
          "text": "Número aleatorio entre 2 y 94: \nNúmero aleatorio: 27\nGCD de 38 y 19:\nNuevo intento.\nGCD de 40 y 15:\nNuevo intento.\nGCD de 25 y 15:\nNuevo intento.\nGCD de 10 y 5:\nNuevo intento.\n"
        },
        {
          "output_type": "execute_result",
          "execution_count": 42,
          "data": {
            "text/plain": "(19, 5)",
            "application/x-qsharp-data": "{\"@type\":\"@tuple\",\"Item1\":19,\"Item2\":5}"
          },
          "metadata": {
            "text/plain": {},
            "application/x-qsharp-data": {}
          }
        }
      ],
      "execution_count": 42,
      "metadata": {
        "jupyter": {
          "source_hidden": false,
          "outputs_hidden": false
        },
        "nteract": {
          "transient": {
            "deleting": false
          }
        }
      }
    },
    {
      "cell_type": "code",
      "source": [
        "%simulate shorImplementatonTest n=958"
      ],
      "outputs": [
        {
          "output_type": "stream",
          "name": "stdout",
          "text": "Caso trivial: El número es par.\n"
        },
        {
          "output_type": "execute_result",
          "execution_count": 15,
          "data": {
            "text/plain": "(479, 2)",
            "application/x-qsharp-data": "{\"@type\":\"@tuple\",\"Item1\":479,\"Item2\":2}"
          },
          "metadata": {
            "text/plain": {},
            "application/x-qsharp-data": {}
          }
        }
      ],
      "execution_count": 15,
      "metadata": {
        "jupyter": {
          "source_hidden": false,
          "outputs_hidden": false
        },
        "nteract": {
          "transient": {
            "deleting": false
          }
        }
      }
    },
    {
      "cell_type": "code",
      "source": [
        "%simulate shorImplementatonTest n=958"
      ],
      "outputs": [
        {
          "output_type": "stream",
          "name": "stdout",
          "text": "Caso trivial: El número es par.\n"
        },
        {
          "output_type": "execute_result",
          "execution_count": 16,
          "data": {
            "text/plain": "(479, 2)",
            "application/x-qsharp-data": "{\"@type\":\"@tuple\",\"Item1\":479,\"Item2\":2}"
          },
          "metadata": {
            "text/plain": {},
            "application/x-qsharp-data": {}
          }
        }
      ],
      "execution_count": 16,
      "metadata": {
        "jupyter": {
          "source_hidden": false,
          "outputs_hidden": false
        },
        "nteract": {
          "transient": {
            "deleting": false
          }
        }
      }
    },
    {
      "cell_type": "code",
      "source": [
        "%simulate shorImplementatonTest n=998"
      ],
      "outputs": [
        {
          "output_type": "stream",
          "name": "stdout",
          "text": "Caso trivial: El número es par.\n"
        },
        {
          "output_type": "execute_result",
          "execution_count": 17,
          "data": {
            "text/plain": "(499, 2)",
            "application/x-qsharp-data": "{\"@type\":\"@tuple\",\"Item1\":499,\"Item2\":2}"
          },
          "metadata": {
            "text/plain": {},
            "application/x-qsharp-data": {}
          }
        }
      ],
      "execution_count": 17,
      "metadata": {
        "jupyter": {
          "source_hidden": false,
          "outputs_hidden": false
        },
        "nteract": {
          "transient": {
            "deleting": false
          }
        }
      }
    },
    {
      "cell_type": "code",
      "source": [
        "%simulate shorImplementatonTest n=1059"
      ],
      "outputs": [
        {
          "output_type": "stream",
          "name": "stdout",
          "text": "Número aleatorio entre 2 y 1058: \nNúmero aleatorio: 50\n"
        }
      ],
      "execution_count": 18,
      "metadata": {
        "jupyter": {
          "source_hidden": false,
          "outputs_hidden": false
        },
        "nteract": {
          "transient": {
            "deleting": false
          }
        }
      }
    },
    {
      "attachments": {},
      "cell_type": "markdown",
      "source": [
        "## Conclusiones\n",
        "1. Según el código previo, la complejidad computacional temporal es O(nlog²(n)).\n",
        "Esto debido a las distintas repeticiones a evaluar en un número aleatorio.\n",
        "2. Según el código previo, la complejidad computacional espacial es O(log²(n)).\n",
        "Esto debido a la cantidad de veces que recorre la celda de la multiplicación modular."
      ],
      "metadata": {
        "nteract": {
          "transient": {
            "deleting": false
          }
        }
      }
    }
  ],
  "metadata": {
    "kernel_info": {
      "name": "iqsharp"
    },
    "kernelspec": {
      "name": "iqsharp",
      "language": "qsharp",
      "display_name": "Q#"
    },
    "language_info": {
      "name": "qsharp",
      "version": "0.27",
      "mimetype": "text/x-qsharp",
      "file_extension": ".qs"
    },
    "nteract": {
      "version": "nteract-front-end@1.0.0"
    }
  },
  "nbformat": 4,
  "nbformat_minor": 0
}