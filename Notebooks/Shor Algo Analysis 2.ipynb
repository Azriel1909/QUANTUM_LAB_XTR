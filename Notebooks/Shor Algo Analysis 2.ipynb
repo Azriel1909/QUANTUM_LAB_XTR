{
  "cells": [
    {
      "cell_type": "markdown",
      "source": [
        "# Suscripción de Azure Quantum\n",
        "### Conexión al espacio de trabajo de Azure Quantum"
      ],
      "metadata": {
        "nteract": {
          "transient": {
            "deleting": false
          }
        }
      }
    },
    {
      "cell_type": "code",
      "source": [
        "%azure.connect \"/subscriptions/b3ed2c3e-e784-4a4e-9474-a3d279d2f9e4/resourceGroups/AzureQuantum/providers/Microsoft.Quantum/Workspaces/LaboratorioQuantum-Ximena-Toledo-RIvera\" location=\"eastus\"\n"
      ],
      "outputs": [
        {
          "output_type": "display_data",
          "data": {
            "text/plain": "",
            "application/x-qsharp-data": "\"\""
          },
          "metadata": {
            "text/plain": {},
            "application/x-qsharp-data": {}
          }
        },
        {
          "output_type": "stream",
          "name": "stdout",
          "text": "Authenticated using Microsoft.Azure.Quantum.Authentication.TokenFileCredential\n\n\nConnected to Azure Quantum workspace LaboratorioQuantum-Ximena-Toledo-RIvera in location eastus.\n"
        },
        {
          "output_type": "execute_result",
          "execution_count": 9,
          "data": {
            "text/plain": "Target ID             Current Availability Average Queue Time (Seconds)\n--------------------- --------- -\nmicrosoft.estimator   Available 0\nrigetti.sim.qvm       Available 5\nrigetti.qpu.aspen-m-2 Available 5\nrigetti.qpu.aspen-m-3 Degraded  5\n",
            "text/html": "<table><thead><tr><th style=\"text-align: start;\">Target ID</th><th style=\"text-align: start;\">Current Availability</th><th style=\"text-align: start;\">Average Queue Time (Seconds)</th></tr></thead><tbody><tr><td style=\"text-align: start;\">microsoft.estimator</td><td style=\"text-align: start;\">Available</td><td style=\"text-align: start;\">0</td></tr><tr><td style=\"text-align: start;\">rigetti.sim.qvm</td><td style=\"text-align: start;\">Available</td><td style=\"text-align: start;\">5</td></tr><tr><td style=\"text-align: start;\">rigetti.qpu.aspen-m-2</td><td style=\"text-align: start;\">Available</td><td style=\"text-align: start;\">5</td></tr><tr><td style=\"text-align: start;\">rigetti.qpu.aspen-m-3</td><td style=\"text-align: start;\">Degraded</td><td style=\"text-align: start;\">5</td></tr></tbody></table>",
            "application/x-qsharp-data": "[{\"id\":\"microsoft.estimator\",\"current_availability\":{},\"average_queue_time\":0},{\"id\":\"rigetti.sim.qvm\",\"current_availability\":{},\"average_queue_time\":5},{\"id\":\"rigetti.qpu.aspen-m-2\",\"current_availability\":{},\"average_queue_time\":5},{\"id\":\"rigetti.qpu.aspen-m-3\",\"current_availability\":{},\"average_queue_time\":5}]"
          },
          "metadata": {
            "text/plain": {},
            "text/html": {},
            "application/x-qsharp-data": {}
          }
        }
      ],
      "execution_count": 9,
      "metadata": {
        "jupyter": {
          "outputs_hidden": false,
          "source_hidden": false
        },
        "nteract": {
          "transient": {
            "deleting": false
          }
        }
      }
    },
    {
      "cell_type": "markdown",
      "source": [
        "# Implementación del Algoritmo de Shor\n",
        "## Fase 1 \n",
        "1. Invocación de bibliotecas necesarias.\n",
        "2. Creación de un generador de números pseudoaleatorios.\n",
        "    + Se inicializa un bit cuántico.\n",
        "    + Se coloca en superposición.\n",
        "    + Se somete al proceso de medición.\n",
        "    + Se retorna el resultado.\n"
      ],
      "metadata": {
        "nteract": {
          "transient": {
            "deleting": false
          }
        }
      }
    },
    {
      "cell_type": "code",
      "source": [
        "open Microsoft.Quantum.Canon;\n",
        "open Microsoft.Quantum.Intrinsic;\n",
        "open Microsoft.Quantum.Measurement;\n",
        "open Microsoft.Quantum.Math;\n",
        "open Microsoft.Quantum.Convert;\n",
        "open Microsoft.Quantum.Arithmetic;\n",
        "open Microsoft.Quantum.Oracles;\n",
        "open Microsoft.Quantum.Random;\n",
        "open Microsoft.Quantum.Diagnostics;\n",
        "open Microsoft.Quantum.Characterization;\n",
        "\n",
        "operation ramdomNumberGeneratorTest() : Result {// Complejidad algorítmica: O(10) = O(1)   \n",
        "        use q1 = Qubit();                       // O(1)\n",
        "        Message(\"Estado inicial de Qubit:\");    // O(1)\n",
        "        DumpMachine();                          // O(1)\n",
        "        H(q1);                                  // O(1)\n",
        "        Message(\"Estado de superpocision:\");    // O(1)\n",
        "        DumpMachine();                          // O(1)\n",
        "        let measuredQubit = M(q1);              // O(1)\n",
        "        Message(\"Proceso de medicion:\");        // O(1)\n",
        "        DumpMachine();                          // O(1)\n",
        "        return measuredQubit;                   // O(1)\n",
        "    }\n"
      ],
      "outputs": [
        {
          "output_type": "execute_result",
          "execution_count": 10,
          "data": {
            "text/plain": "ramdomNumberGeneratorTest",
            "text/html": "<ul><li>ramdomNumberGeneratorTest</li></ul>",
            "application/x-qsharp-data": "[\"ramdomNumberGeneratorTest\"]"
          },
          "metadata": {
            "text/plain": {},
            "text/html": {},
            "application/x-qsharp-data": {}
          }
        }
      ],
      "execution_count": 10,
      "metadata": {
        "jupyter": {
          "outputs_hidden": false,
          "source_hidden": false
        },
        "nteract": {
          "transient": {
            "deleting": false
          }
        }
      }
    },
    {
      "cell_type": "code",
      "source": [
        "%simulate ramdomNumberGeneratorTest"
      ],
      "outputs": [
        {
          "output_type": "stream",
          "name": "stdout",
          "text": "Estado inicial de Qubit:\n"
        },
        {
          "output_type": "display_data",
          "data": {
            "text/plain": "|0⟩\t1 + 0𝑖\n|1⟩\t0 + 0𝑖",
            "text/html": "\r\n                    <table style=\"table-layout: fixed; width: 100%\">\r\n                        <thead>\r\n                            \r\n                        <tr>\r\n                            <th>Qubit IDs</th>\r\n                            <td span=\"3\">0</td>\r\n                        </tr>\r\n                    \r\n                            <tr>\r\n                                <th style=\"width: 20ch)\">Basis state (little endian)</th>\r\n                                <th style=\"width: 20ch\">Amplitude</th><th style=\"width: calc(100% - 26ch - 20ch)\">Meas. Pr.</th><th style=\"width: 6ch\">Phase</th>\r\n                            </tr>\r\n                        </thead>\r\n                        <tbody>\r\n                        \r\n                            <tr>\r\n                                <td>$\\left|0\\right\\rangle$</td>\r\n                                <td>$1.0000 + 0.0000 i$</td>\r\n                                \r\n                                <td>\r\n                                    <progress\r\n                                        max=\"100\"\r\n                                        value=\"100\"\r\n                                        style=\"width: 100%;\"\r\n                                    > \r\n                                    <td>\r\n                                    <p id=\"round-90f28e75-8f97-4e9e-bd45-868becaf1a32\"> \r\n                                    <script>\r\n                                    var num = 100;\r\n                                    num = num.toFixed(4);\r\n                                    var num_string = num + \"%\";\r\n                                     document.getElementById(\"round-90f28e75-8f97-4e9e-bd45-868becaf1a32\").innerHTML = num_string;\r\n                                    </script> </p>\r\n                                    </td>\r\n                                </td>\r\n                            \r\n                                \r\n                                <td style=\"transform: rotate(0deg);\r\n                   text-align: center;\">\r\n                                 ↑\r\n                                </td>\r\n                            \r\n                            </tr>\r\n                        \n\r\n                            <tr>\r\n                                <td>$\\left|1\\right\\rangle$</td>\r\n                                <td>$0.0000 + 0.0000 i$</td>\r\n                                \r\n                                <td>\r\n                                    <progress\r\n                                        max=\"100\"\r\n                                        value=\"0\"\r\n                                        style=\"width: 100%;\"\r\n                                    > \r\n                                    <td>\r\n                                    <p id=\"round-4cf27f7e-7307-44bf-ba00-a0a2df3a9d25\"> \r\n                                    <script>\r\n                                    var num = 0;\r\n                                    num = num.toFixed(4);\r\n                                    var num_string = num + \"%\";\r\n                                     document.getElementById(\"round-4cf27f7e-7307-44bf-ba00-a0a2df3a9d25\").innerHTML = num_string;\r\n                                    </script> </p>\r\n                                    </td>\r\n                                </td>\r\n                            \r\n                                \r\n                                <td style=\"transform: rotate(0deg);\r\n                   text-align: center;\">\r\n                                 ↑\r\n                                </td>\r\n                            \r\n                            </tr>\r\n                        \r\n                        </tbody>\r\n                    </table>",
            "application/x-qsharp-data": "{\"diagnostic_kind\":\"state-vector\",\"qubit_ids\":[0],\"n_qubits\":1,\"amplitudes\":{\"0\":{\"Real\":1.0,\"Imaginary\":0.0,\"Magnitude\":1.0,\"Phase\":0.0},\"1\":{\"Real\":0.0,\"Imaginary\":0.0,\"Magnitude\":0.0,\"Phase\":0.0}}}"
          },
          "metadata": {
            "text/plain": {},
            "text/html": {},
            "application/x-qsharp-data": {}
          }
        },
        {
          "output_type": "stream",
          "name": "stdout",
          "text": "Estado de superpocision:\n"
        },
        {
          "output_type": "display_data",
          "data": {
            "text/plain": "|0⟩\t0.7071067811865476 + 0𝑖\n|1⟩\t0.7071067811865476 + 0𝑖",
            "text/html": "\r\n                    <table style=\"table-layout: fixed; width: 100%\">\r\n                        <thead>\r\n                            \r\n                        <tr>\r\n                            <th>Qubit IDs</th>\r\n                            <td span=\"3\">0</td>\r\n                        </tr>\r\n                    \r\n                            <tr>\r\n                                <th style=\"width: 20ch)\">Basis state (little endian)</th>\r\n                                <th style=\"width: 20ch\">Amplitude</th><th style=\"width: calc(100% - 26ch - 20ch)\">Meas. Pr.</th><th style=\"width: 6ch\">Phase</th>\r\n                            </tr>\r\n                        </thead>\r\n                        <tbody>\r\n                        \r\n                            <tr>\r\n                                <td>$\\left|0\\right\\rangle$</td>\r\n                                <td>$0.7071 + 0.0000 i$</td>\r\n                                \r\n                                <td>\r\n                                    <progress\r\n                                        max=\"100\"\r\n                                        value=\"50.000000000000014\"\r\n                                        style=\"width: 100%;\"\r\n                                    > \r\n                                    <td>\r\n                                    <p id=\"round-6ceb5b4f-ba02-40ff-ba73-425ab4411c63\"> \r\n                                    <script>\r\n                                    var num = 50.000000000000014;\r\n                                    num = num.toFixed(4);\r\n                                    var num_string = num + \"%\";\r\n                                     document.getElementById(\"round-6ceb5b4f-ba02-40ff-ba73-425ab4411c63\").innerHTML = num_string;\r\n                                    </script> </p>\r\n                                    </td>\r\n                                </td>\r\n                            \r\n                                \r\n                                <td style=\"transform: rotate(0deg);\r\n                   text-align: center;\">\r\n                                 ↑\r\n                                </td>\r\n                            \r\n                            </tr>\r\n                        \n\r\n                            <tr>\r\n                                <td>$\\left|1\\right\\rangle$</td>\r\n                                <td>$0.7071 + 0.0000 i$</td>\r\n                                \r\n                                <td>\r\n                                    <progress\r\n                                        max=\"100\"\r\n                                        value=\"50.000000000000014\"\r\n                                        style=\"width: 100%;\"\r\n                                    > \r\n                                    <td>\r\n                                    <p id=\"round-04b3bcfb-4851-4c33-847c-4adefe99728e\"> \r\n                                    <script>\r\n                                    var num = 50.000000000000014;\r\n                                    num = num.toFixed(4);\r\n                                    var num_string = num + \"%\";\r\n                                     document.getElementById(\"round-04b3bcfb-4851-4c33-847c-4adefe99728e\").innerHTML = num_string;\r\n                                    </script> </p>\r\n                                    </td>\r\n                                </td>\r\n                            \r\n                                \r\n                                <td style=\"transform: rotate(0deg);\r\n                   text-align: center;\">\r\n                                 ↑\r\n                                </td>\r\n                            \r\n                            </tr>\r\n                        \r\n                        </tbody>\r\n                    </table>",
            "application/x-qsharp-data": "{\"diagnostic_kind\":\"state-vector\",\"qubit_ids\":[0],\"n_qubits\":1,\"amplitudes\":{\"0\":{\"Real\":0.7071067811865476,\"Imaginary\":0.0,\"Magnitude\":0.7071067811865476,\"Phase\":0.0},\"1\":{\"Real\":0.7071067811865476,\"Imaginary\":0.0,\"Magnitude\":0.7071067811865476,\"Phase\":0.0}}}"
          },
          "metadata": {
            "text/plain": {},
            "text/html": {},
            "application/x-qsharp-data": {}
          }
        },
        {
          "output_type": "stream",
          "name": "stdout",
          "text": "Proceso de medicion:\n"
        },
        {
          "output_type": "display_data",
          "data": {
            "text/plain": "|0⟩\t0 + 0𝑖\n|1⟩\t1 + 0𝑖",
            "text/html": "\r\n                    <table style=\"table-layout: fixed; width: 100%\">\r\n                        <thead>\r\n                            \r\n                        <tr>\r\n                            <th>Qubit IDs</th>\r\n                            <td span=\"3\">0</td>\r\n                        </tr>\r\n                    \r\n                            <tr>\r\n                                <th style=\"width: 20ch)\">Basis state (little endian)</th>\r\n                                <th style=\"width: 20ch\">Amplitude</th><th style=\"width: calc(100% - 26ch - 20ch)\">Meas. Pr.</th><th style=\"width: 6ch\">Phase</th>\r\n                            </tr>\r\n                        </thead>\r\n                        <tbody>\r\n                        \r\n                            <tr>\r\n                                <td>$\\left|0\\right\\rangle$</td>\r\n                                <td>$0.0000 + 0.0000 i$</td>\r\n                                \r\n                                <td>\r\n                                    <progress\r\n                                        max=\"100\"\r\n                                        value=\"0\"\r\n                                        style=\"width: 100%;\"\r\n                                    > \r\n                                    <td>\r\n                                    <p id=\"round-7c5fc5bb-f78a-4ac1-8e24-51cf96a21d41\"> \r\n                                    <script>\r\n                                    var num = 0;\r\n                                    num = num.toFixed(4);\r\n                                    var num_string = num + \"%\";\r\n                                     document.getElementById(\"round-7c5fc5bb-f78a-4ac1-8e24-51cf96a21d41\").innerHTML = num_string;\r\n                                    </script> </p>\r\n                                    </td>\r\n                                </td>\r\n                            \r\n                                \r\n                                <td style=\"transform: rotate(0deg);\r\n                   text-align: center;\">\r\n                                 ↑\r\n                                </td>\r\n                            \r\n                            </tr>\r\n                        \n\r\n                            <tr>\r\n                                <td>$\\left|1\\right\\rangle$</td>\r\n                                <td>$1.0000 + 0.0000 i$</td>\r\n                                \r\n                                <td>\r\n                                    <progress\r\n                                        max=\"100\"\r\n                                        value=\"100\"\r\n                                        style=\"width: 100%;\"\r\n                                    > \r\n                                    <td>\r\n                                    <p id=\"round-72855477-3a91-46c0-9e91-9efbbd55b3c0\"> \r\n                                    <script>\r\n                                    var num = 100;\r\n                                    num = num.toFixed(4);\r\n                                    var num_string = num + \"%\";\r\n                                     document.getElementById(\"round-72855477-3a91-46c0-9e91-9efbbd55b3c0\").innerHTML = num_string;\r\n                                    </script> </p>\r\n                                    </td>\r\n                                </td>\r\n                            \r\n                                \r\n                                <td style=\"transform: rotate(0deg);\r\n                   text-align: center;\">\r\n                                 ↑\r\n                                </td>\r\n                            \r\n                            </tr>\r\n                        \r\n                        </tbody>\r\n                    </table>",
            "application/x-qsharp-data": "{\"diagnostic_kind\":\"state-vector\",\"qubit_ids\":[0],\"n_qubits\":1,\"amplitudes\":{\"0\":{\"Real\":0.0,\"Imaginary\":0.0,\"Magnitude\":0.0,\"Phase\":0.0},\"1\":{\"Real\":1.0,\"Imaginary\":0.0,\"Magnitude\":1.0,\"Phase\":0.0}}}"
          },
          "metadata": {
            "text/plain": {},
            "text/html": {},
            "application/x-qsharp-data": {}
          }
        },
        {
          "output_type": "execute_result",
          "execution_count": 11,
          "data": {
            "text/plain": "One",
            "application/x-qsharp-data": "1"
          },
          "metadata": {
            "text/plain": {},
            "application/x-qsharp-data": {}
          }
        }
      ],
      "execution_count": 11,
      "metadata": {
        "jupyter": {
          "outputs_hidden": false,
          "source_hidden": false
        },
        "nteract": {
          "transient": {
            "deleting": false
          }
        }
      }
    },
    {
      "cell_type": "code",
      "source": [
        "operation ramdomNumberGenerator() : Result { \n",
        "                                        // Complejidad algorítmica: O(4) = O(1)\n",
        "        use q1 = Qubit();               // O(1)\n",
        "        H(q1);                          // O(1)\n",
        "        let measuredQubit = M(q1);      // O(1)\n",
        "        return measuredQubit;           // O(1)\n",
        "    }"
      ],
      "outputs": [
        {
          "output_type": "execute_result",
          "execution_count": 12,
          "data": {
            "text/plain": "ramdomNumberGenerator",
            "text/html": "<ul><li>ramdomNumberGenerator</li></ul>",
            "application/x-qsharp-data": "[\"ramdomNumberGenerator\"]"
          },
          "metadata": {
            "text/plain": {},
            "text/html": {},
            "application/x-qsharp-data": {}
          }
        }
      ],
      "execution_count": 12,
      "metadata": {
        "jupyter": {
          "outputs_hidden": false,
          "source_hidden": false
        },
        "nteract": {
          "transient": {
            "deleting": false
          }
        }
      }
    },
    {
      "cell_type": "markdown",
      "source": [
        "## Generador de número pseudoaleatorio\n",
        "1. Definimos un número máximo y mínimo\n",
        "2. Definición de la cantidad de bits cuánticos expresados en valores enteros para llegar al valor máximo.\n",
        "3. Crear cadena de longitud n.\n",
        "4. Si la cadena de bits supera el valor máximo, crear cadena de longitud n.\n",
        "5. Si la cadena de bits es menor al valor mínimo, crear cadena de longitd n.\n",
        "6. Retornar valor aleatorio."
      ],
      "metadata": {
        "nteract": {
          "transient": {
            "deleting": false
          }
        }
      }
    },
    {
      "cell_type": "code",
      "source": [
        "operation randomNumberRange(min: Int, max: Int) : Int {\n",
        "                                                                // Complejidad algorítmica: O(8) = O(1), O(n) * O(2n) = O(n²) \n",
        "        mutable output = 0;                                     // O(1)\n",
        "        repeat {                                                // O(n)\n",
        "            // Bucle para generar números aleatorios hasta que genere uno que sea igual o menor que el máximo o igual o mayor que el mínimo\n",
        "            mutable bits = [];                                  // O(1)\n",
        "            for indexBit in 1..BitSizeI(max) {                  // O(n)\n",
        "                // Retornar el valor de bits necesarios                                      \n",
        "                set bits = bits + [ramdomNumberGenerator()];    // O(1)\n",
        "            }\n",
        "            for indexBit in 1..BitSizeI(min) {                  // O(n)\n",
        "                set bits = bits + [ramdomNumberGenerator()];    // O(1)\n",
        "            }\n",
        "            set output = ResultArrayAsInt(bits);                // O(1)\n",
        "        } until (output >= min and output <= max );             // O(1)\n",
        "        Message($\"Número aleatorio entre {min} y {max}: \");     // O(1)\n",
        "        return output;                                          // O(1)\n",
        "    }"
      ],
      "outputs": [
        {
          "output_type": "execute_result",
          "execution_count": 13,
          "data": {
            "text/plain": "randomNumberRange",
            "text/html": "<ul><li>randomNumberRange</li></ul>",
            "application/x-qsharp-data": "[\"randomNumberRange\"]"
          },
          "metadata": {
            "text/plain": {},
            "text/html": {},
            "application/x-qsharp-data": {}
          }
        }
      ],
      "execution_count": 13,
      "metadata": {
        "jupyter": {
          "outputs_hidden": false,
          "source_hidden": false
        },
        "nteract": {
          "transient": {
            "deleting": false
          }
        }
      }
    },
    {
      "cell_type": "code",
      "source": [
        "%simulate randomNumberRange min=10 max=20"
      ],
      "outputs": [
        {
          "output_type": "stream",
          "name": "stdout",
          "text": "Número aleatorio entre 10 y 20: \n"
        },
        {
          "output_type": "execute_result",
          "execution_count": 14,
          "data": {
            "text/plain": "15",
            "application/x-qsharp-data": "15"
          },
          "metadata": {
            "text/plain": {},
            "application/x-qsharp-data": {}
          }
        }
      ],
      "execution_count": 14,
      "metadata": {
        "jupyter": {
          "outputs_hidden": false,
          "source_hidden": false
        },
        "nteract": {
          "transient": {
            "deleting": false
          }
        }
      }
    },
    {
      "cell_type": "code",
      "source": [
        "%simulate randomNumberRange min=100 max=200"
      ],
      "outputs": [
        {
          "output_type": "stream",
          "name": "stdout",
          "text": "Número aleatorio entre 100 y 200: \n"
        },
        {
          "output_type": "execute_result",
          "execution_count": 15,
          "data": {
            "text/plain": "147",
            "application/x-qsharp-data": "147"
          },
          "metadata": {
            "text/plain": {},
            "application/x-qsharp-data": {}
          }
        }
      ],
      "execution_count": 15,
      "metadata": {
        "jupyter": {
          "outputs_hidden": false,
          "source_hidden": false
        },
        "nteract": {
          "transient": {
            "deleting": false
          }
        }
      }
    },
    {
      "cell_type": "code",
      "source": [
        "%simulate randomNumberRange min=1000 max=2000"
      ],
      "outputs": [
        {
          "output_type": "stream",
          "name": "stdout",
          "text": "Número aleatorio entre 1000 y 2000: \n"
        },
        {
          "output_type": "execute_result",
          "execution_count": 16,
          "data": {
            "text/plain": "1520",
            "application/x-qsharp-data": "1520"
          },
          "metadata": {
            "text/plain": {},
            "application/x-qsharp-data": {}
          }
        }
      ],
      "execution_count": 16,
      "metadata": {
        "jupyter": {
          "outputs_hidden": false,
          "source_hidden": false
        },
        "nteract": {
          "transient": {
            "deleting": false
          }
        }
      }
    },
    {
      "cell_type": "code",
      "source": [
        "%simulate randomNumberRange min=9999 max=19999"
      ],
      "outputs": [
        {
          "output_type": "stream",
          "name": "stdout",
          "text": "Número aleatorio entre 9999 y 19999: \n"
        },
        {
          "output_type": "execute_result",
          "execution_count": 17,
          "data": {
            "text/plain": "19568",
            "application/x-qsharp-data": "19568"
          },
          "metadata": {
            "text/plain": {},
            "application/x-qsharp-data": {}
          }
        }
      ],
      "execution_count": 17,
      "metadata": {
        "jupyter": {
          "source_hidden": false,
          "outputs_hidden": false
        },
        "nteract": {
          "transient": {
            "deleting": false
          }
        },
        "editable": true,
        "run_control": {
          "frozen": false
        }
      }
    },
    {
      "cell_type": "markdown",
      "source": [
        "## Algoritmo de Euclides\n",
        "1. Hallar el máximo común divisor para identificar los factores primos.\n",
        "    + Si restamos el número menor del número mayor, el máximo común divisor no cambia.\n",
        "    + Mantener restas sucesivas al número mayor.\n",
        "    + Dividir el número menor\n",
        "        + Detenerse cuando el residuo es 0."
      ],
      "metadata": {
        "nteract": {
          "transient": {
            "deleting": false
          }
        }
      }
    },
    {
      "cell_type": "markdown",
      "source": [
        "## Método 1: Llamada directa a la función"
      ],
      "metadata": {
        "nteract": {
          "transient": {
            "deleting": false
          }
        }
      }
    },
    {
      "cell_type": "code",
      "source": [
        "function euclideanAlgoGCDm1(a: Int, N: Int) : Int {\n",
        "                                                        // Complejidad algorítmica: O(2) = O(1)\n",
        "        Message($\"GCD de {a} y {N} es...\");             // O(1)\n",
        "        return GreatestCommonDivisorI((a),(N));         // O(1)\n",
        "}"
      ],
      "outputs": [
        {
          "output_type": "execute_result",
          "execution_count": 18,
          "data": {
            "text/plain": "euclideanAlgoGCDm1",
            "text/html": "<ul><li>euclideanAlgoGCDm1</li></ul>",
            "application/x-qsharp-data": "[\"euclideanAlgoGCDm1\"]"
          },
          "metadata": {
            "text/plain": {},
            "text/html": {},
            "application/x-qsharp-data": {}
          }
        }
      ],
      "execution_count": 18,
      "metadata": {
        "jupyter": {
          "outputs_hidden": false,
          "source_hidden": false
        },
        "nteract": {
          "transient": {
            "deleting": false
          }
        }
      }
    },
    {
      "cell_type": "code",
      "source": [
        "%simulate euclideanAlgoGCDm1 a=60 N=48"
      ],
      "outputs": [
        {
          "output_type": "stream",
          "name": "stdout",
          "text": "GCD de 60 y 48 es...\n"
        },
        {
          "output_type": "execute_result",
          "execution_count": 19,
          "data": {
            "text/plain": "12",
            "application/x-qsharp-data": "12"
          },
          "metadata": {
            "text/plain": {},
            "application/x-qsharp-data": {}
          }
        }
      ],
      "execution_count": 19,
      "metadata": {
        "jupyter": {
          "outputs_hidden": false,
          "source_hidden": false
        },
        "nteract": {
          "transient": {
            "deleting": false
          }
        }
      }
    },
    {
      "cell_type": "markdown",
      "source": [
        "## Método 2: Versión recursiva"
      ],
      "metadata": {
        "nteract": {
          "transient": {
            "deleting": false
          }
        }
      }
    },
    {
      "cell_type": "code",
      "source": [
        "operation euclideanAlgoGCDm2(a: Int, N: Int) : Int {\n",
        "                                                        // Complejidad algorítmica: O(3) = O(1), O(log(n))\n",
        "        if((N) == 0) {                                  // O(1)\n",
        "            return a;                                   // O(1)\n",
        "        } Message($\"GCD: {a}\");                         // O(1)\n",
        "        return euclideanAlgoGCDm2((N), (a) % (N));      // O(log(n))\n",
        "    }"
      ],
      "outputs": [
        {
          "output_type": "execute_result",
          "execution_count": 20,
          "data": {
            "text/plain": "euclideanAlgoGCDm2",
            "text/html": "<ul><li>euclideanAlgoGCDm2</li></ul>",
            "application/x-qsharp-data": "[\"euclideanAlgoGCDm2\"]"
          },
          "metadata": {
            "text/plain": {},
            "text/html": {},
            "application/x-qsharp-data": {}
          }
        }
      ],
      "execution_count": 20,
      "metadata": {
        "jupyter": {
          "outputs_hidden": false,
          "source_hidden": false
        },
        "nteract": {
          "transient": {
            "deleting": false
          }
        }
      }
    },
    {
      "cell_type": "code",
      "source": [
        "%simulate euclideanAlgoGCDm2 a=60 N=48"
      ],
      "outputs": [
        {
          "output_type": "stream",
          "name": "stdout",
          "text": "GCD: 60\nGCD: 48\n"
        },
        {
          "output_type": "execute_result",
          "execution_count": 21,
          "data": {
            "text/plain": "12",
            "application/x-qsharp-data": "12"
          },
          "metadata": {
            "text/plain": {},
            "application/x-qsharp-data": {}
          }
        }
      ],
      "execution_count": 21,
      "metadata": {
        "jupyter": {
          "outputs_hidden": false,
          "source_hidden": false
        },
        "nteract": {
          "transient": {
            "deleting": false
          }
        }
      }
    },
    {
      "cell_type": "markdown",
      "source": [
        "## Método 3: Restas sucesivas"
      ],
      "metadata": {
        "nteract": {
          "transient": {
            "deleting": false
          }
        }
      }
    },
    {
      "cell_type": "code",
      "source": [
        "operation euclideanAlgoGCDm3(a: Int, N: Int) : Int {\n",
        "                                                        // Complejidad algorítmica: 8(n), O(log(n)) + O(log(n)) = O(log(n))\n",
        "        if((a) == 0) {                                  // O(1)\n",
        "            return (N);                                 // O(1)\n",
        "        } if ((N) == 0) {                               // O(1)\n",
        "            return (a);                                 // O(1)\n",
        "        } if ((a) == (N)) {                             // O(1)\n",
        "            return (a);                                 // O(1)\n",
        "        } if ((a) > (N)) {                              // O(1)\n",
        "            Message($\"GCD de {a} y {N}:\");              // O(1)\n",
        "            Message($\"Nuevo intento.\");\n",
        "            return euclideanAlgoGCDm3((a)-(N), (N));    // O(log(n))\n",
        "        } \n",
        "        return euclideanAlgoGCDm3((a), (N)-(a));        // O(log(n))\n",
        "    }"
      ],
      "outputs": [
        {
          "output_type": "execute_result",
          "execution_count": 22,
          "data": {
            "text/plain": "euclideanAlgoGCDm3",
            "text/html": "<ul><li>euclideanAlgoGCDm3</li></ul>",
            "application/x-qsharp-data": "[\"euclideanAlgoGCDm3\"]"
          },
          "metadata": {
            "text/plain": {},
            "text/html": {},
            "application/x-qsharp-data": {}
          }
        }
      ],
      "execution_count": 22,
      "metadata": {
        "jupyter": {
          "outputs_hidden": false,
          "source_hidden": false
        },
        "nteract": {
          "transient": {
            "deleting": false
          }
        }
      }
    },
    {
      "cell_type": "code",
      "source": [
        "%simulate euclideanAlgoGCDm3 a=60 N=48"
      ],
      "outputs": [
        {
          "output_type": "stream",
          "name": "stdout",
          "text": "GCD de 60 y 48:\nNuevo intento.\n"
        },
        {
          "output_type": "execute_result",
          "execution_count": 23,
          "data": {
            "text/plain": "12",
            "application/x-qsharp-data": "12"
          },
          "metadata": {
            "text/plain": {},
            "application/x-qsharp-data": {}
          }
        }
      ],
      "execution_count": 23,
      "metadata": {
        "jupyter": {
          "outputs_hidden": false,
          "source_hidden": false
        },
        "nteract": {
          "transient": {
            "deleting": false
          }
        }
      }
    },
    {
      "cell_type": "markdown",
      "source": [
        "# Implementación del Algoritmo de Shor\n",
        "## Fase 2: Parte clásica \n",
        "1. Determinar si el orden es par\n",
        "    + gcd=(a,n)=1\n",
        "        + a^(φ(n)) ≡ 1 (mod n)\n",
        "2. Una vez realizada la condición del teorema de Euler aplicamos el teorema de euclides.\n",
        "3. El valor del orden se le resta 1 y se aplica junto con el número primo para encontrar el primer factor.\n",
        "4. El valor del orden se le suma 1 y se aplica junto con el número primo para encontrar el primer factor.\n",
        "    + Retorna el factor y el módulo dividido entre el factor.\n",
        "5. Fin\n",
        "\n",
        "φ(n): Es equivalente al orden dividido entre dos."
      ],
      "metadata": {
        "nteract": {
          "transient": {
            "deleting": false
          }
        }
      }
    },
    {
      "cell_type": "code",
      "source": [
        "operation possibleFactorsR (module: Int, randomGenerator: Int, r:Int) : (Bool, (Int, Int)) {\n",
        "                                                                                // Complejidad algorítmica: O(9) = O(1), O(log(n)) + O(log(n)) + O(log(n)) =  O(log(n))\n",
        "        if r % 2 == 0 {                                                         // O(1)\n",
        "            let halfExponentiation = ExpModI(randomGenerator, r/2, module);     // O(log(n))\n",
        "            if halfExponentiation != module - 1 {                               // O(1)\n",
        "                let factor = MaxI (                                             // O(1)\n",
        "                    euclideanAlgoGCDm3(halfExponentiation - 1, module),         // O(log(n))\n",
        "                    euclideanAlgoGCDm3(halfExponentiation + 1, module)          // O(log(n))\n",
        "                );\n",
        "                return (true, (factor, module / factor));                       // O(1)\n",
        "            } else {                                                            // O(1)\n",
        "                return (false, (1,1));                                          // O(1)\n",
        "            }\n",
        "        } else {                                                                // O(1)\n",
        "        return(false, (1,1));                                                   // O(1)\n",
        "        } \n",
        "    }"
      ],
      "outputs": [
        {
          "output_type": "execute_result",
          "execution_count": 24,
          "data": {
            "text/plain": "possibleFactorsR",
            "text/html": "<ul><li>possibleFactorsR</li></ul>",
            "application/x-qsharp-data": "[\"possibleFactorsR\"]"
          },
          "metadata": {
            "text/plain": {},
            "text/html": {},
            "application/x-qsharp-data": {}
          }
        }
      ],
      "execution_count": 24,
      "metadata": {
        "jupyter": {
          "outputs_hidden": false,
          "source_hidden": false
        },
        "nteract": {
          "transient": {
            "deleting": false
          }
        }
      }
    },
    {
      "cell_type": "markdown",
      "source": [
        "## Multiplicador de un entero modular\n",
        "### Fase 3: Parte cuántica\n",
        "1. Realiza la multiplicación modular por una constante entera en un registro qubit.\n",
        "2. Dado un estado de un Qubi, se multiplica una constante y por el modulo de N.\n",
        "3. Entonces la operación implementa una operación unitaria definida por:\n",
        "\n",
        "|y⟩↦|(a⋅y) mod N⟩\n",
        "\n",
        "4. Ejecutar el algoritmo de estimación de fase cuántica para el calculo entre el registro de almacenamiento y computacional.\n",
        "5. Fin"
      ],
      "metadata": {
        "nteract": {
          "transient": {
            "deleting": false
          }
        }
      }
    },
    {
      "cell_type": "code",
      "source": [
        "operation applyFindingOracle (randomGenerator : Int, module: Int, power : Int, target: Qubit[] ) : Unit is Adj + Ctl{\n",
        "                                                                                                                        // Complejidad algorítmica: O(1), O(log²(n))\n",
        "        Fact(IsCoprimeI(randomGenerator,module),\"El número aleatorio es `randomGenerator`, y el modulo es `module`.\");  // O(1)\n",
        "        // Realización de una multiplicación modular por una constante entera en un registro qubit.\n",
        "        MultiplyByModularInteger(ExpModI(randomGenerator, power, module),module, LittleEndian(target));                 // O(log²(n))\n",
        "    }"
      ],
      "outputs": [
        {
          "output_type": "execute_result",
          "execution_count": 26,
          "data": {
            "text/plain": "applyFindingOracle",
            "text/html": "<ul><li>applyFindingOracle</li></ul>",
            "application/x-qsharp-data": "[\"applyFindingOracle\"]"
          },
          "metadata": {
            "text/plain": {},
            "text/html": {},
            "application/x-qsharp-data": {}
          }
        }
      ],
      "execution_count": 26,
      "metadata": {
        "jupyter": {
          "outputs_hidden": false,
          "source_hidden": false
        },
        "nteract": {
          "transient": {
            "deleting": false
          }
        }
      }
    },
    {
      "cell_type": "markdown",
      "source": [
        "# Función convergente de fracción continua\n",
        "Encuentra la fracción continua convergente más cercana a la fracción con el denominador menor o igual al limite del denominador, además, se implementa el calculo del máximo común divisor.\n"
      ],
      "metadata": {
        "nteract": {
          "transient": {
            "deleting": false
          }
        }
      }
    },
    {
      "cell_type": "code",
      "source": [
        "operation periodFrequency (module : Int, frequencyEstimation : Int, bitsPrecision: Int, currentDivisor: Int) : Int {    \n",
        "                                                                                                                    // Complejidad algorítmica: O(4) = O(1), O(log(n)) + O(1/(log(n))) = O(log(n)) \n",
        "        let (s, r) = (ContinuedFractionConvergentI(Fraction(frequencyEstimation, 2 ^ bitsPrecision), module))!;     // O(log(n)) \n",
        "        let (sAbsolute, rAbsolute) = (AbsI(s), AbsI(r));                                                            // O(2)\n",
        "        //  Calcula el máximo común divisor de dos enteros (se llama al método 3 de implementación del GCD).\n",
        "        return (rAbsolute * currentDivisor) / euclideanAlgoGCDm3(currentDivisor, rAbsolute);                        // O(1/(log(n)))\n",
        "    } "
      ],
      "outputs": [
        {
          "output_type": "execute_result",
          "execution_count": 27,
          "data": {
            "text/plain": "periodFrequency",
            "text/html": "<ul><li>periodFrequency</li></ul>",
            "application/x-qsharp-data": "[\"periodFrequency\"]"
          },
          "metadata": {
            "text/plain": {},
            "text/html": {},
            "application/x-qsharp-data": {}
          }
        }
      ],
      "execution_count": 27,
      "metadata": {
        "jupyter": {
          "outputs_hidden": false,
          "source_hidden": false
        },
        "nteract": {
          "transient": {
            "deleting": false
          }
        }
      }
    },
    {
      "cell_type": "markdown",
      "source": [
        "## Estimación de la frecuencia\n",
        "Esta función realiza la multiplicación de un entero modular a partir de la sumatoria del registro computacional más el registro de almacenamiento desde 0 hasta n bits.\n",
        "\n",
        "1. Se determina los bits de precisión\n",
        "2. Se crea una cadena de bits cuánticos de valores propios correspondientes a un vector.\n",
        "3. Se crea una variable de registro para la codificación de valores con índice 0 (el bit más bajo de un entero sin signo).\n",
        "4. Aplicación de la operación XOR al registro de los valores propios basados en el entero 1.\n",
        "\n",
        "|y⟩→|y⊕a⟩\n",
        "\n",
        "5. Se recorre el indicé de los bits de precisión\n",
        "    + Dentro de cada valor con un bit cuántico en superposición, se alplica una rotación sobre el estado |1⟩.\n",
        "\n",
        "R1(n,k):=diag(1,e^(iπk/2n))\n",
        "\n",
        "6. Si el valor de la medición se encuentra en la base Z es igual a 1\n",
        "    + Se reestablece al estado inicial después de la medición\n",
        "    + Se asigna la frecuencia de estimación\n",
        "7. Se resetean los valores propio.\n",
        "8. se retorna el valor de la frecuencia.\n",
        "9. Fin\n",
        "\n",
        "  \n",
        "    "
      ],
      "metadata": {
        "nteract": {
          "transient": {
            "deleting": false
          }
        }
      }
    },
    {
      "cell_type": "code",
      "source": [
        "operation EstimateFrequencyValue (randomGenerator : Int, module: Int, bits : Int) : Int { \n",
        "                                                                                            // Complejidad algorítmica: O(12) = O(1), O(n) + O(n) + O(log²(n)) = O(log²(n))\n",
        "        mutable frequencyEstimation = 0;                                                    // O(1)\n",
        "        \n",
        "        let bitsPrecision = 2 * bits + 1;                                                   // O(1)\n",
        "\n",
        "        use eigenStateRegister = Qubit[bits];                                               // O(1)\n",
        "        \n",
        "        let eigenStateRegisterLittleEndian = LittleEndian(eigenStateRegister);              // O(1)\n",
        "\n",
        "        // Aplicando una operación XOR entre un entero clásico y un entero representado por un registro de qubits.\n",
        "        ApplyXorInPlace(1, eigenStateRegisterLittleEndian);                                 // O(n) // Suma de n registros\n",
        "        let oracle = applyFindingOracle(randomGenerator, module, _, _);                     // O(log²(n))\n",
        "\n",
        "        use a = Qubit();                                                                    // O(1)\n",
        "\n",
        "        for index in bitsPrecision -1..-1..0 {                                              // O(n)\n",
        "            within {\n",
        "                H(a);                                                                       // O(1)\n",
        "            } apply {\n",
        "                Controlled oracle([a], (1 <<< index, eigenStateRegisterLittleEndian!));     // O(1)      \n",
        "                // Aplicar una rotación sobre el estado |1> por un ángulo especificado como una fracción diádica.\n",
        "                R1Frac(frequencyEstimation, bitsPrecision - 1 - index, a);                  // O(1)\n",
        "            } if MResetZ(a) == One {                                                        // O(1)\n",
        "                set frequencyEstimation += 1 <<< (bitsPrecision - 1 - index);               // O(1)\n",
        "            }\n",
        "        }\n",
        "        // Mide los qubits y se asegura de que estén en el estado |0⟩ para que puedan liberarse de forma segura.\n",
        "        ResetAll(eigenStateRegister);                                                       // O(1)\n",
        "        return frequencyEstimation;                                                         // O(1)\n",
        "    }"
      ],
      "outputs": [
        {
          "output_type": "execute_result",
          "execution_count": 28,
          "data": {
            "text/plain": "EstimateFrequencyValue",
            "text/html": "<ul><li>EstimateFrequencyValue</li></ul>",
            "application/x-qsharp-data": "[\"EstimateFrequencyValue\"]"
          },
          "metadata": {
            "text/plain": {},
            "text/html": {},
            "application/x-qsharp-data": {}
          }
        }
      ],
      "execution_count": 28,
      "metadata": {
        "jupyter": {
          "outputs_hidden": false,
          "source_hidden": false
        },
        "nteract": {
          "transient": {
            "deleting": false
          }
        }
      }
    },
    {
      "cell_type": "markdown",
      "source": [
        "## Algoritmo de estimación de fase\n",
        "En este apartado se identifican los eigenvalues de operadores unitarios, dado un operador unitario U y un estado |ϕ⟩ tal que |ϕ⟩ es un autoestado de U con un eigenvalue desconocido ϕ, a este problema se le conoce como estimación de fase.\n",
        "\n",
        "U|ϕ⟩=ϕ|ϕ⟩\n",
        "\n",
        "1. Revisar si una condición clásica es verdadera.\n",
        "    + Se revisa si el número aleatorio y el módulo son coprimos entre sí.\n",
        "2. Se almacena el resultado de la estimación de fase dentro de una variable muteable.\n",
        "3. Si la estimación de frecuencia es diferente de 0, entonces se asigna el valor del periodo con los valores determinados.\n",
        "4. Si la estimación de frecuencia es igual a 0, se notifica al usuario.\n",
        "5. Se retorna el valor.\n",
        "6. Fin\n",
        "\n",
        "\n",
        " "
      ],
      "metadata": {
        "nteract": {
          "transient": {
            "deleting": false
          }
        }
      }
    },
    {
      "cell_type": "code",
      "source": [
        "operation phaseEstimation (randomGenerator: Int, module: Int ) : Int {\n",
        "                                                                                                                        // Complejidad algorítmica: O(9) = O(1), O(n) +  O(log(n)) + O(log²(n)) = O(log²(n)) \n",
        "        Fact(IsCoprimeI(randomGenerator,module),\"El numero aleatorio es `randomGenerator` y el modulo es `module`.\");   // O(1)\n",
        "\n",
        "        mutable result = 1;                                                                                             // O(1)\n",
        "\n",
        "        let bits = BitSizeI(module);                                                                                    // O(n) // a < 2^n     \n",
        "\n",
        "        let bitsPrecision = 2 * bits + 1;                                                                               // O(1)\n",
        "\n",
        "        mutable frequencyEstimation = 0;                                                                                // O(1)\n",
        "\n",
        "        set frequencyEstimation = EstimateFrequencyValue(randomGenerator, module,bits);                                 // O(log²(n))\n",
        "        \n",
        "        if  frequencyEstimation != 0 {                                                                                  // O(1)\n",
        "            set result = periodFrequency (module, frequencyEstimation, bitsPrecision, result);                          // O(log(n))\n",
        "        } else {                                                                                                        // O(1)\n",
        "            Message(\"La frecuencia estimada tiene el valor 0.\");                                                        // O(1)\n",
        "        }\n",
        "        return result;                                                                                                  // O(1)\n",
        "    }"
      ],
      "outputs": [
        {
          "output_type": "execute_result",
          "execution_count": 29,
          "data": {
            "text/plain": "phaseEstimation",
            "text/html": "<ul><li>phaseEstimation</li></ul>",
            "application/x-qsharp-data": "[\"phaseEstimation\"]"
          },
          "metadata": {
            "text/plain": {},
            "text/html": {},
            "application/x-qsharp-data": {}
          }
        }
      ],
      "execution_count": 29,
      "metadata": {
        "jupyter": {
          "outputs_hidden": false,
          "source_hidden": false
        },
        "nteract": {
          "transient": {
            "deleting": false
          }
        }
      }
    },
    {
      "cell_type": "markdown",
      "source": [
        "## Prueba de implementación del algoritmo Shor\n",
        "1. Se determina si el número es par\n",
        "    + Si el número es par, se calcula n/2\n",
        "2. Se establecen los factores predeterminados\n",
        "3. Hasta que los valores de los factores esten establecidos, verificar si el número aleatorio y el número primo son coprimos:\n",
        "    + Calcular el orden por medio de la estimación de fase.\n",
        "    + Asignar los valores por defecto a los posibles factores encontrados.\n",
        "4. Si no son coprimos, ejecutar el algoritmo de euclides directamente.\n",
        "5. Si la condición es diferente, se bloquea y continua la iteración.\n",
        "6. Se retornan los factores.\n",
        "7. Fin\n"
      ],
      "metadata": {
        "nteract": {
          "transient": {
            "deleting": false
          }
        }
      }
    },
    {
      "cell_type": "code",
      "source": [
        "operation shorImplementatonTest (n: Int): (Int, Int) {\n",
        "                                                                                                // Complejidad algorítmica: O(16) = O(1)+O(n)[log²(n)+ log(n)+log(n)]=O(nlog²(n))\n",
        "        if n % 2 == 0 {                                                                         // O(1)\n",
        "            // Comprobar si hay un número par.\n",
        "            Message(\"Caso trivial: El número es par.\");                                         // O(1)\n",
        "            return (n/2, 2);                                                                    // O(1)\n",
        "        }\n",
        "        \n",
        "        // Configura los factores desconocidos y establece los valores predeterminados.\n",
        "        mutable setUpFactors = false;                                                           // O(1)\n",
        "        mutable defaultFactors = (1,1);                                                         // O(2)\n",
        "    \n",
        "        repeat {                                                                                // O(n)\n",
        "            let randomGenerator = randomNumberRange(2, n - 1);                                  // O(1)\n",
        "            // DrawRandomInt \n",
        "            // Casos:  IBM(2, N-1),  MICROSOT(1 < a < N-1)\n",
        "            if IsCoprimeI (randomGenerator,n) {                                                 // O(1)\n",
        "                Message($\"Número aleatorio: {randomGenerator}\");                                // O(1)\n",
        "                let r = phaseEstimation(randomGenerator, n);                                    // O(log²(n))\n",
        "                set (setUpFactors,defaultFactors) = possibleFactorsR(n, randomGenerator, r);    // O(log(n))\n",
        "            }  else {                                                                           // O(1)\n",
        "                let GCD = euclideanAlgoGCDm3(n,randomGenerator);                                // O(log(n))\n",
        "                Message($\"Divisor optenido: {n}, GCD: {GCD}.\");                                 // O(1)\n",
        "                set setUpFactors = true;                                                        // O(1)\n",
        "                set defaultFactors = (GCD, n/ GCD);                                             // O(1)\n",
        "            }\n",
        "        } until setUpFactors                                                                    // O(1)\n",
        "        fixup {                                                                                 // O(1)\n",
        "        Message(\"La estimación del periodo no retorna un factor valido.\");                      // O(1)\n",
        "        }\n",
        "        return defaultFactors;                                                                  // O(1)\n",
        "    }"
      ],
      "outputs": [
        {
          "output_type": "execute_result",
          "execution_count": 30,
          "data": {
            "text/plain": "shorImplementatonTest",
            "text/html": "<ul><li>shorImplementatonTest</li></ul>",
            "application/x-qsharp-data": "[\"shorImplementatonTest\"]"
          },
          "metadata": {
            "text/plain": {},
            "text/html": {},
            "application/x-qsharp-data": {}
          }
        }
      ],
      "execution_count": 30,
      "metadata": {
        "jupyter": {
          "outputs_hidden": false,
          "source_hidden": false
        },
        "nteract": {
          "transient": {
            "deleting": false
          }
        }
      }
    },
    {
      "cell_type": "markdown",
      "source": [
        "## Pruebas"
      ],
      "metadata": {
        "nteract": {
          "transient": {
            "deleting": false
          }
        }
      }
    },
    {
      "cell_type": "code",
      "source": [
        "%azure.target microsoft.estimator"
      ],
      "outputs": [
        {
          "output_type": "stream",
          "name": "stdout",
          "text": "Loading package Microsoft.Quantum.Providers.Core and dependencies...\nActive target is now microsoft.estimator\n"
        },
        {
          "output_type": "execute_result",
          "execution_count": 47,
          "data": {
            "text/plain": "Target ID           Current Availability Average Queue Time (Seconds)\n------------------- --------- -\nmicrosoft.estimator Available 0\n",
            "text/html": "<table><thead><tr><th style=\"text-align: start;\">Target ID</th><th style=\"text-align: start;\">Current Availability</th><th style=\"text-align: start;\">Average Queue Time (Seconds)</th></tr></thead><tbody><tr><td style=\"text-align: start;\">microsoft.estimator</td><td style=\"text-align: start;\">Available</td><td style=\"text-align: start;\">0</td></tr></tbody></table>",
            "application/x-qsharp-data": "{\"id\":\"microsoft.estimator\",\"current_availability\":{},\"average_queue_time\":0}"
          },
          "metadata": {
            "text/plain": {},
            "text/html": {},
            "application/x-qsharp-data": {}
          }
        }
      ],
      "execution_count": 47,
      "metadata": {
        "jupyter": {
          "source_hidden": false,
          "outputs_hidden": false
        },
        "nteract": {
          "transient": {
            "deleting": false
          }
        }
      }
    },
    {
      "cell_type": "code",
      "source": [
        "%azure.execute shorImplementatonTest n=15"
      ],
      "outputs": [
        {
          "output_type": "stream",
          "name": "stdout",
          "text": "Submitting shorImplementatonTest to target microsoft.estimator...\nJob successfully submitted.\n   Job name: shorImplementatonTest\n   Job ID: 026c53a1-d51d-48e8-8685-e46d757f30d9\nWaiting up to 300 seconds for Azure Quantum job to complete...\n[21:36:25] Current job status: Executing\n[21:36:30] Current job status: Executing\n[21:36:35] Current job status: Succeeded\n"
        },
        {
          "output_type": "execute_result",
          "execution_count": 25,
          "data": {
            "text/plain": "ResourceEstimationResult { RawJson = {\n  \"errorBudget\": {\n    \"logical\": 0.001,\n    \"rotations\": 0.0,\n    \"tstates\": 0.0\n  },\n  \"jobParams\": {\n    \"errorBudget\": 0.001,\n    \"qecScheme\": {\n      \"crossingPrefactor\": 0.03,\n      \"errorCorrectionThreshold\": 0.01,\n      \"logicalCycleTime\": \"(4 * twoQubitGateTime + 2 * oneQubitMeasurementTime) * codeDistance\",\n      \"name\": \"surface_code\",\n      \"physicalQubitsPerLogicalQubit\": \"2 * codeDistance * codeDistance\"\n    },\n    \"qubitParams\": {\n      \"instructionSet\": \"GateBased\",\n      \"name\": \"qubit_gate_ns_e3\",\n      \"oneQubitGateErrorRate\": 0.001,\n      \"oneQubitGateTime\": \"50 ns\",\n      \"oneQubitMeasurementErrorRate\": 0.001,\n      \"oneQubitMeasurementTime\": \"100 ns\",\n      \"tGateErrorRate\": 0.001,\n      \"tGateTime\": \"50 ns\",\n      \"twoQubitGateErrorRate\": 0.001,\n      \"twoQubitGateTime\": \"50 ns\"\n    }\n  },\n  \"logicalCounts\": {\n    \"ccixCount\": 0,\n    \"cczCount\": 0,\n    \"measurementCount\": 6,\n    \"numQubits\": 1,\n    \"rotationCount\": 0,\n    \"rotationDepth\": 0,\n    \"tCount\": 0\n  },\n  \"logicalQubit\": {\n    \"codeDistance\": 7,\n    \"logicalCycleTime\": 2800.0,\n    \"logicalErrorRate\": 3.0000000000000013E-06,\n    \"physicalQubits\": 98\n  },\n  \"physicalCounts\": {\n    \"breakdown\": {\n      \"algorithmicLogicalDepth\": 6,\n      \"algorithmicLogicalQubits\": 6,\n      \"cliffordErrorRate\": 0.001,\n      \"logicalDepth\": 6,\n      \"numTfactories\": 0,\n      \"numTfactoryRuns\": 0,\n      \"numTsPerRotation\": null,\n      \"numTstates\": 0,\n      \"physicalQubitsForAlgorithm\": 588,\n      \"physicalQubitsForTfactories\": 0,\n      \"requiredLogicalQubitErrorRate\": 2.777777777777778E-05,\n      \"requiredLogicalTstateErrorRate\": null\n    },\n    \"physicalQubits\": 588,\n    \"runtime\": 16800\n  },\n  \"physicalCountsFormatted\": {\n    \"codeDistancePerRound\": \"No T states in algorithm\",\n    \"errorBudget\": \"1.00e-3\",\n    \"errorBudgetLogical\": \"1.00e-3\",\n    \"errorBudgetRotations\": \"0.00e0\",\n    \"errorBudgetTstates\": \"0.00e0\",\n    \"logicalCycleTime\": \"2us 800ns\",\n    \"logicalErrorRate\": \"3.00e-6\",\n    \"numTsPerRotation\": \"No rotations in algorithm\",\n    \"numUnitsPerRound\": \"No T states in algorithm\",\n    \"physicalQubitsForTfactoriesPercentage\": \"0.00 %\",\n    \"physicalQubitsPerRound\": \"No T states in algorithm\",\n    \"requiredLogicalQubitErrorRate\": \"2.78e-5\",\n    \"requiredLogicalTstateErrorRate\": \"No T states in algorithm\",\n    \"runtime\": \"16us 800ns\",\n    \"tfactoryRuntime\": \"No T states in algorithm\",\n    \"tfactoryRuntimePerRound\": \"No T states in algorithm\",\n    \"tstateLogicalErrorRate\": \"No T states in algorithm\",\n    \"unitNamePerRound\": \"No T states in algorithm\"\n  },\n  \"reportData\": {\n    \"assumptions\": [\n      \"_More details on the following lists of assumptions can be found in the paper [Accessing requirements for scaling quantum computers and their applications](https://aka.ms/AQ/RE/Paper)._\",\n      \"**Uniform independent physical noise.** We assume that the noise on physical qubits and physical qubit operations is the standard circuit noise model. In particular we assume error events at different space-time locations are independent and that error rates are uniform across the system in time and space.\",\n      \"**Efficient classical computation.** We assume that classical overhead (compilation, control, feedback, readout, decoding, etc.) does not dominate the overall cost of implementing the full quantum algorithm.\",\n      \"**Extraction circuits for planar quantum ISA.** We assume that stabilizer extraction circuits with similar depth and error correction performance to those for standard surface and Hastings-Haah code patches can be constructed to implement all operations of the planar quantum ISA (instruction set architecture).\",\n      \"**Uniform independent logical noise.** We assume that the error rate of a logical operation is approximately equal to its space-time volume (the number of tiles multiplied by the number of logical time steps) multiplied by the error rate of a logical qubit in a standard one-tile patch in one logical time step.\",\n      \"**Negligible Clifford costs for synthesis.** We assume that the space overhead for synthesis and space and time overhead for transport of magic states within magic state factories and to synthesis qubits are all negligible.\",\n      \"**Smooth magic state consumption rate.** We assume that the rate of T state consumption throughout the compiled algorithm is almost constant, or can be made almost constant without significantly increasing the number of logical time steps for the algorithm.\"\n    ],\n    \"groups\": [\n      {\n        \"alwaysVisible\": true,\n        \"entries\": [\n          {\n            \"description\": \"Number of physical qubits\",\n            \"explanation\": \"This value represents the total number of physical qubits, which is the sum of 588 physical qubits to implement the algorithm logic, and 0 physical qubits to execute the T factories that are responsible to produce the T states that are consumed by the algorithm.\",\n            \"label\": \"Physical qubits\",\n            \"path\": \"physicalCounts/physicalQubits\"\n          },\n          {\n            \"description\": \"Total runtime\",\n            \"explanation\": \"This is a runtime estimate (in nanosecond precision) for the execution time of the algorithm.  In general, the execution time corresponds to the duration of one logical cycle (2us 800ns) multiplied by the 6 logical cycles to run the algorithm.  If however the duration of a single T factory (here: No T states in algorithm) is larger than the algorithm runtime, we extend the number of logical cycles artificially in order to exceed the runtime of a single T factory.\",\n            \"label\": \"Runtime\",\n            \"path\": \"physicalCountsFormatted/runtime\"\n          }\n        ],\n        \"title\": \"Physical resource estimates\"\n      },\n      {\n        \"alwaysVisible\": false,\n        \"entries\": [\n          {\n            \"description\": \"Number of logical qubits for the algorithm after layout\",\n            \"explanation\": \"Laying out the logical qubits in the presence of nearest-neighbor constraints requires additional logical qubits.  In particular, to layout the $Q_{\\\\rm alg} = 1$ logical qubits in the input algorithm, we require in total $2 \\\\cdot Q_{\\\\rm alg} + \\\\lceil \\\\sqrt{8 \\\\cdot Q_{\\\\rm alg}}\\\\rceil + 1 = 6$ logical qubits.\",\n            \"label\": \"Logical algorithmic qubits\",\n            \"path\": \"physicalCounts/breakdown/algorithmicLogicalQubits\"\n          },\n          {\n            \"description\": \"Number of logical cycles for the algorithm\",\n            \"explanation\": \"To execute the algorithm using _Parallel Synthesis Sequential Pauli Computation_ (PSSPC), operations are scheduled in terms of multi-qubit Pauli measurements, for which assume an execution time of one logical cycle.  Based on the input algorithm, we require one multi-qubit measurement for the 6 single-qubit measurements, the 0 arbitrary single-qubit rotations, and the 0 T gates, three multi-qubit measurements for each of the 0 CCZ and 0 CCiX gates in the input program, as well as No rotations in algorithm multi-qubit measurements for each of the 0 non-Clifford layers in which there is at least one single-qubit rotation with an arbitrary angle rotation.\",\n            \"label\": \"Algorithmic depth\",\n            \"path\": \"physicalCounts/breakdown/algorithmicLogicalDepth\"\n          },\n          {\n            \"description\": \"Number of logical cycles performed\",\n            \"explanation\": \"This number is usually equal to the logical depth of the algorithm, which is 6.  However, in the case in which a single T factory is slower than the execution time of the algorithm, we adjust the logical cycle depth to exceed the T factory's execution time.\",\n            \"label\": \"Logical depth\",\n            \"path\": \"physicalCounts/breakdown/logicalDepth\"\n          },\n          {\n            \"description\": \"Number of T states consumed by the algorithm\",\n            \"explanation\": \"To execute the algorithm, we require one T state for each of the 0 T gates, four T states for each of the 0 CCZ and 0 CCiX gates, as well as No rotations in algorithm for each of the 0 single-qubit rotation gates with arbitrary angle rotation.\",\n            \"label\": \"Number of T states\",\n            \"path\": \"physicalCounts/breakdown/numTstates\"\n          },\n          {\n            \"description\": \"Number of T factories capable of producing the demanded 0 T states during the algorithm's runtime\",\n            \"explanation\": \"The total number of T factories 0 that are executed in parallel is computed as $\\\\left\\\\lceil\\\\dfrac{0\\\\;\\\\text{T states} \\\\cdot No T states in algorithm\\\\;\\\\text{T factory duration}}{0\\\\;\\\\text{T states per T factory} \\\\cdot 16us 800ns\\\\;\\\\text{algorithm runtime}}\\\\right\\\\rceil$\",\n            \"label\": \"Number of T factories\",\n            \"path\": \"physicalCounts/breakdown/numTfactories\"\n          },\n          {\n            \"description\": \"Number of times all T factories are invoked\",\n            \"explanation\": \"In order to prepare the 0 T states, the 0 copies of the T factory are repeatedly invoked 0 times.\",\n            \"label\": \"Number of T factory invocations\",\n            \"path\": \"physicalCounts/breakdown/numTfactoryRuns\"\n          },\n          {\n            \"description\": \"Number of physical qubits for the algorithm after layout\",\n            \"explanation\": \"The 588 are the product of the 6 logical qubits after layout and the 98 physical qubits that encode a single logical qubit.\",\n            \"label\": \"Physical algorithmic qubits\",\n            \"path\": \"physicalCounts/breakdown/physicalQubitsForAlgorithm\"\n          },\n          {\n            \"description\": \"Number of physical qubits for the T factories\",\n            \"explanation\": \"Each T factory requires 0 physical qubits and we run 0 in parallel, therefore we need $0 = 0 \\\\cdot 0$ qubits.\",\n            \"label\": \"Physical T factory qubits\",\n            \"path\": \"physicalCounts/breakdown/physicalQubitsForTfactories\"\n          },\n          {\n            \"description\": \"The minimum logical qubit error rate required to run the algorithm within the error budget\",\n            \"explanation\": \"The minimum logical qubit error rate is obtained by dividing the logical error probability 1.00e-3 by the product of 6 logical qubits and the total cycle count 6.\",\n            \"label\": \"Required logical qubit error rate\",\n            \"path\": \"physicalCountsFormatted/requiredLogicalQubitErrorRate\"\n          },\n          {\n            \"description\": \"The minimum T state error rate required for distilled T states\",\n            \"explanation\": \"The minimum T state error rate is obtained by dividing the T distillation error probability 0.00e0 by the total number of T states 0.\",\n            \"label\": \"Required logical T state error rate\",\n            \"path\": \"physicalCountsFormatted/requiredLogicalTstateErrorRate\"\n          },\n          {\n            \"description\": \"Number of T states to implement a rotation with an arbitrary angle\",\n            \"explanation\": \"The number of T states to implement a rotation with an arbitrary angle is $\\\\lceil 0.53 \\\\log_2(0 / 0) + 5.3\\\\rceil$ [[arXiv:2203.10064](https://arxiv.org/abs/2203.10064)].  For simplicity, we use this formula for all single-qubit arbitrary angle rotations, and do not distinguish between best, worst, and average cases.\",\n            \"label\": \"Number of T states per rotation\",\n            \"path\": \"physicalCountsFormatted/numTsPerRotation\"\n          }\n        ],\n        \"title\": \"Resource estimates breakdown\"\n      },\n      {\n        \"alwaysVisible\": false,\n        \"entries\": [\n          {\n            \"description\": \"Name of QEC scheme\",\n            \"explanation\": \"You can load pre-defined QEC schemes by using the name `surface_code` or `floquet_code`. The latter only works with Majorana qubits.\",\n            \"label\": \"QEC scheme\",\n            \"path\": \"jobParams/qecScheme/name\"\n          },\n          {\n            \"description\": \"Required code distance for error correction\",\n            \"explanation\": \"The code distance is the smallest odd integer greater or equal to $\\\\dfrac{2\\\\log(0.03 / 0.00002777777777777778)}{\\\\log(0.01/0.001)} - 1$\",\n            \"label\": \"Code distance\",\n            \"path\": \"logicalQubit/codeDistance\"\n          },\n          {\n            \"description\": \"Number of physical qubits per logical qubit\",\n            \"explanation\": \"The number of physical qubits per logical qubit are evaluated using the formula 2 * codeDistance * codeDistance that can be user-specified.\",\n            \"label\": \"Physical qubits\",\n            \"path\": \"logicalQubit/physicalQubits\"\n          },\n          {\n            \"description\": \"Duration of a logical cycle in nanoseconds\",\n            \"explanation\": \"The runtime of one logical cycle in nanoseconds is evaluated using the formula (4 * twoQubitGateTime + 2 * oneQubitMeasurementTime) * codeDistance that can be user-specified.\",\n            \"label\": \"Logical cycle time\",\n            \"path\": \"physicalCountsFormatted/logicalCycleTime\"\n          },\n          {\n            \"description\": \"Logical qubit error rate\",\n            \"explanation\": \"The logical qubit error rate is computed as $0.03 \\\\cdot \\\\left(\\\\dfrac{0.001}{0.01}\\\\right)^\\\\frac{7 + 1}{2}$\",\n            \"label\": \"Logical qubit error rate\",\n            \"path\": \"physicalCountsFormatted/logicalErrorRate\"\n          },\n          {\n            \"description\": \"Crossing prefactor used in QEC scheme\",\n            \"explanation\": \"The crossing prefactor is usually extracted numerically from simulations when fitting an exponential curve to model the relationship between logical and physical error rate.\",\n            \"label\": \"Crossing prefactor\",\n            \"path\": \"jobParams/qecScheme/crossingPrefactor\"\n          },\n          {\n            \"description\": \"Error correction threshold used in QEC scheme\",\n            \"explanation\": \"The error correction threshold is the physical error rate below which the error rate of the logical qubit is less than the error rate of the physical qubit that constitute it.  This value is usually extracted numerically from simulations of the logical error rate.\",\n            \"label\": \"Error correction threshold\",\n            \"path\": \"jobParams/qecScheme/errorCorrectionThreshold\"\n          },\n          {\n            \"description\": \"QEC scheme formula used to compute logical cycle time\",\n            \"explanation\": \"This is the formula that is used to compute the logical cycle time 2us 800ns.\",\n            \"label\": \"Logical cycle time formula\",\n            \"path\": \"jobParams/qecScheme/logicalCycleTime\"\n          },\n          {\n            \"description\": \"QEC scheme formula used to compute number of physical qubits per logical qubit\",\n            \"explanation\": \"This is the formula that is used to compute the number of physical qubits per logical qubits 98.\",\n            \"label\": \"Physical qubits formula\",\n            \"path\": \"jobParams/qecScheme/physicalQubitsPerLogicalQubit\"\n          }\n        ],\n        \"title\": \"Logical qubit parameters\"\n      },\n      {\n        \"alwaysVisible\": false,\n        \"entries\": [\n          {\n            \"description\": \"Number of logical qubits in the input quantum program\",\n            \"explanation\": \"We determine 6 from this number by assuming to align them in a 2D grid.  Auxiliary qubits are added to allow for sufficient space to execute multi-qubit Pauli measurements on all or a subset of the logical qubits.\",\n            \"label\": \"Logical qubits (pre-layout)\",\n            \"path\": \"logicalCounts/numQubits\"\n          },\n          {\n            \"description\": \"Number of T gates in the input quantum program\",\n            \"explanation\": \"This includes all T gates and adjoint T gates, but not T gates used to implement rotation gates with arbitrary angle, CCZ gates, or CCiX gates.\",\n            \"label\": \"T gates\",\n            \"path\": \"logicalCounts/tCount\"\n          },\n          {\n            \"description\": \"Number of rotation gates in the input quantum program\",\n            \"explanation\": \"This is the number of all rotation gates. If an angle corresponds to a Pauli, Clifford, or T gate, it is not accounted for in this number.\",\n            \"label\": \"Rotation gates\",\n            \"path\": \"logicalCounts/rotationCount\"\n          },\n          {\n            \"description\": \"Depth of rotation gates in the input quantum program\",\n            \"explanation\": \"This is the number of all non-Clifford layers that include at least one single-qubit rotation gate with an arbitrary angle.\",\n            \"label\": \"Rotation depth\",\n            \"path\": \"logicalCounts/rotationDepth\"\n          },\n          {\n            \"description\": \"Number of CCZ-gates in the input quantum program\",\n            \"explanation\": \"This is the number of CCZ gates.\",\n            \"label\": \"CCZ gates\",\n            \"path\": \"logicalCounts/cczCount\"\n          },\n          {\n            \"description\": \"Number of CCiX-gates in the input quantum program\",\n            \"explanation\": \"This is the number of CCiX gates, which applies $-iX$ controlled on two control qubits [[1212.5069](https://arxiv.org/abs/1212.5069)].\",\n            \"label\": \"CCiX gates\",\n            \"path\": \"logicalCounts/ccixCount\"\n          },\n          {\n            \"description\": \"Number of single qubit measurements in the input quantum program\",\n            \"explanation\": \"This is the number of single qubit measurements in Pauli basis that are used in the input program.  Note that all measurements are counted, however, the measurement result is is determined randomly (with a fixed seed) to be 0 or 1 with a probability of 50%.\",\n            \"label\": \"Measurement operations\",\n            \"path\": \"logicalCounts/measurementCount\"\n          }\n        ],\n        \"title\": \"Pre-layout logical resources\"\n      },\n      {\n        \"alwaysVisible\": false,\n        \"entries\": [\n          {\n            \"description\": \"Total error budget for the algorithm\",\n            \"explanation\": \"The total error budget sets the overall allowed error for the algorithm, i.e., the number of times it is allowed to fail.  Its value must be between 0 and 1 and the default value is 0.001, which corresponds to 0.1%, and means that the algorithm is allowed to fail once in 1000 executions.  This parameter is highly application specific. For example, if one is running Shor's algorithm for factoring integers, a large value for the error budget may be tolerated as one can check that the output are indeed the prime factors of the input.  On the other hand, a much smaller error budget may be needed for an algorithm solving a problem with a solution which cannot be efficiently verified.  This budget $\\\\epsilon = \\\\epsilon_{\\\\log} + \\\\epsilon_{\\\\rm dis} + \\\\epsilon_{\\\\rm syn}$ is uniformly distributed and applies to errors $\\\\epsilon_{\\\\log}$ to implement logical qubits, an error budget $\\\\epsilon_{\\\\rm dis}$ to produce T states through distillation, and an error budget $\\\\epsilon_{\\\\rm syn}$ to synthesize rotation gates with arbitrary angles.  Note that for distillation and rotation synthesis, the respective error budgets $\\\\epsilon_{\\\\rm dis}$ and $\\\\epsilon_{\\\\rm syn}$ are uniformly distributed among all T states and all rotation gates, respectively. If there are no rotation gates in the input algorithm, the error budget is uniformly distributed to logical errors and T state errors.\",\n            \"label\": \"Total error budget\",\n            \"path\": \"physicalCountsFormatted/errorBudget\"\n          },\n          {\n            \"description\": \"Probability of at least one logical error\",\n            \"explanation\": \"This is one third of the total error budget 1.00e-3 if the input algorithm contains rotation with gates with arbitrary angles, or one half of it, otherwise.\",\n            \"label\": \"Logical error probability\",\n            \"path\": \"physicalCountsFormatted/errorBudgetLogical\"\n          },\n          {\n            \"description\": \"Probability of at least one faulty T distillation\",\n            \"explanation\": \"This is one third of the total error budget 1.00e-3 if the input algorithm contains rotation with gates with arbitrary angles, or one half of it, otherwise.\",\n            \"label\": \"T distillation error probability\",\n            \"path\": \"physicalCountsFormatted/errorBudgetTstates\"\n          },\n          {\n            \"description\": \"Probability of at least one failed rotation synthesis\",\n            \"explanation\": \"This is one third of the total error budget 1.00e-3.\",\n            \"label\": \"Rotation synthesis error probability\",\n            \"path\": \"physicalCountsFormatted/errorBudgetRotations\"\n          }\n        ],\n        \"title\": \"Assumed error budget\"\n      },\n      {\n        \"alwaysVisible\": false,\n        \"entries\": [\n          {\n            \"description\": \"Some descriptive name for the qubit model\",\n            \"explanation\": \"You can load pre-defined qubit parameters by using the names `qubit_gate_ns_e3`, `qubit_gate_ns_e4`, `qubit_gate_us_e3`, `qubit_gate_us_e4`, `qubit_maj_ns_e4`, or `qubit_maj_ns_e6`.  The names of these pre-defined qubit parameters indicate the instruction set (gate-based or Majorana), the operation speed (ns or ¬µs regime), as well as the fidelity (e.g., e3 for $10^{-3}$ gate error rates).\",\n            \"label\": \"Qubit name\",\n            \"path\": \"jobParams/qubitParams/name\"\n          },\n          {\n            \"description\": \"Underlying qubit technology (gate-based or Majorana)\",\n            \"explanation\": \"When modeling the physical qubit abstractions, we distinguish between two different physical instruction sets that are used to operate the qubits.  The physical instruction set can be either *gate-based* or *Majorana*.  A gate-based instruction set provides single-qubit measurement, single-qubit gates (incl. T gates), and two-qubit gates.  A Majorana instruction set provides a physical T gate, single-qubit measurement and two-qubit joint measurement operations.\",\n            \"label\": \"Instruction set\",\n            \"path\": \"jobParams/qubitParams/instructionSet\"\n          },\n          {\n            \"description\": \"Operation time for single-qubit measurement (t_meas) in ns\",\n            \"explanation\": \"This is the operation time in nanoseconds to perform a single-qubit measurement in the Pauli basis.\",\n            \"label\": \"Single-qubit measurement time\",\n            \"path\": \"jobParams/qubitParams/oneQubitMeasurementTime\"\n          },\n          {\n            \"description\": \"Operation time for single-qubit gate (t_gate) in ns\",\n            \"explanation\": \"This is the operation time in nanoseconds to perform a single-qubit Clifford operation, e.g., Hadamard or Phase gates.\",\n            \"label\": \"Single-qubit gate time\",\n            \"path\": \"jobParams/qubitParams/oneQubitGateTime\"\n          },\n          {\n            \"description\": \"Operation time for two-qubit gate in ns\",\n            \"explanation\": \"This is the operation time in nanoseconds to perform a two-qubit Clifford operation, e.g., a CNOT or CZ gate.\",\n            \"label\": \"Two-qubit gate time\",\n            \"path\": \"jobParams/qubitParams/twoQubitGateTime\"\n          },\n          {\n            \"description\": \"Operation time for a T gate\",\n            \"explanation\": \"This is the operation time in nanoseconds to execute a T gate.\",\n            \"label\": \"T gate time\",\n            \"path\": \"jobParams/qubitParams/tGateTime\"\n          },\n          {\n            \"description\": \"Error rate for single-qubit measurement\",\n            \"explanation\": \"This is the probability in which a single-qubit measurement in the Pauli basis may fail.\",\n            \"label\": \"Single-qubit measurement error rate\",\n            \"path\": \"jobParams/qubitParams/oneQubitMeasurementErrorRate\"\n          },\n          {\n            \"description\": \"Error rate for single-qubit Clifford gate (p)\",\n            \"explanation\": \"This is the probability in which a single-qubit Clifford operation, e.g., Hadamard or Phase gates, may fail.\",\n            \"label\": \"Single-qubit error rate\",\n            \"path\": \"jobParams/qubitParams/oneQubitGateErrorRate\"\n          },\n          {\n            \"description\": \"Error rate for two-qubit Clifford gate\",\n            \"explanation\": \"This is the probability in which a two-qubit Clifford operation, e.g., CNOT or CZ gates, may fail.\",\n            \"label\": \"Two-qubit error rate\",\n            \"path\": \"jobParams/qubitParams/twoQubitGateErrorRate\"\n          },\n          {\n            \"description\": \"Error rate to prepare single-qubit T state or apply a T gate (p_T)\",\n            \"explanation\": \"This is the probability in which executing a single T gate may fail.\",\n            \"label\": \"T gate error rate\",\n            \"path\": \"jobParams/qubitParams/tGateErrorRate\"\n          }\n        ],\n        \"title\": \"Physical qubit parameters\"\n      }\n    ]\n  },\n  \"status\": \"success\",\n  \"tfactory\": null\n} }",
            "application/x-qsharp-data": "{\"errorBudget\":{\"logical\":0.001,\"rotations\":0.0,\"tstates\":0.0},\"jobParams\":{\"errorBudget\":0.001,\"qecScheme\":{\"crossingPrefactor\":0.03,\"errorCorrectionThreshold\":0.01,\"logicalCycleTime\":\"(4 * twoQubitGateTime + 2 * oneQubitMeasurementTime) * codeDistance\",\"name\":\"surface_code\",\"physicalQubitsPerLogicalQubit\":\"2 * codeDistance * codeDistance\"},\"qubitParams\":{\"instructionSet\":\"GateBased\",\"name\":\"qubit_gate_ns_e3\",\"oneQubitGateErrorRate\":0.001,\"oneQubitGateTime\":\"50 ns\",\"oneQubitMeasurementErrorRate\":0.001,\"oneQubitMeasurementTime\":\"100 ns\",\"tGateErrorRate\":0.001,\"tGateTime\":\"50 ns\",\"twoQubitGateErrorRate\":0.001,\"twoQubitGateTime\":\"50 ns\"}},\"logicalCounts\":{\"ccixCount\":0,\"cczCount\":0,\"measurementCount\":6,\"numQubits\":1,\"rotationCount\":0,\"rotationDepth\":0,\"tCount\":0},\"logicalQubit\":{\"codeDistance\":7,\"logicalCycleTime\":2800.0,\"logicalErrorRate\":3.0000000000000013E-06,\"physicalQubits\":98},\"physicalCounts\":{\"breakdown\":{\"algorithmicLogicalDepth\":6,\"algorithmicLogicalQubits\":6,\"cliffordErrorRate\":0.001,\"logicalDepth\":6,\"numTfactories\":0,\"numTfactoryRuns\":0,\"numTsPerRotation\":null,\"numTstates\":0,\"physicalQubitsForAlgorithm\":588,\"physicalQubitsForTfactories\":0,\"requiredLogicalQubitErrorRate\":2.777777777777778E-05,\"requiredLogicalTstateErrorRate\":null},\"physicalQubits\":588,\"runtime\":16800},\"physicalCountsFormatted\":{\"codeDistancePerRound\":\"No T states in algorithm\",\"errorBudget\":\"1.00e-3\",\"errorBudgetLogical\":\"1.00e-3\",\"errorBudgetRotations\":\"0.00e0\",\"errorBudgetTstates\":\"0.00e0\",\"logicalCycleTime\":\"2us 800ns\",\"logicalErrorRate\":\"3.00e-6\",\"numTsPerRotation\":\"No rotations in algorithm\",\"numUnitsPerRound\":\"No T states in algorithm\",\"physicalQubitsForTfactoriesPercentage\":\"0.00 %\",\"physicalQubitsPerRound\":\"No T states in algorithm\",\"requiredLogicalQubitErrorRate\":\"2.78e-5\",\"requiredLogicalTstateErrorRate\":\"No T states in algorithm\",\"runtime\":\"16us 800ns\",\"tfactoryRuntime\":\"No T states in algorithm\",\"tfactoryRuntimePerRound\":\"No T states in algorithm\",\"tstateLogicalErrorRate\":\"No T states in algorithm\",\"unitNamePerRound\":\"No T states in algorithm\"},\"reportData\":{\"assumptions\":[\"_More details on the following lists of assumptions can be found in the paper [Accessing requirements for scaling quantum computers and their applications](https://aka.ms/AQ/RE/Paper)._\",\"**Uniform independent physical noise.** We assume that the noise on physical qubits and physical qubit operations is the standard circuit noise model. In particular we assume error events at different space-time locations are independent and that error rates are uniform across the system in time and space.\",\"**Efficient classical computation.** We assume that classical overhead (compilation, control, feedback, readout, decoding, etc.) does not dominate the overall cost of implementing the full quantum algorithm.\",\"**Extraction circuits for planar quantum ISA.** We assume that stabilizer extraction circuits with similar depth and error correction performance to those for standard surface and Hastings-Haah code patches can be constructed to implement all operations of the planar quantum ISA (instruction set architecture).\",\"**Uniform independent logical noise.** We assume that the error rate of a logical operation is approximately equal to its space-time volume (the number of tiles multiplied by the number of logical time steps) multiplied by the error rate of a logical qubit in a standard one-tile patch in one logical time step.\",\"**Negligible Clifford costs for synthesis.** We assume that the space overhead for synthesis and space and time overhead for transport of magic states within magic state factories and to synthesis qubits are all negligible.\",\"**Smooth magic state consumption rate.** We assume that the rate of T state consumption throughout the compiled algorithm is almost constant, or can be made almost constant without significantly increasing the number of logical time steps for the algorithm.\"],\"groups\":[{\"alwaysVisible\":true,\"entries\":[{\"description\":\"Number of physical qubits\",\"explanation\":\"This value represents the total number of physical qubits, which is the sum of 588 physical qubits to implement the algorithm logic, and 0 physical qubits to execute the T factories that are responsible to produce the T states that are consumed by the algorithm.\",\"label\":\"Physical qubits\",\"path\":\"physicalCounts/physicalQubits\"},{\"description\":\"Total runtime\",\"explanation\":\"This is a runtime estimate (in nanosecond precision) for the execution time of the algorithm.  In general, the execution time corresponds to the duration of one logical cycle (2us 800ns) multiplied by the 6 logical cycles to run the algorithm.  If however the duration of a single T factory (here: No T states in algorithm) is larger than the algorithm runtime, we extend the number of logical cycles artificially in order to exceed the runtime of a single T factory.\",\"label\":\"Runtime\",\"path\":\"physicalCountsFormatted/runtime\"}],\"title\":\"Physical resource estimates\"},{\"alwaysVisible\":false,\"entries\":[{\"description\":\"Number of logical qubits for the algorithm after layout\",\"explanation\":\"Laying out the logical qubits in the presence of nearest-neighbor constraints requires additional logical qubits.  In particular, to layout the $Q_{\\\\rm alg} = 1$ logical qubits in the input algorithm, we require in total $2 \\\\cdot Q_{\\\\rm alg} + \\\\lceil \\\\sqrt{8 \\\\cdot Q_{\\\\rm alg}}\\\\rceil + 1 = 6$ logical qubits.\",\"label\":\"Logical algorithmic qubits\",\"path\":\"physicalCounts/breakdown/algorithmicLogicalQubits\"},{\"description\":\"Number of logical cycles for the algorithm\",\"explanation\":\"To execute the algorithm using _Parallel Synthesis Sequential Pauli Computation_ (PSSPC), operations are scheduled in terms of multi-qubit Pauli measurements, for which assume an execution time of one logical cycle.  Based on the input algorithm, we require one multi-qubit measurement for the 6 single-qubit measurements, the 0 arbitrary single-qubit rotations, and the 0 T gates, three multi-qubit measurements for each of the 0 CCZ and 0 CCiX gates in the input program, as well as No rotations in algorithm multi-qubit measurements for each of the 0 non-Clifford layers in which there is at least one single-qubit rotation with an arbitrary angle rotation.\",\"label\":\"Algorithmic depth\",\"path\":\"physicalCounts/breakdown/algorithmicLogicalDepth\"},{\"description\":\"Number of logical cycles performed\",\"explanation\":\"This number is usually equal to the logical depth of the algorithm, which is 6.  However, in the case in which a single T factory is slower than the execution time of the algorithm, we adjust the logical cycle depth to exceed the T factory's execution time.\",\"label\":\"Logical depth\",\"path\":\"physicalCounts/breakdown/logicalDepth\"},{\"description\":\"Number of T states consumed by the algorithm\",\"explanation\":\"To execute the algorithm, we require one T state for each of the 0 T gates, four T states for each of the 0 CCZ and 0 CCiX gates, as well as No rotations in algorithm for each of the 0 single-qubit rotation gates with arbitrary angle rotation.\",\"label\":\"Number of T states\",\"path\":\"physicalCounts/breakdown/numTstates\"},{\"description\":\"Number of T factories capable of producing the demanded 0 T states during the algorithm's runtime\",\"explanation\":\"The total number of T factories 0 that are executed in parallel is computed as $\\\\left\\\\lceil\\\\dfrac{0\\\\;\\\\text{T states} \\\\cdot No T states in algorithm\\\\;\\\\text{T factory duration}}{0\\\\;\\\\text{T states per T factory} \\\\cdot 16us 800ns\\\\;\\\\text{algorithm runtime}}\\\\right\\\\rceil$\",\"label\":\"Number of T factories\",\"path\":\"physicalCounts/breakdown/numTfactories\"},{\"description\":\"Number of times all T factories are invoked\",\"explanation\":\"In order to prepare the 0 T states, the 0 copies of the T factory are repeatedly invoked 0 times.\",\"label\":\"Number of T factory invocations\",\"path\":\"physicalCounts/breakdown/numTfactoryRuns\"},{\"description\":\"Number of physical qubits for the algorithm after layout\",\"explanation\":\"The 588 are the product of the 6 logical qubits after layout and the 98 physical qubits that encode a single logical qubit.\",\"label\":\"Physical algorithmic qubits\",\"path\":\"physicalCounts/breakdown/physicalQubitsForAlgorithm\"},{\"description\":\"Number of physical qubits for the T factories\",\"explanation\":\"Each T factory requires 0 physical qubits and we run 0 in parallel, therefore we need $0 = 0 \\\\cdot 0$ qubits.\",\"label\":\"Physical T factory qubits\",\"path\":\"physicalCounts/breakdown/physicalQubitsForTfactories\"},{\"description\":\"The minimum logical qubit error rate required to run the algorithm within the error budget\",\"explanation\":\"The minimum logical qubit error rate is obtained by dividing the logical error probability 1.00e-3 by the product of 6 logical qubits and the total cycle count 6.\",\"label\":\"Required logical qubit error rate\",\"path\":\"physicalCountsFormatted/requiredLogicalQubitErrorRate\"},{\"description\":\"The minimum T state error rate required for distilled T states\",\"explanation\":\"The minimum T state error rate is obtained by dividing the T distillation error probability 0.00e0 by the total number of T states 0.\",\"label\":\"Required logical T state error rate\",\"path\":\"physicalCountsFormatted/requiredLogicalTstateErrorRate\"},{\"description\":\"Number of T states to implement a rotation with an arbitrary angle\",\"explanation\":\"The number of T states to implement a rotation with an arbitrary angle is $\\\\lceil 0.53 \\\\log_2(0 / 0) + 5.3\\\\rceil$ [[arXiv:2203.10064](https://arxiv.org/abs/2203.10064)].  For simplicity, we use this formula for all single-qubit arbitrary angle rotations, and do not distinguish between best, worst, and average cases.\",\"label\":\"Number of T states per rotation\",\"path\":\"physicalCountsFormatted/numTsPerRotation\"}],\"title\":\"Resource estimates breakdown\"},{\"alwaysVisible\":false,\"entries\":[{\"description\":\"Name of QEC scheme\",\"explanation\":\"You can load pre-defined QEC schemes by using the name `surface_code` or `floquet_code`. The latter only works with Majorana qubits.\",\"label\":\"QEC scheme\",\"path\":\"jobParams/qecScheme/name\"},{\"description\":\"Required code distance for error correction\",\"explanation\":\"The code distance is the smallest odd integer greater or equal to $\\\\dfrac{2\\\\log(0.03 / 0.00002777777777777778)}{\\\\log(0.01/0.001)} - 1$\",\"label\":\"Code distance\",\"path\":\"logicalQubit/codeDistance\"},{\"description\":\"Number of physical qubits per logical qubit\",\"explanation\":\"The number of physical qubits per logical qubit are evaluated using the formula 2 * codeDistance * codeDistance that can be user-specified.\",\"label\":\"Physical qubits\",\"path\":\"logicalQubit/physicalQubits\"},{\"description\":\"Duration of a logical cycle in nanoseconds\",\"explanation\":\"The runtime of one logical cycle in nanoseconds is evaluated using the formula (4 * twoQubitGateTime + 2 * oneQubitMeasurementTime) * codeDistance that can be user-specified.\",\"label\":\"Logical cycle time\",\"path\":\"physicalCountsFormatted/logicalCycleTime\"},{\"description\":\"Logical qubit error rate\",\"explanation\":\"The logical qubit error rate is computed as $0.03 \\\\cdot \\\\left(\\\\dfrac{0.001}{0.01}\\\\right)^\\\\frac{7 + 1}{2}$\",\"label\":\"Logical qubit error rate\",\"path\":\"physicalCountsFormatted/logicalErrorRate\"},{\"description\":\"Crossing prefactor used in QEC scheme\",\"explanation\":\"The crossing prefactor is usually extracted numerically from simulations when fitting an exponential curve to model the relationship between logical and physical error rate.\",\"label\":\"Crossing prefactor\",\"path\":\"jobParams/qecScheme/crossingPrefactor\"},{\"description\":\"Error correction threshold used in QEC scheme\",\"explanation\":\"The error correction threshold is the physical error rate below which the error rate of the logical qubit is less than the error rate of the physical qubit that constitute it.  This value is usually extracted numerically from simulations of the logical error rate.\",\"label\":\"Error correction threshold\",\"path\":\"jobParams/qecScheme/errorCorrectionThreshold\"},{\"description\":\"QEC scheme formula used to compute logical cycle time\",\"explanation\":\"This is the formula that is used to compute the logical cycle time 2us 800ns.\",\"label\":\"Logical cycle time formula\",\"path\":\"jobParams/qecScheme/logicalCycleTime\"},{\"description\":\"QEC scheme formula used to compute number of physical qubits per logical qubit\",\"explanation\":\"This is the formula that is used to compute the number of physical qubits per logical qubits 98.\",\"label\":\"Physical qubits formula\",\"path\":\"jobParams/qecScheme/physicalQubitsPerLogicalQubit\"}],\"title\":\"Logical qubit parameters\"},{\"alwaysVisible\":false,\"entries\":[{\"description\":\"Number of logical qubits in the input quantum program\",\"explanation\":\"We determine 6 from this number by assuming to align them in a 2D grid.  Auxiliary qubits are added to allow for sufficient space to execute multi-qubit Pauli measurements on all or a subset of the logical qubits.\",\"label\":\"Logical qubits (pre-layout)\",\"path\":\"logicalCounts/numQubits\"},{\"description\":\"Number of T gates in the input quantum program\",\"explanation\":\"This includes all T gates and adjoint T gates, but not T gates used to implement rotation gates with arbitrary angle, CCZ gates, or CCiX gates.\",\"label\":\"T gates\",\"path\":\"logicalCounts/tCount\"},{\"description\":\"Number of rotation gates in the input quantum program\",\"explanation\":\"This is the number of all rotation gates. If an angle corresponds to a Pauli, Clifford, or T gate, it is not accounted for in this number.\",\"label\":\"Rotation gates\",\"path\":\"logicalCounts/rotationCount\"},{\"description\":\"Depth of rotation gates in the input quantum program\",\"explanation\":\"This is the number of all non-Clifford layers that include at least one single-qubit rotation gate with an arbitrary angle.\",\"label\":\"Rotation depth\",\"path\":\"logicalCounts/rotationDepth\"},{\"description\":\"Number of CCZ-gates in the input quantum program\",\"explanation\":\"This is the number of CCZ gates.\",\"label\":\"CCZ gates\",\"path\":\"logicalCounts/cczCount\"},{\"description\":\"Number of CCiX-gates in the input quantum program\",\"explanation\":\"This is the number of CCiX gates, which applies $-iX$ controlled on two control qubits [[1212.5069](https://arxiv.org/abs/1212.5069)].\",\"label\":\"CCiX gates\",\"path\":\"logicalCounts/ccixCount\"},{\"description\":\"Number of single qubit measurements in the input quantum program\",\"explanation\":\"This is the number of single qubit measurements in Pauli basis that are used in the input program.  Note that all measurements are counted, however, the measurement result is is determined randomly (with a fixed seed) to be 0 or 1 with a probability of 50%.\",\"label\":\"Measurement operations\",\"path\":\"logicalCounts/measurementCount\"}],\"title\":\"Pre-layout logical resources\"},{\"alwaysVisible\":false,\"entries\":[{\"description\":\"Total error budget for the algorithm\",\"explanation\":\"The total error budget sets the overall allowed error for the algorithm, i.e., the number of times it is allowed to fail.  Its value must be between 0 and 1 and the default value is 0.001, which corresponds to 0.1%, and means that the algorithm is allowed to fail once in 1000 executions.  This parameter is highly application specific. For example, if one is running Shor's algorithm for factoring integers, a large value for the error budget may be tolerated as one can check that the output are indeed the prime factors of the input.  On the other hand, a much smaller error budget may be needed for an algorithm solving a problem with a solution which cannot be efficiently verified.  This budget $\\\\epsilon = \\\\epsilon_{\\\\log} + \\\\epsilon_{\\\\rm dis} + \\\\epsilon_{\\\\rm syn}$ is uniformly distributed and applies to errors $\\\\epsilon_{\\\\log}$ to implement logical qubits, an error budget $\\\\epsilon_{\\\\rm dis}$ to produce T states through distillation, and an error budget $\\\\epsilon_{\\\\rm syn}$ to synthesize rotation gates with arbitrary angles.  Note that for distillation and rotation synthesis, the respective error budgets $\\\\epsilon_{\\\\rm dis}$ and $\\\\epsilon_{\\\\rm syn}$ are uniformly distributed among all T states and all rotation gates, respectively. If there are no rotation gates in the input algorithm, the error budget is uniformly distributed to logical errors and T state errors.\",\"label\":\"Total error budget\",\"path\":\"physicalCountsFormatted/errorBudget\"},{\"description\":\"Probability of at least one logical error\",\"explanation\":\"This is one third of the total error budget 1.00e-3 if the input algorithm contains rotation with gates with arbitrary angles, or one half of it, otherwise.\",\"label\":\"Logical error probability\",\"path\":\"physicalCountsFormatted/errorBudgetLogical\"},{\"description\":\"Probability of at least one faulty T distillation\",\"explanation\":\"This is one third of the total error budget 1.00e-3 if the input algorithm contains rotation with gates with arbitrary angles, or one half of it, otherwise.\",\"label\":\"T distillation error probability\",\"path\":\"physicalCountsFormatted/errorBudgetTstates\"},{\"description\":\"Probability of at least one failed rotation synthesis\",\"explanation\":\"This is one third of the total error budget 1.00e-3.\",\"label\":\"Rotation synthesis error probability\",\"path\":\"physicalCountsFormatted/errorBudgetRotations\"}],\"title\":\"Assumed error budget\"},{\"alwaysVisible\":false,\"entries\":[{\"description\":\"Some descriptive name for the qubit model\",\"explanation\":\"You can load pre-defined qubit parameters by using the names `qubit_gate_ns_e3`, `qubit_gate_ns_e4`, `qubit_gate_us_e3`, `qubit_gate_us_e4`, `qubit_maj_ns_e4`, or `qubit_maj_ns_e6`.  The names of these pre-defined qubit parameters indicate the instruction set (gate-based or Majorana), the operation speed (ns or ¬µs regime), as well as the fidelity (e.g., e3 for $10^{-3}$ gate error rates).\",\"label\":\"Qubit name\",\"path\":\"jobParams/qubitParams/name\"},{\"description\":\"Underlying qubit technology (gate-based or Majorana)\",\"explanation\":\"When modeling the physical qubit abstractions, we distinguish between two different physical instruction sets that are used to operate the qubits.  The physical instruction set can be either *gate-based* or *Majorana*.  A gate-based instruction set provides single-qubit measurement, single-qubit gates (incl. T gates), and two-qubit gates.  A Majorana instruction set provides a physical T gate, single-qubit measurement and two-qubit joint measurement operations.\",\"label\":\"Instruction set\",\"path\":\"jobParams/qubitParams/instructionSet\"},{\"description\":\"Operation time for single-qubit measurement (t_meas) in ns\",\"explanation\":\"This is the operation time in nanoseconds to perform a single-qubit measurement in the Pauli basis.\",\"label\":\"Single-qubit measurement time\",\"path\":\"jobParams/qubitParams/oneQubitMeasurementTime\"},{\"description\":\"Operation time for single-qubit gate (t_gate) in ns\",\"explanation\":\"This is the operation time in nanoseconds to perform a single-qubit Clifford operation, e.g., Hadamard or Phase gates.\",\"label\":\"Single-qubit gate time\",\"path\":\"jobParams/qubitParams/oneQubitGateTime\"},{\"description\":\"Operation time for two-qubit gate in ns\",\"explanation\":\"This is the operation time in nanoseconds to perform a two-qubit Clifford operation, e.g., a CNOT or CZ gate.\",\"label\":\"Two-qubit gate time\",\"path\":\"jobParams/qubitParams/twoQubitGateTime\"},{\"description\":\"Operation time for a T gate\",\"explanation\":\"This is the operation time in nanoseconds to execute a T gate.\",\"label\":\"T gate time\",\"path\":\"jobParams/qubitParams/tGateTime\"},{\"description\":\"Error rate for single-qubit measurement\",\"explanation\":\"This is the probability in which a single-qubit measurement in the Pauli basis may fail.\",\"label\":\"Single-qubit measurement error rate\",\"path\":\"jobParams/qubitParams/oneQubitMeasurementErrorRate\"},{\"description\":\"Error rate for single-qubit Clifford gate (p)\",\"explanation\":\"This is the probability in which a single-qubit Clifford operation, e.g., Hadamard or Phase gates, may fail.\",\"label\":\"Single-qubit error rate\",\"path\":\"jobParams/qubitParams/oneQubitGateErrorRate\"},{\"description\":\"Error rate for two-qubit Clifford gate\",\"explanation\":\"This is the probability in which a two-qubit Clifford operation, e.g., CNOT or CZ gates, may fail.\",\"label\":\"Two-qubit error rate\",\"path\":\"jobParams/qubitParams/twoQubitGateErrorRate\"},{\"description\":\"Error rate to prepare single-qubit T state or apply a T gate (p_T)\",\"explanation\":\"This is the probability in which executing a single T gate may fail.\",\"label\":\"T gate error rate\",\"path\":\"jobParams/qubitParams/tGateErrorRate\"}],\"title\":\"Physical qubit parameters\"}]},\"status\":\"success\",\"tfactory\":null}"
          },
          "metadata": {
            "text/plain": {},
            "application/x-qsharp-data": {}
          }
        }
      ],
      "execution_count": 25,
      "metadata": {
        "jupyter": {
          "source_hidden": false,
          "outputs_hidden": true
        },
        "nteract": {
          "transient": {
            "deleting": false
          }
        }
      }
    },
    {
      "cell_type": "code",
      "source": [
        "%azure.execute shorImplementatonTest n=15"
      ],
      "outputs": [
        {
          "output_type": "stream",
          "name": "stdout",
          "text": "Submitting shorImplementatonTest to target microsoft.estimator...\nJob successfully submitted.\n   Job name: shorImplementatonTest\n   Job ID: d08b136c-d92b-419f-8a34-d2b4d25bfa80\nWaiting up to 300 seconds for Azure Quantum job to complete...\n[22:30:01] Current job status: Waiting\n[22:30:06] Current job status: Succeeded\n"
        },
        {
          "output_type": "execute_result",
          "execution_count": 54,
          "data": {
            "text/plain": "ResourceEstimationResult { RawJson = {\n  \"errorBudget\": {\n    \"logical\": 0.001,\n    \"rotations\": 0.0,\n    \"tstates\": 0.0\n  },\n  \"jobParams\": {\n    \"errorBudget\": 0.001,\n    \"qecScheme\": {\n      \"crossingPrefactor\": 0.03,\n      \"errorCorrectionThreshold\": 0.01,\n      \"logicalCycleTime\": \"(4 * twoQubitGateTime + 2 * oneQubitMeasurementTime) * codeDistance\",\n      \"name\": \"surface_code\",\n      \"physicalQubitsPerLogicalQubit\": \"2 * codeDistance * codeDistance\"\n    },\n    \"qubitParams\": {\n      \"instructionSet\": \"GateBased\",\n      \"name\": \"qubit_gate_ns_e3\",\n      \"oneQubitGateErrorRate\": 0.001,\n      \"oneQubitGateTime\": \"50 ns\",\n      \"oneQubitMeasurementErrorRate\": 0.001,\n      \"oneQubitMeasurementTime\": \"100 ns\",\n      \"tGateErrorRate\": 0.001,\n      \"tGateTime\": \"50 ns\",\n      \"twoQubitGateErrorRate\": 0.001,\n      \"twoQubitGateTime\": \"50 ns\"\n    }\n  },\n  \"logicalCounts\": {\n    \"ccixCount\": 0,\n    \"cczCount\": 0,\n    \"measurementCount\": 6,\n    \"numQubits\": 1,\n    \"rotationCount\": 0,\n    \"rotationDepth\": 0,\n    \"tCount\": 0\n  },\n  \"logicalQubit\": {\n    \"codeDistance\": 7,\n    \"logicalCycleTime\": 2800.0,\n    \"logicalErrorRate\": 3.0000000000000013E-06,\n    \"physicalQubits\": 98\n  },\n  \"physicalCounts\": {\n    \"breakdown\": {\n      \"algorithmicLogicalDepth\": 6,\n      \"algorithmicLogicalQubits\": 6,\n      \"cliffordErrorRate\": 0.001,\n      \"logicalDepth\": 6,\n      \"numTfactories\": 0,\n      \"numTfactoryRuns\": 0,\n      \"numTsPerRotation\": null,\n      \"numTstates\": 0,\n      \"physicalQubitsForAlgorithm\": 588,\n      \"physicalQubitsForTfactories\": 0,\n      \"requiredLogicalQubitErrorRate\": 2.777777777777778E-05,\n      \"requiredLogicalTstateErrorRate\": null\n    },\n    \"physicalQubits\": 588,\n    \"runtime\": 16800\n  },\n  \"physicalCountsFormatted\": {\n    \"codeDistancePerRound\": \"No T states in algorithm\",\n    \"errorBudget\": \"1.00e-3\",\n    \"errorBudgetLogical\": \"1.00e-3\",\n    \"errorBudgetRotations\": \"0.00e0\",\n    \"errorBudgetTstates\": \"0.00e0\",\n    \"logicalCycleTime\": \"2us 800ns\",\n    \"logicalErrorRate\": \"3.00e-6\",\n    \"numTsPerRotation\": \"No rotations in algorithm\",\n    \"numUnitsPerRound\": \"No T states in algorithm\",\n    \"physicalQubitsForTfactoriesPercentage\": \"0.00 %\",\n    \"physicalQubitsPerRound\": \"No T states in algorithm\",\n    \"requiredLogicalQubitErrorRate\": \"2.78e-5\",\n    \"requiredLogicalTstateErrorRate\": \"No T states in algorithm\",\n    \"runtime\": \"16us 800ns\",\n    \"tfactoryRuntime\": \"No T states in algorithm\",\n    \"tfactoryRuntimePerRound\": \"No T states in algorithm\",\n    \"tstateLogicalErrorRate\": \"No T states in algorithm\",\n    \"unitNamePerRound\": \"No T states in algorithm\"\n  },\n  \"reportData\": {\n    \"assumptions\": [\n      \"_More details on the following lists of assumptions can be found in the paper [Accessing requirements for scaling quantum computers and their applications](https://aka.ms/AQ/RE/Paper)._\",\n      \"**Uniform independent physical noise.** We assume that the noise on physical qubits and physical qubit operations is the standard circuit noise model. In particular we assume error events at different space-time locations are independent and that error rates are uniform across the system in time and space.\",\n      \"**Efficient classical computation.** We assume that classical overhead (compilation, control, feedback, readout, decoding, etc.) does not dominate the overall cost of implementing the full quantum algorithm.\",\n      \"**Extraction circuits for planar quantum ISA.** We assume that stabilizer extraction circuits with similar depth and error correction performance to those for standard surface and Hastings-Haah code patches can be constructed to implement all operations of the planar quantum ISA (instruction set architecture).\",\n      \"**Uniform independent logical noise.** We assume that the error rate of a logical operation is approximately equal to its space-time volume (the number of tiles multiplied by the number of logical time steps) multiplied by the error rate of a logical qubit in a standard one-tile patch in one logical time step.\",\n      \"**Negligible Clifford costs for synthesis.** We assume that the space overhead for synthesis and space and time overhead for transport of magic states within magic state factories and to synthesis qubits are all negligible.\",\n      \"**Smooth magic state consumption rate.** We assume that the rate of T state consumption throughout the compiled algorithm is almost constant, or can be made almost constant without significantly increasing the number of logical time steps for the algorithm.\"\n    ],\n    \"groups\": [\n      {\n        \"alwaysVisible\": true,\n        \"entries\": [\n          {\n            \"description\": \"Number of physical qubits\",\n            \"explanation\": \"This value represents the total number of physical qubits, which is the sum of 588 physical qubits to implement the algorithm logic, and 0 physical qubits to execute the T factories that are responsible to produce the T states that are consumed by the algorithm.\",\n            \"label\": \"Physical qubits\",\n            \"path\": \"physicalCounts/physicalQubits\"\n          },\n          {\n            \"description\": \"Total runtime\",\n            \"explanation\": \"This is a runtime estimate (in nanosecond precision) for the execution time of the algorithm.  In general, the execution time corresponds to the duration of one logical cycle (2us 800ns) multiplied by the 6 logical cycles to run the algorithm.  If however the duration of a single T factory (here: No T states in algorithm) is larger than the algorithm runtime, we extend the number of logical cycles artificially in order to exceed the runtime of a single T factory.\",\n            \"label\": \"Runtime\",\n            \"path\": \"physicalCountsFormatted/runtime\"\n          }\n        ],\n        \"title\": \"Physical resource estimates\"\n      },\n      {\n        \"alwaysVisible\": false,\n        \"entries\": [\n          {\n            \"description\": \"Number of logical qubits for the algorithm after layout\",\n            \"explanation\": \"Laying out the logical qubits in the presence of nearest-neighbor constraints requires additional logical qubits.  In particular, to layout the $Q_{\\\\rm alg} = 1$ logical qubits in the input algorithm, we require in total $2 \\\\cdot Q_{\\\\rm alg} + \\\\lceil \\\\sqrt{8 \\\\cdot Q_{\\\\rm alg}}\\\\rceil + 1 = 6$ logical qubits.\",\n            \"label\": \"Logical algorithmic qubits\",\n            \"path\": \"physicalCounts/breakdown/algorithmicLogicalQubits\"\n          },\n          {\n            \"description\": \"Number of logical cycles for the algorithm\",\n            \"explanation\": \"To execute the algorithm using _Parallel Synthesis Sequential Pauli Computation_ (PSSPC), operations are scheduled in terms of multi-qubit Pauli measurements, for which assume an execution time of one logical cycle.  Based on the input algorithm, we require one multi-qubit measurement for the 6 single-qubit measurements, the 0 arbitrary single-qubit rotations, and the 0 T gates, three multi-qubit measurements for each of the 0 CCZ and 0 CCiX gates in the input program, as well as No rotations in algorithm multi-qubit measurements for each of the 0 non-Clifford layers in which there is at least one single-qubit rotation with an arbitrary angle rotation.\",\n            \"label\": \"Algorithmic depth\",\n            \"path\": \"physicalCounts/breakdown/algorithmicLogicalDepth\"\n          },\n          {\n            \"description\": \"Number of logical cycles performed\",\n            \"explanation\": \"This number is usually equal to the logical depth of the algorithm, which is 6.  However, in the case in which a single T factory is slower than the execution time of the algorithm, we adjust the logical cycle depth to exceed the T factory's execution time.\",\n            \"label\": \"Logical depth\",\n            \"path\": \"physicalCounts/breakdown/logicalDepth\"\n          },\n          {\n            \"description\": \"Number of T states consumed by the algorithm\",\n            \"explanation\": \"To execute the algorithm, we require one T state for each of the 0 T gates, four T states for each of the 0 CCZ and 0 CCiX gates, as well as No rotations in algorithm for each of the 0 single-qubit rotation gates with arbitrary angle rotation.\",\n            \"label\": \"Number of T states\",\n            \"path\": \"physicalCounts/breakdown/numTstates\"\n          },\n          {\n            \"description\": \"Number of T factories capable of producing the demanded 0 T states during the algorithm's runtime\",\n            \"explanation\": \"The total number of T factories 0 that are executed in parallel is computed as $\\\\left\\\\lceil\\\\dfrac{0\\\\;\\\\text{T states} \\\\cdot No T states in algorithm\\\\;\\\\text{T factory duration}}{0\\\\;\\\\text{T states per T factory} \\\\cdot 16us 800ns\\\\;\\\\text{algorithm runtime}}\\\\right\\\\rceil$\",\n            \"label\": \"Number of T factories\",\n            \"path\": \"physicalCounts/breakdown/numTfactories\"\n          },\n          {\n            \"description\": \"Number of times all T factories are invoked\",\n            \"explanation\": \"In order to prepare the 0 T states, the 0 copies of the T factory are repeatedly invoked 0 times.\",\n            \"label\": \"Number of T factory invocations\",\n            \"path\": \"physicalCounts/breakdown/numTfactoryRuns\"\n          },\n          {\n            \"description\": \"Number of physical qubits for the algorithm after layout\",\n            \"explanation\": \"The 588 are the product of the 6 logical qubits after layout and the 98 physical qubits that encode a single logical qubit.\",\n            \"label\": \"Physical algorithmic qubits\",\n            \"path\": \"physicalCounts/breakdown/physicalQubitsForAlgorithm\"\n          },\n          {\n            \"description\": \"Number of physical qubits for the T factories\",\n            \"explanation\": \"Each T factory requires 0 physical qubits and we run 0 in parallel, therefore we need $0 = 0 \\\\cdot 0$ qubits.\",\n            \"label\": \"Physical T factory qubits\",\n            \"path\": \"physicalCounts/breakdown/physicalQubitsForTfactories\"\n          },\n          {\n            \"description\": \"The minimum logical qubit error rate required to run the algorithm within the error budget\",\n            \"explanation\": \"The minimum logical qubit error rate is obtained by dividing the logical error probability 1.00e-3 by the product of 6 logical qubits and the total cycle count 6.\",\n            \"label\": \"Required logical qubit error rate\",\n            \"path\": \"physicalCountsFormatted/requiredLogicalQubitErrorRate\"\n          },\n          {\n            \"description\": \"The minimum T state error rate required for distilled T states\",\n            \"explanation\": \"The minimum T state error rate is obtained by dividing the T distillation error probability 0.00e0 by the total number of T states 0.\",\n            \"label\": \"Required logical T state error rate\",\n            \"path\": \"physicalCountsFormatted/requiredLogicalTstateErrorRate\"\n          },\n          {\n            \"description\": \"Number of T states to implement a rotation with an arbitrary angle\",\n            \"explanation\": \"The number of T states to implement a rotation with an arbitrary angle is $\\\\lceil 0.53 \\\\log_2(0 / 0) + 5.3\\\\rceil$ [[arXiv:2203.10064](https://arxiv.org/abs/2203.10064)].  For simplicity, we use this formula for all single-qubit arbitrary angle rotations, and do not distinguish between best, worst, and average cases.\",\n            \"label\": \"Number of T states per rotation\",\n            \"path\": \"physicalCountsFormatted/numTsPerRotation\"\n          }\n        ],\n        \"title\": \"Resource estimates breakdown\"\n      },\n      {\n        \"alwaysVisible\": false,\n        \"entries\": [\n          {\n            \"description\": \"Name of QEC scheme\",\n            \"explanation\": \"You can load pre-defined QEC schemes by using the name `surface_code` or `floquet_code`. The latter only works with Majorana qubits.\",\n            \"label\": \"QEC scheme\",\n            \"path\": \"jobParams/qecScheme/name\"\n          },\n          {\n            \"description\": \"Required code distance for error correction\",\n            \"explanation\": \"The code distance is the smallest odd integer greater or equal to $\\\\dfrac{2\\\\log(0.03 / 0.00002777777777777778)}{\\\\log(0.01/0.001)} - 1$\",\n            \"label\": \"Code distance\",\n            \"path\": \"logicalQubit/codeDistance\"\n          },\n          {\n            \"description\": \"Number of physical qubits per logical qubit\",\n            \"explanation\": \"The number of physical qubits per logical qubit are evaluated using the formula 2 * codeDistance * codeDistance that can be user-specified.\",\n            \"label\": \"Physical qubits\",\n            \"path\": \"logicalQubit/physicalQubits\"\n          },\n          {\n            \"description\": \"Duration of a logical cycle in nanoseconds\",\n            \"explanation\": \"The runtime of one logical cycle in nanoseconds is evaluated using the formula (4 * twoQubitGateTime + 2 * oneQubitMeasurementTime) * codeDistance that can be user-specified.\",\n            \"label\": \"Logical cycle time\",\n            \"path\": \"physicalCountsFormatted/logicalCycleTime\"\n          },\n          {\n            \"description\": \"Logical qubit error rate\",\n            \"explanation\": \"The logical qubit error rate is computed as $0.03 \\\\cdot \\\\left(\\\\dfrac{0.001}{0.01}\\\\right)^\\\\frac{7 + 1}{2}$\",\n            \"label\": \"Logical qubit error rate\",\n            \"path\": \"physicalCountsFormatted/logicalErrorRate\"\n          },\n          {\n            \"description\": \"Crossing prefactor used in QEC scheme\",\n            \"explanation\": \"The crossing prefactor is usually extracted numerically from simulations when fitting an exponential curve to model the relationship between logical and physical error rate.\",\n            \"label\": \"Crossing prefactor\",\n            \"path\": \"jobParams/qecScheme/crossingPrefactor\"\n          },\n          {\n            \"description\": \"Error correction threshold used in QEC scheme\",\n            \"explanation\": \"The error correction threshold is the physical error rate below which the error rate of the logical qubit is less than the error rate of the physical qubit that constitute it.  This value is usually extracted numerically from simulations of the logical error rate.\",\n            \"label\": \"Error correction threshold\",\n            \"path\": \"jobParams/qecScheme/errorCorrectionThreshold\"\n          },\n          {\n            \"description\": \"QEC scheme formula used to compute logical cycle time\",\n            \"explanation\": \"This is the formula that is used to compute the logical cycle time 2us 800ns.\",\n            \"label\": \"Logical cycle time formula\",\n            \"path\": \"jobParams/qecScheme/logicalCycleTime\"\n          },\n          {\n            \"description\": \"QEC scheme formula used to compute number of physical qubits per logical qubit\",\n            \"explanation\": \"This is the formula that is used to compute the number of physical qubits per logical qubits 98.\",\n            \"label\": \"Physical qubits formula\",\n            \"path\": \"jobParams/qecScheme/physicalQubitsPerLogicalQubit\"\n          }\n        ],\n        \"title\": \"Logical qubit parameters\"\n      },\n      {\n        \"alwaysVisible\": false,\n        \"entries\": [\n          {\n            \"description\": \"Number of logical qubits in the input quantum program\",\n            \"explanation\": \"We determine 6 from this number by assuming to align them in a 2D grid.  Auxiliary qubits are added to allow for sufficient space to execute multi-qubit Pauli measurements on all or a subset of the logical qubits.\",\n            \"label\": \"Logical qubits (pre-layout)\",\n            \"path\": \"logicalCounts/numQubits\"\n          },\n          {\n            \"description\": \"Number of T gates in the input quantum program\",\n            \"explanation\": \"This includes all T gates and adjoint T gates, but not T gates used to implement rotation gates with arbitrary angle, CCZ gates, or CCiX gates.\",\n            \"label\": \"T gates\",\n            \"path\": \"logicalCounts/tCount\"\n          },\n          {\n            \"description\": \"Number of rotation gates in the input quantum program\",\n            \"explanation\": \"This is the number of all rotation gates. If an angle corresponds to a Pauli, Clifford, or T gate, it is not accounted for in this number.\",\n            \"label\": \"Rotation gates\",\n            \"path\": \"logicalCounts/rotationCount\"\n          },\n          {\n            \"description\": \"Depth of rotation gates in the input quantum program\",\n            \"explanation\": \"This is the number of all non-Clifford layers that include at least one single-qubit rotation gate with an arbitrary angle.\",\n            \"label\": \"Rotation depth\",\n            \"path\": \"logicalCounts/rotationDepth\"\n          },\n          {\n            \"description\": \"Number of CCZ-gates in the input quantum program\",\n            \"explanation\": \"This is the number of CCZ gates.\",\n            \"label\": \"CCZ gates\",\n            \"path\": \"logicalCounts/cczCount\"\n          },\n          {\n            \"description\": \"Number of CCiX-gates in the input quantum program\",\n            \"explanation\": \"This is the number of CCiX gates, which applies $-iX$ controlled on two control qubits [[1212.5069](https://arxiv.org/abs/1212.5069)].\",\n            \"label\": \"CCiX gates\",\n            \"path\": \"logicalCounts/ccixCount\"\n          },\n          {\n            \"description\": \"Number of single qubit measurements in the input quantum program\",\n            \"explanation\": \"This is the number of single qubit measurements in Pauli basis that are used in the input program.  Note that all measurements are counted, however, the measurement result is is determined randomly (with a fixed seed) to be 0 or 1 with a probability of 50%.\",\n            \"label\": \"Measurement operations\",\n            \"path\": \"logicalCounts/measurementCount\"\n          }\n        ],\n        \"title\": \"Pre-layout logical resources\"\n      },\n      {\n        \"alwaysVisible\": false,\n        \"entries\": [\n          {\n            \"description\": \"Total error budget for the algorithm\",\n            \"explanation\": \"The total error budget sets the overall allowed error for the algorithm, i.e., the number of times it is allowed to fail.  Its value must be between 0 and 1 and the default value is 0.001, which corresponds to 0.1%, and means that the algorithm is allowed to fail once in 1000 executions.  This parameter is highly application specific. For example, if one is running Shor's algorithm for factoring integers, a large value for the error budget may be tolerated as one can check that the output are indeed the prime factors of the input.  On the other hand, a much smaller error budget may be needed for an algorithm solving a problem with a solution which cannot be efficiently verified.  This budget $\\\\epsilon = \\\\epsilon_{\\\\log} + \\\\epsilon_{\\\\rm dis} + \\\\epsilon_{\\\\rm syn}$ is uniformly distributed and applies to errors $\\\\epsilon_{\\\\log}$ to implement logical qubits, an error budget $\\\\epsilon_{\\\\rm dis}$ to produce T states through distillation, and an error budget $\\\\epsilon_{\\\\rm syn}$ to synthesize rotation gates with arbitrary angles.  Note that for distillation and rotation synthesis, the respective error budgets $\\\\epsilon_{\\\\rm dis}$ and $\\\\epsilon_{\\\\rm syn}$ are uniformly distributed among all T states and all rotation gates, respectively. If there are no rotation gates in the input algorithm, the error budget is uniformly distributed to logical errors and T state errors.\",\n            \"label\": \"Total error budget\",\n            \"path\": \"physicalCountsFormatted/errorBudget\"\n          },\n          {\n            \"description\": \"Probability of at least one logical error\",\n            \"explanation\": \"This is one third of the total error budget 1.00e-3 if the input algorithm contains rotation with gates with arbitrary angles, or one half of it, otherwise.\",\n            \"label\": \"Logical error probability\",\n            \"path\": \"physicalCountsFormatted/errorBudgetLogical\"\n          },\n          {\n            \"description\": \"Probability of at least one faulty T distillation\",\n            \"explanation\": \"This is one third of the total error budget 1.00e-3 if the input algorithm contains rotation with gates with arbitrary angles, or one half of it, otherwise.\",\n            \"label\": \"T distillation error probability\",\n            \"path\": \"physicalCountsFormatted/errorBudgetTstates\"\n          },\n          {\n            \"description\": \"Probability of at least one failed rotation synthesis\",\n            \"explanation\": \"This is one third of the total error budget 1.00e-3.\",\n            \"label\": \"Rotation synthesis error probability\",\n            \"path\": \"physicalCountsFormatted/errorBudgetRotations\"\n          }\n        ],\n        \"title\": \"Assumed error budget\"\n      },\n      {\n        \"alwaysVisible\": false,\n        \"entries\": [\n          {\n            \"description\": \"Some descriptive name for the qubit model\",\n            \"explanation\": \"You can load pre-defined qubit parameters by using the names `qubit_gate_ns_e3`, `qubit_gate_ns_e4`, `qubit_gate_us_e3`, `qubit_gate_us_e4`, `qubit_maj_ns_e4`, or `qubit_maj_ns_e6`.  The names of these pre-defined qubit parameters indicate the instruction set (gate-based or Majorana), the operation speed (ns or ¬µs regime), as well as the fidelity (e.g., e3 for $10^{-3}$ gate error rates).\",\n            \"label\": \"Qubit name\",\n            \"path\": \"jobParams/qubitParams/name\"\n          },\n          {\n            \"description\": \"Underlying qubit technology (gate-based or Majorana)\",\n            \"explanation\": \"When modeling the physical qubit abstractions, we distinguish between two different physical instruction sets that are used to operate the qubits.  The physical instruction set can be either *gate-based* or *Majorana*.  A gate-based instruction set provides single-qubit measurement, single-qubit gates (incl. T gates), and two-qubit gates.  A Majorana instruction set provides a physical T gate, single-qubit measurement and two-qubit joint measurement operations.\",\n            \"label\": \"Instruction set\",\n            \"path\": \"jobParams/qubitParams/instructionSet\"\n          },\n          {\n            \"description\": \"Operation time for single-qubit measurement (t_meas) in ns\",\n            \"explanation\": \"This is the operation time in nanoseconds to perform a single-qubit measurement in the Pauli basis.\",\n            \"label\": \"Single-qubit measurement time\",\n            \"path\": \"jobParams/qubitParams/oneQubitMeasurementTime\"\n          },\n          {\n            \"description\": \"Operation time for single-qubit gate (t_gate) in ns\",\n            \"explanation\": \"This is the operation time in nanoseconds to perform a single-qubit Clifford operation, e.g., Hadamard or Phase gates.\",\n            \"label\": \"Single-qubit gate time\",\n            \"path\": \"jobParams/qubitParams/oneQubitGateTime\"\n          },\n          {\n            \"description\": \"Operation time for two-qubit gate in ns\",\n            \"explanation\": \"This is the operation time in nanoseconds to perform a two-qubit Clifford operation, e.g., a CNOT or CZ gate.\",\n            \"label\": \"Two-qubit gate time\",\n            \"path\": \"jobParams/qubitParams/twoQubitGateTime\"\n          },\n          {\n            \"description\": \"Operation time for a T gate\",\n            \"explanation\": \"This is the operation time in nanoseconds to execute a T gate.\",\n            \"label\": \"T gate time\",\n            \"path\": \"jobParams/qubitParams/tGateTime\"\n          },\n          {\n            \"description\": \"Error rate for single-qubit measurement\",\n            \"explanation\": \"This is the probability in which a single-qubit measurement in the Pauli basis may fail.\",\n            \"label\": \"Single-qubit measurement error rate\",\n            \"path\": \"jobParams/qubitParams/oneQubitMeasurementErrorRate\"\n          },\n          {\n            \"description\": \"Error rate for single-qubit Clifford gate (p)\",\n            \"explanation\": \"This is the probability in which a single-qubit Clifford operation, e.g., Hadamard or Phase gates, may fail.\",\n            \"label\": \"Single-qubit error rate\",\n            \"path\": \"jobParams/qubitParams/oneQubitGateErrorRate\"\n          },\n          {\n            \"description\": \"Error rate for two-qubit Clifford gate\",\n            \"explanation\": \"This is the probability in which a two-qubit Clifford operation, e.g., CNOT or CZ gates, may fail.\",\n            \"label\": \"Two-qubit error rate\",\n            \"path\": \"jobParams/qubitParams/twoQubitGateErrorRate\"\n          },\n          {\n            \"description\": \"Error rate to prepare single-qubit T state or apply a T gate (p_T)\",\n            \"explanation\": \"This is the probability in which executing a single T gate may fail.\",\n            \"label\": \"T gate error rate\",\n            \"path\": \"jobParams/qubitParams/tGateErrorRate\"\n          }\n        ],\n        \"title\": \"Physical qubit parameters\"\n      }\n    ]\n  },\n  \"status\": \"success\",\n  \"tfactory\": null\n} }",
            "application/x-qsharp-data": "{\"errorBudget\":{\"logical\":0.001,\"rotations\":0.0,\"tstates\":0.0},\"jobParams\":{\"errorBudget\":0.001,\"qecScheme\":{\"crossingPrefactor\":0.03,\"errorCorrectionThreshold\":0.01,\"logicalCycleTime\":\"(4 * twoQubitGateTime + 2 * oneQubitMeasurementTime) * codeDistance\",\"name\":\"surface_code\",\"physicalQubitsPerLogicalQubit\":\"2 * codeDistance * codeDistance\"},\"qubitParams\":{\"instructionSet\":\"GateBased\",\"name\":\"qubit_gate_ns_e3\",\"oneQubitGateErrorRate\":0.001,\"oneQubitGateTime\":\"50 ns\",\"oneQubitMeasurementErrorRate\":0.001,\"oneQubitMeasurementTime\":\"100 ns\",\"tGateErrorRate\":0.001,\"tGateTime\":\"50 ns\",\"twoQubitGateErrorRate\":0.001,\"twoQubitGateTime\":\"50 ns\"}},\"logicalCounts\":{\"ccixCount\":0,\"cczCount\":0,\"measurementCount\":6,\"numQubits\":1,\"rotationCount\":0,\"rotationDepth\":0,\"tCount\":0},\"logicalQubit\":{\"codeDistance\":7,\"logicalCycleTime\":2800.0,\"logicalErrorRate\":3.0000000000000013E-06,\"physicalQubits\":98},\"physicalCounts\":{\"breakdown\":{\"algorithmicLogicalDepth\":6,\"algorithmicLogicalQubits\":6,\"cliffordErrorRate\":0.001,\"logicalDepth\":6,\"numTfactories\":0,\"numTfactoryRuns\":0,\"numTsPerRotation\":null,\"numTstates\":0,\"physicalQubitsForAlgorithm\":588,\"physicalQubitsForTfactories\":0,\"requiredLogicalQubitErrorRate\":2.777777777777778E-05,\"requiredLogicalTstateErrorRate\":null},\"physicalQubits\":588,\"runtime\":16800},\"physicalCountsFormatted\":{\"codeDistancePerRound\":\"No T states in algorithm\",\"errorBudget\":\"1.00e-3\",\"errorBudgetLogical\":\"1.00e-3\",\"errorBudgetRotations\":\"0.00e0\",\"errorBudgetTstates\":\"0.00e0\",\"logicalCycleTime\":\"2us 800ns\",\"logicalErrorRate\":\"3.00e-6\",\"numTsPerRotation\":\"No rotations in algorithm\",\"numUnitsPerRound\":\"No T states in algorithm\",\"physicalQubitsForTfactoriesPercentage\":\"0.00 %\",\"physicalQubitsPerRound\":\"No T states in algorithm\",\"requiredLogicalQubitErrorRate\":\"2.78e-5\",\"requiredLogicalTstateErrorRate\":\"No T states in algorithm\",\"runtime\":\"16us 800ns\",\"tfactoryRuntime\":\"No T states in algorithm\",\"tfactoryRuntimePerRound\":\"No T states in algorithm\",\"tstateLogicalErrorRate\":\"No T states in algorithm\",\"unitNamePerRound\":\"No T states in algorithm\"},\"reportData\":{\"assumptions\":[\"_More details on the following lists of assumptions can be found in the paper [Accessing requirements for scaling quantum computers and their applications](https://aka.ms/AQ/RE/Paper)._\",\"**Uniform independent physical noise.** We assume that the noise on physical qubits and physical qubit operations is the standard circuit noise model. In particular we assume error events at different space-time locations are independent and that error rates are uniform across the system in time and space.\",\"**Efficient classical computation.** We assume that classical overhead (compilation, control, feedback, readout, decoding, etc.) does not dominate the overall cost of implementing the full quantum algorithm.\",\"**Extraction circuits for planar quantum ISA.** We assume that stabilizer extraction circuits with similar depth and error correction performance to those for standard surface and Hastings-Haah code patches can be constructed to implement all operations of the planar quantum ISA (instruction set architecture).\",\"**Uniform independent logical noise.** We assume that the error rate of a logical operation is approximately equal to its space-time volume (the number of tiles multiplied by the number of logical time steps) multiplied by the error rate of a logical qubit in a standard one-tile patch in one logical time step.\",\"**Negligible Clifford costs for synthesis.** We assume that the space overhead for synthesis and space and time overhead for transport of magic states within magic state factories and to synthesis qubits are all negligible.\",\"**Smooth magic state consumption rate.** We assume that the rate of T state consumption throughout the compiled algorithm is almost constant, or can be made almost constant without significantly increasing the number of logical time steps for the algorithm.\"],\"groups\":[{\"alwaysVisible\":true,\"entries\":[{\"description\":\"Number of physical qubits\",\"explanation\":\"This value represents the total number of physical qubits, which is the sum of 588 physical qubits to implement the algorithm logic, and 0 physical qubits to execute the T factories that are responsible to produce the T states that are consumed by the algorithm.\",\"label\":\"Physical qubits\",\"path\":\"physicalCounts/physicalQubits\"},{\"description\":\"Total runtime\",\"explanation\":\"This is a runtime estimate (in nanosecond precision) for the execution time of the algorithm.  In general, the execution time corresponds to the duration of one logical cycle (2us 800ns) multiplied by the 6 logical cycles to run the algorithm.  If however the duration of a single T factory (here: No T states in algorithm) is larger than the algorithm runtime, we extend the number of logical cycles artificially in order to exceed the runtime of a single T factory.\",\"label\":\"Runtime\",\"path\":\"physicalCountsFormatted/runtime\"}],\"title\":\"Physical resource estimates\"},{\"alwaysVisible\":false,\"entries\":[{\"description\":\"Number of logical qubits for the algorithm after layout\",\"explanation\":\"Laying out the logical qubits in the presence of nearest-neighbor constraints requires additional logical qubits.  In particular, to layout the $Q_{\\\\rm alg} = 1$ logical qubits in the input algorithm, we require in total $2 \\\\cdot Q_{\\\\rm alg} + \\\\lceil \\\\sqrt{8 \\\\cdot Q_{\\\\rm alg}}\\\\rceil + 1 = 6$ logical qubits.\",\"label\":\"Logical algorithmic qubits\",\"path\":\"physicalCounts/breakdown/algorithmicLogicalQubits\"},{\"description\":\"Number of logical cycles for the algorithm\",\"explanation\":\"To execute the algorithm using _Parallel Synthesis Sequential Pauli Computation_ (PSSPC), operations are scheduled in terms of multi-qubit Pauli measurements, for which assume an execution time of one logical cycle.  Based on the input algorithm, we require one multi-qubit measurement for the 6 single-qubit measurements, the 0 arbitrary single-qubit rotations, and the 0 T gates, three multi-qubit measurements for each of the 0 CCZ and 0 CCiX gates in the input program, as well as No rotations in algorithm multi-qubit measurements for each of the 0 non-Clifford layers in which there is at least one single-qubit rotation with an arbitrary angle rotation.\",\"label\":\"Algorithmic depth\",\"path\":\"physicalCounts/breakdown/algorithmicLogicalDepth\"},{\"description\":\"Number of logical cycles performed\",\"explanation\":\"This number is usually equal to the logical depth of the algorithm, which is 6.  However, in the case in which a single T factory is slower than the execution time of the algorithm, we adjust the logical cycle depth to exceed the T factory's execution time.\",\"label\":\"Logical depth\",\"path\":\"physicalCounts/breakdown/logicalDepth\"},{\"description\":\"Number of T states consumed by the algorithm\",\"explanation\":\"To execute the algorithm, we require one T state for each of the 0 T gates, four T states for each of the 0 CCZ and 0 CCiX gates, as well as No rotations in algorithm for each of the 0 single-qubit rotation gates with arbitrary angle rotation.\",\"label\":\"Number of T states\",\"path\":\"physicalCounts/breakdown/numTstates\"},{\"description\":\"Number of T factories capable of producing the demanded 0 T states during the algorithm's runtime\",\"explanation\":\"The total number of T factories 0 that are executed in parallel is computed as $\\\\left\\\\lceil\\\\dfrac{0\\\\;\\\\text{T states} \\\\cdot No T states in algorithm\\\\;\\\\text{T factory duration}}{0\\\\;\\\\text{T states per T factory} \\\\cdot 16us 800ns\\\\;\\\\text{algorithm runtime}}\\\\right\\\\rceil$\",\"label\":\"Number of T factories\",\"path\":\"physicalCounts/breakdown/numTfactories\"},{\"description\":\"Number of times all T factories are invoked\",\"explanation\":\"In order to prepare the 0 T states, the 0 copies of the T factory are repeatedly invoked 0 times.\",\"label\":\"Number of T factory invocations\",\"path\":\"physicalCounts/breakdown/numTfactoryRuns\"},{\"description\":\"Number of physical qubits for the algorithm after layout\",\"explanation\":\"The 588 are the product of the 6 logical qubits after layout and the 98 physical qubits that encode a single logical qubit.\",\"label\":\"Physical algorithmic qubits\",\"path\":\"physicalCounts/breakdown/physicalQubitsForAlgorithm\"},{\"description\":\"Number of physical qubits for the T factories\",\"explanation\":\"Each T factory requires 0 physical qubits and we run 0 in parallel, therefore we need $0 = 0 \\\\cdot 0$ qubits.\",\"label\":\"Physical T factory qubits\",\"path\":\"physicalCounts/breakdown/physicalQubitsForTfactories\"},{\"description\":\"The minimum logical qubit error rate required to run the algorithm within the error budget\",\"explanation\":\"The minimum logical qubit error rate is obtained by dividing the logical error probability 1.00e-3 by the product of 6 logical qubits and the total cycle count 6.\",\"label\":\"Required logical qubit error rate\",\"path\":\"physicalCountsFormatted/requiredLogicalQubitErrorRate\"},{\"description\":\"The minimum T state error rate required for distilled T states\",\"explanation\":\"The minimum T state error rate is obtained by dividing the T distillation error probability 0.00e0 by the total number of T states 0.\",\"label\":\"Required logical T state error rate\",\"path\":\"physicalCountsFormatted/requiredLogicalTstateErrorRate\"},{\"description\":\"Number of T states to implement a rotation with an arbitrary angle\",\"explanation\":\"The number of T states to implement a rotation with an arbitrary angle is $\\\\lceil 0.53 \\\\log_2(0 / 0) + 5.3\\\\rceil$ [[arXiv:2203.10064](https://arxiv.org/abs/2203.10064)].  For simplicity, we use this formula for all single-qubit arbitrary angle rotations, and do not distinguish between best, worst, and average cases.\",\"label\":\"Number of T states per rotation\",\"path\":\"physicalCountsFormatted/numTsPerRotation\"}],\"title\":\"Resource estimates breakdown\"},{\"alwaysVisible\":false,\"entries\":[{\"description\":\"Name of QEC scheme\",\"explanation\":\"You can load pre-defined QEC schemes by using the name `surface_code` or `floquet_code`. The latter only works with Majorana qubits.\",\"label\":\"QEC scheme\",\"path\":\"jobParams/qecScheme/name\"},{\"description\":\"Required code distance for error correction\",\"explanation\":\"The code distance is the smallest odd integer greater or equal to $\\\\dfrac{2\\\\log(0.03 / 0.00002777777777777778)}{\\\\log(0.01/0.001)} - 1$\",\"label\":\"Code distance\",\"path\":\"logicalQubit/codeDistance\"},{\"description\":\"Number of physical qubits per logical qubit\",\"explanation\":\"The number of physical qubits per logical qubit are evaluated using the formula 2 * codeDistance * codeDistance that can be user-specified.\",\"label\":\"Physical qubits\",\"path\":\"logicalQubit/physicalQubits\"},{\"description\":\"Duration of a logical cycle in nanoseconds\",\"explanation\":\"The runtime of one logical cycle in nanoseconds is evaluated using the formula (4 * twoQubitGateTime + 2 * oneQubitMeasurementTime) * codeDistance that can be user-specified.\",\"label\":\"Logical cycle time\",\"path\":\"physicalCountsFormatted/logicalCycleTime\"},{\"description\":\"Logical qubit error rate\",\"explanation\":\"The logical qubit error rate is computed as $0.03 \\\\cdot \\\\left(\\\\dfrac{0.001}{0.01}\\\\right)^\\\\frac{7 + 1}{2}$\",\"label\":\"Logical qubit error rate\",\"path\":\"physicalCountsFormatted/logicalErrorRate\"},{\"description\":\"Crossing prefactor used in QEC scheme\",\"explanation\":\"The crossing prefactor is usually extracted numerically from simulations when fitting an exponential curve to model the relationship between logical and physical error rate.\",\"label\":\"Crossing prefactor\",\"path\":\"jobParams/qecScheme/crossingPrefactor\"},{\"description\":\"Error correction threshold used in QEC scheme\",\"explanation\":\"The error correction threshold is the physical error rate below which the error rate of the logical qubit is less than the error rate of the physical qubit that constitute it.  This value is usually extracted numerically from simulations of the logical error rate.\",\"label\":\"Error correction threshold\",\"path\":\"jobParams/qecScheme/errorCorrectionThreshold\"},{\"description\":\"QEC scheme formula used to compute logical cycle time\",\"explanation\":\"This is the formula that is used to compute the logical cycle time 2us 800ns.\",\"label\":\"Logical cycle time formula\",\"path\":\"jobParams/qecScheme/logicalCycleTime\"},{\"description\":\"QEC scheme formula used to compute number of physical qubits per logical qubit\",\"explanation\":\"This is the formula that is used to compute the number of physical qubits per logical qubits 98.\",\"label\":\"Physical qubits formula\",\"path\":\"jobParams/qecScheme/physicalQubitsPerLogicalQubit\"}],\"title\":\"Logical qubit parameters\"},{\"alwaysVisible\":false,\"entries\":[{\"description\":\"Number of logical qubits in the input quantum program\",\"explanation\":\"We determine 6 from this number by assuming to align them in a 2D grid.  Auxiliary qubits are added to allow for sufficient space to execute multi-qubit Pauli measurements on all or a subset of the logical qubits.\",\"label\":\"Logical qubits (pre-layout)\",\"path\":\"logicalCounts/numQubits\"},{\"description\":\"Number of T gates in the input quantum program\",\"explanation\":\"This includes all T gates and adjoint T gates, but not T gates used to implement rotation gates with arbitrary angle, CCZ gates, or CCiX gates.\",\"label\":\"T gates\",\"path\":\"logicalCounts/tCount\"},{\"description\":\"Number of rotation gates in the input quantum program\",\"explanation\":\"This is the number of all rotation gates. If an angle corresponds to a Pauli, Clifford, or T gate, it is not accounted for in this number.\",\"label\":\"Rotation gates\",\"path\":\"logicalCounts/rotationCount\"},{\"description\":\"Depth of rotation gates in the input quantum program\",\"explanation\":\"This is the number of all non-Clifford layers that include at least one single-qubit rotation gate with an arbitrary angle.\",\"label\":\"Rotation depth\",\"path\":\"logicalCounts/rotationDepth\"},{\"description\":\"Number of CCZ-gates in the input quantum program\",\"explanation\":\"This is the number of CCZ gates.\",\"label\":\"CCZ gates\",\"path\":\"logicalCounts/cczCount\"},{\"description\":\"Number of CCiX-gates in the input quantum program\",\"explanation\":\"This is the number of CCiX gates, which applies $-iX$ controlled on two control qubits [[1212.5069](https://arxiv.org/abs/1212.5069)].\",\"label\":\"CCiX gates\",\"path\":\"logicalCounts/ccixCount\"},{\"description\":\"Number of single qubit measurements in the input quantum program\",\"explanation\":\"This is the number of single qubit measurements in Pauli basis that are used in the input program.  Note that all measurements are counted, however, the measurement result is is determined randomly (with a fixed seed) to be 0 or 1 with a probability of 50%.\",\"label\":\"Measurement operations\",\"path\":\"logicalCounts/measurementCount\"}],\"title\":\"Pre-layout logical resources\"},{\"alwaysVisible\":false,\"entries\":[{\"description\":\"Total error budget for the algorithm\",\"explanation\":\"The total error budget sets the overall allowed error for the algorithm, i.e., the number of times it is allowed to fail.  Its value must be between 0 and 1 and the default value is 0.001, which corresponds to 0.1%, and means that the algorithm is allowed to fail once in 1000 executions.  This parameter is highly application specific. For example, if one is running Shor's algorithm for factoring integers, a large value for the error budget may be tolerated as one can check that the output are indeed the prime factors of the input.  On the other hand, a much smaller error budget may be needed for an algorithm solving a problem with a solution which cannot be efficiently verified.  This budget $\\\\epsilon = \\\\epsilon_{\\\\log} + \\\\epsilon_{\\\\rm dis} + \\\\epsilon_{\\\\rm syn}$ is uniformly distributed and applies to errors $\\\\epsilon_{\\\\log}$ to implement logical qubits, an error budget $\\\\epsilon_{\\\\rm dis}$ to produce T states through distillation, and an error budget $\\\\epsilon_{\\\\rm syn}$ to synthesize rotation gates with arbitrary angles.  Note that for distillation and rotation synthesis, the respective error budgets $\\\\epsilon_{\\\\rm dis}$ and $\\\\epsilon_{\\\\rm syn}$ are uniformly distributed among all T states and all rotation gates, respectively. If there are no rotation gates in the input algorithm, the error budget is uniformly distributed to logical errors and T state errors.\",\"label\":\"Total error budget\",\"path\":\"physicalCountsFormatted/errorBudget\"},{\"description\":\"Probability of at least one logical error\",\"explanation\":\"This is one third of the total error budget 1.00e-3 if the input algorithm contains rotation with gates with arbitrary angles, or one half of it, otherwise.\",\"label\":\"Logical error probability\",\"path\":\"physicalCountsFormatted/errorBudgetLogical\"},{\"description\":\"Probability of at least one faulty T distillation\",\"explanation\":\"This is one third of the total error budget 1.00e-3 if the input algorithm contains rotation with gates with arbitrary angles, or one half of it, otherwise.\",\"label\":\"T distillation error probability\",\"path\":\"physicalCountsFormatted/errorBudgetTstates\"},{\"description\":\"Probability of at least one failed rotation synthesis\",\"explanation\":\"This is one third of the total error budget 1.00e-3.\",\"label\":\"Rotation synthesis error probability\",\"path\":\"physicalCountsFormatted/errorBudgetRotations\"}],\"title\":\"Assumed error budget\"},{\"alwaysVisible\":false,\"entries\":[{\"description\":\"Some descriptive name for the qubit model\",\"explanation\":\"You can load pre-defined qubit parameters by using the names `qubit_gate_ns_e3`, `qubit_gate_ns_e4`, `qubit_gate_us_e3`, `qubit_gate_us_e4`, `qubit_maj_ns_e4`, or `qubit_maj_ns_e6`.  The names of these pre-defined qubit parameters indicate the instruction set (gate-based or Majorana), the operation speed (ns or ¬µs regime), as well as the fidelity (e.g., e3 for $10^{-3}$ gate error rates).\",\"label\":\"Qubit name\",\"path\":\"jobParams/qubitParams/name\"},{\"description\":\"Underlying qubit technology (gate-based or Majorana)\",\"explanation\":\"When modeling the physical qubit abstractions, we distinguish between two different physical instruction sets that are used to operate the qubits.  The physical instruction set can be either *gate-based* or *Majorana*.  A gate-based instruction set provides single-qubit measurement, single-qubit gates (incl. T gates), and two-qubit gates.  A Majorana instruction set provides a physical T gate, single-qubit measurement and two-qubit joint measurement operations.\",\"label\":\"Instruction set\",\"path\":\"jobParams/qubitParams/instructionSet\"},{\"description\":\"Operation time for single-qubit measurement (t_meas) in ns\",\"explanation\":\"This is the operation time in nanoseconds to perform a single-qubit measurement in the Pauli basis.\",\"label\":\"Single-qubit measurement time\",\"path\":\"jobParams/qubitParams/oneQubitMeasurementTime\"},{\"description\":\"Operation time for single-qubit gate (t_gate) in ns\",\"explanation\":\"This is the operation time in nanoseconds to perform a single-qubit Clifford operation, e.g., Hadamard or Phase gates.\",\"label\":\"Single-qubit gate time\",\"path\":\"jobParams/qubitParams/oneQubitGateTime\"},{\"description\":\"Operation time for two-qubit gate in ns\",\"explanation\":\"This is the operation time in nanoseconds to perform a two-qubit Clifford operation, e.g., a CNOT or CZ gate.\",\"label\":\"Two-qubit gate time\",\"path\":\"jobParams/qubitParams/twoQubitGateTime\"},{\"description\":\"Operation time for a T gate\",\"explanation\":\"This is the operation time in nanoseconds to execute a T gate.\",\"label\":\"T gate time\",\"path\":\"jobParams/qubitParams/tGateTime\"},{\"description\":\"Error rate for single-qubit measurement\",\"explanation\":\"This is the probability in which a single-qubit measurement in the Pauli basis may fail.\",\"label\":\"Single-qubit measurement error rate\",\"path\":\"jobParams/qubitParams/oneQubitMeasurementErrorRate\"},{\"description\":\"Error rate for single-qubit Clifford gate (p)\",\"explanation\":\"This is the probability in which a single-qubit Clifford operation, e.g., Hadamard or Phase gates, may fail.\",\"label\":\"Single-qubit error rate\",\"path\":\"jobParams/qubitParams/oneQubitGateErrorRate\"},{\"description\":\"Error rate for two-qubit Clifford gate\",\"explanation\":\"This is the probability in which a two-qubit Clifford operation, e.g., CNOT or CZ gates, may fail.\",\"label\":\"Two-qubit error rate\",\"path\":\"jobParams/qubitParams/twoQubitGateErrorRate\"},{\"description\":\"Error rate to prepare single-qubit T state or apply a T gate (p_T)\",\"explanation\":\"This is the probability in which executing a single T gate may fail.\",\"label\":\"T gate error rate\",\"path\":\"jobParams/qubitParams/tGateErrorRate\"}],\"title\":\"Physical qubit parameters\"}]},\"status\":\"success\",\"tfactory\":null}"
          },
          "metadata": {
            "text/plain": {},
            "application/x-qsharp-data": {}
          }
        }
      ],
      "execution_count": 54,
      "metadata": {
        "jupyter": {
          "source_hidden": false,
          "outputs_hidden": true
        },
        "nteract": {
          "transient": {
            "deleting": false
          }
        }
      }
    },
    {
      "cell_type": "code",
      "source": [
        "%simulate shorImplementatonTest n=15"
      ],
      "outputs": [
        {
          "output_type": "stream",
          "name": "stdout",
          "text": "Número aleatorio entre 2 y 14: \nGCD de 15 y 12:\nNuevo intento.\nDivisor optenido: 15, GCD: 3.\n"
        },
        {
          "output_type": "execute_result",
          "execution_count": 31,
          "data": {
            "text/plain": "(3, 5)",
            "application/x-qsharp-data": "{\"@type\":\"@tuple\",\"Item1\":3,\"Item2\":5}"
          },
          "metadata": {
            "text/plain": {},
            "application/x-qsharp-data": {}
          }
        }
      ],
      "execution_count": 31,
      "metadata": {
        "jupyter": {
          "outputs_hidden": false,
          "source_hidden": false
        },
        "nteract": {
          "transient": {
            "deleting": false
          }
        }
      }
    },
    {
      "cell_type": "code",
      "source": [
        "%simulate shorImplementatonTest n=15"
      ],
      "outputs": [
        {
          "output_type": "stream",
          "name": "stdout",
          "text": "Número aleatorio entre 2 y 14: \nGCD de 15 y 9:\nNuevo intento.\nGCD de 6 y 3:\nNuevo intento.\nDivisor optenido: 15, GCD: 3.\n"
        },
        {
          "output_type": "execute_result",
          "execution_count": 32,
          "data": {
            "text/plain": "(3, 5)",
            "application/x-qsharp-data": "{\"@type\":\"@tuple\",\"Item1\":3,\"Item2\":5}"
          },
          "metadata": {
            "text/plain": {},
            "application/x-qsharp-data": {}
          }
        }
      ],
      "execution_count": 32,
      "metadata": {
        "jupyter": {
          "outputs_hidden": false,
          "source_hidden": false
        },
        "nteract": {
          "transient": {
            "deleting": false
          }
        }
      }
    },
    {
      "cell_type": "code",
      "source": [
        "%azure.execute shorImplementatonTest n=21"
      ],
      "outputs": [
        {
          "output_type": "stream",
          "name": "stdout",
          "text": "Submitting shorImplementatonTest to target microsoft.estimator...\nJob successfully submitted.\n   Job name: shorImplementatonTest\n   Job ID: 37db974e-ae69-4064-88ec-9651b325036b\nWaiting up to 300 seconds for Azure Quantum job to complete...\n[22:50:08] Current job status: Executing\n[22:50:13] Current job status: Succeeded\n"
        },
        {
          "output_type": "execute_result",
          "execution_count": 65,
          "data": {
            "text/plain": "ResourceEstimationResult { RawJson = {\n  \"errorBudget\": {\n    \"logical\": 0.0003333333333333333,\n    \"rotations\": 0.0003333333333333333,\n    \"tstates\": 0.0003333333333333333\n  },\n  \"jobParams\": {\n    \"errorBudget\": 0.001,\n    \"qecScheme\": {\n      \"crossingPrefactor\": 0.03,\n      \"errorCorrectionThreshold\": 0.01,\n      \"logicalCycleTime\": \"(4 * twoQubitGateTime + 2 * oneQubitMeasurementTime) * codeDistance\",\n      \"name\": \"surface_code\",\n      \"physicalQubitsPerLogicalQubit\": \"2 * codeDistance * codeDistance\"\n    },\n    \"qubitParams\": {\n      \"instructionSet\": \"GateBased\",\n      \"name\": \"qubit_gate_ns_e3\",\n      \"oneQubitGateErrorRate\": 0.001,\n      \"oneQubitGateTime\": \"50 ns\",\n      \"oneQubitMeasurementErrorRate\": 0.001,\n      \"oneQubitMeasurementTime\": \"100 ns\",\n      \"tGateErrorRate\": 0.001,\n      \"tGateTime\": \"50 ns\",\n      \"twoQubitGateErrorRate\": 0.001,\n      \"twoQubitGateTime\": \"50 ns\"\n    }\n  },\n  \"logicalCounts\": {\n    \"ccixCount\": 3960,\n    \"cczCount\": 55,\n    \"measurementCount\": 3983,\n    \"numQubits\": 14,\n    \"rotationCount\": 14309,\n    \"rotationDepth\": 5812,\n    \"tCount\": 5321\n  },\n  \"logicalQubit\": {\n    \"codeDistance\": 17,\n    \"logicalCycleTime\": 6800.0,\n    \"logicalErrorRate\": 3.0000000000000026E-11,\n    \"physicalQubits\": 578\n  },\n  \"physicalCounts\": {\n    \"breakdown\": {\n      \"algorithmicLogicalDepth\": 146086,\n      \"algorithmicLogicalQubits\": 40,\n      \"cliffordErrorRate\": 0.001,\n      \"logicalDepth\": 146086,\n      \"numTfactories\": 30,\n      \"numTfactoryRuns\": 9776,\n      \"numTsPerRotation\": 19,\n      \"numTstates\": 293252,\n      \"physicalQubitsForAlgorithm\": 23120,\n      \"physicalQubitsForTfactories\": 540000,\n      \"requiredLogicalQubitErrorRate\": 5.7044024296190824E-11,\n      \"requiredLogicalTstateErrorRate\": 1.136678806396319E-09\n    },\n    \"physicalQubits\": 563120,\n    \"runtime\": 993384800\n  },\n  \"physicalCountsFormatted\": {\n    \"codeDistancePerRound\": \"5, 17\",\n    \"errorBudget\": \"1.00e-3\",\n    \"errorBudgetLogical\": \"3.33e-4\",\n    \"errorBudgetRotations\": \"3.33e-4\",\n    \"errorBudgetTstates\": \"3.33e-4\",\n    \"logicalCycleTime\": \"6us 800ns\",\n    \"logicalErrorRate\": \"3.00e-11\",\n    \"numTsPerRotation\": \"19\",\n    \"numUnitsPerRound\": \"18, 1\",\n    \"physicalQubitsForTfactoriesPercentage\": \"95.89 %\",\n    \"physicalQubitsPerRound\": \"18000, 17918\",\n    \"requiredLogicalQubitErrorRate\": \"5.70e-11\",\n    \"requiredLogicalTstateErrorRate\": \"1.14e-9\",\n    \"runtime\": \"993ms 384us 800ns\",\n    \"tfactoryRuntime\": \"100us 800ns\",\n    \"tfactoryRuntimePerRound\": \"26us, 74us 800ns\",\n    \"tstateLogicalErrorRate\": \"5.51e-10\",\n    \"unitNamePerRound\": \"15-to-1 space efficient logical, 15-to-1 RM prep logical\"\n  },\n  \"reportData\": {\n    \"assumptions\": [\n      \"_More details on the following lists of assumptions can be found in the paper [Accessing requirements for scaling quantum computers and their applications](https://aka.ms/AQ/RE/Paper)._\",\n      \"**Uniform independent physical noise.** We assume that the noise on physical qubits and physical qubit operations is the standard circuit noise model. In particular we assume error events at different space-time locations are independent and that error rates are uniform across the system in time and space.\",\n      \"**Efficient classical computation.** We assume that classical overhead (compilation, control, feedback, readout, decoding, etc.) does not dominate the overall cost of implementing the full quantum algorithm.\",\n      \"**Extraction circuits for planar quantum ISA.** We assume that stabilizer extraction circuits with similar depth and error correction performance to those for standard surface and Hastings-Haah code patches can be constructed to implement all operations of the planar quantum ISA (instruction set architecture).\",\n      \"**Uniform independent logical noise.** We assume that the error rate of a logical operation is approximately equal to its space-time volume (the number of tiles multiplied by the number of logical time steps) multiplied by the error rate of a logical qubit in a standard one-tile patch in one logical time step.\",\n      \"**Negligible Clifford costs for synthesis.** We assume that the space overhead for synthesis and space and time overhead for transport of magic states within magic state factories and to synthesis qubits are all negligible.\",\n      \"**Smooth magic state consumption rate.** We assume that the rate of T state consumption throughout the compiled algorithm is almost constant, or can be made almost constant without significantly increasing the number of logical time steps for the algorithm.\"\n    ],\n    \"groups\": [\n      {\n        \"alwaysVisible\": true,\n        \"entries\": [\n          {\n            \"description\": \"Number of physical qubits\",\n            \"explanation\": \"This value represents the total number of physical qubits, which is the sum of 23120 physical qubits to implement the algorithm logic, and 540000 physical qubits to execute the T factories that are responsible to produce the T states that are consumed by the algorithm.\",\n            \"label\": \"Physical qubits\",\n            \"path\": \"physicalCounts/physicalQubits\"\n          },\n          {\n            \"description\": \"Total runtime\",\n            \"explanation\": \"This is a runtime estimate (in nanosecond precision) for the execution time of the algorithm.  In general, the execution time corresponds to the duration of one logical cycle (6us 800ns) multiplied by the 146086 logical cycles to run the algorithm.  If however the duration of a single T factory (here: 100us 800ns) is larger than the algorithm runtime, we extend the number of logical cycles artificially in order to exceed the runtime of a single T factory.\",\n            \"label\": \"Runtime\",\n            \"path\": \"physicalCountsFormatted/runtime\"\n          }\n        ],\n        \"title\": \"Physical resource estimates\"\n      },\n      {\n        \"alwaysVisible\": false,\n        \"entries\": [\n          {\n            \"description\": \"Number of logical qubits for the algorithm after layout\",\n            \"explanation\": \"Laying out the logical qubits in the presence of nearest-neighbor constraints requires additional logical qubits.  In particular, to layout the $Q_{\\\\rm alg} = 14$ logical qubits in the input algorithm, we require in total $2 \\\\cdot Q_{\\\\rm alg} + \\\\lceil \\\\sqrt{8 \\\\cdot Q_{\\\\rm alg}}\\\\rceil + 1 = 40$ logical qubits.\",\n            \"label\": \"Logical algorithmic qubits\",\n            \"path\": \"physicalCounts/breakdown/algorithmicLogicalQubits\"\n          },\n          {\n            \"description\": \"Number of logical cycles for the algorithm\",\n            \"explanation\": \"To execute the algorithm using _Parallel Synthesis Sequential Pauli Computation_ (PSSPC), operations are scheduled in terms of multi-qubit Pauli measurements, for which assume an execution time of one logical cycle.  Based on the input algorithm, we require one multi-qubit measurement for the 3983 single-qubit measurements, the 14309 arbitrary single-qubit rotations, and the 5321 T gates, three multi-qubit measurements for each of the 55 CCZ and 3960 CCiX gates in the input program, as well as 19 multi-qubit measurements for each of the 5812 non-Clifford layers in which there is at least one single-qubit rotation with an arbitrary angle rotation.\",\n            \"label\": \"Algorithmic depth\",\n            \"path\": \"physicalCounts/breakdown/algorithmicLogicalDepth\"\n          },\n          {\n            \"description\": \"Number of logical cycles performed\",\n            \"explanation\": \"This number is usually equal to the logical depth of the algorithm, which is 146086.  However, in the case in which a single T factory is slower than the execution time of the algorithm, we adjust the logical cycle depth to exceed the T factory's execution time.\",\n            \"label\": \"Logical depth\",\n            \"path\": \"physicalCounts/breakdown/logicalDepth\"\n          },\n          {\n            \"description\": \"Number of T states consumed by the algorithm\",\n            \"explanation\": \"To execute the algorithm, we require one T state for each of the 5321 T gates, four T states for each of the 55 CCZ and 3960 CCiX gates, as well as 19 for each of the 14309 single-qubit rotation gates with arbitrary angle rotation.\",\n            \"label\": \"Number of T states\",\n            \"path\": \"physicalCounts/breakdown/numTstates\"\n          },\n          {\n            \"description\": \"Number of T factories capable of producing the demanded 293252 T states during the algorithm's runtime\",\n            \"explanation\": \"The total number of T factories 30 that are executed in parallel is computed as $\\\\left\\\\lceil\\\\dfrac{293252\\\\;\\\\text{T states} \\\\cdot 100us 800ns\\\\;\\\\text{T factory duration}}{1\\\\;\\\\text{T states per T factory} \\\\cdot 993ms 384us 800ns\\\\;\\\\text{algorithm runtime}}\\\\right\\\\rceil$\",\n            \"label\": \"Number of T factories\",\n            \"path\": \"physicalCounts/breakdown/numTfactories\"\n          },\n          {\n            \"description\": \"Number of times all T factories are invoked\",\n            \"explanation\": \"In order to prepare the 293252 T states, the 30 copies of the T factory are repeatedly invoked 9776 times.\",\n            \"label\": \"Number of T factory invocations\",\n            \"path\": \"physicalCounts/breakdown/numTfactoryRuns\"\n          },\n          {\n            \"description\": \"Number of physical qubits for the algorithm after layout\",\n            \"explanation\": \"The 23120 are the product of the 40 logical qubits after layout and the 578 physical qubits that encode a single logical qubit.\",\n            \"label\": \"Physical algorithmic qubits\",\n            \"path\": \"physicalCounts/breakdown/physicalQubitsForAlgorithm\"\n          },\n          {\n            \"description\": \"Number of physical qubits for the T factories\",\n            \"explanation\": \"Each T factory requires 18000 physical qubits and we run 30 in parallel, therefore we need $540000 = 18000 \\\\cdot 30$ qubits.\",\n            \"label\": \"Physical T factory qubits\",\n            \"path\": \"physicalCounts/breakdown/physicalQubitsForTfactories\"\n          },\n          {\n            \"description\": \"The minimum logical qubit error rate required to run the algorithm within the error budget\",\n            \"explanation\": \"The minimum logical qubit error rate is obtained by dividing the logical error probability 3.33e-4 by the product of 40 logical qubits and the total cycle count 146086.\",\n            \"label\": \"Required logical qubit error rate\",\n            \"path\": \"physicalCountsFormatted/requiredLogicalQubitErrorRate\"\n          },\n          {\n            \"description\": \"The minimum T state error rate required for distilled T states\",\n            \"explanation\": \"The minimum T state error rate is obtained by dividing the T distillation error probability 3.33e-4 by the total number of T states 293252.\",\n            \"label\": \"Required logical T state error rate\",\n            \"path\": \"physicalCountsFormatted/requiredLogicalTstateErrorRate\"\n          },\n          {\n            \"description\": \"Number of T states to implement a rotation with an arbitrary angle\",\n            \"explanation\": \"The number of T states to implement a rotation with an arbitrary angle is $\\\\lceil 0.53 \\\\log_2(14309 / 0.0003333333333333333) + 5.3\\\\rceil$ [[arXiv:2203.10064](https://arxiv.org/abs/2203.10064)].  For simplicity, we use this formula for all single-qubit arbitrary angle rotations, and do not distinguish between best, worst, and average cases.\",\n            \"label\": \"Number of T states per rotation\",\n            \"path\": \"physicalCountsFormatted/numTsPerRotation\"\n          }\n        ],\n        \"title\": \"Resource estimates breakdown\"\n      },\n      {\n        \"alwaysVisible\": false,\n        \"entries\": [\n          {\n            \"description\": \"Name of QEC scheme\",\n            \"explanation\": \"You can load pre-defined QEC schemes by using the name `surface_code` or `floquet_code`. The latter only works with Majorana qubits.\",\n            \"label\": \"QEC scheme\",\n            \"path\": \"jobParams/qecScheme/name\"\n          },\n          {\n            \"description\": \"Required code distance for error correction\",\n            \"explanation\": \"The code distance is the smallest odd integer greater or equal to $\\\\dfrac{2\\\\log(0.03 / 0.000000000057044024296190824)}{\\\\log(0.01/0.001)} - 1$\",\n            \"label\": \"Code distance\",\n            \"path\": \"logicalQubit/codeDistance\"\n          },\n          {\n            \"description\": \"Number of physical qubits per logical qubit\",\n            \"explanation\": \"The number of physical qubits per logical qubit are evaluated using the formula 2 * codeDistance * codeDistance that can be user-specified.\",\n            \"label\": \"Physical qubits\",\n            \"path\": \"logicalQubit/physicalQubits\"\n          },\n          {\n            \"description\": \"Duration of a logical cycle in nanoseconds\",\n            \"explanation\": \"The runtime of one logical cycle in nanoseconds is evaluated using the formula (4 * twoQubitGateTime + 2 * oneQubitMeasurementTime) * codeDistance that can be user-specified.\",\n            \"label\": \"Logical cycle time\",\n            \"path\": \"physicalCountsFormatted/logicalCycleTime\"\n          },\n          {\n            \"description\": \"Logical qubit error rate\",\n            \"explanation\": \"The logical qubit error rate is computed as $0.03 \\\\cdot \\\\left(\\\\dfrac{0.001}{0.01}\\\\right)^\\\\frac{17 + 1}{2}$\",\n            \"label\": \"Logical qubit error rate\",\n            \"path\": \"physicalCountsFormatted/logicalErrorRate\"\n          },\n          {\n            \"description\": \"Crossing prefactor used in QEC scheme\",\n            \"explanation\": \"The crossing prefactor is usually extracted numerically from simulations when fitting an exponential curve to model the relationship between logical and physical error rate.\",\n            \"label\": \"Crossing prefactor\",\n            \"path\": \"jobParams/qecScheme/crossingPrefactor\"\n          },\n          {\n            \"description\": \"Error correction threshold used in QEC scheme\",\n            \"explanation\": \"The error correction threshold is the physical error rate below which the error rate of the logical qubit is less than the error rate of the physical qubit that constitute it.  This value is usually extracted numerically from simulations of the logical error rate.\",\n            \"label\": \"Error correction threshold\",\n            \"path\": \"jobParams/qecScheme/errorCorrectionThreshold\"\n          },\n          {\n            \"description\": \"QEC scheme formula used to compute logical cycle time\",\n            \"explanation\": \"This is the formula that is used to compute the logical cycle time 6us 800ns.\",\n            \"label\": \"Logical cycle time formula\",\n            \"path\": \"jobParams/qecScheme/logicalCycleTime\"\n          },\n          {\n            \"description\": \"QEC scheme formula used to compute number of physical qubits per logical qubit\",\n            \"explanation\": \"This is the formula that is used to compute the number of physical qubits per logical qubits 578.\",\n            \"label\": \"Physical qubits formula\",\n            \"path\": \"jobParams/qecScheme/physicalQubitsPerLogicalQubit\"\n          }\n        ],\n        \"title\": \"Logical qubit parameters\"\n      },\n      {\n        \"alwaysVisible\": false,\n        \"entries\": [\n          {\n            \"description\": \"Number of physical qubits for a single T factory\",\n            \"explanation\": \"This corresponds to the maximum number of physical qubits over all rounds of T distillation units in a T factory.  A round of distillation contains of multiple copies of distillation units to achieve the required success probability of producing a T state with the expected logical T state error rate.\",\n            \"label\": \"Physical qubits\",\n            \"path\": \"tfactory/physicalQubits\"\n          },\n          {\n            \"description\": \"Runtime of a single T factory\",\n            \"explanation\": \"The runtime of a single T factory is the accumulated runtime of executing each round in a T factory.\",\n            \"label\": \"Runtime\",\n            \"path\": \"physicalCountsFormatted/tfactoryRuntime\"\n          },\n          {\n            \"description\": \"Number of output T states produced in a single run of T factory\",\n            \"explanation\": \"The T factory takes as input 270 noisy physical T states with an error rate of 0.001 and produces 1 T states with an error rate of 5.51e-10.\",\n            \"label\": \"Number of output T states per run\",\n            \"path\": \"tfactory/numTstates\"\n          },\n          {\n            \"description\": \"Number of physical input T states consumed in a single run of a T factory\",\n            \"explanation\": \"This value includes the physical input T states of all copies of the distillation unit in the first round.\",\n            \"label\": \"Number of input T states per run\",\n            \"path\": \"tfactory/numInputTstates\"\n          },\n          {\n            \"description\": \"The number of distillation rounds\",\n            \"explanation\": \"This is the number of distillation rounds.  In each round one or multiple copies of some distillation unit is executed.\",\n            \"label\": \"Distillation rounds\",\n            \"path\": \"tfactory/numRounds\"\n          },\n          {\n            \"description\": \"The number of units in each round of distillation\",\n            \"explanation\": \"This is the number of copies for the distillation units per round.\",\n            \"label\": \"Distillation units per round\",\n            \"path\": \"physicalCountsFormatted/numUnitsPerRound\"\n          },\n          {\n            \"description\": \"The types of distillation units\",\n            \"explanation\": \"These are the types of distillation units that are executed in each round.  The units can be either physical or logical, depending on what type of qubit they are operating.  Space-efficient units require fewer qubits for the cost of longer runtime compared to Reed-Muller preparation units.\",\n            \"label\": \"Distillation units\",\n            \"path\": \"physicalCountsFormatted/unitNamePerRound\"\n          },\n          {\n            \"description\": \"The code distance in each round of distillation\",\n            \"explanation\": \"This is the code distance used for the units in each round.  If the code distance is 1, then the distillation unit operates on physical qubits instead of error-corrected logical qubits.\",\n            \"label\": \"Distillation code distances\",\n            \"path\": \"physicalCountsFormatted/codeDistancePerRound\"\n          },\n          {\n            \"description\": \"The number of physical qubits used in each round of distillation\",\n            \"explanation\": \"The maximum number of physical qubits over all rounds is the number of physical qubits for the T factory, since qubits are reused by different rounds.\",\n            \"label\": \"Number of physical qubits per round\",\n            \"path\": \"physicalCountsFormatted/physicalQubitsPerRound\"\n          },\n          {\n            \"description\": \"The runtime of each distillation round\",\n            \"explanation\": \"The runtime of the T factory is the sum of the runtimes in all rounds.\",\n            \"label\": \"Runtime per round\",\n            \"path\": \"physicalCountsFormatted/tfactoryRuntimePerRound\"\n          },\n          {\n            \"description\": \"Logical T state error rate\",\n            \"explanation\": \"This is the logical T state error rate achieved by the T factory which is equal or smaller than the required error rate 1.14e-9.\",\n            \"label\": \"Logical T state error rate\",\n            \"path\": \"physicalCountsFormatted/tstateLogicalErrorRate\"\n          }\n        ],\n        \"title\": \"T factory parameters\"\n      },\n      {\n        \"alwaysVisible\": false,\n        \"entries\": [\n          {\n            \"description\": \"Number of logical qubits in the input quantum program\",\n            \"explanation\": \"We determine 40 from this number by assuming to align them in a 2D grid.  Auxiliary qubits are added to allow for sufficient space to execute multi-qubit Pauli measurements on all or a subset of the logical qubits.\",\n            \"label\": \"Logical qubits (pre-layout)\",\n            \"path\": \"logicalCounts/numQubits\"\n          },\n          {\n            \"description\": \"Number of T gates in the input quantum program\",\n            \"explanation\": \"This includes all T gates and adjoint T gates, but not T gates used to implement rotation gates with arbitrary angle, CCZ gates, or CCiX gates.\",\n            \"label\": \"T gates\",\n            \"path\": \"logicalCounts/tCount\"\n          },\n          {\n            \"description\": \"Number of rotation gates in the input quantum program\",\n            \"explanation\": \"This is the number of all rotation gates. If an angle corresponds to a Pauli, Clifford, or T gate, it is not accounted for in this number.\",\n            \"label\": \"Rotation gates\",\n            \"path\": \"logicalCounts/rotationCount\"\n          },\n          {\n            \"description\": \"Depth of rotation gates in the input quantum program\",\n            \"explanation\": \"This is the number of all non-Clifford layers that include at least one single-qubit rotation gate with an arbitrary angle.\",\n            \"label\": \"Rotation depth\",\n            \"path\": \"logicalCounts/rotationDepth\"\n          },\n          {\n            \"description\": \"Number of CCZ-gates in the input quantum program\",\n            \"explanation\": \"This is the number of CCZ gates.\",\n            \"label\": \"CCZ gates\",\n            \"path\": \"logicalCounts/cczCount\"\n          },\n          {\n            \"description\": \"Number of CCiX-gates in the input quantum program\",\n            \"explanation\": \"This is the number of CCiX gates, which applies $-iX$ controlled on two control qubits [[1212.5069](https://arxiv.org/abs/1212.5069)].\",\n            \"label\": \"CCiX gates\",\n            \"path\": \"logicalCounts/ccixCount\"\n          },\n          {\n            \"description\": \"Number of single qubit measurements in the input quantum program\",\n            \"explanation\": \"This is the number of single qubit measurements in Pauli basis that are used in the input program.  Note that all measurements are counted, however, the measurement result is is determined randomly (with a fixed seed) to be 0 or 1 with a probability of 50%.\",\n            \"label\": \"Measurement operations\",\n            \"path\": \"logicalCounts/measurementCount\"\n          }\n        ],\n        \"title\": \"Pre-layout logical resources\"\n      },\n      {\n        \"alwaysVisible\": false,\n        \"entries\": [\n          {\n            \"description\": \"Total error budget for the algorithm\",\n            \"explanation\": \"The total error budget sets the overall allowed error for the algorithm, i.e., the number of times it is allowed to fail.  Its value must be between 0 and 1 and the default value is 0.001, which corresponds to 0.1%, and means that the algorithm is allowed to fail once in 1000 executions.  This parameter is highly application specific. For example, if one is running Shor's algorithm for factoring integers, a large value for the error budget may be tolerated as one can check that the output are indeed the prime factors of the input.  On the other hand, a much smaller error budget may be needed for an algorithm solving a problem with a solution which cannot be efficiently verified.  This budget $\\\\epsilon = \\\\epsilon_{\\\\log} + \\\\epsilon_{\\\\rm dis} + \\\\epsilon_{\\\\rm syn}$ is uniformly distributed and applies to errors $\\\\epsilon_{\\\\log}$ to implement logical qubits, an error budget $\\\\epsilon_{\\\\rm dis}$ to produce T states through distillation, and an error budget $\\\\epsilon_{\\\\rm syn}$ to synthesize rotation gates with arbitrary angles.  Note that for distillation and rotation synthesis, the respective error budgets $\\\\epsilon_{\\\\rm dis}$ and $\\\\epsilon_{\\\\rm syn}$ are uniformly distributed among all T states and all rotation gates, respectively. If there are no rotation gates in the input algorithm, the error budget is uniformly distributed to logical errors and T state errors.\",\n            \"label\": \"Total error budget\",\n            \"path\": \"physicalCountsFormatted/errorBudget\"\n          },\n          {\n            \"description\": \"Probability of at least one logical error\",\n            \"explanation\": \"This is one third of the total error budget 1.00e-3 if the input algorithm contains rotation with gates with arbitrary angles, or one half of it, otherwise.\",\n            \"label\": \"Logical error probability\",\n            \"path\": \"physicalCountsFormatted/errorBudgetLogical\"\n          },\n          {\n            \"description\": \"Probability of at least one faulty T distillation\",\n            \"explanation\": \"This is one third of the total error budget 1.00e-3 if the input algorithm contains rotation with gates with arbitrary angles, or one half of it, otherwise.\",\n            \"label\": \"T distillation error probability\",\n            \"path\": \"physicalCountsFormatted/errorBudgetTstates\"\n          },\n          {\n            \"description\": \"Probability of at least one failed rotation synthesis\",\n            \"explanation\": \"This is one third of the total error budget 1.00e-3.\",\n            \"label\": \"Rotation synthesis error probability\",\n            \"path\": \"physicalCountsFormatted/errorBudgetRotations\"\n          }\n        ],\n        \"title\": \"Assumed error budget\"\n      },\n      {\n        \"alwaysVisible\": false,\n        \"entries\": [\n          {\n            \"description\": \"Some descriptive name for the qubit model\",\n            \"explanation\": \"You can load pre-defined qubit parameters by using the names `qubit_gate_ns_e3`, `qubit_gate_ns_e4`, `qubit_gate_us_e3`, `qubit_gate_us_e4`, `qubit_maj_ns_e4`, or `qubit_maj_ns_e6`.  The names of these pre-defined qubit parameters indicate the instruction set (gate-based or Majorana), the operation speed (ns or ¬µs regime), as well as the fidelity (e.g., e3 for $10^{-3}$ gate error rates).\",\n            \"label\": \"Qubit name\",\n            \"path\": \"jobParams/qubitParams/name\"\n          },\n          {\n            \"description\": \"Underlying qubit technology (gate-based or Majorana)\",\n            \"explanation\": \"When modeling the physical qubit abstractions, we distinguish between two different physical instruction sets that are used to operate the qubits.  The physical instruction set can be either *gate-based* or *Majorana*.  A gate-based instruction set provides single-qubit measurement, single-qubit gates (incl. T gates), and two-qubit gates.  A Majorana instruction set provides a physical T gate, single-qubit measurement and two-qubit joint measurement operations.\",\n            \"label\": \"Instruction set\",\n            \"path\": \"jobParams/qubitParams/instructionSet\"\n          },\n          {\n            \"description\": \"Operation time for single-qubit measurement (t_meas) in ns\",\n            \"explanation\": \"This is the operation time in nanoseconds to perform a single-qubit measurement in the Pauli basis.\",\n            \"label\": \"Single-qubit measurement time\",\n            \"path\": \"jobParams/qubitParams/oneQubitMeasurementTime\"\n          },\n          {\n            \"description\": \"Operation time for single-qubit gate (t_gate) in ns\",\n            \"explanation\": \"This is the operation time in nanoseconds to perform a single-qubit Clifford operation, e.g., Hadamard or Phase gates.\",\n            \"label\": \"Single-qubit gate time\",\n            \"path\": \"jobParams/qubitParams/oneQubitGateTime\"\n          },\n          {\n            \"description\": \"Operation time for two-qubit gate in ns\",\n            \"explanation\": \"This is the operation time in nanoseconds to perform a two-qubit Clifford operation, e.g., a CNOT or CZ gate.\",\n            \"label\": \"Two-qubit gate time\",\n            \"path\": \"jobParams/qubitParams/twoQubitGateTime\"\n          },\n          {\n            \"description\": \"Operation time for a T gate\",\n            \"explanation\": \"This is the operation time in nanoseconds to execute a T gate.\",\n            \"label\": \"T gate time\",\n            \"path\": \"jobParams/qubitParams/tGateTime\"\n          },\n          {\n            \"description\": \"Error rate for single-qubit measurement\",\n            \"explanation\": \"This is the probability in which a single-qubit measurement in the Pauli basis may fail.\",\n            \"label\": \"Single-qubit measurement error rate\",\n            \"path\": \"jobParams/qubitParams/oneQubitMeasurementErrorRate\"\n          },\n          {\n            \"description\": \"Error rate for single-qubit Clifford gate (p)\",\n            \"explanation\": \"This is the probability in which a single-qubit Clifford operation, e.g., Hadamard or Phase gates, may fail.\",\n            \"label\": \"Single-qubit error rate\",\n            \"path\": \"jobParams/qubitParams/oneQubitGateErrorRate\"\n          },\n          {\n            \"description\": \"Error rate for two-qubit Clifford gate\",\n            \"explanation\": \"This is the probability in which a two-qubit Clifford operation, e.g., CNOT or CZ gates, may fail.\",\n            \"label\": \"Two-qubit error rate\",\n            \"path\": \"jobParams/qubitParams/twoQubitGateErrorRate\"\n          },\n          {\n            \"description\": \"Error rate to prepare single-qubit T state or apply a T gate (p_T)\",\n            \"explanation\": \"This is the probability in which executing a single T gate may fail.\",\n            \"label\": \"T gate error rate\",\n            \"path\": \"jobParams/qubitParams/tGateErrorRate\"\n          }\n        ],\n        \"title\": \"Physical qubit parameters\"\n      }\n    ]\n  },\n  \"status\": \"success\",\n  \"tfactory\": {\n    \"codeDistancePerRound\": [\n      5,\n      17\n    ],\n    \"logicalErrorRate\": 5.513926534736261E-10,\n    \"numInputTstates\": 270,\n    \"numRounds\": 2,\n    \"numTstates\": 1,\n    \"numUnitsPerRound\": [\n      18,\n      1\n    ],\n    \"physicalQubits\": 18000,\n    \"physicalQubitsPerRound\": [\n      18000,\n      17918\n    ],\n    \"runtime\": 100800.0,\n    \"runtimePerRound\": [\n      26000.0,\n      74800.0\n    ],\n    \"unitNamePerRound\": [\n      \"15-to-1 space efficient logical\",\n      \"15-to-1 RM prep logical\"\n    ]\n  }\n} }",
            "application/x-qsharp-data": "{\"errorBudget\":{\"logical\":0.0003333333333333333,\"rotations\":0.0003333333333333333,\"tstates\":0.0003333333333333333},\"jobParams\":{\"errorBudget\":0.001,\"qecScheme\":{\"crossingPrefactor\":0.03,\"errorCorrectionThreshold\":0.01,\"logicalCycleTime\":\"(4 * twoQubitGateTime + 2 * oneQubitMeasurementTime) * codeDistance\",\"name\":\"surface_code\",\"physicalQubitsPerLogicalQubit\":\"2 * codeDistance * codeDistance\"},\"qubitParams\":{\"instructionSet\":\"GateBased\",\"name\":\"qubit_gate_ns_e3\",\"oneQubitGateErrorRate\":0.001,\"oneQubitGateTime\":\"50 ns\",\"oneQubitMeasurementErrorRate\":0.001,\"oneQubitMeasurementTime\":\"100 ns\",\"tGateErrorRate\":0.001,\"tGateTime\":\"50 ns\",\"twoQubitGateErrorRate\":0.001,\"twoQubitGateTime\":\"50 ns\"}},\"logicalCounts\":{\"ccixCount\":3960,\"cczCount\":55,\"measurementCount\":3983,\"numQubits\":14,\"rotationCount\":14309,\"rotationDepth\":5812,\"tCount\":5321},\"logicalQubit\":{\"codeDistance\":17,\"logicalCycleTime\":6800.0,\"logicalErrorRate\":3.0000000000000026E-11,\"physicalQubits\":578},\"physicalCounts\":{\"breakdown\":{\"algorithmicLogicalDepth\":146086,\"algorithmicLogicalQubits\":40,\"cliffordErrorRate\":0.001,\"logicalDepth\":146086,\"numTfactories\":30,\"numTfactoryRuns\":9776,\"numTsPerRotation\":19,\"numTstates\":293252,\"physicalQubitsForAlgorithm\":23120,\"physicalQubitsForTfactories\":540000,\"requiredLogicalQubitErrorRate\":5.7044024296190824E-11,\"requiredLogicalTstateErrorRate\":1.136678806396319E-09},\"physicalQubits\":563120,\"runtime\":993384800},\"physicalCountsFormatted\":{\"codeDistancePerRound\":\"5, 17\",\"errorBudget\":\"1.00e-3\",\"errorBudgetLogical\":\"3.33e-4\",\"errorBudgetRotations\":\"3.33e-4\",\"errorBudgetTstates\":\"3.33e-4\",\"logicalCycleTime\":\"6us 800ns\",\"logicalErrorRate\":\"3.00e-11\",\"numTsPerRotation\":\"19\",\"numUnitsPerRound\":\"18, 1\",\"physicalQubitsForTfactoriesPercentage\":\"95.89 %\",\"physicalQubitsPerRound\":\"18000, 17918\",\"requiredLogicalQubitErrorRate\":\"5.70e-11\",\"requiredLogicalTstateErrorRate\":\"1.14e-9\",\"runtime\":\"993ms 384us 800ns\",\"tfactoryRuntime\":\"100us 800ns\",\"tfactoryRuntimePerRound\":\"26us, 74us 800ns\",\"tstateLogicalErrorRate\":\"5.51e-10\",\"unitNamePerRound\":\"15-to-1 space efficient logical, 15-to-1 RM prep logical\"},\"reportData\":{\"assumptions\":[\"_More details on the following lists of assumptions can be found in the paper [Accessing requirements for scaling quantum computers and their applications](https://aka.ms/AQ/RE/Paper)._\",\"**Uniform independent physical noise.** We assume that the noise on physical qubits and physical qubit operations is the standard circuit noise model. In particular we assume error events at different space-time locations are independent and that error rates are uniform across the system in time and space.\",\"**Efficient classical computation.** We assume that classical overhead (compilation, control, feedback, readout, decoding, etc.) does not dominate the overall cost of implementing the full quantum algorithm.\",\"**Extraction circuits for planar quantum ISA.** We assume that stabilizer extraction circuits with similar depth and error correction performance to those for standard surface and Hastings-Haah code patches can be constructed to implement all operations of the planar quantum ISA (instruction set architecture).\",\"**Uniform independent logical noise.** We assume that the error rate of a logical operation is approximately equal to its space-time volume (the number of tiles multiplied by the number of logical time steps) multiplied by the error rate of a logical qubit in a standard one-tile patch in one logical time step.\",\"**Negligible Clifford costs for synthesis.** We assume that the space overhead for synthesis and space and time overhead for transport of magic states within magic state factories and to synthesis qubits are all negligible.\",\"**Smooth magic state consumption rate.** We assume that the rate of T state consumption throughout the compiled algorithm is almost constant, or can be made almost constant without significantly increasing the number of logical time steps for the algorithm.\"],\"groups\":[{\"alwaysVisible\":true,\"entries\":[{\"description\":\"Number of physical qubits\",\"explanation\":\"This value represents the total number of physical qubits, which is the sum of 23120 physical qubits to implement the algorithm logic, and 540000 physical qubits to execute the T factories that are responsible to produce the T states that are consumed by the algorithm.\",\"label\":\"Physical qubits\",\"path\":\"physicalCounts/physicalQubits\"},{\"description\":\"Total runtime\",\"explanation\":\"This is a runtime estimate (in nanosecond precision) for the execution time of the algorithm.  In general, the execution time corresponds to the duration of one logical cycle (6us 800ns) multiplied by the 146086 logical cycles to run the algorithm.  If however the duration of a single T factory (here: 100us 800ns) is larger than the algorithm runtime, we extend the number of logical cycles artificially in order to exceed the runtime of a single T factory.\",\"label\":\"Runtime\",\"path\":\"physicalCountsFormatted/runtime\"}],\"title\":\"Physical resource estimates\"},{\"alwaysVisible\":false,\"entries\":[{\"description\":\"Number of logical qubits for the algorithm after layout\",\"explanation\":\"Laying out the logical qubits in the presence of nearest-neighbor constraints requires additional logical qubits.  In particular, to layout the $Q_{\\\\rm alg} = 14$ logical qubits in the input algorithm, we require in total $2 \\\\cdot Q_{\\\\rm alg} + \\\\lceil \\\\sqrt{8 \\\\cdot Q_{\\\\rm alg}}\\\\rceil + 1 = 40$ logical qubits.\",\"label\":\"Logical algorithmic qubits\",\"path\":\"physicalCounts/breakdown/algorithmicLogicalQubits\"},{\"description\":\"Number of logical cycles for the algorithm\",\"explanation\":\"To execute the algorithm using _Parallel Synthesis Sequential Pauli Computation_ (PSSPC), operations are scheduled in terms of multi-qubit Pauli measurements, for which assume an execution time of one logical cycle.  Based on the input algorithm, we require one multi-qubit measurement for the 3983 single-qubit measurements, the 14309 arbitrary single-qubit rotations, and the 5321 T gates, three multi-qubit measurements for each of the 55 CCZ and 3960 CCiX gates in the input program, as well as 19 multi-qubit measurements for each of the 5812 non-Clifford layers in which there is at least one single-qubit rotation with an arbitrary angle rotation.\",\"label\":\"Algorithmic depth\",\"path\":\"physicalCounts/breakdown/algorithmicLogicalDepth\"},{\"description\":\"Number of logical cycles performed\",\"explanation\":\"This number is usually equal to the logical depth of the algorithm, which is 146086.  However, in the case in which a single T factory is slower than the execution time of the algorithm, we adjust the logical cycle depth to exceed the T factory's execution time.\",\"label\":\"Logical depth\",\"path\":\"physicalCounts/breakdown/logicalDepth\"},{\"description\":\"Number of T states consumed by the algorithm\",\"explanation\":\"To execute the algorithm, we require one T state for each of the 5321 T gates, four T states for each of the 55 CCZ and 3960 CCiX gates, as well as 19 for each of the 14309 single-qubit rotation gates with arbitrary angle rotation.\",\"label\":\"Number of T states\",\"path\":\"physicalCounts/breakdown/numTstates\"},{\"description\":\"Number of T factories capable of producing the demanded 293252 T states during the algorithm's runtime\",\"explanation\":\"The total number of T factories 30 that are executed in parallel is computed as $\\\\left\\\\lceil\\\\dfrac{293252\\\\;\\\\text{T states} \\\\cdot 100us 800ns\\\\;\\\\text{T factory duration}}{1\\\\;\\\\text{T states per T factory} \\\\cdot 993ms 384us 800ns\\\\;\\\\text{algorithm runtime}}\\\\right\\\\rceil$\",\"label\":\"Number of T factories\",\"path\":\"physicalCounts/breakdown/numTfactories\"},{\"description\":\"Number of times all T factories are invoked\",\"explanation\":\"In order to prepare the 293252 T states, the 30 copies of the T factory are repeatedly invoked 9776 times.\",\"label\":\"Number of T factory invocations\",\"path\":\"physicalCounts/breakdown/numTfactoryRuns\"},{\"description\":\"Number of physical qubits for the algorithm after layout\",\"explanation\":\"The 23120 are the product of the 40 logical qubits after layout and the 578 physical qubits that encode a single logical qubit.\",\"label\":\"Physical algorithmic qubits\",\"path\":\"physicalCounts/breakdown/physicalQubitsForAlgorithm\"},{\"description\":\"Number of physical qubits for the T factories\",\"explanation\":\"Each T factory requires 18000 physical qubits and we run 30 in parallel, therefore we need $540000 = 18000 \\\\cdot 30$ qubits.\",\"label\":\"Physical T factory qubits\",\"path\":\"physicalCounts/breakdown/physicalQubitsForTfactories\"},{\"description\":\"The minimum logical qubit error rate required to run the algorithm within the error budget\",\"explanation\":\"The minimum logical qubit error rate is obtained by dividing the logical error probability 3.33e-4 by the product of 40 logical qubits and the total cycle count 146086.\",\"label\":\"Required logical qubit error rate\",\"path\":\"physicalCountsFormatted/requiredLogicalQubitErrorRate\"},{\"description\":\"The minimum T state error rate required for distilled T states\",\"explanation\":\"The minimum T state error rate is obtained by dividing the T distillation error probability 3.33e-4 by the total number of T states 293252.\",\"label\":\"Required logical T state error rate\",\"path\":\"physicalCountsFormatted/requiredLogicalTstateErrorRate\"},{\"description\":\"Number of T states to implement a rotation with an arbitrary angle\",\"explanation\":\"The number of T states to implement a rotation with an arbitrary angle is $\\\\lceil 0.53 \\\\log_2(14309 / 0.0003333333333333333) + 5.3\\\\rceil$ [[arXiv:2203.10064](https://arxiv.org/abs/2203.10064)].  For simplicity, we use this formula for all single-qubit arbitrary angle rotations, and do not distinguish between best, worst, and average cases.\",\"label\":\"Number of T states per rotation\",\"path\":\"physicalCountsFormatted/numTsPerRotation\"}],\"title\":\"Resource estimates breakdown\"},{\"alwaysVisible\":false,\"entries\":[{\"description\":\"Name of QEC scheme\",\"explanation\":\"You can load pre-defined QEC schemes by using the name `surface_code` or `floquet_code`. The latter only works with Majorana qubits.\",\"label\":\"QEC scheme\",\"path\":\"jobParams/qecScheme/name\"},{\"description\":\"Required code distance for error correction\",\"explanation\":\"The code distance is the smallest odd integer greater or equal to $\\\\dfrac{2\\\\log(0.03 / 0.000000000057044024296190824)}{\\\\log(0.01/0.001)} - 1$\",\"label\":\"Code distance\",\"path\":\"logicalQubit/codeDistance\"},{\"description\":\"Number of physical qubits per logical qubit\",\"explanation\":\"The number of physical qubits per logical qubit are evaluated using the formula 2 * codeDistance * codeDistance that can be user-specified.\",\"label\":\"Physical qubits\",\"path\":\"logicalQubit/physicalQubits\"},{\"description\":\"Duration of a logical cycle in nanoseconds\",\"explanation\":\"The runtime of one logical cycle in nanoseconds is evaluated using the formula (4 * twoQubitGateTime + 2 * oneQubitMeasurementTime) * codeDistance that can be user-specified.\",\"label\":\"Logical cycle time\",\"path\":\"physicalCountsFormatted/logicalCycleTime\"},{\"description\":\"Logical qubit error rate\",\"explanation\":\"The logical qubit error rate is computed as $0.03 \\\\cdot \\\\left(\\\\dfrac{0.001}{0.01}\\\\right)^\\\\frac{17 + 1}{2}$\",\"label\":\"Logical qubit error rate\",\"path\":\"physicalCountsFormatted/logicalErrorRate\"},{\"description\":\"Crossing prefactor used in QEC scheme\",\"explanation\":\"The crossing prefactor is usually extracted numerically from simulations when fitting an exponential curve to model the relationship between logical and physical error rate.\",\"label\":\"Crossing prefactor\",\"path\":\"jobParams/qecScheme/crossingPrefactor\"},{\"description\":\"Error correction threshold used in QEC scheme\",\"explanation\":\"The error correction threshold is the physical error rate below which the error rate of the logical qubit is less than the error rate of the physical qubit that constitute it.  This value is usually extracted numerically from simulations of the logical error rate.\",\"label\":\"Error correction threshold\",\"path\":\"jobParams/qecScheme/errorCorrectionThreshold\"},{\"description\":\"QEC scheme formula used to compute logical cycle time\",\"explanation\":\"This is the formula that is used to compute the logical cycle time 6us 800ns.\",\"label\":\"Logical cycle time formula\",\"path\":\"jobParams/qecScheme/logicalCycleTime\"},{\"description\":\"QEC scheme formula used to compute number of physical qubits per logical qubit\",\"explanation\":\"This is the formula that is used to compute the number of physical qubits per logical qubits 578.\",\"label\":\"Physical qubits formula\",\"path\":\"jobParams/qecScheme/physicalQubitsPerLogicalQubit\"}],\"title\":\"Logical qubit parameters\"},{\"alwaysVisible\":false,\"entries\":[{\"description\":\"Number of physical qubits for a single T factory\",\"explanation\":\"This corresponds to the maximum number of physical qubits over all rounds of T distillation units in a T factory.  A round of distillation contains of multiple copies of distillation units to achieve the required success probability of producing a T state with the expected logical T state error rate.\",\"label\":\"Physical qubits\",\"path\":\"tfactory/physicalQubits\"},{\"description\":\"Runtime of a single T factory\",\"explanation\":\"The runtime of a single T factory is the accumulated runtime of executing each round in a T factory.\",\"label\":\"Runtime\",\"path\":\"physicalCountsFormatted/tfactoryRuntime\"},{\"description\":\"Number of output T states produced in a single run of T factory\",\"explanation\":\"The T factory takes as input 270 noisy physical T states with an error rate of 0.001 and produces 1 T states with an error rate of 5.51e-10.\",\"label\":\"Number of output T states per run\",\"path\":\"tfactory/numTstates\"},{\"description\":\"Number of physical input T states consumed in a single run of a T factory\",\"explanation\":\"This value includes the physical input T states of all copies of the distillation unit in the first round.\",\"label\":\"Number of input T states per run\",\"path\":\"tfactory/numInputTstates\"},{\"description\":\"The number of distillation rounds\",\"explanation\":\"This is the number of distillation rounds.  In each round one or multiple copies of some distillation unit is executed.\",\"label\":\"Distillation rounds\",\"path\":\"tfactory/numRounds\"},{\"description\":\"The number of units in each round of distillation\",\"explanation\":\"This is the number of copies for the distillation units per round.\",\"label\":\"Distillation units per round\",\"path\":\"physicalCountsFormatted/numUnitsPerRound\"},{\"description\":\"The types of distillation units\",\"explanation\":\"These are the types of distillation units that are executed in each round.  The units can be either physical or logical, depending on what type of qubit they are operating.  Space-efficient units require fewer qubits for the cost of longer runtime compared to Reed-Muller preparation units.\",\"label\":\"Distillation units\",\"path\":\"physicalCountsFormatted/unitNamePerRound\"},{\"description\":\"The code distance in each round of distillation\",\"explanation\":\"This is the code distance used for the units in each round.  If the code distance is 1, then the distillation unit operates on physical qubits instead of error-corrected logical qubits.\",\"label\":\"Distillation code distances\",\"path\":\"physicalCountsFormatted/codeDistancePerRound\"},{\"description\":\"The number of physical qubits used in each round of distillation\",\"explanation\":\"The maximum number of physical qubits over all rounds is the number of physical qubits for the T factory, since qubits are reused by different rounds.\",\"label\":\"Number of physical qubits per round\",\"path\":\"physicalCountsFormatted/physicalQubitsPerRound\"},{\"description\":\"The runtime of each distillation round\",\"explanation\":\"The runtime of the T factory is the sum of the runtimes in all rounds.\",\"label\":\"Runtime per round\",\"path\":\"physicalCountsFormatted/tfactoryRuntimePerRound\"},{\"description\":\"Logical T state error rate\",\"explanation\":\"This is the logical T state error rate achieved by the T factory which is equal or smaller than the required error rate 1.14e-9.\",\"label\":\"Logical T state error rate\",\"path\":\"physicalCountsFormatted/tstateLogicalErrorRate\"}],\"title\":\"T factory parameters\"},{\"alwaysVisible\":false,\"entries\":[{\"description\":\"Number of logical qubits in the input quantum program\",\"explanation\":\"We determine 40 from this number by assuming to align them in a 2D grid.  Auxiliary qubits are added to allow for sufficient space to execute multi-qubit Pauli measurements on all or a subset of the logical qubits.\",\"label\":\"Logical qubits (pre-layout)\",\"path\":\"logicalCounts/numQubits\"},{\"description\":\"Number of T gates in the input quantum program\",\"explanation\":\"This includes all T gates and adjoint T gates, but not T gates used to implement rotation gates with arbitrary angle, CCZ gates, or CCiX gates.\",\"label\":\"T gates\",\"path\":\"logicalCounts/tCount\"},{\"description\":\"Number of rotation gates in the input quantum program\",\"explanation\":\"This is the number of all rotation gates. If an angle corresponds to a Pauli, Clifford, or T gate, it is not accounted for in this number.\",\"label\":\"Rotation gates\",\"path\":\"logicalCounts/rotationCount\"},{\"description\":\"Depth of rotation gates in the input quantum program\",\"explanation\":\"This is the number of all non-Clifford layers that include at least one single-qubit rotation gate with an arbitrary angle.\",\"label\":\"Rotation depth\",\"path\":\"logicalCounts/rotationDepth\"},{\"description\":\"Number of CCZ-gates in the input quantum program\",\"explanation\":\"This is the number of CCZ gates.\",\"label\":\"CCZ gates\",\"path\":\"logicalCounts/cczCount\"},{\"description\":\"Number of CCiX-gates in the input quantum program\",\"explanation\":\"This is the number of CCiX gates, which applies $-iX$ controlled on two control qubits [[1212.5069](https://arxiv.org/abs/1212.5069)].\",\"label\":\"CCiX gates\",\"path\":\"logicalCounts/ccixCount\"},{\"description\":\"Number of single qubit measurements in the input quantum program\",\"explanation\":\"This is the number of single qubit measurements in Pauli basis that are used in the input program.  Note that all measurements are counted, however, the measurement result is is determined randomly (with a fixed seed) to be 0 or 1 with a probability of 50%.\",\"label\":\"Measurement operations\",\"path\":\"logicalCounts/measurementCount\"}],\"title\":\"Pre-layout logical resources\"},{\"alwaysVisible\":false,\"entries\":[{\"description\":\"Total error budget for the algorithm\",\"explanation\":\"The total error budget sets the overall allowed error for the algorithm, i.e., the number of times it is allowed to fail.  Its value must be between 0 and 1 and the default value is 0.001, which corresponds to 0.1%, and means that the algorithm is allowed to fail once in 1000 executions.  This parameter is highly application specific. For example, if one is running Shor's algorithm for factoring integers, a large value for the error budget may be tolerated as one can check that the output are indeed the prime factors of the input.  On the other hand, a much smaller error budget may be needed for an algorithm solving a problem with a solution which cannot be efficiently verified.  This budget $\\\\epsilon = \\\\epsilon_{\\\\log} + \\\\epsilon_{\\\\rm dis} + \\\\epsilon_{\\\\rm syn}$ is uniformly distributed and applies to errors $\\\\epsilon_{\\\\log}$ to implement logical qubits, an error budget $\\\\epsilon_{\\\\rm dis}$ to produce T states through distillation, and an error budget $\\\\epsilon_{\\\\rm syn}$ to synthesize rotation gates with arbitrary angles.  Note that for distillation and rotation synthesis, the respective error budgets $\\\\epsilon_{\\\\rm dis}$ and $\\\\epsilon_{\\\\rm syn}$ are uniformly distributed among all T states and all rotation gates, respectively. If there are no rotation gates in the input algorithm, the error budget is uniformly distributed to logical errors and T state errors.\",\"label\":\"Total error budget\",\"path\":\"physicalCountsFormatted/errorBudget\"},{\"description\":\"Probability of at least one logical error\",\"explanation\":\"This is one third of the total error budget 1.00e-3 if the input algorithm contains rotation with gates with arbitrary angles, or one half of it, otherwise.\",\"label\":\"Logical error probability\",\"path\":\"physicalCountsFormatted/errorBudgetLogical\"},{\"description\":\"Probability of at least one faulty T distillation\",\"explanation\":\"This is one third of the total error budget 1.00e-3 if the input algorithm contains rotation with gates with arbitrary angles, or one half of it, otherwise.\",\"label\":\"T distillation error probability\",\"path\":\"physicalCountsFormatted/errorBudgetTstates\"},{\"description\":\"Probability of at least one failed rotation synthesis\",\"explanation\":\"This is one third of the total error budget 1.00e-3.\",\"label\":\"Rotation synthesis error probability\",\"path\":\"physicalCountsFormatted/errorBudgetRotations\"}],\"title\":\"Assumed error budget\"},{\"alwaysVisible\":false,\"entries\":[{\"description\":\"Some descriptive name for the qubit model\",\"explanation\":\"You can load pre-defined qubit parameters by using the names `qubit_gate_ns_e3`, `qubit_gate_ns_e4`, `qubit_gate_us_e3`, `qubit_gate_us_e4`, `qubit_maj_ns_e4`, or `qubit_maj_ns_e6`.  The names of these pre-defined qubit parameters indicate the instruction set (gate-based or Majorana), the operation speed (ns or ¬µs regime), as well as the fidelity (e.g., e3 for $10^{-3}$ gate error rates).\",\"label\":\"Qubit name\",\"path\":\"jobParams/qubitParams/name\"},{\"description\":\"Underlying qubit technology (gate-based or Majorana)\",\"explanation\":\"When modeling the physical qubit abstractions, we distinguish between two different physical instruction sets that are used to operate the qubits.  The physical instruction set can be either *gate-based* or *Majorana*.  A gate-based instruction set provides single-qubit measurement, single-qubit gates (incl. T gates), and two-qubit gates.  A Majorana instruction set provides a physical T gate, single-qubit measurement and two-qubit joint measurement operations.\",\"label\":\"Instruction set\",\"path\":\"jobParams/qubitParams/instructionSet\"},{\"description\":\"Operation time for single-qubit measurement (t_meas) in ns\",\"explanation\":\"This is the operation time in nanoseconds to perform a single-qubit measurement in the Pauli basis.\",\"label\":\"Single-qubit measurement time\",\"path\":\"jobParams/qubitParams/oneQubitMeasurementTime\"},{\"description\":\"Operation time for single-qubit gate (t_gate) in ns\",\"explanation\":\"This is the operation time in nanoseconds to perform a single-qubit Clifford operation, e.g., Hadamard or Phase gates.\",\"label\":\"Single-qubit gate time\",\"path\":\"jobParams/qubitParams/oneQubitGateTime\"},{\"description\":\"Operation time for two-qubit gate in ns\",\"explanation\":\"This is the operation time in nanoseconds to perform a two-qubit Clifford operation, e.g., a CNOT or CZ gate.\",\"label\":\"Two-qubit gate time\",\"path\":\"jobParams/qubitParams/twoQubitGateTime\"},{\"description\":\"Operation time for a T gate\",\"explanation\":\"This is the operation time in nanoseconds to execute a T gate.\",\"label\":\"T gate time\",\"path\":\"jobParams/qubitParams/tGateTime\"},{\"description\":\"Error rate for single-qubit measurement\",\"explanation\":\"This is the probability in which a single-qubit measurement in the Pauli basis may fail.\",\"label\":\"Single-qubit measurement error rate\",\"path\":\"jobParams/qubitParams/oneQubitMeasurementErrorRate\"},{\"description\":\"Error rate for single-qubit Clifford gate (p)\",\"explanation\":\"This is the probability in which a single-qubit Clifford operation, e.g., Hadamard or Phase gates, may fail.\",\"label\":\"Single-qubit error rate\",\"path\":\"jobParams/qubitParams/oneQubitGateErrorRate\"},{\"description\":\"Error rate for two-qubit Clifford gate\",\"explanation\":\"This is the probability in which a two-qubit Clifford operation, e.g., CNOT or CZ gates, may fail.\",\"label\":\"Two-qubit error rate\",\"path\":\"jobParams/qubitParams/twoQubitGateErrorRate\"},{\"description\":\"Error rate to prepare single-qubit T state or apply a T gate (p_T)\",\"explanation\":\"This is the probability in which executing a single T gate may fail.\",\"label\":\"T gate error rate\",\"path\":\"jobParams/qubitParams/tGateErrorRate\"}],\"title\":\"Physical qubit parameters\"}]},\"status\":\"success\",\"tfactory\":{\"codeDistancePerRound\":[5,17],\"logicalErrorRate\":5.513926534736261E-10,\"numInputTstates\":270,\"numRounds\":2,\"numTstates\":1,\"numUnitsPerRound\":[18,1],\"physicalQubits\":18000,\"physicalQubitsPerRound\":[18000,17918],\"runtime\":100800.0,\"runtimePerRound\":[26000.0,74800.0],\"unitNamePerRound\":[\"15-to-1 space efficient logical\",\"15-to-1 RM prep logical\"]}}"
          },
          "metadata": {
            "text/plain": {},
            "application/x-qsharp-data": {}
          }
        }
      ],
      "execution_count": 65,
      "metadata": {
        "jupyter": {
          "source_hidden": false,
          "outputs_hidden": false
        },
        "nteract": {
          "transient": {
            "deleting": false
          }
        }
      }
    },
    {
      "cell_type": "code",
      "source": [
        "%simulate shorImplementatonTest n=21"
      ],
      "outputs": [
        {
          "output_type": "stream",
          "name": "stdout",
          "text": "Número aleatorio entre 2 y 20: \nGCD de 21 y 7:\nNuevo intento.\nGCD de 14 y 7:\nNuevo intento.\nDivisor optenido: 21, GCD: 7.\n"
        },
        {
          "output_type": "execute_result",
          "execution_count": 33,
          "data": {
            "text/plain": "(7, 3)",
            "application/x-qsharp-data": "{\"@type\":\"@tuple\",\"Item1\":7,\"Item2\":3}"
          },
          "metadata": {
            "text/plain": {},
            "application/x-qsharp-data": {}
          }
        }
      ],
      "execution_count": 33,
      "metadata": {
        "jupyter": {
          "outputs_hidden": false,
          "source_hidden": false
        },
        "nteract": {
          "transient": {
            "deleting": false
          }
        }
      }
    },
    {
      "cell_type": "code",
      "source": [
        "%simulate shorImplementatonTest n=21"
      ],
      "outputs": [
        {
          "output_type": "stream",
          "name": "stdout",
          "text": "Número aleatorio entre 2 y 20: \nGCD de 21 y 15:\nNuevo intento.\nGCD de 6 y 3:\nNuevo intento.\nDivisor optenido: 21, GCD: 3.\n"
        },
        {
          "output_type": "execute_result",
          "execution_count": 34,
          "data": {
            "text/plain": "(3, 7)",
            "application/x-qsharp-data": "{\"@type\":\"@tuple\",\"Item1\":3,\"Item2\":7}"
          },
          "metadata": {
            "text/plain": {},
            "application/x-qsharp-data": {}
          }
        }
      ],
      "execution_count": 34,
      "metadata": {
        "jupyter": {
          "source_hidden": false,
          "outputs_hidden": false
        },
        "nteract": {
          "transient": {
            "deleting": false
          }
        }
      }
    },
    {
      "cell_type": "code",
      "source": [
        "%simulate shorImplementatonTest n=21"
      ],
      "outputs": [
        {
          "output_type": "stream",
          "name": "stdout",
          "text": "Número aleatorio entre 2 y 20: \nNúmero aleatorio: 5\nLa estimación del periodo no retorna un factor valido.\nNúmero aleatorio entre 2 y 20: \nGCD de 21 y 12:\nNuevo intento.\nGCD de 9 y 3:\nNuevo intento.\nGCD de 6 y 3:\nNuevo intento.\nDivisor optenido: 21, GCD: 3.\n"
        },
        {
          "output_type": "execute_result",
          "execution_count": 35,
          "data": {
            "text/plain": "(3, 7)",
            "application/x-qsharp-data": "{\"@type\":\"@tuple\",\"Item1\":3,\"Item2\":7}"
          },
          "metadata": {
            "text/plain": {},
            "application/x-qsharp-data": {}
          }
        }
      ],
      "execution_count": 35,
      "metadata": {
        "jupyter": {
          "source_hidden": false,
          "outputs_hidden": false
        },
        "nteract": {
          "transient": {
            "deleting": false
          }
        }
      }
    },
    {
      "cell_type": "code",
      "source": [
        "%azure.execute shorImplementatonTest n=95"
      ],
      "outputs": [
        {
          "output_type": "stream",
          "name": "stdout",
          "text": "Submitting shorImplementatonTest to target microsoft.estimator...\nJob successfully submitted.\n   Job name: shorImplementatonTest\n   Job ID: 669a3af2-ce3e-483e-b98b-43b91a724541\nWaiting up to 300 seconds for Azure Quantum job to complete...\n[22:40:25] Current job status: Executing\n[22:40:30] Current job status: Succeeded\n"
        },
        {
          "output_type": "execute_result",
          "execution_count": 58,
          "data": {
            "text/plain": "ResourceEstimationResult { RawJson = {\n  \"errorBudget\": {\n    \"logical\": 0.001,\n    \"rotations\": 0.0,\n    \"tstates\": 0.0\n  },\n  \"jobParams\": {\n    \"errorBudget\": 0.001,\n    \"qecScheme\": {\n      \"crossingPrefactor\": 0.03,\n      \"errorCorrectionThreshold\": 0.01,\n      \"logicalCycleTime\": \"(4 * twoQubitGateTime + 2 * oneQubitMeasurementTime) * codeDistance\",\n      \"name\": \"surface_code\",\n      \"physicalQubitsPerLogicalQubit\": \"2 * codeDistance * codeDistance\"\n    },\n    \"qubitParams\": {\n      \"instructionSet\": \"GateBased\",\n      \"name\": \"qubit_gate_ns_e3\",\n      \"oneQubitGateErrorRate\": 0.001,\n      \"oneQubitGateTime\": \"50 ns\",\n      \"oneQubitMeasurementErrorRate\": 0.001,\n      \"oneQubitMeasurementTime\": \"100 ns\",\n      \"tGateErrorRate\": 0.001,\n      \"tGateTime\": \"50 ns\",\n      \"twoQubitGateErrorRate\": 0.001,\n      \"twoQubitGateTime\": \"50 ns\"\n    }\n  },\n  \"logicalCounts\": {\n    \"ccixCount\": 0,\n    \"cczCount\": 0,\n    \"measurementCount\": 9,\n    \"numQubits\": 1,\n    \"rotationCount\": 0,\n    \"rotationDepth\": 0,\n    \"tCount\": 0\n  },\n  \"logicalQubit\": {\n    \"codeDistance\": 7,\n    \"logicalCycleTime\": 2800.0,\n    \"logicalErrorRate\": 3.0000000000000013E-06,\n    \"physicalQubits\": 98\n  },\n  \"physicalCounts\": {\n    \"breakdown\": {\n      \"algorithmicLogicalDepth\": 9,\n      \"algorithmicLogicalQubits\": 6,\n      \"cliffordErrorRate\": 0.001,\n      \"logicalDepth\": 9,\n      \"numTfactories\": 0,\n      \"numTfactoryRuns\": 0,\n      \"numTsPerRotation\": null,\n      \"numTstates\": 0,\n      \"physicalQubitsForAlgorithm\": 588,\n      \"physicalQubitsForTfactories\": 0,\n      \"requiredLogicalQubitErrorRate\": 1.8518518518518518E-05,\n      \"requiredLogicalTstateErrorRate\": null\n    },\n    \"physicalQubits\": 588,\n    \"runtime\": 25200\n  },\n  \"physicalCountsFormatted\": {\n    \"codeDistancePerRound\": \"No T states in algorithm\",\n    \"errorBudget\": \"1.00e-3\",\n    \"errorBudgetLogical\": \"1.00e-3\",\n    \"errorBudgetRotations\": \"0.00e0\",\n    \"errorBudgetTstates\": \"0.00e0\",\n    \"logicalCycleTime\": \"2us 800ns\",\n    \"logicalErrorRate\": \"3.00e-6\",\n    \"numTsPerRotation\": \"No rotations in algorithm\",\n    \"numUnitsPerRound\": \"No T states in algorithm\",\n    \"physicalQubitsForTfactoriesPercentage\": \"0.00 %\",\n    \"physicalQubitsPerRound\": \"No T states in algorithm\",\n    \"requiredLogicalQubitErrorRate\": \"1.85e-5\",\n    \"requiredLogicalTstateErrorRate\": \"No T states in algorithm\",\n    \"runtime\": \"25us 200ns\",\n    \"tfactoryRuntime\": \"No T states in algorithm\",\n    \"tfactoryRuntimePerRound\": \"No T states in algorithm\",\n    \"tstateLogicalErrorRate\": \"No T states in algorithm\",\n    \"unitNamePerRound\": \"No T states in algorithm\"\n  },\n  \"reportData\": {\n    \"assumptions\": [\n      \"_More details on the following lists of assumptions can be found in the paper [Accessing requirements for scaling quantum computers and their applications](https://aka.ms/AQ/RE/Paper)._\",\n      \"**Uniform independent physical noise.** We assume that the noise on physical qubits and physical qubit operations is the standard circuit noise model. In particular we assume error events at different space-time locations are independent and that error rates are uniform across the system in time and space.\",\n      \"**Efficient classical computation.** We assume that classical overhead (compilation, control, feedback, readout, decoding, etc.) does not dominate the overall cost of implementing the full quantum algorithm.\",\n      \"**Extraction circuits for planar quantum ISA.** We assume that stabilizer extraction circuits with similar depth and error correction performance to those for standard surface and Hastings-Haah code patches can be constructed to implement all operations of the planar quantum ISA (instruction set architecture).\",\n      \"**Uniform independent logical noise.** We assume that the error rate of a logical operation is approximately equal to its space-time volume (the number of tiles multiplied by the number of logical time steps) multiplied by the error rate of a logical qubit in a standard one-tile patch in one logical time step.\",\n      \"**Negligible Clifford costs for synthesis.** We assume that the space overhead for synthesis and space and time overhead for transport of magic states within magic state factories and to synthesis qubits are all negligible.\",\n      \"**Smooth magic state consumption rate.** We assume that the rate of T state consumption throughout the compiled algorithm is almost constant, or can be made almost constant without significantly increasing the number of logical time steps for the algorithm.\"\n    ],\n    \"groups\": [\n      {\n        \"alwaysVisible\": true,\n        \"entries\": [\n          {\n            \"description\": \"Number of physical qubits\",\n            \"explanation\": \"This value represents the total number of physical qubits, which is the sum of 588 physical qubits to implement the algorithm logic, and 0 physical qubits to execute the T factories that are responsible to produce the T states that are consumed by the algorithm.\",\n            \"label\": \"Physical qubits\",\n            \"path\": \"physicalCounts/physicalQubits\"\n          },\n          {\n            \"description\": \"Total runtime\",\n            \"explanation\": \"This is a runtime estimate (in nanosecond precision) for the execution time of the algorithm.  In general, the execution time corresponds to the duration of one logical cycle (2us 800ns) multiplied by the 9 logical cycles to run the algorithm.  If however the duration of a single T factory (here: No T states in algorithm) is larger than the algorithm runtime, we extend the number of logical cycles artificially in order to exceed the runtime of a single T factory.\",\n            \"label\": \"Runtime\",\n            \"path\": \"physicalCountsFormatted/runtime\"\n          }\n        ],\n        \"title\": \"Physical resource estimates\"\n      },\n      {\n        \"alwaysVisible\": false,\n        \"entries\": [\n          {\n            \"description\": \"Number of logical qubits for the algorithm after layout\",\n            \"explanation\": \"Laying out the logical qubits in the presence of nearest-neighbor constraints requires additional logical qubits.  In particular, to layout the $Q_{\\\\rm alg} = 1$ logical qubits in the input algorithm, we require in total $2 \\\\cdot Q_{\\\\rm alg} + \\\\lceil \\\\sqrt{8 \\\\cdot Q_{\\\\rm alg}}\\\\rceil + 1 = 6$ logical qubits.\",\n            \"label\": \"Logical algorithmic qubits\",\n            \"path\": \"physicalCounts/breakdown/algorithmicLogicalQubits\"\n          },\n          {\n            \"description\": \"Number of logical cycles for the algorithm\",\n            \"explanation\": \"To execute the algorithm using _Parallel Synthesis Sequential Pauli Computation_ (PSSPC), operations are scheduled in terms of multi-qubit Pauli measurements, for which assume an execution time of one logical cycle.  Based on the input algorithm, we require one multi-qubit measurement for the 9 single-qubit measurements, the 0 arbitrary single-qubit rotations, and the 0 T gates, three multi-qubit measurements for each of the 0 CCZ and 0 CCiX gates in the input program, as well as No rotations in algorithm multi-qubit measurements for each of the 0 non-Clifford layers in which there is at least one single-qubit rotation with an arbitrary angle rotation.\",\n            \"label\": \"Algorithmic depth\",\n            \"path\": \"physicalCounts/breakdown/algorithmicLogicalDepth\"\n          },\n          {\n            \"description\": \"Number of logical cycles performed\",\n            \"explanation\": \"This number is usually equal to the logical depth of the algorithm, which is 9.  However, in the case in which a single T factory is slower than the execution time of the algorithm, we adjust the logical cycle depth to exceed the T factory's execution time.\",\n            \"label\": \"Logical depth\",\n            \"path\": \"physicalCounts/breakdown/logicalDepth\"\n          },\n          {\n            \"description\": \"Number of T states consumed by the algorithm\",\n            \"explanation\": \"To execute the algorithm, we require one T state for each of the 0 T gates, four T states for each of the 0 CCZ and 0 CCiX gates, as well as No rotations in algorithm for each of the 0 single-qubit rotation gates with arbitrary angle rotation.\",\n            \"label\": \"Number of T states\",\n            \"path\": \"physicalCounts/breakdown/numTstates\"\n          },\n          {\n            \"description\": \"Number of T factories capable of producing the demanded 0 T states during the algorithm's runtime\",\n            \"explanation\": \"The total number of T factories 0 that are executed in parallel is computed as $\\\\left\\\\lceil\\\\dfrac{0\\\\;\\\\text{T states} \\\\cdot No T states in algorithm\\\\;\\\\text{T factory duration}}{0\\\\;\\\\text{T states per T factory} \\\\cdot 25us 200ns\\\\;\\\\text{algorithm runtime}}\\\\right\\\\rceil$\",\n            \"label\": \"Number of T factories\",\n            \"path\": \"physicalCounts/breakdown/numTfactories\"\n          },\n          {\n            \"description\": \"Number of times all T factories are invoked\",\n            \"explanation\": \"In order to prepare the 0 T states, the 0 copies of the T factory are repeatedly invoked 0 times.\",\n            \"label\": \"Number of T factory invocations\",\n            \"path\": \"physicalCounts/breakdown/numTfactoryRuns\"\n          },\n          {\n            \"description\": \"Number of physical qubits for the algorithm after layout\",\n            \"explanation\": \"The 588 are the product of the 6 logical qubits after layout and the 98 physical qubits that encode a single logical qubit.\",\n            \"label\": \"Physical algorithmic qubits\",\n            \"path\": \"physicalCounts/breakdown/physicalQubitsForAlgorithm\"\n          },\n          {\n            \"description\": \"Number of physical qubits for the T factories\",\n            \"explanation\": \"Each T factory requires 0 physical qubits and we run 0 in parallel, therefore we need $0 = 0 \\\\cdot 0$ qubits.\",\n            \"label\": \"Physical T factory qubits\",\n            \"path\": \"physicalCounts/breakdown/physicalQubitsForTfactories\"\n          },\n          {\n            \"description\": \"The minimum logical qubit error rate required to run the algorithm within the error budget\",\n            \"explanation\": \"The minimum logical qubit error rate is obtained by dividing the logical error probability 1.00e-3 by the product of 6 logical qubits and the total cycle count 9.\",\n            \"label\": \"Required logical qubit error rate\",\n            \"path\": \"physicalCountsFormatted/requiredLogicalQubitErrorRate\"\n          },\n          {\n            \"description\": \"The minimum T state error rate required for distilled T states\",\n            \"explanation\": \"The minimum T state error rate is obtained by dividing the T distillation error probability 0.00e0 by the total number of T states 0.\",\n            \"label\": \"Required logical T state error rate\",\n            \"path\": \"physicalCountsFormatted/requiredLogicalTstateErrorRate\"\n          },\n          {\n            \"description\": \"Number of T states to implement a rotation with an arbitrary angle\",\n            \"explanation\": \"The number of T states to implement a rotation with an arbitrary angle is $\\\\lceil 0.53 \\\\log_2(0 / 0) + 5.3\\\\rceil$ [[arXiv:2203.10064](https://arxiv.org/abs/2203.10064)].  For simplicity, we use this formula for all single-qubit arbitrary angle rotations, and do not distinguish between best, worst, and average cases.\",\n            \"label\": \"Number of T states per rotation\",\n            \"path\": \"physicalCountsFormatted/numTsPerRotation\"\n          }\n        ],\n        \"title\": \"Resource estimates breakdown\"\n      },\n      {\n        \"alwaysVisible\": false,\n        \"entries\": [\n          {\n            \"description\": \"Name of QEC scheme\",\n            \"explanation\": \"You can load pre-defined QEC schemes by using the name `surface_code` or `floquet_code`. The latter only works with Majorana qubits.\",\n            \"label\": \"QEC scheme\",\n            \"path\": \"jobParams/qecScheme/name\"\n          },\n          {\n            \"description\": \"Required code distance for error correction\",\n            \"explanation\": \"The code distance is the smallest odd integer greater or equal to $\\\\dfrac{2\\\\log(0.03 / 0.000018518518518518518)}{\\\\log(0.01/0.001)} - 1$\",\n            \"label\": \"Code distance\",\n            \"path\": \"logicalQubit/codeDistance\"\n          },\n          {\n            \"description\": \"Number of physical qubits per logical qubit\",\n            \"explanation\": \"The number of physical qubits per logical qubit are evaluated using the formula 2 * codeDistance * codeDistance that can be user-specified.\",\n            \"label\": \"Physical qubits\",\n            \"path\": \"logicalQubit/physicalQubits\"\n          },\n          {\n            \"description\": \"Duration of a logical cycle in nanoseconds\",\n            \"explanation\": \"The runtime of one logical cycle in nanoseconds is evaluated using the formula (4 * twoQubitGateTime + 2 * oneQubitMeasurementTime) * codeDistance that can be user-specified.\",\n            \"label\": \"Logical cycle time\",\n            \"path\": \"physicalCountsFormatted/logicalCycleTime\"\n          },\n          {\n            \"description\": \"Logical qubit error rate\",\n            \"explanation\": \"The logical qubit error rate is computed as $0.03 \\\\cdot \\\\left(\\\\dfrac{0.001}{0.01}\\\\right)^\\\\frac{7 + 1}{2}$\",\n            \"label\": \"Logical qubit error rate\",\n            \"path\": \"physicalCountsFormatted/logicalErrorRate\"\n          },\n          {\n            \"description\": \"Crossing prefactor used in QEC scheme\",\n            \"explanation\": \"The crossing prefactor is usually extracted numerically from simulations when fitting an exponential curve to model the relationship between logical and physical error rate.\",\n            \"label\": \"Crossing prefactor\",\n            \"path\": \"jobParams/qecScheme/crossingPrefactor\"\n          },\n          {\n            \"description\": \"Error correction threshold used in QEC scheme\",\n            \"explanation\": \"The error correction threshold is the physical error rate below which the error rate of the logical qubit is less than the error rate of the physical qubit that constitute it.  This value is usually extracted numerically from simulations of the logical error rate.\",\n            \"label\": \"Error correction threshold\",\n            \"path\": \"jobParams/qecScheme/errorCorrectionThreshold\"\n          },\n          {\n            \"description\": \"QEC scheme formula used to compute logical cycle time\",\n            \"explanation\": \"This is the formula that is used to compute the logical cycle time 2us 800ns.\",\n            \"label\": \"Logical cycle time formula\",\n            \"path\": \"jobParams/qecScheme/logicalCycleTime\"\n          },\n          {\n            \"description\": \"QEC scheme formula used to compute number of physical qubits per logical qubit\",\n            \"explanation\": \"This is the formula that is used to compute the number of physical qubits per logical qubits 98.\",\n            \"label\": \"Physical qubits formula\",\n            \"path\": \"jobParams/qecScheme/physicalQubitsPerLogicalQubit\"\n          }\n        ],\n        \"title\": \"Logical qubit parameters\"\n      },\n      {\n        \"alwaysVisible\": false,\n        \"entries\": [\n          {\n            \"description\": \"Number of logical qubits in the input quantum program\",\n            \"explanation\": \"We determine 6 from this number by assuming to align them in a 2D grid.  Auxiliary qubits are added to allow for sufficient space to execute multi-qubit Pauli measurements on all or a subset of the logical qubits.\",\n            \"label\": \"Logical qubits (pre-layout)\",\n            \"path\": \"logicalCounts/numQubits\"\n          },\n          {\n            \"description\": \"Number of T gates in the input quantum program\",\n            \"explanation\": \"This includes all T gates and adjoint T gates, but not T gates used to implement rotation gates with arbitrary angle, CCZ gates, or CCiX gates.\",\n            \"label\": \"T gates\",\n            \"path\": \"logicalCounts/tCount\"\n          },\n          {\n            \"description\": \"Number of rotation gates in the input quantum program\",\n            \"explanation\": \"This is the number of all rotation gates. If an angle corresponds to a Pauli, Clifford, or T gate, it is not accounted for in this number.\",\n            \"label\": \"Rotation gates\",\n            \"path\": \"logicalCounts/rotationCount\"\n          },\n          {\n            \"description\": \"Depth of rotation gates in the input quantum program\",\n            \"explanation\": \"This is the number of all non-Clifford layers that include at least one single-qubit rotation gate with an arbitrary angle.\",\n            \"label\": \"Rotation depth\",\n            \"path\": \"logicalCounts/rotationDepth\"\n          },\n          {\n            \"description\": \"Number of CCZ-gates in the input quantum program\",\n            \"explanation\": \"This is the number of CCZ gates.\",\n            \"label\": \"CCZ gates\",\n            \"path\": \"logicalCounts/cczCount\"\n          },\n          {\n            \"description\": \"Number of CCiX-gates in the input quantum program\",\n            \"explanation\": \"This is the number of CCiX gates, which applies $-iX$ controlled on two control qubits [[1212.5069](https://arxiv.org/abs/1212.5069)].\",\n            \"label\": \"CCiX gates\",\n            \"path\": \"logicalCounts/ccixCount\"\n          },\n          {\n            \"description\": \"Number of single qubit measurements in the input quantum program\",\n            \"explanation\": \"This is the number of single qubit measurements in Pauli basis that are used in the input program.  Note that all measurements are counted, however, the measurement result is is determined randomly (with a fixed seed) to be 0 or 1 with a probability of 50%.\",\n            \"label\": \"Measurement operations\",\n            \"path\": \"logicalCounts/measurementCount\"\n          }\n        ],\n        \"title\": \"Pre-layout logical resources\"\n      },\n      {\n        \"alwaysVisible\": false,\n        \"entries\": [\n          {\n            \"description\": \"Total error budget for the algorithm\",\n            \"explanation\": \"The total error budget sets the overall allowed error for the algorithm, i.e., the number of times it is allowed to fail.  Its value must be between 0 and 1 and the default value is 0.001, which corresponds to 0.1%, and means that the algorithm is allowed to fail once in 1000 executions.  This parameter is highly application specific. For example, if one is running Shor's algorithm for factoring integers, a large value for the error budget may be tolerated as one can check that the output are indeed the prime factors of the input.  On the other hand, a much smaller error budget may be needed for an algorithm solving a problem with a solution which cannot be efficiently verified.  This budget $\\\\epsilon = \\\\epsilon_{\\\\log} + \\\\epsilon_{\\\\rm dis} + \\\\epsilon_{\\\\rm syn}$ is uniformly distributed and applies to errors $\\\\epsilon_{\\\\log}$ to implement logical qubits, an error budget $\\\\epsilon_{\\\\rm dis}$ to produce T states through distillation, and an error budget $\\\\epsilon_{\\\\rm syn}$ to synthesize rotation gates with arbitrary angles.  Note that for distillation and rotation synthesis, the respective error budgets $\\\\epsilon_{\\\\rm dis}$ and $\\\\epsilon_{\\\\rm syn}$ are uniformly distributed among all T states and all rotation gates, respectively. If there are no rotation gates in the input algorithm, the error budget is uniformly distributed to logical errors and T state errors.\",\n            \"label\": \"Total error budget\",\n            \"path\": \"physicalCountsFormatted/errorBudget\"\n          },\n          {\n            \"description\": \"Probability of at least one logical error\",\n            \"explanation\": \"This is one third of the total error budget 1.00e-3 if the input algorithm contains rotation with gates with arbitrary angles, or one half of it, otherwise.\",\n            \"label\": \"Logical error probability\",\n            \"path\": \"physicalCountsFormatted/errorBudgetLogical\"\n          },\n          {\n            \"description\": \"Probability of at least one faulty T distillation\",\n            \"explanation\": \"This is one third of the total error budget 1.00e-3 if the input algorithm contains rotation with gates with arbitrary angles, or one half of it, otherwise.\",\n            \"label\": \"T distillation error probability\",\n            \"path\": \"physicalCountsFormatted/errorBudgetTstates\"\n          },\n          {\n            \"description\": \"Probability of at least one failed rotation synthesis\",\n            \"explanation\": \"This is one third of the total error budget 1.00e-3.\",\n            \"label\": \"Rotation synthesis error probability\",\n            \"path\": \"physicalCountsFormatted/errorBudgetRotations\"\n          }\n        ],\n        \"title\": \"Assumed error budget\"\n      },\n      {\n        \"alwaysVisible\": false,\n        \"entries\": [\n          {\n            \"description\": \"Some descriptive name for the qubit model\",\n            \"explanation\": \"You can load pre-defined qubit parameters by using the names `qubit_gate_ns_e3`, `qubit_gate_ns_e4`, `qubit_gate_us_e3`, `qubit_gate_us_e4`, `qubit_maj_ns_e4`, or `qubit_maj_ns_e6`.  The names of these pre-defined qubit parameters indicate the instruction set (gate-based or Majorana), the operation speed (ns or ¬µs regime), as well as the fidelity (e.g., e3 for $10^{-3}$ gate error rates).\",\n            \"label\": \"Qubit name\",\n            \"path\": \"jobParams/qubitParams/name\"\n          },\n          {\n            \"description\": \"Underlying qubit technology (gate-based or Majorana)\",\n            \"explanation\": \"When modeling the physical qubit abstractions, we distinguish between two different physical instruction sets that are used to operate the qubits.  The physical instruction set can be either *gate-based* or *Majorana*.  A gate-based instruction set provides single-qubit measurement, single-qubit gates (incl. T gates), and two-qubit gates.  A Majorana instruction set provides a physical T gate, single-qubit measurement and two-qubit joint measurement operations.\",\n            \"label\": \"Instruction set\",\n            \"path\": \"jobParams/qubitParams/instructionSet\"\n          },\n          {\n            \"description\": \"Operation time for single-qubit measurement (t_meas) in ns\",\n            \"explanation\": \"This is the operation time in nanoseconds to perform a single-qubit measurement in the Pauli basis.\",\n            \"label\": \"Single-qubit measurement time\",\n            \"path\": \"jobParams/qubitParams/oneQubitMeasurementTime\"\n          },\n          {\n            \"description\": \"Operation time for single-qubit gate (t_gate) in ns\",\n            \"explanation\": \"This is the operation time in nanoseconds to perform a single-qubit Clifford operation, e.g., Hadamard or Phase gates.\",\n            \"label\": \"Single-qubit gate time\",\n            \"path\": \"jobParams/qubitParams/oneQubitGateTime\"\n          },\n          {\n            \"description\": \"Operation time for two-qubit gate in ns\",\n            \"explanation\": \"This is the operation time in nanoseconds to perform a two-qubit Clifford operation, e.g., a CNOT or CZ gate.\",\n            \"label\": \"Two-qubit gate time\",\n            \"path\": \"jobParams/qubitParams/twoQubitGateTime\"\n          },\n          {\n            \"description\": \"Operation time for a T gate\",\n            \"explanation\": \"This is the operation time in nanoseconds to execute a T gate.\",\n            \"label\": \"T gate time\",\n            \"path\": \"jobParams/qubitParams/tGateTime\"\n          },\n          {\n            \"description\": \"Error rate for single-qubit measurement\",\n            \"explanation\": \"This is the probability in which a single-qubit measurement in the Pauli basis may fail.\",\n            \"label\": \"Single-qubit measurement error rate\",\n            \"path\": \"jobParams/qubitParams/oneQubitMeasurementErrorRate\"\n          },\n          {\n            \"description\": \"Error rate for single-qubit Clifford gate (p)\",\n            \"explanation\": \"This is the probability in which a single-qubit Clifford operation, e.g., Hadamard or Phase gates, may fail.\",\n            \"label\": \"Single-qubit error rate\",\n            \"path\": \"jobParams/qubitParams/oneQubitGateErrorRate\"\n          },\n          {\n            \"description\": \"Error rate for two-qubit Clifford gate\",\n            \"explanation\": \"This is the probability in which a two-qubit Clifford operation, e.g., CNOT or CZ gates, may fail.\",\n            \"label\": \"Two-qubit error rate\",\n            \"path\": \"jobParams/qubitParams/twoQubitGateErrorRate\"\n          },\n          {\n            \"description\": \"Error rate to prepare single-qubit T state or apply a T gate (p_T)\",\n            \"explanation\": \"This is the probability in which executing a single T gate may fail.\",\n            \"label\": \"T gate error rate\",\n            \"path\": \"jobParams/qubitParams/tGateErrorRate\"\n          }\n        ],\n        \"title\": \"Physical qubit parameters\"\n      }\n    ]\n  },\n  \"status\": \"success\",\n  \"tfactory\": null\n} }",
            "application/x-qsharp-data": "{\"errorBudget\":{\"logical\":0.001,\"rotations\":0.0,\"tstates\":0.0},\"jobParams\":{\"errorBudget\":0.001,\"qecScheme\":{\"crossingPrefactor\":0.03,\"errorCorrectionThreshold\":0.01,\"logicalCycleTime\":\"(4 * twoQubitGateTime + 2 * oneQubitMeasurementTime) * codeDistance\",\"name\":\"surface_code\",\"physicalQubitsPerLogicalQubit\":\"2 * codeDistance * codeDistance\"},\"qubitParams\":{\"instructionSet\":\"GateBased\",\"name\":\"qubit_gate_ns_e3\",\"oneQubitGateErrorRate\":0.001,\"oneQubitGateTime\":\"50 ns\",\"oneQubitMeasurementErrorRate\":0.001,\"oneQubitMeasurementTime\":\"100 ns\",\"tGateErrorRate\":0.001,\"tGateTime\":\"50 ns\",\"twoQubitGateErrorRate\":0.001,\"twoQubitGateTime\":\"50 ns\"}},\"logicalCounts\":{\"ccixCount\":0,\"cczCount\":0,\"measurementCount\":9,\"numQubits\":1,\"rotationCount\":0,\"rotationDepth\":0,\"tCount\":0},\"logicalQubit\":{\"codeDistance\":7,\"logicalCycleTime\":2800.0,\"logicalErrorRate\":3.0000000000000013E-06,\"physicalQubits\":98},\"physicalCounts\":{\"breakdown\":{\"algorithmicLogicalDepth\":9,\"algorithmicLogicalQubits\":6,\"cliffordErrorRate\":0.001,\"logicalDepth\":9,\"numTfactories\":0,\"numTfactoryRuns\":0,\"numTsPerRotation\":null,\"numTstates\":0,\"physicalQubitsForAlgorithm\":588,\"physicalQubitsForTfactories\":0,\"requiredLogicalQubitErrorRate\":1.8518518518518518E-05,\"requiredLogicalTstateErrorRate\":null},\"physicalQubits\":588,\"runtime\":25200},\"physicalCountsFormatted\":{\"codeDistancePerRound\":\"No T states in algorithm\",\"errorBudget\":\"1.00e-3\",\"errorBudgetLogical\":\"1.00e-3\",\"errorBudgetRotations\":\"0.00e0\",\"errorBudgetTstates\":\"0.00e0\",\"logicalCycleTime\":\"2us 800ns\",\"logicalErrorRate\":\"3.00e-6\",\"numTsPerRotation\":\"No rotations in algorithm\",\"numUnitsPerRound\":\"No T states in algorithm\",\"physicalQubitsForTfactoriesPercentage\":\"0.00 %\",\"physicalQubitsPerRound\":\"No T states in algorithm\",\"requiredLogicalQubitErrorRate\":\"1.85e-5\",\"requiredLogicalTstateErrorRate\":\"No T states in algorithm\",\"runtime\":\"25us 200ns\",\"tfactoryRuntime\":\"No T states in algorithm\",\"tfactoryRuntimePerRound\":\"No T states in algorithm\",\"tstateLogicalErrorRate\":\"No T states in algorithm\",\"unitNamePerRound\":\"No T states in algorithm\"},\"reportData\":{\"assumptions\":[\"_More details on the following lists of assumptions can be found in the paper [Accessing requirements for scaling quantum computers and their applications](https://aka.ms/AQ/RE/Paper)._\",\"**Uniform independent physical noise.** We assume that the noise on physical qubits and physical qubit operations is the standard circuit noise model. In particular we assume error events at different space-time locations are independent and that error rates are uniform across the system in time and space.\",\"**Efficient classical computation.** We assume that classical overhead (compilation, control, feedback, readout, decoding, etc.) does not dominate the overall cost of implementing the full quantum algorithm.\",\"**Extraction circuits for planar quantum ISA.** We assume that stabilizer extraction circuits with similar depth and error correction performance to those for standard surface and Hastings-Haah code patches can be constructed to implement all operations of the planar quantum ISA (instruction set architecture).\",\"**Uniform independent logical noise.** We assume that the error rate of a logical operation is approximately equal to its space-time volume (the number of tiles multiplied by the number of logical time steps) multiplied by the error rate of a logical qubit in a standard one-tile patch in one logical time step.\",\"**Negligible Clifford costs for synthesis.** We assume that the space overhead for synthesis and space and time overhead for transport of magic states within magic state factories and to synthesis qubits are all negligible.\",\"**Smooth magic state consumption rate.** We assume that the rate of T state consumption throughout the compiled algorithm is almost constant, or can be made almost constant without significantly increasing the number of logical time steps for the algorithm.\"],\"groups\":[{\"alwaysVisible\":true,\"entries\":[{\"description\":\"Number of physical qubits\",\"explanation\":\"This value represents the total number of physical qubits, which is the sum of 588 physical qubits to implement the algorithm logic, and 0 physical qubits to execute the T factories that are responsible to produce the T states that are consumed by the algorithm.\",\"label\":\"Physical qubits\",\"path\":\"physicalCounts/physicalQubits\"},{\"description\":\"Total runtime\",\"explanation\":\"This is a runtime estimate (in nanosecond precision) for the execution time of the algorithm.  In general, the execution time corresponds to the duration of one logical cycle (2us 800ns) multiplied by the 9 logical cycles to run the algorithm.  If however the duration of a single T factory (here: No T states in algorithm) is larger than the algorithm runtime, we extend the number of logical cycles artificially in order to exceed the runtime of a single T factory.\",\"label\":\"Runtime\",\"path\":\"physicalCountsFormatted/runtime\"}],\"title\":\"Physical resource estimates\"},{\"alwaysVisible\":false,\"entries\":[{\"description\":\"Number of logical qubits for the algorithm after layout\",\"explanation\":\"Laying out the logical qubits in the presence of nearest-neighbor constraints requires additional logical qubits.  In particular, to layout the $Q_{\\\\rm alg} = 1$ logical qubits in the input algorithm, we require in total $2 \\\\cdot Q_{\\\\rm alg} + \\\\lceil \\\\sqrt{8 \\\\cdot Q_{\\\\rm alg}}\\\\rceil + 1 = 6$ logical qubits.\",\"label\":\"Logical algorithmic qubits\",\"path\":\"physicalCounts/breakdown/algorithmicLogicalQubits\"},{\"description\":\"Number of logical cycles for the algorithm\",\"explanation\":\"To execute the algorithm using _Parallel Synthesis Sequential Pauli Computation_ (PSSPC), operations are scheduled in terms of multi-qubit Pauli measurements, for which assume an execution time of one logical cycle.  Based on the input algorithm, we require one multi-qubit measurement for the 9 single-qubit measurements, the 0 arbitrary single-qubit rotations, and the 0 T gates, three multi-qubit measurements for each of the 0 CCZ and 0 CCiX gates in the input program, as well as No rotations in algorithm multi-qubit measurements for each of the 0 non-Clifford layers in which there is at least one single-qubit rotation with an arbitrary angle rotation.\",\"label\":\"Algorithmic depth\",\"path\":\"physicalCounts/breakdown/algorithmicLogicalDepth\"},{\"description\":\"Number of logical cycles performed\",\"explanation\":\"This number is usually equal to the logical depth of the algorithm, which is 9.  However, in the case in which a single T factory is slower than the execution time of the algorithm, we adjust the logical cycle depth to exceed the T factory's execution time.\",\"label\":\"Logical depth\",\"path\":\"physicalCounts/breakdown/logicalDepth\"},{\"description\":\"Number of T states consumed by the algorithm\",\"explanation\":\"To execute the algorithm, we require one T state for each of the 0 T gates, four T states for each of the 0 CCZ and 0 CCiX gates, as well as No rotations in algorithm for each of the 0 single-qubit rotation gates with arbitrary angle rotation.\",\"label\":\"Number of T states\",\"path\":\"physicalCounts/breakdown/numTstates\"},{\"description\":\"Number of T factories capable of producing the demanded 0 T states during the algorithm's runtime\",\"explanation\":\"The total number of T factories 0 that are executed in parallel is computed as $\\\\left\\\\lceil\\\\dfrac{0\\\\;\\\\text{T states} \\\\cdot No T states in algorithm\\\\;\\\\text{T factory duration}}{0\\\\;\\\\text{T states per T factory} \\\\cdot 25us 200ns\\\\;\\\\text{algorithm runtime}}\\\\right\\\\rceil$\",\"label\":\"Number of T factories\",\"path\":\"physicalCounts/breakdown/numTfactories\"},{\"description\":\"Number of times all T factories are invoked\",\"explanation\":\"In order to prepare the 0 T states, the 0 copies of the T factory are repeatedly invoked 0 times.\",\"label\":\"Number of T factory invocations\",\"path\":\"physicalCounts/breakdown/numTfactoryRuns\"},{\"description\":\"Number of physical qubits for the algorithm after layout\",\"explanation\":\"The 588 are the product of the 6 logical qubits after layout and the 98 physical qubits that encode a single logical qubit.\",\"label\":\"Physical algorithmic qubits\",\"path\":\"physicalCounts/breakdown/physicalQubitsForAlgorithm\"},{\"description\":\"Number of physical qubits for the T factories\",\"explanation\":\"Each T factory requires 0 physical qubits and we run 0 in parallel, therefore we need $0 = 0 \\\\cdot 0$ qubits.\",\"label\":\"Physical T factory qubits\",\"path\":\"physicalCounts/breakdown/physicalQubitsForTfactories\"},{\"description\":\"The minimum logical qubit error rate required to run the algorithm within the error budget\",\"explanation\":\"The minimum logical qubit error rate is obtained by dividing the logical error probability 1.00e-3 by the product of 6 logical qubits and the total cycle count 9.\",\"label\":\"Required logical qubit error rate\",\"path\":\"physicalCountsFormatted/requiredLogicalQubitErrorRate\"},{\"description\":\"The minimum T state error rate required for distilled T states\",\"explanation\":\"The minimum T state error rate is obtained by dividing the T distillation error probability 0.00e0 by the total number of T states 0.\",\"label\":\"Required logical T state error rate\",\"path\":\"physicalCountsFormatted/requiredLogicalTstateErrorRate\"},{\"description\":\"Number of T states to implement a rotation with an arbitrary angle\",\"explanation\":\"The number of T states to implement a rotation with an arbitrary angle is $\\\\lceil 0.53 \\\\log_2(0 / 0) + 5.3\\\\rceil$ [[arXiv:2203.10064](https://arxiv.org/abs/2203.10064)].  For simplicity, we use this formula for all single-qubit arbitrary angle rotations, and do not distinguish between best, worst, and average cases.\",\"label\":\"Number of T states per rotation\",\"path\":\"physicalCountsFormatted/numTsPerRotation\"}],\"title\":\"Resource estimates breakdown\"},{\"alwaysVisible\":false,\"entries\":[{\"description\":\"Name of QEC scheme\",\"explanation\":\"You can load pre-defined QEC schemes by using the name `surface_code` or `floquet_code`. The latter only works with Majorana qubits.\",\"label\":\"QEC scheme\",\"path\":\"jobParams/qecScheme/name\"},{\"description\":\"Required code distance for error correction\",\"explanation\":\"The code distance is the smallest odd integer greater or equal to $\\\\dfrac{2\\\\log(0.03 / 0.000018518518518518518)}{\\\\log(0.01/0.001)} - 1$\",\"label\":\"Code distance\",\"path\":\"logicalQubit/codeDistance\"},{\"description\":\"Number of physical qubits per logical qubit\",\"explanation\":\"The number of physical qubits per logical qubit are evaluated using the formula 2 * codeDistance * codeDistance that can be user-specified.\",\"label\":\"Physical qubits\",\"path\":\"logicalQubit/physicalQubits\"},{\"description\":\"Duration of a logical cycle in nanoseconds\",\"explanation\":\"The runtime of one logical cycle in nanoseconds is evaluated using the formula (4 * twoQubitGateTime + 2 * oneQubitMeasurementTime) * codeDistance that can be user-specified.\",\"label\":\"Logical cycle time\",\"path\":\"physicalCountsFormatted/logicalCycleTime\"},{\"description\":\"Logical qubit error rate\",\"explanation\":\"The logical qubit error rate is computed as $0.03 \\\\cdot \\\\left(\\\\dfrac{0.001}{0.01}\\\\right)^\\\\frac{7 + 1}{2}$\",\"label\":\"Logical qubit error rate\",\"path\":\"physicalCountsFormatted/logicalErrorRate\"},{\"description\":\"Crossing prefactor used in QEC scheme\",\"explanation\":\"The crossing prefactor is usually extracted numerically from simulations when fitting an exponential curve to model the relationship between logical and physical error rate.\",\"label\":\"Crossing prefactor\",\"path\":\"jobParams/qecScheme/crossingPrefactor\"},{\"description\":\"Error correction threshold used in QEC scheme\",\"explanation\":\"The error correction threshold is the physical error rate below which the error rate of the logical qubit is less than the error rate of the physical qubit that constitute it.  This value is usually extracted numerically from simulations of the logical error rate.\",\"label\":\"Error correction threshold\",\"path\":\"jobParams/qecScheme/errorCorrectionThreshold\"},{\"description\":\"QEC scheme formula used to compute logical cycle time\",\"explanation\":\"This is the formula that is used to compute the logical cycle time 2us 800ns.\",\"label\":\"Logical cycle time formula\",\"path\":\"jobParams/qecScheme/logicalCycleTime\"},{\"description\":\"QEC scheme formula used to compute number of physical qubits per logical qubit\",\"explanation\":\"This is the formula that is used to compute the number of physical qubits per logical qubits 98.\",\"label\":\"Physical qubits formula\",\"path\":\"jobParams/qecScheme/physicalQubitsPerLogicalQubit\"}],\"title\":\"Logical qubit parameters\"},{\"alwaysVisible\":false,\"entries\":[{\"description\":\"Number of logical qubits in the input quantum program\",\"explanation\":\"We determine 6 from this number by assuming to align them in a 2D grid.  Auxiliary qubits are added to allow for sufficient space to execute multi-qubit Pauli measurements on all or a subset of the logical qubits.\",\"label\":\"Logical qubits (pre-layout)\",\"path\":\"logicalCounts/numQubits\"},{\"description\":\"Number of T gates in the input quantum program\",\"explanation\":\"This includes all T gates and adjoint T gates, but not T gates used to implement rotation gates with arbitrary angle, CCZ gates, or CCiX gates.\",\"label\":\"T gates\",\"path\":\"logicalCounts/tCount\"},{\"description\":\"Number of rotation gates in the input quantum program\",\"explanation\":\"This is the number of all rotation gates. If an angle corresponds to a Pauli, Clifford, or T gate, it is not accounted for in this number.\",\"label\":\"Rotation gates\",\"path\":\"logicalCounts/rotationCount\"},{\"description\":\"Depth of rotation gates in the input quantum program\",\"explanation\":\"This is the number of all non-Clifford layers that include at least one single-qubit rotation gate with an arbitrary angle.\",\"label\":\"Rotation depth\",\"path\":\"logicalCounts/rotationDepth\"},{\"description\":\"Number of CCZ-gates in the input quantum program\",\"explanation\":\"This is the number of CCZ gates.\",\"label\":\"CCZ gates\",\"path\":\"logicalCounts/cczCount\"},{\"description\":\"Number of CCiX-gates in the input quantum program\",\"explanation\":\"This is the number of CCiX gates, which applies $-iX$ controlled on two control qubits [[1212.5069](https://arxiv.org/abs/1212.5069)].\",\"label\":\"CCiX gates\",\"path\":\"logicalCounts/ccixCount\"},{\"description\":\"Number of single qubit measurements in the input quantum program\",\"explanation\":\"This is the number of single qubit measurements in Pauli basis that are used in the input program.  Note that all measurements are counted, however, the measurement result is is determined randomly (with a fixed seed) to be 0 or 1 with a probability of 50%.\",\"label\":\"Measurement operations\",\"path\":\"logicalCounts/measurementCount\"}],\"title\":\"Pre-layout logical resources\"},{\"alwaysVisible\":false,\"entries\":[{\"description\":\"Total error budget for the algorithm\",\"explanation\":\"The total error budget sets the overall allowed error for the algorithm, i.e., the number of times it is allowed to fail.  Its value must be between 0 and 1 and the default value is 0.001, which corresponds to 0.1%, and means that the algorithm is allowed to fail once in 1000 executions.  This parameter is highly application specific. For example, if one is running Shor's algorithm for factoring integers, a large value for the error budget may be tolerated as one can check that the output are indeed the prime factors of the input.  On the other hand, a much smaller error budget may be needed for an algorithm solving a problem with a solution which cannot be efficiently verified.  This budget $\\\\epsilon = \\\\epsilon_{\\\\log} + \\\\epsilon_{\\\\rm dis} + \\\\epsilon_{\\\\rm syn}$ is uniformly distributed and applies to errors $\\\\epsilon_{\\\\log}$ to implement logical qubits, an error budget $\\\\epsilon_{\\\\rm dis}$ to produce T states through distillation, and an error budget $\\\\epsilon_{\\\\rm syn}$ to synthesize rotation gates with arbitrary angles.  Note that for distillation and rotation synthesis, the respective error budgets $\\\\epsilon_{\\\\rm dis}$ and $\\\\epsilon_{\\\\rm syn}$ are uniformly distributed among all T states and all rotation gates, respectively. If there are no rotation gates in the input algorithm, the error budget is uniformly distributed to logical errors and T state errors.\",\"label\":\"Total error budget\",\"path\":\"physicalCountsFormatted/errorBudget\"},{\"description\":\"Probability of at least one logical error\",\"explanation\":\"This is one third of the total error budget 1.00e-3 if the input algorithm contains rotation with gates with arbitrary angles, or one half of it, otherwise.\",\"label\":\"Logical error probability\",\"path\":\"physicalCountsFormatted/errorBudgetLogical\"},{\"description\":\"Probability of at least one faulty T distillation\",\"explanation\":\"This is one third of the total error budget 1.00e-3 if the input algorithm contains rotation with gates with arbitrary angles, or one half of it, otherwise.\",\"label\":\"T distillation error probability\",\"path\":\"physicalCountsFormatted/errorBudgetTstates\"},{\"description\":\"Probability of at least one failed rotation synthesis\",\"explanation\":\"This is one third of the total error budget 1.00e-3.\",\"label\":\"Rotation synthesis error probability\",\"path\":\"physicalCountsFormatted/errorBudgetRotations\"}],\"title\":\"Assumed error budget\"},{\"alwaysVisible\":false,\"entries\":[{\"description\":\"Some descriptive name for the qubit model\",\"explanation\":\"You can load pre-defined qubit parameters by using the names `qubit_gate_ns_e3`, `qubit_gate_ns_e4`, `qubit_gate_us_e3`, `qubit_gate_us_e4`, `qubit_maj_ns_e4`, or `qubit_maj_ns_e6`.  The names of these pre-defined qubit parameters indicate the instruction set (gate-based or Majorana), the operation speed (ns or ¬µs regime), as well as the fidelity (e.g., e3 for $10^{-3}$ gate error rates).\",\"label\":\"Qubit name\",\"path\":\"jobParams/qubitParams/name\"},{\"description\":\"Underlying qubit technology (gate-based or Majorana)\",\"explanation\":\"When modeling the physical qubit abstractions, we distinguish between two different physical instruction sets that are used to operate the qubits.  The physical instruction set can be either *gate-based* or *Majorana*.  A gate-based instruction set provides single-qubit measurement, single-qubit gates (incl. T gates), and two-qubit gates.  A Majorana instruction set provides a physical T gate, single-qubit measurement and two-qubit joint measurement operations.\",\"label\":\"Instruction set\",\"path\":\"jobParams/qubitParams/instructionSet\"},{\"description\":\"Operation time for single-qubit measurement (t_meas) in ns\",\"explanation\":\"This is the operation time in nanoseconds to perform a single-qubit measurement in the Pauli basis.\",\"label\":\"Single-qubit measurement time\",\"path\":\"jobParams/qubitParams/oneQubitMeasurementTime\"},{\"description\":\"Operation time for single-qubit gate (t_gate) in ns\",\"explanation\":\"This is the operation time in nanoseconds to perform a single-qubit Clifford operation, e.g., Hadamard or Phase gates.\",\"label\":\"Single-qubit gate time\",\"path\":\"jobParams/qubitParams/oneQubitGateTime\"},{\"description\":\"Operation time for two-qubit gate in ns\",\"explanation\":\"This is the operation time in nanoseconds to perform a two-qubit Clifford operation, e.g., a CNOT or CZ gate.\",\"label\":\"Two-qubit gate time\",\"path\":\"jobParams/qubitParams/twoQubitGateTime\"},{\"description\":\"Operation time for a T gate\",\"explanation\":\"This is the operation time in nanoseconds to execute a T gate.\",\"label\":\"T gate time\",\"path\":\"jobParams/qubitParams/tGateTime\"},{\"description\":\"Error rate for single-qubit measurement\",\"explanation\":\"This is the probability in which a single-qubit measurement in the Pauli basis may fail.\",\"label\":\"Single-qubit measurement error rate\",\"path\":\"jobParams/qubitParams/oneQubitMeasurementErrorRate\"},{\"description\":\"Error rate for single-qubit Clifford gate (p)\",\"explanation\":\"This is the probability in which a single-qubit Clifford operation, e.g., Hadamard or Phase gates, may fail.\",\"label\":\"Single-qubit error rate\",\"path\":\"jobParams/qubitParams/oneQubitGateErrorRate\"},{\"description\":\"Error rate for two-qubit Clifford gate\",\"explanation\":\"This is the probability in which a two-qubit Clifford operation, e.g., CNOT or CZ gates, may fail.\",\"label\":\"Two-qubit error rate\",\"path\":\"jobParams/qubitParams/twoQubitGateErrorRate\"},{\"description\":\"Error rate to prepare single-qubit T state or apply a T gate (p_T)\",\"explanation\":\"This is the probability in which executing a single T gate may fail.\",\"label\":\"T gate error rate\",\"path\":\"jobParams/qubitParams/tGateErrorRate\"}],\"title\":\"Physical qubit parameters\"}]},\"status\":\"success\",\"tfactory\":null}"
          },
          "metadata": {
            "text/plain": {},
            "application/x-qsharp-data": {}
          }
        }
      ],
      "execution_count": 58,
      "metadata": {
        "jupyter": {
          "source_hidden": false,
          "outputs_hidden": true
        },
        "nteract": {
          "transient": {
            "deleting": false
          }
        }
      }
    },
    {
      "cell_type": "code",
      "source": [
        "%simulate shorImplementatonTest n=95"
      ],
      "outputs": [
        {
          "output_type": "stream",
          "name": "stdout",
          "text": "Número aleatorio entre 2 y 94: \nNúmero aleatorio: 3\nGCD de 17 y 10:\nNuevo intento.\nGCD de 7 y 3:\nNuevo intento.\nGCD de 4 y 3:\nNuevo intento.\n"
        },
        {
          "output_type": "execute_result",
          "execution_count": 36,
          "data": {
            "text/plain": "(19, 5)",
            "application/x-qsharp-data": "{\"@type\":\"@tuple\",\"Item1\":19,\"Item2\":5}"
          },
          "metadata": {
            "text/plain": {},
            "application/x-qsharp-data": {}
          }
        }
      ],
      "execution_count": 36,
      "metadata": {
        "jupyter": {
          "outputs_hidden": false,
          "source_hidden": false
        },
        "nteract": {
          "transient": {
            "deleting": false
          }
        }
      }
    },
    {
      "cell_type": "code",
      "source": [
        "%simulate shorImplementatonTest n=95"
      ],
      "outputs": [
        {
          "output_type": "stream",
          "name": "stdout",
          "text": "Número aleatorio entre 2 y 94: \nNúmero aleatorio: 68\nGCD de 38 y 19:\nNuevo intento.\nGCD de 40 y 15:\nNuevo intento.\nGCD de 25 y 15:\nNuevo intento.\nGCD de 10 y 5:\nNuevo intento.\n"
        },
        {
          "output_type": "execute_result",
          "execution_count": 37,
          "data": {
            "text/plain": "(19, 5)",
            "application/x-qsharp-data": "{\"@type\":\"@tuple\",\"Item1\":19,\"Item2\":5}"
          },
          "metadata": {
            "text/plain": {},
            "application/x-qsharp-data": {}
          }
        }
      ],
      "execution_count": 37,
      "metadata": {
        "jupyter": {
          "source_hidden": false,
          "outputs_hidden": false
        },
        "nteract": {
          "transient": {
            "deleting": false
          }
        }
      }
    },
    {
      "cell_type": "code",
      "source": [
        "%simulate shorImplementatonTest n=95"
      ],
      "outputs": [
        {
          "output_type": "stream",
          "name": "stdout",
          "text": "Número aleatorio entre 2 y 94: \nNúmero aleatorio: 47\nLa estimación del periodo no retorna un factor valido.\nNúmero aleatorio entre 2 y 94: \nNúmero aleatorio: 54\nGCD de 53 y 42:\nNuevo intento.\nGCD de 11 y 9:\nNuevo intento.\nGCD de 2 y 1:\nNuevo intento.\nGCD de 55 y 40:\nNuevo intento.\nGCD de 15 y 10:\nNuevo intento.\n"
        },
        {
          "output_type": "execute_result",
          "execution_count": 38,
          "data": {
            "text/plain": "(5, 19)",
            "application/x-qsharp-data": "{\"@type\":\"@tuple\",\"Item1\":5,\"Item2\":19}"
          },
          "metadata": {
            "text/plain": {},
            "application/x-qsharp-data": {}
          }
        }
      ],
      "execution_count": 38,
      "metadata": {
        "jupyter": {
          "source_hidden": false,
          "outputs_hidden": false
        },
        "nteract": {
          "transient": {
            "deleting": false
          }
        }
      }
    },
    {
      "cell_type": "code",
      "source": [
        "%azure.execute shorImplementatonTest n=133"
      ],
      "outputs": [
        {
          "output_type": "stream",
          "name": "stdout",
          "text": "Submitting shorImplementatonTest to target microsoft.estimator...\nJob successfully submitted.\n   Job name: shorImplementatonTest\n   Job ID: 93b3ae43-126d-4f66-9ec4-d753ae2f9633\nWaiting up to 300 seconds for Azure Quantum job to complete...\n[00:17:31] Current job status: Executing\n[00:17:36] Current job status: Succeeded\n"
        },
        {
          "output_type": "execute_result",
          "execution_count": 49,
          "data": {
            "text/plain": "ResourceEstimationResult { RawJson = {\n  \"errorBudget\": {\n    \"logical\": 0.0003333333333333333,\n    \"rotations\": 0.0003333333333333333,\n    \"tstates\": 0.0003333333333333333\n  },\n  \"jobParams\": {\n    \"errorBudget\": 0.001,\n    \"qecScheme\": {\n      \"crossingPrefactor\": 0.03,\n      \"errorCorrectionThreshold\": 0.01,\n      \"logicalCycleTime\": \"(4 * twoQubitGateTime + 2 * oneQubitMeasurementTime) * codeDistance\",\n      \"name\": \"surface_code\",\n      \"physicalQubitsPerLogicalQubit\": \"2 * codeDistance * codeDistance\"\n    },\n    \"qubitParams\": {\n      \"instructionSet\": \"GateBased\",\n      \"name\": \"qubit_gate_ns_e3\",\n      \"oneQubitGateErrorRate\": 0.001,\n      \"oneQubitGateTime\": \"50 ns\",\n      \"oneQubitMeasurementErrorRate\": 0.001,\n      \"oneQubitMeasurementTime\": \"100 ns\",\n      \"tGateErrorRate\": 0.001,\n      \"tGateTime\": \"50 ns\",\n      \"twoQubitGateErrorRate\": 0.001,\n      \"twoQubitGateTime\": \"50 ns\"\n    }\n  },\n  \"logicalCounts\": {\n    \"ccixCount\": 29376,\n    \"cczCount\": 272,\n    \"measurementCount\": 29486,\n    \"numQubits\": 20,\n    \"rotationCount\": 171616,\n    \"rotationDepth\": 51657,\n    \"tCount\": 37666\n  },\n  \"logicalQubit\": {\n    \"codeDistance\": 19,\n    \"logicalCycleTime\": 7600.0,\n    \"logicalErrorRate\": 3.000000000000003E-12,\n    \"physicalQubits\": 722\n  },\n  \"physicalCounts\": {\n    \"breakdown\": {\n      \"algorithmicLogicalDepth\": 1412509,\n      \"algorithmicLogicalQubits\": 54,\n      \"cliffordErrorRate\": 0.001,\n      \"logicalDepth\": 1412509,\n      \"numTfactories\": 43,\n      \"numTfactoryRuns\": 87447,\n      \"numTsPerRotation\": 21,\n      \"numTstates\": 3760194,\n      \"physicalQubitsForAlgorithm\": 38988,\n      \"physicalQubitsForTfactories\": 1432760,\n      \"requiredLogicalQubitErrorRate\": 4.370124017739242E-12,\n      \"requiredLogicalTstateErrorRate\": 8.864790841465449E-11\n    },\n    \"physicalQubits\": 1471748,\n    \"runtime\": 10735068400\n  },\n  \"physicalCountsFormatted\": {\n    \"codeDistancePerRound\": \"7, 19\",\n    \"errorBudget\": \"1.00e-3\",\n    \"errorBudgetLogical\": \"3.33e-4\",\n    \"errorBudgetRotations\": \"3.33e-4\",\n    \"errorBudgetTstates\": \"3.33e-4\",\n    \"logicalCycleTime\": \"7us 600ns\",\n    \"logicalErrorRate\": \"3.00e-12\",\n    \"numTsPerRotation\": \"21\",\n    \"numUnitsPerRound\": \"17, 1\",\n    \"physicalQubitsForTfactoriesPercentage\": \"97.35 %\",\n    \"physicalQubitsPerRound\": \"33320, 22382\",\n    \"requiredLogicalQubitErrorRate\": \"4.37e-12\",\n    \"requiredLogicalTstateErrorRate\": \"8.86e-11\",\n    \"runtime\": \"10s 735ms 68us 400ns\",\n    \"tfactoryRuntime\": \"120us\",\n    \"tfactoryRuntimePerRound\": \"36us 400ns, 83us 600ns\",\n    \"tstateLogicalErrorRate\": \"2.16e-11\",\n    \"unitNamePerRound\": \"15-to-1 space efficient logical, 15-to-1 RM prep logical\"\n  },\n  \"reportData\": {\n    \"assumptions\": [\n      \"_More details on the following lists of assumptions can be found in the paper [Accessing requirements for scaling quantum computers and their applications](https://aka.ms/AQ/RE/Paper)._\",\n      \"**Uniform independent physical noise.** We assume that the noise on physical qubits and physical qubit operations is the standard circuit noise model. In particular we assume error events at different space-time locations are independent and that error rates are uniform across the system in time and space.\",\n      \"**Efficient classical computation.** We assume that classical overhead (compilation, control, feedback, readout, decoding, etc.) does not dominate the overall cost of implementing the full quantum algorithm.\",\n      \"**Extraction circuits for planar quantum ISA.** We assume that stabilizer extraction circuits with similar depth and error correction performance to those for standard surface and Hastings-Haah code patches can be constructed to implement all operations of the planar quantum ISA (instruction set architecture).\",\n      \"**Uniform independent logical noise.** We assume that the error rate of a logical operation is approximately equal to its space-time volume (the number of tiles multiplied by the number of logical time steps) multiplied by the error rate of a logical qubit in a standard one-tile patch in one logical time step.\",\n      \"**Negligible Clifford costs for synthesis.** We assume that the space overhead for synthesis and space and time overhead for transport of magic states within magic state factories and to synthesis qubits are all negligible.\",\n      \"**Smooth magic state consumption rate.** We assume that the rate of T state consumption throughout the compiled algorithm is almost constant, or can be made almost constant without significantly increasing the number of logical time steps for the algorithm.\"\n    ],\n    \"groups\": [\n      {\n        \"alwaysVisible\": true,\n        \"entries\": [\n          {\n            \"description\": \"Number of physical qubits\",\n            \"explanation\": \"This value represents the total number of physical qubits, which is the sum of 38988 physical qubits to implement the algorithm logic, and 1432760 physical qubits to execute the T factories that are responsible to produce the T states that are consumed by the algorithm.\",\n            \"label\": \"Physical qubits\",\n            \"path\": \"physicalCounts/physicalQubits\"\n          },\n          {\n            \"description\": \"Total runtime\",\n            \"explanation\": \"This is a runtime estimate (in nanosecond precision) for the execution time of the algorithm.  In general, the execution time corresponds to the duration of one logical cycle (7us 600ns) multiplied by the 1412509 logical cycles to run the algorithm.  If however the duration of a single T factory (here: 120us) is larger than the algorithm runtime, we extend the number of logical cycles artificially in order to exceed the runtime of a single T factory.\",\n            \"label\": \"Runtime\",\n            \"path\": \"physicalCountsFormatted/runtime\"\n          }\n        ],\n        \"title\": \"Physical resource estimates\"\n      },\n      {\n        \"alwaysVisible\": false,\n        \"entries\": [\n          {\n            \"description\": \"Number of logical qubits for the algorithm after layout\",\n            \"explanation\": \"Laying out the logical qubits in the presence of nearest-neighbor constraints requires additional logical qubits.  In particular, to layout the $Q_{\\\\rm alg} = 20$ logical qubits in the input algorithm, we require in total $2 \\\\cdot Q_{\\\\rm alg} + \\\\lceil \\\\sqrt{8 \\\\cdot Q_{\\\\rm alg}}\\\\rceil + 1 = 54$ logical qubits.\",\n            \"label\": \"Logical algorithmic qubits\",\n            \"path\": \"physicalCounts/breakdown/algorithmicLogicalQubits\"\n          },\n          {\n            \"description\": \"Number of logical cycles for the algorithm\",\n            \"explanation\": \"To execute the algorithm using _Parallel Synthesis Sequential Pauli Computation_ (PSSPC), operations are scheduled in terms of multi-qubit Pauli measurements, for which assume an execution time of one logical cycle.  Based on the input algorithm, we require one multi-qubit measurement for the 29486 single-qubit measurements, the 171616 arbitrary single-qubit rotations, and the 37666 T gates, three multi-qubit measurements for each of the 272 CCZ and 29376 CCiX gates in the input program, as well as 21 multi-qubit measurements for each of the 51657 non-Clifford layers in which there is at least one single-qubit rotation with an arbitrary angle rotation.\",\n            \"label\": \"Algorithmic depth\",\n            \"path\": \"physicalCounts/breakdown/algorithmicLogicalDepth\"\n          },\n          {\n            \"description\": \"Number of logical cycles performed\",\n            \"explanation\": \"This number is usually equal to the logical depth of the algorithm, which is 1412509.  However, in the case in which a single T factory is slower than the execution time of the algorithm, we adjust the logical cycle depth to exceed the T factory's execution time.\",\n            \"label\": \"Logical depth\",\n            \"path\": \"physicalCounts/breakdown/logicalDepth\"\n          },\n          {\n            \"description\": \"Number of T states consumed by the algorithm\",\n            \"explanation\": \"To execute the algorithm, we require one T state for each of the 37666 T gates, four T states for each of the 272 CCZ and 29376 CCiX gates, as well as 21 for each of the 171616 single-qubit rotation gates with arbitrary angle rotation.\",\n            \"label\": \"Number of T states\",\n            \"path\": \"physicalCounts/breakdown/numTstates\"\n          },\n          {\n            \"description\": \"Number of T factories capable of producing the demanded 3760194 T states during the algorithm's runtime\",\n            \"explanation\": \"The total number of T factories 43 that are executed in parallel is computed as $\\\\left\\\\lceil\\\\dfrac{3760194\\\\;\\\\text{T states} \\\\cdot 120us\\\\;\\\\text{T factory duration}}{1\\\\;\\\\text{T states per T factory} \\\\cdot 10s 735ms 68us 400ns\\\\;\\\\text{algorithm runtime}}\\\\right\\\\rceil$\",\n            \"label\": \"Number of T factories\",\n            \"path\": \"physicalCounts/breakdown/numTfactories\"\n          },\n          {\n            \"description\": \"Number of times all T factories are invoked\",\n            \"explanation\": \"In order to prepare the 3760194 T states, the 43 copies of the T factory are repeatedly invoked 87447 times.\",\n            \"label\": \"Number of T factory invocations\",\n            \"path\": \"physicalCounts/breakdown/numTfactoryRuns\"\n          },\n          {\n            \"description\": \"Number of physical qubits for the algorithm after layout\",\n            \"explanation\": \"The 38988 are the product of the 54 logical qubits after layout and the 722 physical qubits that encode a single logical qubit.\",\n            \"label\": \"Physical algorithmic qubits\",\n            \"path\": \"physicalCounts/breakdown/physicalQubitsForAlgorithm\"\n          },\n          {\n            \"description\": \"Number of physical qubits for the T factories\",\n            \"explanation\": \"Each T factory requires 33320 physical qubits and we run 43 in parallel, therefore we need $1432760 = 33320 \\\\cdot 43$ qubits.\",\n            \"label\": \"Physical T factory qubits\",\n            \"path\": \"physicalCounts/breakdown/physicalQubitsForTfactories\"\n          },\n          {\n            \"description\": \"The minimum logical qubit error rate required to run the algorithm within the error budget\",\n            \"explanation\": \"The minimum logical qubit error rate is obtained by dividing the logical error probability 3.33e-4 by the product of 54 logical qubits and the total cycle count 1412509.\",\n            \"label\": \"Required logical qubit error rate\",\n            \"path\": \"physicalCountsFormatted/requiredLogicalQubitErrorRate\"\n          },\n          {\n            \"description\": \"The minimum T state error rate required for distilled T states\",\n            \"explanation\": \"The minimum T state error rate is obtained by dividing the T distillation error probability 3.33e-4 by the total number of T states 3760194.\",\n            \"label\": \"Required logical T state error rate\",\n            \"path\": \"physicalCountsFormatted/requiredLogicalTstateErrorRate\"\n          },\n          {\n            \"description\": \"Number of T states to implement a rotation with an arbitrary angle\",\n            \"explanation\": \"The number of T states to implement a rotation with an arbitrary angle is $\\\\lceil 0.53 \\\\log_2(171616 / 0.0003333333333333333) + 5.3\\\\rceil$ [[arXiv:2203.10064](https://arxiv.org/abs/2203.10064)].  For simplicity, we use this formula for all single-qubit arbitrary angle rotations, and do not distinguish between best, worst, and average cases.\",\n            \"label\": \"Number of T states per rotation\",\n            \"path\": \"physicalCountsFormatted/numTsPerRotation\"\n          }\n        ],\n        \"title\": \"Resource estimates breakdown\"\n      },\n      {\n        \"alwaysVisible\": false,\n        \"entries\": [\n          {\n            \"description\": \"Name of QEC scheme\",\n            \"explanation\": \"You can load pre-defined QEC schemes by using the name `surface_code` or `floquet_code`. The latter only works with Majorana qubits.\",\n            \"label\": \"QEC scheme\",\n            \"path\": \"jobParams/qecScheme/name\"\n          },\n          {\n            \"description\": \"Required code distance for error correction\",\n            \"explanation\": \"The code distance is the smallest odd integer greater or equal to $\\\\dfrac{2\\\\log(0.03 / 0.000000000004370124017739242)}{\\\\log(0.01/0.001)} - 1$\",\n            \"label\": \"Code distance\",\n            \"path\": \"logicalQubit/codeDistance\"\n          },\n          {\n            \"description\": \"Number of physical qubits per logical qubit\",\n            \"explanation\": \"The number of physical qubits per logical qubit are evaluated using the formula 2 * codeDistance * codeDistance that can be user-specified.\",\n            \"label\": \"Physical qubits\",\n            \"path\": \"logicalQubit/physicalQubits\"\n          },\n          {\n            \"description\": \"Duration of a logical cycle in nanoseconds\",\n            \"explanation\": \"The runtime of one logical cycle in nanoseconds is evaluated using the formula (4 * twoQubitGateTime + 2 * oneQubitMeasurementTime) * codeDistance that can be user-specified.\",\n            \"label\": \"Logical cycle time\",\n            \"path\": \"physicalCountsFormatted/logicalCycleTime\"\n          },\n          {\n            \"description\": \"Logical qubit error rate\",\n            \"explanation\": \"The logical qubit error rate is computed as $0.03 \\\\cdot \\\\left(\\\\dfrac{0.001}{0.01}\\\\right)^\\\\frac{19 + 1}{2}$\",\n            \"label\": \"Logical qubit error rate\",\n            \"path\": \"physicalCountsFormatted/logicalErrorRate\"\n          },\n          {\n            \"description\": \"Crossing prefactor used in QEC scheme\",\n            \"explanation\": \"The crossing prefactor is usually extracted numerically from simulations when fitting an exponential curve to model the relationship between logical and physical error rate.\",\n            \"label\": \"Crossing prefactor\",\n            \"path\": \"jobParams/qecScheme/crossingPrefactor\"\n          },\n          {\n            \"description\": \"Error correction threshold used in QEC scheme\",\n            \"explanation\": \"The error correction threshold is the physical error rate below which the error rate of the logical qubit is less than the error rate of the physical qubit that constitute it.  This value is usually extracted numerically from simulations of the logical error rate.\",\n            \"label\": \"Error correction threshold\",\n            \"path\": \"jobParams/qecScheme/errorCorrectionThreshold\"\n          },\n          {\n            \"description\": \"QEC scheme formula used to compute logical cycle time\",\n            \"explanation\": \"This is the formula that is used to compute the logical cycle time 7us 600ns.\",\n            \"label\": \"Logical cycle time formula\",\n            \"path\": \"jobParams/qecScheme/logicalCycleTime\"\n          },\n          {\n            \"description\": \"QEC scheme formula used to compute number of physical qubits per logical qubit\",\n            \"explanation\": \"This is the formula that is used to compute the number of physical qubits per logical qubits 722.\",\n            \"label\": \"Physical qubits formula\",\n            \"path\": \"jobParams/qecScheme/physicalQubitsPerLogicalQubit\"\n          }\n        ],\n        \"title\": \"Logical qubit parameters\"\n      },\n      {\n        \"alwaysVisible\": false,\n        \"entries\": [\n          {\n            \"description\": \"Number of physical qubits for a single T factory\",\n            \"explanation\": \"This corresponds to the maximum number of physical qubits over all rounds of T distillation units in a T factory.  A round of distillation contains of multiple copies of distillation units to achieve the required success probability of producing a T state with the expected logical T state error rate.\",\n            \"label\": \"Physical qubits\",\n            \"path\": \"tfactory/physicalQubits\"\n          },\n          {\n            \"description\": \"Runtime of a single T factory\",\n            \"explanation\": \"The runtime of a single T factory is the accumulated runtime of executing each round in a T factory.\",\n            \"label\": \"Runtime\",\n            \"path\": \"physicalCountsFormatted/tfactoryRuntime\"\n          },\n          {\n            \"description\": \"Number of output T states produced in a single run of T factory\",\n            \"explanation\": \"The T factory takes as input 255 noisy physical T states with an error rate of 0.001 and produces 1 T states with an error rate of 2.16e-11.\",\n            \"label\": \"Number of output T states per run\",\n            \"path\": \"tfactory/numTstates\"\n          },\n          {\n            \"description\": \"Number of physical input T states consumed in a single run of a T factory\",\n            \"explanation\": \"This value includes the physical input T states of all copies of the distillation unit in the first round.\",\n            \"label\": \"Number of input T states per run\",\n            \"path\": \"tfactory/numInputTstates\"\n          },\n          {\n            \"description\": \"The number of distillation rounds\",\n            \"explanation\": \"This is the number of distillation rounds.  In each round one or multiple copies of some distillation unit is executed.\",\n            \"label\": \"Distillation rounds\",\n            \"path\": \"tfactory/numRounds\"\n          },\n          {\n            \"description\": \"The number of units in each round of distillation\",\n            \"explanation\": \"This is the number of copies for the distillation units per round.\",\n            \"label\": \"Distillation units per round\",\n            \"path\": \"physicalCountsFormatted/numUnitsPerRound\"\n          },\n          {\n            \"description\": \"The types of distillation units\",\n            \"explanation\": \"These are the types of distillation units that are executed in each round.  The units can be either physical or logical, depending on what type of qubit they are operating.  Space-efficient units require fewer qubits for the cost of longer runtime compared to Reed-Muller preparation units.\",\n            \"label\": \"Distillation units\",\n            \"path\": \"physicalCountsFormatted/unitNamePerRound\"\n          },\n          {\n            \"description\": \"The code distance in each round of distillation\",\n            \"explanation\": \"This is the code distance used for the units in each round.  If the code distance is 1, then the distillation unit operates on physical qubits instead of error-corrected logical qubits.\",\n            \"label\": \"Distillation code distances\",\n            \"path\": \"physicalCountsFormatted/codeDistancePerRound\"\n          },\n          {\n            \"description\": \"The number of physical qubits used in each round of distillation\",\n            \"explanation\": \"The maximum number of physical qubits over all rounds is the number of physical qubits for the T factory, since qubits are reused by different rounds.\",\n            \"label\": \"Number of physical qubits per round\",\n            \"path\": \"physicalCountsFormatted/physicalQubitsPerRound\"\n          },\n          {\n            \"description\": \"The runtime of each distillation round\",\n            \"explanation\": \"The runtime of the T factory is the sum of the runtimes in all rounds.\",\n            \"label\": \"Runtime per round\",\n            \"path\": \"physicalCountsFormatted/tfactoryRuntimePerRound\"\n          },\n          {\n            \"description\": \"Logical T state error rate\",\n            \"explanation\": \"This is the logical T state error rate achieved by the T factory which is equal or smaller than the required error rate 8.86e-11.\",\n            \"label\": \"Logical T state error rate\",\n            \"path\": \"physicalCountsFormatted/tstateLogicalErrorRate\"\n          }\n        ],\n        \"title\": \"T factory parameters\"\n      },\n      {\n        \"alwaysVisible\": false,\n        \"entries\": [\n          {\n            \"description\": \"Number of logical qubits in the input quantum program\",\n            \"explanation\": \"We determine 54 from this number by assuming to align them in a 2D grid.  Auxiliary qubits are added to allow for sufficient space to execute multi-qubit Pauli measurements on all or a subset of the logical qubits.\",\n            \"label\": \"Logical qubits (pre-layout)\",\n            \"path\": \"logicalCounts/numQubits\"\n          },\n          {\n            \"description\": \"Number of T gates in the input quantum program\",\n            \"explanation\": \"This includes all T gates and adjoint T gates, but not T gates used to implement rotation gates with arbitrary angle, CCZ gates, or CCiX gates.\",\n            \"label\": \"T gates\",\n            \"path\": \"logicalCounts/tCount\"\n          },\n          {\n            \"description\": \"Number of rotation gates in the input quantum program\",\n            \"explanation\": \"This is the number of all rotation gates. If an angle corresponds to a Pauli, Clifford, or T gate, it is not accounted for in this number.\",\n            \"label\": \"Rotation gates\",\n            \"path\": \"logicalCounts/rotationCount\"\n          },\n          {\n            \"description\": \"Depth of rotation gates in the input quantum program\",\n            \"explanation\": \"This is the number of all non-Clifford layers that include at least one single-qubit rotation gate with an arbitrary angle.\",\n            \"label\": \"Rotation depth\",\n            \"path\": \"logicalCounts/rotationDepth\"\n          },\n          {\n            \"description\": \"Number of CCZ-gates in the input quantum program\",\n            \"explanation\": \"This is the number of CCZ gates.\",\n            \"label\": \"CCZ gates\",\n            \"path\": \"logicalCounts/cczCount\"\n          },\n          {\n            \"description\": \"Number of CCiX-gates in the input quantum program\",\n            \"explanation\": \"This is the number of CCiX gates, which applies $-iX$ controlled on two control qubits [[1212.5069](https://arxiv.org/abs/1212.5069)].\",\n            \"label\": \"CCiX gates\",\n            \"path\": \"logicalCounts/ccixCount\"\n          },\n          {\n            \"description\": \"Number of single qubit measurements in the input quantum program\",\n            \"explanation\": \"This is the number of single qubit measurements in Pauli basis that are used in the input program.  Note that all measurements are counted, however, the measurement result is is determined randomly (with a fixed seed) to be 0 or 1 with a probability of 50%.\",\n            \"label\": \"Measurement operations\",\n            \"path\": \"logicalCounts/measurementCount\"\n          }\n        ],\n        \"title\": \"Pre-layout logical resources\"\n      },\n      {\n        \"alwaysVisible\": false,\n        \"entries\": [\n          {\n            \"description\": \"Total error budget for the algorithm\",\n            \"explanation\": \"The total error budget sets the overall allowed error for the algorithm, i.e., the number of times it is allowed to fail.  Its value must be between 0 and 1 and the default value is 0.001, which corresponds to 0.1%, and means that the algorithm is allowed to fail once in 1000 executions.  This parameter is highly application specific. For example, if one is running Shor's algorithm for factoring integers, a large value for the error budget may be tolerated as one can check that the output are indeed the prime factors of the input.  On the other hand, a much smaller error budget may be needed for an algorithm solving a problem with a solution which cannot be efficiently verified.  This budget $\\\\epsilon = \\\\epsilon_{\\\\log} + \\\\epsilon_{\\\\rm dis} + \\\\epsilon_{\\\\rm syn}$ is uniformly distributed and applies to errors $\\\\epsilon_{\\\\log}$ to implement logical qubits, an error budget $\\\\epsilon_{\\\\rm dis}$ to produce T states through distillation, and an error budget $\\\\epsilon_{\\\\rm syn}$ to synthesize rotation gates with arbitrary angles.  Note that for distillation and rotation synthesis, the respective error budgets $\\\\epsilon_{\\\\rm dis}$ and $\\\\epsilon_{\\\\rm syn}$ are uniformly distributed among all T states and all rotation gates, respectively. If there are no rotation gates in the input algorithm, the error budget is uniformly distributed to logical errors and T state errors.\",\n            \"label\": \"Total error budget\",\n            \"path\": \"physicalCountsFormatted/errorBudget\"\n          },\n          {\n            \"description\": \"Probability of at least one logical error\",\n            \"explanation\": \"This is one third of the total error budget 1.00e-3 if the input algorithm contains rotation with gates with arbitrary angles, or one half of it, otherwise.\",\n            \"label\": \"Logical error probability\",\n            \"path\": \"physicalCountsFormatted/errorBudgetLogical\"\n          },\n          {\n            \"description\": \"Probability of at least one faulty T distillation\",\n            \"explanation\": \"This is one third of the total error budget 1.00e-3 if the input algorithm contains rotation with gates with arbitrary angles, or one half of it, otherwise.\",\n            \"label\": \"T distillation error probability\",\n            \"path\": \"physicalCountsFormatted/errorBudgetTstates\"\n          },\n          {\n            \"description\": \"Probability of at least one failed rotation synthesis\",\n            \"explanation\": \"This is one third of the total error budget 1.00e-3.\",\n            \"label\": \"Rotation synthesis error probability\",\n            \"path\": \"physicalCountsFormatted/errorBudgetRotations\"\n          }\n        ],\n        \"title\": \"Assumed error budget\"\n      },\n      {\n        \"alwaysVisible\": false,\n        \"entries\": [\n          {\n            \"description\": \"Some descriptive name for the qubit model\",\n            \"explanation\": \"You can load pre-defined qubit parameters by using the names `qubit_gate_ns_e3`, `qubit_gate_ns_e4`, `qubit_gate_us_e3`, `qubit_gate_us_e4`, `qubit_maj_ns_e4`, or `qubit_maj_ns_e6`.  The names of these pre-defined qubit parameters indicate the instruction set (gate-based or Majorana), the operation speed (ns or ¬µs regime), as well as the fidelity (e.g., e3 for $10^{-3}$ gate error rates).\",\n            \"label\": \"Qubit name\",\n            \"path\": \"jobParams/qubitParams/name\"\n          },\n          {\n            \"description\": \"Underlying qubit technology (gate-based or Majorana)\",\n            \"explanation\": \"When modeling the physical qubit abstractions, we distinguish between two different physical instruction sets that are used to operate the qubits.  The physical instruction set can be either *gate-based* or *Majorana*.  A gate-based instruction set provides single-qubit measurement, single-qubit gates (incl. T gates), and two-qubit gates.  A Majorana instruction set provides a physical T gate, single-qubit measurement and two-qubit joint measurement operations.\",\n            \"label\": \"Instruction set\",\n            \"path\": \"jobParams/qubitParams/instructionSet\"\n          },\n          {\n            \"description\": \"Operation time for single-qubit measurement (t_meas) in ns\",\n            \"explanation\": \"This is the operation time in nanoseconds to perform a single-qubit measurement in the Pauli basis.\",\n            \"label\": \"Single-qubit measurement time\",\n            \"path\": \"jobParams/qubitParams/oneQubitMeasurementTime\"\n          },\n          {\n            \"description\": \"Operation time for single-qubit gate (t_gate) in ns\",\n            \"explanation\": \"This is the operation time in nanoseconds to perform a single-qubit Clifford operation, e.g., Hadamard or Phase gates.\",\n            \"label\": \"Single-qubit gate time\",\n            \"path\": \"jobParams/qubitParams/oneQubitGateTime\"\n          },\n          {\n            \"description\": \"Operation time for two-qubit gate in ns\",\n            \"explanation\": \"This is the operation time in nanoseconds to perform a two-qubit Clifford operation, e.g., a CNOT or CZ gate.\",\n            \"label\": \"Two-qubit gate time\",\n            \"path\": \"jobParams/qubitParams/twoQubitGateTime\"\n          },\n          {\n            \"description\": \"Operation time for a T gate\",\n            \"explanation\": \"This is the operation time in nanoseconds to execute a T gate.\",\n            \"label\": \"T gate time\",\n            \"path\": \"jobParams/qubitParams/tGateTime\"\n          },\n          {\n            \"description\": \"Error rate for single-qubit measurement\",\n            \"explanation\": \"This is the probability in which a single-qubit measurement in the Pauli basis may fail.\",\n            \"label\": \"Single-qubit measurement error rate\",\n            \"path\": \"jobParams/qubitParams/oneQubitMeasurementErrorRate\"\n          },\n          {\n            \"description\": \"Error rate for single-qubit Clifford gate (p)\",\n            \"explanation\": \"This is the probability in which a single-qubit Clifford operation, e.g., Hadamard or Phase gates, may fail.\",\n            \"label\": \"Single-qubit error rate\",\n            \"path\": \"jobParams/qubitParams/oneQubitGateErrorRate\"\n          },\n          {\n            \"description\": \"Error rate for two-qubit Clifford gate\",\n            \"explanation\": \"This is the probability in which a two-qubit Clifford operation, e.g., CNOT or CZ gates, may fail.\",\n            \"label\": \"Two-qubit error rate\",\n            \"path\": \"jobParams/qubitParams/twoQubitGateErrorRate\"\n          },\n          {\n            \"description\": \"Error rate to prepare single-qubit T state or apply a T gate (p_T)\",\n            \"explanation\": \"This is the probability in which executing a single T gate may fail.\",\n            \"label\": \"T gate error rate\",\n            \"path\": \"jobParams/qubitParams/tGateErrorRate\"\n          }\n        ],\n        \"title\": \"Physical qubit parameters\"\n      }\n    ]\n  },\n  \"status\": \"success\",\n  \"tfactory\": {\n    \"codeDistancePerRound\": [\n      7,\n      19\n    ],\n    \"logicalErrorRate\": 2.1639895946963144E-11,\n    \"numInputTstates\": 255,\n    \"numRounds\": 2,\n    \"numTstates\": 1,\n    \"numUnitsPerRound\": [\n      17,\n      1\n    ],\n    \"physicalQubits\": 33320,\n    \"physicalQubitsPerRound\": [\n      33320,\n      22382\n    ],\n    \"runtime\": 120000.0,\n    \"runtimePerRound\": [\n      36400.0,\n      83600.0\n    ],\n    \"unitNamePerRound\": [\n      \"15-to-1 space efficient logical\",\n      \"15-to-1 RM prep logical\"\n    ]\n  }\n} }",
            "application/x-qsharp-data": "{\"errorBudget\":{\"logical\":0.0003333333333333333,\"rotations\":0.0003333333333333333,\"tstates\":0.0003333333333333333},\"jobParams\":{\"errorBudget\":0.001,\"qecScheme\":{\"crossingPrefactor\":0.03,\"errorCorrectionThreshold\":0.01,\"logicalCycleTime\":\"(4 * twoQubitGateTime + 2 * oneQubitMeasurementTime) * codeDistance\",\"name\":\"surface_code\",\"physicalQubitsPerLogicalQubit\":\"2 * codeDistance * codeDistance\"},\"qubitParams\":{\"instructionSet\":\"GateBased\",\"name\":\"qubit_gate_ns_e3\",\"oneQubitGateErrorRate\":0.001,\"oneQubitGateTime\":\"50 ns\",\"oneQubitMeasurementErrorRate\":0.001,\"oneQubitMeasurementTime\":\"100 ns\",\"tGateErrorRate\":0.001,\"tGateTime\":\"50 ns\",\"twoQubitGateErrorRate\":0.001,\"twoQubitGateTime\":\"50 ns\"}},\"logicalCounts\":{\"ccixCount\":29376,\"cczCount\":272,\"measurementCount\":29486,\"numQubits\":20,\"rotationCount\":171616,\"rotationDepth\":51657,\"tCount\":37666},\"logicalQubit\":{\"codeDistance\":19,\"logicalCycleTime\":7600.0,\"logicalErrorRate\":3.000000000000003E-12,\"physicalQubits\":722},\"physicalCounts\":{\"breakdown\":{\"algorithmicLogicalDepth\":1412509,\"algorithmicLogicalQubits\":54,\"cliffordErrorRate\":0.001,\"logicalDepth\":1412509,\"numTfactories\":43,\"numTfactoryRuns\":87447,\"numTsPerRotation\":21,\"numTstates\":3760194,\"physicalQubitsForAlgorithm\":38988,\"physicalQubitsForTfactories\":1432760,\"requiredLogicalQubitErrorRate\":4.370124017739242E-12,\"requiredLogicalTstateErrorRate\":8.864790841465449E-11},\"physicalQubits\":1471748,\"runtime\":10735068400},\"physicalCountsFormatted\":{\"codeDistancePerRound\":\"7, 19\",\"errorBudget\":\"1.00e-3\",\"errorBudgetLogical\":\"3.33e-4\",\"errorBudgetRotations\":\"3.33e-4\",\"errorBudgetTstates\":\"3.33e-4\",\"logicalCycleTime\":\"7us 600ns\",\"logicalErrorRate\":\"3.00e-12\",\"numTsPerRotation\":\"21\",\"numUnitsPerRound\":\"17, 1\",\"physicalQubitsForTfactoriesPercentage\":\"97.35 %\",\"physicalQubitsPerRound\":\"33320, 22382\",\"requiredLogicalQubitErrorRate\":\"4.37e-12\",\"requiredLogicalTstateErrorRate\":\"8.86e-11\",\"runtime\":\"10s 735ms 68us 400ns\",\"tfactoryRuntime\":\"120us\",\"tfactoryRuntimePerRound\":\"36us 400ns, 83us 600ns\",\"tstateLogicalErrorRate\":\"2.16e-11\",\"unitNamePerRound\":\"15-to-1 space efficient logical, 15-to-1 RM prep logical\"},\"reportData\":{\"assumptions\":[\"_More details on the following lists of assumptions can be found in the paper [Accessing requirements for scaling quantum computers and their applications](https://aka.ms/AQ/RE/Paper)._\",\"**Uniform independent physical noise.** We assume that the noise on physical qubits and physical qubit operations is the standard circuit noise model. In particular we assume error events at different space-time locations are independent and that error rates are uniform across the system in time and space.\",\"**Efficient classical computation.** We assume that classical overhead (compilation, control, feedback, readout, decoding, etc.) does not dominate the overall cost of implementing the full quantum algorithm.\",\"**Extraction circuits for planar quantum ISA.** We assume that stabilizer extraction circuits with similar depth and error correction performance to those for standard surface and Hastings-Haah code patches can be constructed to implement all operations of the planar quantum ISA (instruction set architecture).\",\"**Uniform independent logical noise.** We assume that the error rate of a logical operation is approximately equal to its space-time volume (the number of tiles multiplied by the number of logical time steps) multiplied by the error rate of a logical qubit in a standard one-tile patch in one logical time step.\",\"**Negligible Clifford costs for synthesis.** We assume that the space overhead for synthesis and space and time overhead for transport of magic states within magic state factories and to synthesis qubits are all negligible.\",\"**Smooth magic state consumption rate.** We assume that the rate of T state consumption throughout the compiled algorithm is almost constant, or can be made almost constant without significantly increasing the number of logical time steps for the algorithm.\"],\"groups\":[{\"alwaysVisible\":true,\"entries\":[{\"description\":\"Number of physical qubits\",\"explanation\":\"This value represents the total number of physical qubits, which is the sum of 38988 physical qubits to implement the algorithm logic, and 1432760 physical qubits to execute the T factories that are responsible to produce the T states that are consumed by the algorithm.\",\"label\":\"Physical qubits\",\"path\":\"physicalCounts/physicalQubits\"},{\"description\":\"Total runtime\",\"explanation\":\"This is a runtime estimate (in nanosecond precision) for the execution time of the algorithm.  In general, the execution time corresponds to the duration of one logical cycle (7us 600ns) multiplied by the 1412509 logical cycles to run the algorithm.  If however the duration of a single T factory (here: 120us) is larger than the algorithm runtime, we extend the number of logical cycles artificially in order to exceed the runtime of a single T factory.\",\"label\":\"Runtime\",\"path\":\"physicalCountsFormatted/runtime\"}],\"title\":\"Physical resource estimates\"},{\"alwaysVisible\":false,\"entries\":[{\"description\":\"Number of logical qubits for the algorithm after layout\",\"explanation\":\"Laying out the logical qubits in the presence of nearest-neighbor constraints requires additional logical qubits.  In particular, to layout the $Q_{\\\\rm alg} = 20$ logical qubits in the input algorithm, we require in total $2 \\\\cdot Q_{\\\\rm alg} + \\\\lceil \\\\sqrt{8 \\\\cdot Q_{\\\\rm alg}}\\\\rceil + 1 = 54$ logical qubits.\",\"label\":\"Logical algorithmic qubits\",\"path\":\"physicalCounts/breakdown/algorithmicLogicalQubits\"},{\"description\":\"Number of logical cycles for the algorithm\",\"explanation\":\"To execute the algorithm using _Parallel Synthesis Sequential Pauli Computation_ (PSSPC), operations are scheduled in terms of multi-qubit Pauli measurements, for which assume an execution time of one logical cycle.  Based on the input algorithm, we require one multi-qubit measurement for the 29486 single-qubit measurements, the 171616 arbitrary single-qubit rotations, and the 37666 T gates, three multi-qubit measurements for each of the 272 CCZ and 29376 CCiX gates in the input program, as well as 21 multi-qubit measurements for each of the 51657 non-Clifford layers in which there is at least one single-qubit rotation with an arbitrary angle rotation.\",\"label\":\"Algorithmic depth\",\"path\":\"physicalCounts/breakdown/algorithmicLogicalDepth\"},{\"description\":\"Number of logical cycles performed\",\"explanation\":\"This number is usually equal to the logical depth of the algorithm, which is 1412509.  However, in the case in which a single T factory is slower than the execution time of the algorithm, we adjust the logical cycle depth to exceed the T factory's execution time.\",\"label\":\"Logical depth\",\"path\":\"physicalCounts/breakdown/logicalDepth\"},{\"description\":\"Number of T states consumed by the algorithm\",\"explanation\":\"To execute the algorithm, we require one T state for each of the 37666 T gates, four T states for each of the 272 CCZ and 29376 CCiX gates, as well as 21 for each of the 171616 single-qubit rotation gates with arbitrary angle rotation.\",\"label\":\"Number of T states\",\"path\":\"physicalCounts/breakdown/numTstates\"},{\"description\":\"Number of T factories capable of producing the demanded 3760194 T states during the algorithm's runtime\",\"explanation\":\"The total number of T factories 43 that are executed in parallel is computed as $\\\\left\\\\lceil\\\\dfrac{3760194\\\\;\\\\text{T states} \\\\cdot 120us\\\\;\\\\text{T factory duration}}{1\\\\;\\\\text{T states per T factory} \\\\cdot 10s 735ms 68us 400ns\\\\;\\\\text{algorithm runtime}}\\\\right\\\\rceil$\",\"label\":\"Number of T factories\",\"path\":\"physicalCounts/breakdown/numTfactories\"},{\"description\":\"Number of times all T factories are invoked\",\"explanation\":\"In order to prepare the 3760194 T states, the 43 copies of the T factory are repeatedly invoked 87447 times.\",\"label\":\"Number of T factory invocations\",\"path\":\"physicalCounts/breakdown/numTfactoryRuns\"},{\"description\":\"Number of physical qubits for the algorithm after layout\",\"explanation\":\"The 38988 are the product of the 54 logical qubits after layout and the 722 physical qubits that encode a single logical qubit.\",\"label\":\"Physical algorithmic qubits\",\"path\":\"physicalCounts/breakdown/physicalQubitsForAlgorithm\"},{\"description\":\"Number of physical qubits for the T factories\",\"explanation\":\"Each T factory requires 33320 physical qubits and we run 43 in parallel, therefore we need $1432760 = 33320 \\\\cdot 43$ qubits.\",\"label\":\"Physical T factory qubits\",\"path\":\"physicalCounts/breakdown/physicalQubitsForTfactories\"},{\"description\":\"The minimum logical qubit error rate required to run the algorithm within the error budget\",\"explanation\":\"The minimum logical qubit error rate is obtained by dividing the logical error probability 3.33e-4 by the product of 54 logical qubits and the total cycle count 1412509.\",\"label\":\"Required logical qubit error rate\",\"path\":\"physicalCountsFormatted/requiredLogicalQubitErrorRate\"},{\"description\":\"The minimum T state error rate required for distilled T states\",\"explanation\":\"The minimum T state error rate is obtained by dividing the T distillation error probability 3.33e-4 by the total number of T states 3760194.\",\"label\":\"Required logical T state error rate\",\"path\":\"physicalCountsFormatted/requiredLogicalTstateErrorRate\"},{\"description\":\"Number of T states to implement a rotation with an arbitrary angle\",\"explanation\":\"The number of T states to implement a rotation with an arbitrary angle is $\\\\lceil 0.53 \\\\log_2(171616 / 0.0003333333333333333) + 5.3\\\\rceil$ [[arXiv:2203.10064](https://arxiv.org/abs/2203.10064)].  For simplicity, we use this formula for all single-qubit arbitrary angle rotations, and do not distinguish between best, worst, and average cases.\",\"label\":\"Number of T states per rotation\",\"path\":\"physicalCountsFormatted/numTsPerRotation\"}],\"title\":\"Resource estimates breakdown\"},{\"alwaysVisible\":false,\"entries\":[{\"description\":\"Name of QEC scheme\",\"explanation\":\"You can load pre-defined QEC schemes by using the name `surface_code` or `floquet_code`. The latter only works with Majorana qubits.\",\"label\":\"QEC scheme\",\"path\":\"jobParams/qecScheme/name\"},{\"description\":\"Required code distance for error correction\",\"explanation\":\"The code distance is the smallest odd integer greater or equal to $\\\\dfrac{2\\\\log(0.03 / 0.000000000004370124017739242)}{\\\\log(0.01/0.001)} - 1$\",\"label\":\"Code distance\",\"path\":\"logicalQubit/codeDistance\"},{\"description\":\"Number of physical qubits per logical qubit\",\"explanation\":\"The number of physical qubits per logical qubit are evaluated using the formula 2 * codeDistance * codeDistance that can be user-specified.\",\"label\":\"Physical qubits\",\"path\":\"logicalQubit/physicalQubits\"},{\"description\":\"Duration of a logical cycle in nanoseconds\",\"explanation\":\"The runtime of one logical cycle in nanoseconds is evaluated using the formula (4 * twoQubitGateTime + 2 * oneQubitMeasurementTime) * codeDistance that can be user-specified.\",\"label\":\"Logical cycle time\",\"path\":\"physicalCountsFormatted/logicalCycleTime\"},{\"description\":\"Logical qubit error rate\",\"explanation\":\"The logical qubit error rate is computed as $0.03 \\\\cdot \\\\left(\\\\dfrac{0.001}{0.01}\\\\right)^\\\\frac{19 + 1}{2}$\",\"label\":\"Logical qubit error rate\",\"path\":\"physicalCountsFormatted/logicalErrorRate\"},{\"description\":\"Crossing prefactor used in QEC scheme\",\"explanation\":\"The crossing prefactor is usually extracted numerically from simulations when fitting an exponential curve to model the relationship between logical and physical error rate.\",\"label\":\"Crossing prefactor\",\"path\":\"jobParams/qecScheme/crossingPrefactor\"},{\"description\":\"Error correction threshold used in QEC scheme\",\"explanation\":\"The error correction threshold is the physical error rate below which the error rate of the logical qubit is less than the error rate of the physical qubit that constitute it.  This value is usually extracted numerically from simulations of the logical error rate.\",\"label\":\"Error correction threshold\",\"path\":\"jobParams/qecScheme/errorCorrectionThreshold\"},{\"description\":\"QEC scheme formula used to compute logical cycle time\",\"explanation\":\"This is the formula that is used to compute the logical cycle time 7us 600ns.\",\"label\":\"Logical cycle time formula\",\"path\":\"jobParams/qecScheme/logicalCycleTime\"},{\"description\":\"QEC scheme formula used to compute number of physical qubits per logical qubit\",\"explanation\":\"This is the formula that is used to compute the number of physical qubits per logical qubits 722.\",\"label\":\"Physical qubits formula\",\"path\":\"jobParams/qecScheme/physicalQubitsPerLogicalQubit\"}],\"title\":\"Logical qubit parameters\"},{\"alwaysVisible\":false,\"entries\":[{\"description\":\"Number of physical qubits for a single T factory\",\"explanation\":\"This corresponds to the maximum number of physical qubits over all rounds of T distillation units in a T factory.  A round of distillation contains of multiple copies of distillation units to achieve the required success probability of producing a T state with the expected logical T state error rate.\",\"label\":\"Physical qubits\",\"path\":\"tfactory/physicalQubits\"},{\"description\":\"Runtime of a single T factory\",\"explanation\":\"The runtime of a single T factory is the accumulated runtime of executing each round in a T factory.\",\"label\":\"Runtime\",\"path\":\"physicalCountsFormatted/tfactoryRuntime\"},{\"description\":\"Number of output T states produced in a single run of T factory\",\"explanation\":\"The T factory takes as input 255 noisy physical T states with an error rate of 0.001 and produces 1 T states with an error rate of 2.16e-11.\",\"label\":\"Number of output T states per run\",\"path\":\"tfactory/numTstates\"},{\"description\":\"Number of physical input T states consumed in a single run of a T factory\",\"explanation\":\"This value includes the physical input T states of all copies of the distillation unit in the first round.\",\"label\":\"Number of input T states per run\",\"path\":\"tfactory/numInputTstates\"},{\"description\":\"The number of distillation rounds\",\"explanation\":\"This is the number of distillation rounds.  In each round one or multiple copies of some distillation unit is executed.\",\"label\":\"Distillation rounds\",\"path\":\"tfactory/numRounds\"},{\"description\":\"The number of units in each round of distillation\",\"explanation\":\"This is the number of copies for the distillation units per round.\",\"label\":\"Distillation units per round\",\"path\":\"physicalCountsFormatted/numUnitsPerRound\"},{\"description\":\"The types of distillation units\",\"explanation\":\"These are the types of distillation units that are executed in each round.  The units can be either physical or logical, depending on what type of qubit they are operating.  Space-efficient units require fewer qubits for the cost of longer runtime compared to Reed-Muller preparation units.\",\"label\":\"Distillation units\",\"path\":\"physicalCountsFormatted/unitNamePerRound\"},{\"description\":\"The code distance in each round of distillation\",\"explanation\":\"This is the code distance used for the units in each round.  If the code distance is 1, then the distillation unit operates on physical qubits instead of error-corrected logical qubits.\",\"label\":\"Distillation code distances\",\"path\":\"physicalCountsFormatted/codeDistancePerRound\"},{\"description\":\"The number of physical qubits used in each round of distillation\",\"explanation\":\"The maximum number of physical qubits over all rounds is the number of physical qubits for the T factory, since qubits are reused by different rounds.\",\"label\":\"Number of physical qubits per round\",\"path\":\"physicalCountsFormatted/physicalQubitsPerRound\"},{\"description\":\"The runtime of each distillation round\",\"explanation\":\"The runtime of the T factory is the sum of the runtimes in all rounds.\",\"label\":\"Runtime per round\",\"path\":\"physicalCountsFormatted/tfactoryRuntimePerRound\"},{\"description\":\"Logical T state error rate\",\"explanation\":\"This is the logical T state error rate achieved by the T factory which is equal or smaller than the required error rate 8.86e-11.\",\"label\":\"Logical T state error rate\",\"path\":\"physicalCountsFormatted/tstateLogicalErrorRate\"}],\"title\":\"T factory parameters\"},{\"alwaysVisible\":false,\"entries\":[{\"description\":\"Number of logical qubits in the input quantum program\",\"explanation\":\"We determine 54 from this number by assuming to align them in a 2D grid.  Auxiliary qubits are added to allow for sufficient space to execute multi-qubit Pauli measurements on all or a subset of the logical qubits.\",\"label\":\"Logical qubits (pre-layout)\",\"path\":\"logicalCounts/numQubits\"},{\"description\":\"Number of T gates in the input quantum program\",\"explanation\":\"This includes all T gates and adjoint T gates, but not T gates used to implement rotation gates with arbitrary angle, CCZ gates, or CCiX gates.\",\"label\":\"T gates\",\"path\":\"logicalCounts/tCount\"},{\"description\":\"Number of rotation gates in the input quantum program\",\"explanation\":\"This is the number of all rotation gates. If an angle corresponds to a Pauli, Clifford, or T gate, it is not accounted for in this number.\",\"label\":\"Rotation gates\",\"path\":\"logicalCounts/rotationCount\"},{\"description\":\"Depth of rotation gates in the input quantum program\",\"explanation\":\"This is the number of all non-Clifford layers that include at least one single-qubit rotation gate with an arbitrary angle.\",\"label\":\"Rotation depth\",\"path\":\"logicalCounts/rotationDepth\"},{\"description\":\"Number of CCZ-gates in the input quantum program\",\"explanation\":\"This is the number of CCZ gates.\",\"label\":\"CCZ gates\",\"path\":\"logicalCounts/cczCount\"},{\"description\":\"Number of CCiX-gates in the input quantum program\",\"explanation\":\"This is the number of CCiX gates, which applies $-iX$ controlled on two control qubits [[1212.5069](https://arxiv.org/abs/1212.5069)].\",\"label\":\"CCiX gates\",\"path\":\"logicalCounts/ccixCount\"},{\"description\":\"Number of single qubit measurements in the input quantum program\",\"explanation\":\"This is the number of single qubit measurements in Pauli basis that are used in the input program.  Note that all measurements are counted, however, the measurement result is is determined randomly (with a fixed seed) to be 0 or 1 with a probability of 50%.\",\"label\":\"Measurement operations\",\"path\":\"logicalCounts/measurementCount\"}],\"title\":\"Pre-layout logical resources\"},{\"alwaysVisible\":false,\"entries\":[{\"description\":\"Total error budget for the algorithm\",\"explanation\":\"The total error budget sets the overall allowed error for the algorithm, i.e., the number of times it is allowed to fail.  Its value must be between 0 and 1 and the default value is 0.001, which corresponds to 0.1%, and means that the algorithm is allowed to fail once in 1000 executions.  This parameter is highly application specific. For example, if one is running Shor's algorithm for factoring integers, a large value for the error budget may be tolerated as one can check that the output are indeed the prime factors of the input.  On the other hand, a much smaller error budget may be needed for an algorithm solving a problem with a solution which cannot be efficiently verified.  This budget $\\\\epsilon = \\\\epsilon_{\\\\log} + \\\\epsilon_{\\\\rm dis} + \\\\epsilon_{\\\\rm syn}$ is uniformly distributed and applies to errors $\\\\epsilon_{\\\\log}$ to implement logical qubits, an error budget $\\\\epsilon_{\\\\rm dis}$ to produce T states through distillation, and an error budget $\\\\epsilon_{\\\\rm syn}$ to synthesize rotation gates with arbitrary angles.  Note that for distillation and rotation synthesis, the respective error budgets $\\\\epsilon_{\\\\rm dis}$ and $\\\\epsilon_{\\\\rm syn}$ are uniformly distributed among all T states and all rotation gates, respectively. If there are no rotation gates in the input algorithm, the error budget is uniformly distributed to logical errors and T state errors.\",\"label\":\"Total error budget\",\"path\":\"physicalCountsFormatted/errorBudget\"},{\"description\":\"Probability of at least one logical error\",\"explanation\":\"This is one third of the total error budget 1.00e-3 if the input algorithm contains rotation with gates with arbitrary angles, or one half of it, otherwise.\",\"label\":\"Logical error probability\",\"path\":\"physicalCountsFormatted/errorBudgetLogical\"},{\"description\":\"Probability of at least one faulty T distillation\",\"explanation\":\"This is one third of the total error budget 1.00e-3 if the input algorithm contains rotation with gates with arbitrary angles, or one half of it, otherwise.\",\"label\":\"T distillation error probability\",\"path\":\"physicalCountsFormatted/errorBudgetTstates\"},{\"description\":\"Probability of at least one failed rotation synthesis\",\"explanation\":\"This is one third of the total error budget 1.00e-3.\",\"label\":\"Rotation synthesis error probability\",\"path\":\"physicalCountsFormatted/errorBudgetRotations\"}],\"title\":\"Assumed error budget\"},{\"alwaysVisible\":false,\"entries\":[{\"description\":\"Some descriptive name for the qubit model\",\"explanation\":\"You can load pre-defined qubit parameters by using the names `qubit_gate_ns_e3`, `qubit_gate_ns_e4`, `qubit_gate_us_e3`, `qubit_gate_us_e4`, `qubit_maj_ns_e4`, or `qubit_maj_ns_e6`.  The names of these pre-defined qubit parameters indicate the instruction set (gate-based or Majorana), the operation speed (ns or ¬µs regime), as well as the fidelity (e.g., e3 for $10^{-3}$ gate error rates).\",\"label\":\"Qubit name\",\"path\":\"jobParams/qubitParams/name\"},{\"description\":\"Underlying qubit technology (gate-based or Majorana)\",\"explanation\":\"When modeling the physical qubit abstractions, we distinguish between two different physical instruction sets that are used to operate the qubits.  The physical instruction set can be either *gate-based* or *Majorana*.  A gate-based instruction set provides single-qubit measurement, single-qubit gates (incl. T gates), and two-qubit gates.  A Majorana instruction set provides a physical T gate, single-qubit measurement and two-qubit joint measurement operations.\",\"label\":\"Instruction set\",\"path\":\"jobParams/qubitParams/instructionSet\"},{\"description\":\"Operation time for single-qubit measurement (t_meas) in ns\",\"explanation\":\"This is the operation time in nanoseconds to perform a single-qubit measurement in the Pauli basis.\",\"label\":\"Single-qubit measurement time\",\"path\":\"jobParams/qubitParams/oneQubitMeasurementTime\"},{\"description\":\"Operation time for single-qubit gate (t_gate) in ns\",\"explanation\":\"This is the operation time in nanoseconds to perform a single-qubit Clifford operation, e.g., Hadamard or Phase gates.\",\"label\":\"Single-qubit gate time\",\"path\":\"jobParams/qubitParams/oneQubitGateTime\"},{\"description\":\"Operation time for two-qubit gate in ns\",\"explanation\":\"This is the operation time in nanoseconds to perform a two-qubit Clifford operation, e.g., a CNOT or CZ gate.\",\"label\":\"Two-qubit gate time\",\"path\":\"jobParams/qubitParams/twoQubitGateTime\"},{\"description\":\"Operation time for a T gate\",\"explanation\":\"This is the operation time in nanoseconds to execute a T gate.\",\"label\":\"T gate time\",\"path\":\"jobParams/qubitParams/tGateTime\"},{\"description\":\"Error rate for single-qubit measurement\",\"explanation\":\"This is the probability in which a single-qubit measurement in the Pauli basis may fail.\",\"label\":\"Single-qubit measurement error rate\",\"path\":\"jobParams/qubitParams/oneQubitMeasurementErrorRate\"},{\"description\":\"Error rate for single-qubit Clifford gate (p)\",\"explanation\":\"This is the probability in which a single-qubit Clifford operation, e.g., Hadamard or Phase gates, may fail.\",\"label\":\"Single-qubit error rate\",\"path\":\"jobParams/qubitParams/oneQubitGateErrorRate\"},{\"description\":\"Error rate for two-qubit Clifford gate\",\"explanation\":\"This is the probability in which a two-qubit Clifford operation, e.g., CNOT or CZ gates, may fail.\",\"label\":\"Two-qubit error rate\",\"path\":\"jobParams/qubitParams/twoQubitGateErrorRate\"},{\"description\":\"Error rate to prepare single-qubit T state or apply a T gate (p_T)\",\"explanation\":\"This is the probability in which executing a single T gate may fail.\",\"label\":\"T gate error rate\",\"path\":\"jobParams/qubitParams/tGateErrorRate\"}],\"title\":\"Physical qubit parameters\"}]},\"status\":\"success\",\"tfactory\":{\"codeDistancePerRound\":[7,19],\"logicalErrorRate\":2.1639895946963144E-11,\"numInputTstates\":255,\"numRounds\":2,\"numTstates\":1,\"numUnitsPerRound\":[17,1],\"physicalQubits\":33320,\"physicalQubitsPerRound\":[33320,22382],\"runtime\":120000.0,\"runtimePerRound\":[36400.0,83600.0],\"unitNamePerRound\":[\"15-to-1 space efficient logical\",\"15-to-1 RM prep logical\"]}}"
          },
          "metadata": {
            "text/plain": {},
            "application/x-qsharp-data": {}
          }
        }
      ],
      "execution_count": 49,
      "metadata": {
        "jupyter": {
          "source_hidden": false,
          "outputs_hidden": false
        },
        "nteract": {
          "transient": {
            "deleting": false
          }
        }
      }
    },
    {
      "cell_type": "code",
      "source": [
        "%simulate shorImplementatonTest n=133"
      ],
      "outputs": [
        {
          "output_type": "stream",
          "name": "stdout",
          "text": "Número aleatorio entre 2 y 132: \nNúmero aleatorio: 129\nLa estimación del periodo no retorna un factor valido.\nNúmero aleatorio entre 2 y 132: \nNúmero aleatorio: 74\nLa estimación del periodo no retorna un factor valido.\nNúmero aleatorio entre 2 y 132: \nNúmero aleatorio: 110\nLa frecuencia estimada tiene el valor 0.\nLa estimación del periodo no retorna un factor valido.\nNúmero aleatorio entre 2 y 132: \nGCD de 133 y 42:\nNuevo intento.\nGCD de 91 y 42:\nNuevo intento.\nGCD de 49 y 42:\nNuevo intento.\nDivisor optenido: 133, GCD: 7.\n"
        },
        {
          "output_type": "execute_result",
          "execution_count": 40,
          "data": {
            "text/plain": "(7, 19)",
            "application/x-qsharp-data": "{\"@type\":\"@tuple\",\"Item1\":7,\"Item2\":19}"
          },
          "metadata": {
            "text/plain": {},
            "application/x-qsharp-data": {}
          }
        }
      ],
      "execution_count": 40,
      "metadata": {
        "jupyter": {
          "source_hidden": false,
          "outputs_hidden": false
        },
        "nteract": {
          "transient": {
            "deleting": false
          }
        }
      }
    },
    {
      "cell_type": "code",
      "source": [
        "%simulate shorImplementatonTest n=133"
      ],
      "outputs": [
        {
          "output_type": "stream",
          "name": "stdout",
          "text": "Número aleatorio entre 2 y 132: \nNúmero aleatorio: 11\nLa estimación del periodo no retorna un factor valido.\nNúmero aleatorio entre 2 y 132: \nNúmero aleatorio: 58\nLa estimación del periodo no retorna un factor valido.\nNúmero aleatorio entre 2 y 132: \nNúmero aleatorio: 33\nLa estimación del periodo no retorna un factor valido.\nNúmero aleatorio entre 2 y 132: \nNúmero aleatorio: 58\nLa estimación del periodo no retorna un factor valido.\nNúmero aleatorio entre 2 y 132: \nNúmero aleatorio: 13\nGCD de 68 y 65:\nNuevo intento.\nGCD de 3 y 2:\nNuevo intento.\nGCD de 70 y 63:\nNuevo intento.\n"
        },
        {
          "output_type": "execute_result",
          "execution_count": 41,
          "data": {
            "text/plain": "(7, 19)",
            "application/x-qsharp-data": "{\"@type\":\"@tuple\",\"Item1\":7,\"Item2\":19}"
          },
          "metadata": {
            "text/plain": {},
            "application/x-qsharp-data": {}
          }
        }
      ],
      "execution_count": 41,
      "metadata": {
        "jupyter": {
          "source_hidden": false,
          "outputs_hidden": false
        },
        "nteract": {
          "transient": {
            "deleting": false
          }
        }
      }
    },
    {
      "cell_type": "code",
      "source": [
        "%simulate shorImplementatonTest n=133"
      ],
      "outputs": [
        {
          "output_type": "stream",
          "name": "stdout",
          "text": "Número aleatorio entre 2 y 132: \nNúmero aleatorio: 75\nGCD de 74 y 59:\nNuevo intento.\nGCD de 15 y 14:\nNuevo intento.\nGCD de 76 y 57:\nNuevo intento.\n"
        },
        {
          "output_type": "execute_result",
          "execution_count": 42,
          "data": {
            "text/plain": "(19, 7)",
            "application/x-qsharp-data": "{\"@type\":\"@tuple\",\"Item1\":19,\"Item2\":7}"
          },
          "metadata": {
            "text/plain": {},
            "application/x-qsharp-data": {}
          }
        }
      ],
      "execution_count": 42,
      "metadata": {
        "jupyter": {
          "source_hidden": false,
          "outputs_hidden": false
        },
        "nteract": {
          "transient": {
            "deleting": false
          }
        }
      }
    },
    {
      "cell_type": "code",
      "source": [
        "%simulate shorImplementatonTest n=247"
      ],
      "outputs": [
        {
          "output_type": "stream",
          "name": "stdout",
          "text": "Número aleatorio entre 2 y 246: \nGCD de 247 y 209:\nNuevo intento.\nGCD de 38 y 19:\nNuevo intento.\nDivisor optenido: 247, GCD: 19.\n"
        },
        {
          "output_type": "execute_result",
          "execution_count": 43,
          "data": {
            "text/plain": "(19, 13)",
            "application/x-qsharp-data": "{\"@type\":\"@tuple\",\"Item1\":19,\"Item2\":13}"
          },
          "metadata": {
            "text/plain": {},
            "application/x-qsharp-data": {}
          }
        }
      ],
      "execution_count": 43,
      "metadata": {
        "jupyter": {
          "source_hidden": false,
          "outputs_hidden": false
        },
        "nteract": {
          "transient": {
            "deleting": false
          }
        }
      }
    },
    {
      "cell_type": "code",
      "source": [
        "%simulate shorImplementatonTest n=247"
      ],
      "outputs": [
        {
          "output_type": "stream",
          "name": "stdout",
          "text": "Número aleatorio entre 2 y 246: \nNúmero aleatorio: 131\nLa estimación del periodo no retorna un factor valido.\nNúmero aleatorio entre 2 y 246: \nNúmero aleatorio: 198\nLa estimación del periodo no retorna un factor valido.\nNúmero aleatorio entre 2 y 246: \nNúmero aleatorio: 131\nLa estimación del periodo no retorna un factor valido.\nNúmero aleatorio entre 2 y 246: \nNúmero aleatorio: 108\nLa estimación del periodo no retorna un factor valido.\nNúmero aleatorio entre 2 y 246: \nGCD de 247 y 38:\nNuevo intento.\nGCD de 209 y 38:\nNuevo intento.\nGCD de 171 y 38:\nNuevo intento.\nGCD de 133 y 38:\nNuevo intento.\nGCD de 95 y 38:\nNuevo intento.\nGCD de 57 y 38:\nNuevo intento.\nDivisor optenido: 247, GCD: 19.\n"
        },
        {
          "output_type": "execute_result",
          "execution_count": 44,
          "data": {
            "text/plain": "(19, 13)",
            "application/x-qsharp-data": "{\"@type\":\"@tuple\",\"Item1\":19,\"Item2\":13}"
          },
          "metadata": {
            "text/plain": {},
            "application/x-qsharp-data": {}
          }
        }
      ],
      "execution_count": 44,
      "metadata": {
        "jupyter": {
          "source_hidden": false,
          "outputs_hidden": false
        },
        "nteract": {
          "transient": {
            "deleting": false
          }
        }
      }
    },
    {
      "cell_type": "code",
      "source": [
        "%azure.execute shorImplementatonTest n=247"
      ],
      "outputs": [
        {
          "output_type": "stream",
          "name": "stdout",
          "text": "Submitting shorImplementatonTest to target microsoft.estimator...\nJob successfully submitted.\n   Job name: shorImplementatonTest\n   Job ID: f2975980-9d08-4352-a18b-7d488dd1d677\nWaiting up to 300 seconds for Azure Quantum job to complete...\n[00:14:02] Current job status: Waiting\n[00:14:07] Current job status: Executing\n[00:14:12] Current job status: Succeeded\n"
        },
        {
          "output_type": "execute_result",
          "execution_count": 48,
          "data": {
            "text/plain": "ResourceEstimationResult { RawJson = {\n  \"errorBudget\": {\n    \"logical\": 0.0003333333333333333,\n    \"rotations\": 0.0003333333333333333,\n    \"tstates\": 0.0003333333333333333\n  },\n  \"jobParams\": {\n    \"errorBudget\": 0.001,\n    \"qecScheme\": {\n      \"crossingPrefactor\": 0.03,\n      \"errorCorrectionThreshold\": 0.01,\n      \"logicalCycleTime\": \"(4 * twoQubitGateTime + 2 * oneQubitMeasurementTime) * codeDistance\",\n      \"name\": \"surface_code\",\n      \"physicalQubitsPerLogicalQubit\": \"2 * codeDistance * codeDistance\"\n    },\n    \"qubitParams\": {\n      \"instructionSet\": \"GateBased\",\n      \"name\": \"qubit_gate_ns_e3\",\n      \"oneQubitGateErrorRate\": 0.001,\n      \"oneQubitGateTime\": \"50 ns\",\n      \"oneQubitMeasurementErrorRate\": 0.001,\n      \"oneQubitMeasurementTime\": \"100 ns\",\n      \"tGateErrorRate\": 0.001,\n      \"tGateTime\": \"50 ns\",\n      \"twoQubitGateErrorRate\": 0.001,\n      \"twoQubitGateTime\": \"50 ns\"\n    }\n  },\n  \"logicalCounts\": {\n    \"ccixCount\": 14688,\n    \"cczCount\": 136,\n    \"measurementCount\": 14723,\n    \"numQubits\": 20,\n    \"rotationCount\": 86783,\n    \"rotationDepth\": 26316,\n    \"tCount\": 18497\n  },\n  \"logicalQubit\": {\n    \"codeDistance\": 19,\n    \"logicalCycleTime\": 7600.0,\n    \"logicalErrorRate\": 3.000000000000003E-12,\n    \"physicalQubits\": 722\n  },\n  \"physicalCounts\": {\n    \"breakdown\": {\n      \"algorithmicLogicalDepth\": 717111,\n      \"algorithmicLogicalQubits\": 54,\n      \"cliffordErrorRate\": 0.001,\n      \"logicalDepth\": 717111,\n      \"numTfactories\": 42,\n      \"numTfactoryRuns\": 45244,\n      \"numTsPerRotation\": 21,\n      \"numTstates\": 1900236,\n      \"physicalQubitsForAlgorithm\": 38988,\n      \"physicalQubitsForTfactories\": 1399440,\n      \"requiredLogicalQubitErrorRate\": 8.607927512160376E-12,\n      \"requiredLogicalTstateErrorRate\": 1.75416807877197E-10\n    },\n    \"physicalQubits\": 1438428,\n    \"runtime\": 5450043600\n  },\n  \"physicalCountsFormatted\": {\n    \"codeDistancePerRound\": \"7, 19\",\n    \"errorBudget\": \"1.00e-3\",\n    \"errorBudgetLogical\": \"3.33e-4\",\n    \"errorBudgetRotations\": \"3.33e-4\",\n    \"errorBudgetTstates\": \"3.33e-4\",\n    \"logicalCycleTime\": \"7us 600ns\",\n    \"logicalErrorRate\": \"3.00e-12\",\n    \"numTsPerRotation\": \"21\",\n    \"numUnitsPerRound\": \"17, 1\",\n    \"physicalQubitsForTfactoriesPercentage\": \"97.29 %\",\n    \"physicalQubitsPerRound\": \"33320, 22382\",\n    \"requiredLogicalQubitErrorRate\": \"8.61e-12\",\n    \"requiredLogicalTstateErrorRate\": \"1.75e-10\",\n    \"runtime\": \"5s 450ms 43us 600ns\",\n    \"tfactoryRuntime\": \"120us\",\n    \"tfactoryRuntimePerRound\": \"36us 400ns, 83us 600ns\",\n    \"tstateLogicalErrorRate\": \"2.16e-11\",\n    \"unitNamePerRound\": \"15-to-1 space efficient logical, 15-to-1 RM prep logical\"\n  },\n  \"reportData\": {\n    \"assumptions\": [\n      \"_More details on the following lists of assumptions can be found in the paper [Accessing requirements for scaling quantum computers and their applications](https://aka.ms/AQ/RE/Paper)._\",\n      \"**Uniform independent physical noise.** We assume that the noise on physical qubits and physical qubit operations is the standard circuit noise model. In particular we assume error events at different space-time locations are independent and that error rates are uniform across the system in time and space.\",\n      \"**Efficient classical computation.** We assume that classical overhead (compilation, control, feedback, readout, decoding, etc.) does not dominate the overall cost of implementing the full quantum algorithm.\",\n      \"**Extraction circuits for planar quantum ISA.** We assume that stabilizer extraction circuits with similar depth and error correction performance to those for standard surface and Hastings-Haah code patches can be constructed to implement all operations of the planar quantum ISA (instruction set architecture).\",\n      \"**Uniform independent logical noise.** We assume that the error rate of a logical operation is approximately equal to its space-time volume (the number of tiles multiplied by the number of logical time steps) multiplied by the error rate of a logical qubit in a standard one-tile patch in one logical time step.\",\n      \"**Negligible Clifford costs for synthesis.** We assume that the space overhead for synthesis and space and time overhead for transport of magic states within magic state factories and to synthesis qubits are all negligible.\",\n      \"**Smooth magic state consumption rate.** We assume that the rate of T state consumption throughout the compiled algorithm is almost constant, or can be made almost constant without significantly increasing the number of logical time steps for the algorithm.\"\n    ],\n    \"groups\": [\n      {\n        \"alwaysVisible\": true,\n        \"entries\": [\n          {\n            \"description\": \"Number of physical qubits\",\n            \"explanation\": \"This value represents the total number of physical qubits, which is the sum of 38988 physical qubits to implement the algorithm logic, and 1399440 physical qubits to execute the T factories that are responsible to produce the T states that are consumed by the algorithm.\",\n            \"label\": \"Physical qubits\",\n            \"path\": \"physicalCounts/physicalQubits\"\n          },\n          {\n            \"description\": \"Total runtime\",\n            \"explanation\": \"This is a runtime estimate (in nanosecond precision) for the execution time of the algorithm.  In general, the execution time corresponds to the duration of one logical cycle (7us 600ns) multiplied by the 717111 logical cycles to run the algorithm.  If however the duration of a single T factory (here: 120us) is larger than the algorithm runtime, we extend the number of logical cycles artificially in order to exceed the runtime of a single T factory.\",\n            \"label\": \"Runtime\",\n            \"path\": \"physicalCountsFormatted/runtime\"\n          }\n        ],\n        \"title\": \"Physical resource estimates\"\n      },\n      {\n        \"alwaysVisible\": false,\n        \"entries\": [\n          {\n            \"description\": \"Number of logical qubits for the algorithm after layout\",\n            \"explanation\": \"Laying out the logical qubits in the presence of nearest-neighbor constraints requires additional logical qubits.  In particular, to layout the $Q_{\\\\rm alg} = 20$ logical qubits in the input algorithm, we require in total $2 \\\\cdot Q_{\\\\rm alg} + \\\\lceil \\\\sqrt{8 \\\\cdot Q_{\\\\rm alg}}\\\\rceil + 1 = 54$ logical qubits.\",\n            \"label\": \"Logical algorithmic qubits\",\n            \"path\": \"physicalCounts/breakdown/algorithmicLogicalQubits\"\n          },\n          {\n            \"description\": \"Number of logical cycles for the algorithm\",\n            \"explanation\": \"To execute the algorithm using _Parallel Synthesis Sequential Pauli Computation_ (PSSPC), operations are scheduled in terms of multi-qubit Pauli measurements, for which assume an execution time of one logical cycle.  Based on the input algorithm, we require one multi-qubit measurement for the 14723 single-qubit measurements, the 86783 arbitrary single-qubit rotations, and the 18497 T gates, three multi-qubit measurements for each of the 136 CCZ and 14688 CCiX gates in the input program, as well as 21 multi-qubit measurements for each of the 26316 non-Clifford layers in which there is at least one single-qubit rotation with an arbitrary angle rotation.\",\n            \"label\": \"Algorithmic depth\",\n            \"path\": \"physicalCounts/breakdown/algorithmicLogicalDepth\"\n          },\n          {\n            \"description\": \"Number of logical cycles performed\",\n            \"explanation\": \"This number is usually equal to the logical depth of the algorithm, which is 717111.  However, in the case in which a single T factory is slower than the execution time of the algorithm, we adjust the logical cycle depth to exceed the T factory's execution time.\",\n            \"label\": \"Logical depth\",\n            \"path\": \"physicalCounts/breakdown/logicalDepth\"\n          },\n          {\n            \"description\": \"Number of T states consumed by the algorithm\",\n            \"explanation\": \"To execute the algorithm, we require one T state for each of the 18497 T gates, four T states for each of the 136 CCZ and 14688 CCiX gates, as well as 21 for each of the 86783 single-qubit rotation gates with arbitrary angle rotation.\",\n            \"label\": \"Number of T states\",\n            \"path\": \"physicalCounts/breakdown/numTstates\"\n          },\n          {\n            \"description\": \"Number of T factories capable of producing the demanded 1900236 T states during the algorithm's runtime\",\n            \"explanation\": \"The total number of T factories 42 that are executed in parallel is computed as $\\\\left\\\\lceil\\\\dfrac{1900236\\\\;\\\\text{T states} \\\\cdot 120us\\\\;\\\\text{T factory duration}}{1\\\\;\\\\text{T states per T factory} \\\\cdot 5s 450ms 43us 600ns\\\\;\\\\text{algorithm runtime}}\\\\right\\\\rceil$\",\n            \"label\": \"Number of T factories\",\n            \"path\": \"physicalCounts/breakdown/numTfactories\"\n          },\n          {\n            \"description\": \"Number of times all T factories are invoked\",\n            \"explanation\": \"In order to prepare the 1900236 T states, the 42 copies of the T factory are repeatedly invoked 45244 times.\",\n            \"label\": \"Number of T factory invocations\",\n            \"path\": \"physicalCounts/breakdown/numTfactoryRuns\"\n          },\n          {\n            \"description\": \"Number of physical qubits for the algorithm after layout\",\n            \"explanation\": \"The 38988 are the product of the 54 logical qubits after layout and the 722 physical qubits that encode a single logical qubit.\",\n            \"label\": \"Physical algorithmic qubits\",\n            \"path\": \"physicalCounts/breakdown/physicalQubitsForAlgorithm\"\n          },\n          {\n            \"description\": \"Number of physical qubits for the T factories\",\n            \"explanation\": \"Each T factory requires 33320 physical qubits and we run 42 in parallel, therefore we need $1399440 = 33320 \\\\cdot 42$ qubits.\",\n            \"label\": \"Physical T factory qubits\",\n            \"path\": \"physicalCounts/breakdown/physicalQubitsForTfactories\"\n          },\n          {\n            \"description\": \"The minimum logical qubit error rate required to run the algorithm within the error budget\",\n            \"explanation\": \"The minimum logical qubit error rate is obtained by dividing the logical error probability 3.33e-4 by the product of 54 logical qubits and the total cycle count 717111.\",\n            \"label\": \"Required logical qubit error rate\",\n            \"path\": \"physicalCountsFormatted/requiredLogicalQubitErrorRate\"\n          },\n          {\n            \"description\": \"The minimum T state error rate required for distilled T states\",\n            \"explanation\": \"The minimum T state error rate is obtained by dividing the T distillation error probability 3.33e-4 by the total number of T states 1900236.\",\n            \"label\": \"Required logical T state error rate\",\n            \"path\": \"physicalCountsFormatted/requiredLogicalTstateErrorRate\"\n          },\n          {\n            \"description\": \"Number of T states to implement a rotation with an arbitrary angle\",\n            \"explanation\": \"The number of T states to implement a rotation with an arbitrary angle is $\\\\lceil 0.53 \\\\log_2(86783 / 0.0003333333333333333) + 5.3\\\\rceil$ [[arXiv:2203.10064](https://arxiv.org/abs/2203.10064)].  For simplicity, we use this formula for all single-qubit arbitrary angle rotations, and do not distinguish between best, worst, and average cases.\",\n            \"label\": \"Number of T states per rotation\",\n            \"path\": \"physicalCountsFormatted/numTsPerRotation\"\n          }\n        ],\n        \"title\": \"Resource estimates breakdown\"\n      },\n      {\n        \"alwaysVisible\": false,\n        \"entries\": [\n          {\n            \"description\": \"Name of QEC scheme\",\n            \"explanation\": \"You can load pre-defined QEC schemes by using the name `surface_code` or `floquet_code`. The latter only works with Majorana qubits.\",\n            \"label\": \"QEC scheme\",\n            \"path\": \"jobParams/qecScheme/name\"\n          },\n          {\n            \"description\": \"Required code distance for error correction\",\n            \"explanation\": \"The code distance is the smallest odd integer greater or equal to $\\\\dfrac{2\\\\log(0.03 / 0.000000000008607927512160376)}{\\\\log(0.01/0.001)} - 1$\",\n            \"label\": \"Code distance\",\n            \"path\": \"logicalQubit/codeDistance\"\n          },\n          {\n            \"description\": \"Number of physical qubits per logical qubit\",\n            \"explanation\": \"The number of physical qubits per logical qubit are evaluated using the formula 2 * codeDistance * codeDistance that can be user-specified.\",\n            \"label\": \"Physical qubits\",\n            \"path\": \"logicalQubit/physicalQubits\"\n          },\n          {\n            \"description\": \"Duration of a logical cycle in nanoseconds\",\n            \"explanation\": \"The runtime of one logical cycle in nanoseconds is evaluated using the formula (4 * twoQubitGateTime + 2 * oneQubitMeasurementTime) * codeDistance that can be user-specified.\",\n            \"label\": \"Logical cycle time\",\n            \"path\": \"physicalCountsFormatted/logicalCycleTime\"\n          },\n          {\n            \"description\": \"Logical qubit error rate\",\n            \"explanation\": \"The logical qubit error rate is computed as $0.03 \\\\cdot \\\\left(\\\\dfrac{0.001}{0.01}\\\\right)^\\\\frac{19 + 1}{2}$\",\n            \"label\": \"Logical qubit error rate\",\n            \"path\": \"physicalCountsFormatted/logicalErrorRate\"\n          },\n          {\n            \"description\": \"Crossing prefactor used in QEC scheme\",\n            \"explanation\": \"The crossing prefactor is usually extracted numerically from simulations when fitting an exponential curve to model the relationship between logical and physical error rate.\",\n            \"label\": \"Crossing prefactor\",\n            \"path\": \"jobParams/qecScheme/crossingPrefactor\"\n          },\n          {\n            \"description\": \"Error correction threshold used in QEC scheme\",\n            \"explanation\": \"The error correction threshold is the physical error rate below which the error rate of the logical qubit is less than the error rate of the physical qubit that constitute it.  This value is usually extracted numerically from simulations of the logical error rate.\",\n            \"label\": \"Error correction threshold\",\n            \"path\": \"jobParams/qecScheme/errorCorrectionThreshold\"\n          },\n          {\n            \"description\": \"QEC scheme formula used to compute logical cycle time\",\n            \"explanation\": \"This is the formula that is used to compute the logical cycle time 7us 600ns.\",\n            \"label\": \"Logical cycle time formula\",\n            \"path\": \"jobParams/qecScheme/logicalCycleTime\"\n          },\n          {\n            \"description\": \"QEC scheme formula used to compute number of physical qubits per logical qubit\",\n            \"explanation\": \"This is the formula that is used to compute the number of physical qubits per logical qubits 722.\",\n            \"label\": \"Physical qubits formula\",\n            \"path\": \"jobParams/qecScheme/physicalQubitsPerLogicalQubit\"\n          }\n        ],\n        \"title\": \"Logical qubit parameters\"\n      },\n      {\n        \"alwaysVisible\": false,\n        \"entries\": [\n          {\n            \"description\": \"Number of physical qubits for a single T factory\",\n            \"explanation\": \"This corresponds to the maximum number of physical qubits over all rounds of T distillation units in a T factory.  A round of distillation contains of multiple copies of distillation units to achieve the required success probability of producing a T state with the expected logical T state error rate.\",\n            \"label\": \"Physical qubits\",\n            \"path\": \"tfactory/physicalQubits\"\n          },\n          {\n            \"description\": \"Runtime of a single T factory\",\n            \"explanation\": \"The runtime of a single T factory is the accumulated runtime of executing each round in a T factory.\",\n            \"label\": \"Runtime\",\n            \"path\": \"physicalCountsFormatted/tfactoryRuntime\"\n          },\n          {\n            \"description\": \"Number of output T states produced in a single run of T factory\",\n            \"explanation\": \"The T factory takes as input 255 noisy physical T states with an error rate of 0.001 and produces 1 T states with an error rate of 2.16e-11.\",\n            \"label\": \"Number of output T states per run\",\n            \"path\": \"tfactory/numTstates\"\n          },\n          {\n            \"description\": \"Number of physical input T states consumed in a single run of a T factory\",\n            \"explanation\": \"This value includes the physical input T states of all copies of the distillation unit in the first round.\",\n            \"label\": \"Number of input T states per run\",\n            \"path\": \"tfactory/numInputTstates\"\n          },\n          {\n            \"description\": \"The number of distillation rounds\",\n            \"explanation\": \"This is the number of distillation rounds.  In each round one or multiple copies of some distillation unit is executed.\",\n            \"label\": \"Distillation rounds\",\n            \"path\": \"tfactory/numRounds\"\n          },\n          {\n            \"description\": \"The number of units in each round of distillation\",\n            \"explanation\": \"This is the number of copies for the distillation units per round.\",\n            \"label\": \"Distillation units per round\",\n            \"path\": \"physicalCountsFormatted/numUnitsPerRound\"\n          },\n          {\n            \"description\": \"The types of distillation units\",\n            \"explanation\": \"These are the types of distillation units that are executed in each round.  The units can be either physical or logical, depending on what type of qubit they are operating.  Space-efficient units require fewer qubits for the cost of longer runtime compared to Reed-Muller preparation units.\",\n            \"label\": \"Distillation units\",\n            \"path\": \"physicalCountsFormatted/unitNamePerRound\"\n          },\n          {\n            \"description\": \"The code distance in each round of distillation\",\n            \"explanation\": \"This is the code distance used for the units in each round.  If the code distance is 1, then the distillation unit operates on physical qubits instead of error-corrected logical qubits.\",\n            \"label\": \"Distillation code distances\",\n            \"path\": \"physicalCountsFormatted/codeDistancePerRound\"\n          },\n          {\n            \"description\": \"The number of physical qubits used in each round of distillation\",\n            \"explanation\": \"The maximum number of physical qubits over all rounds is the number of physical qubits for the T factory, since qubits are reused by different rounds.\",\n            \"label\": \"Number of physical qubits per round\",\n            \"path\": \"physicalCountsFormatted/physicalQubitsPerRound\"\n          },\n          {\n            \"description\": \"The runtime of each distillation round\",\n            \"explanation\": \"The runtime of the T factory is the sum of the runtimes in all rounds.\",\n            \"label\": \"Runtime per round\",\n            \"path\": \"physicalCountsFormatted/tfactoryRuntimePerRound\"\n          },\n          {\n            \"description\": \"Logical T state error rate\",\n            \"explanation\": \"This is the logical T state error rate achieved by the T factory which is equal or smaller than the required error rate 1.75e-10.\",\n            \"label\": \"Logical T state error rate\",\n            \"path\": \"physicalCountsFormatted/tstateLogicalErrorRate\"\n          }\n        ],\n        \"title\": \"T factory parameters\"\n      },\n      {\n        \"alwaysVisible\": false,\n        \"entries\": [\n          {\n            \"description\": \"Number of logical qubits in the input quantum program\",\n            \"explanation\": \"We determine 54 from this number by assuming to align them in a 2D grid.  Auxiliary qubits are added to allow for sufficient space to execute multi-qubit Pauli measurements on all or a subset of the logical qubits.\",\n            \"label\": \"Logical qubits (pre-layout)\",\n            \"path\": \"logicalCounts/numQubits\"\n          },\n          {\n            \"description\": \"Number of T gates in the input quantum program\",\n            \"explanation\": \"This includes all T gates and adjoint T gates, but not T gates used to implement rotation gates with arbitrary angle, CCZ gates, or CCiX gates.\",\n            \"label\": \"T gates\",\n            \"path\": \"logicalCounts/tCount\"\n          },\n          {\n            \"description\": \"Number of rotation gates in the input quantum program\",\n            \"explanation\": \"This is the number of all rotation gates. If an angle corresponds to a Pauli, Clifford, or T gate, it is not accounted for in this number.\",\n            \"label\": \"Rotation gates\",\n            \"path\": \"logicalCounts/rotationCount\"\n          },\n          {\n            \"description\": \"Depth of rotation gates in the input quantum program\",\n            \"explanation\": \"This is the number of all non-Clifford layers that include at least one single-qubit rotation gate with an arbitrary angle.\",\n            \"label\": \"Rotation depth\",\n            \"path\": \"logicalCounts/rotationDepth\"\n          },\n          {\n            \"description\": \"Number of CCZ-gates in the input quantum program\",\n            \"explanation\": \"This is the number of CCZ gates.\",\n            \"label\": \"CCZ gates\",\n            \"path\": \"logicalCounts/cczCount\"\n          },\n          {\n            \"description\": \"Number of CCiX-gates in the input quantum program\",\n            \"explanation\": \"This is the number of CCiX gates, which applies $-iX$ controlled on two control qubits [[1212.5069](https://arxiv.org/abs/1212.5069)].\",\n            \"label\": \"CCiX gates\",\n            \"path\": \"logicalCounts/ccixCount\"\n          },\n          {\n            \"description\": \"Number of single qubit measurements in the input quantum program\",\n            \"explanation\": \"This is the number of single qubit measurements in Pauli basis that are used in the input program.  Note that all measurements are counted, however, the measurement result is is determined randomly (with a fixed seed) to be 0 or 1 with a probability of 50%.\",\n            \"label\": \"Measurement operations\",\n            \"path\": \"logicalCounts/measurementCount\"\n          }\n        ],\n        \"title\": \"Pre-layout logical resources\"\n      },\n      {\n        \"alwaysVisible\": false,\n        \"entries\": [\n          {\n            \"description\": \"Total error budget for the algorithm\",\n            \"explanation\": \"The total error budget sets the overall allowed error for the algorithm, i.e., the number of times it is allowed to fail.  Its value must be between 0 and 1 and the default value is 0.001, which corresponds to 0.1%, and means that the algorithm is allowed to fail once in 1000 executions.  This parameter is highly application specific. For example, if one is running Shor's algorithm for factoring integers, a large value for the error budget may be tolerated as one can check that the output are indeed the prime factors of the input.  On the other hand, a much smaller error budget may be needed for an algorithm solving a problem with a solution which cannot be efficiently verified.  This budget $\\\\epsilon = \\\\epsilon_{\\\\log} + \\\\epsilon_{\\\\rm dis} + \\\\epsilon_{\\\\rm syn}$ is uniformly distributed and applies to errors $\\\\epsilon_{\\\\log}$ to implement logical qubits, an error budget $\\\\epsilon_{\\\\rm dis}$ to produce T states through distillation, and an error budget $\\\\epsilon_{\\\\rm syn}$ to synthesize rotation gates with arbitrary angles.  Note that for distillation and rotation synthesis, the respective error budgets $\\\\epsilon_{\\\\rm dis}$ and $\\\\epsilon_{\\\\rm syn}$ are uniformly distributed among all T states and all rotation gates, respectively. If there are no rotation gates in the input algorithm, the error budget is uniformly distributed to logical errors and T state errors.\",\n            \"label\": \"Total error budget\",\n            \"path\": \"physicalCountsFormatted/errorBudget\"\n          },\n          {\n            \"description\": \"Probability of at least one logical error\",\n            \"explanation\": \"This is one third of the total error budget 1.00e-3 if the input algorithm contains rotation with gates with arbitrary angles, or one half of it, otherwise.\",\n            \"label\": \"Logical error probability\",\n            \"path\": \"physicalCountsFormatted/errorBudgetLogical\"\n          },\n          {\n            \"description\": \"Probability of at least one faulty T distillation\",\n            \"explanation\": \"This is one third of the total error budget 1.00e-3 if the input algorithm contains rotation with gates with arbitrary angles, or one half of it, otherwise.\",\n            \"label\": \"T distillation error probability\",\n            \"path\": \"physicalCountsFormatted/errorBudgetTstates\"\n          },\n          {\n            \"description\": \"Probability of at least one failed rotation synthesis\",\n            \"explanation\": \"This is one third of the total error budget 1.00e-3.\",\n            \"label\": \"Rotation synthesis error probability\",\n            \"path\": \"physicalCountsFormatted/errorBudgetRotations\"\n          }\n        ],\n        \"title\": \"Assumed error budget\"\n      },\n      {\n        \"alwaysVisible\": false,\n        \"entries\": [\n          {\n            \"description\": \"Some descriptive name for the qubit model\",\n            \"explanation\": \"You can load pre-defined qubit parameters by using the names `qubit_gate_ns_e3`, `qubit_gate_ns_e4`, `qubit_gate_us_e3`, `qubit_gate_us_e4`, `qubit_maj_ns_e4`, or `qubit_maj_ns_e6`.  The names of these pre-defined qubit parameters indicate the instruction set (gate-based or Majorana), the operation speed (ns or ¬µs regime), as well as the fidelity (e.g., e3 for $10^{-3}$ gate error rates).\",\n            \"label\": \"Qubit name\",\n            \"path\": \"jobParams/qubitParams/name\"\n          },\n          {\n            \"description\": \"Underlying qubit technology (gate-based or Majorana)\",\n            \"explanation\": \"When modeling the physical qubit abstractions, we distinguish between two different physical instruction sets that are used to operate the qubits.  The physical instruction set can be either *gate-based* or *Majorana*.  A gate-based instruction set provides single-qubit measurement, single-qubit gates (incl. T gates), and two-qubit gates.  A Majorana instruction set provides a physical T gate, single-qubit measurement and two-qubit joint measurement operations.\",\n            \"label\": \"Instruction set\",\n            \"path\": \"jobParams/qubitParams/instructionSet\"\n          },\n          {\n            \"description\": \"Operation time for single-qubit measurement (t_meas) in ns\",\n            \"explanation\": \"This is the operation time in nanoseconds to perform a single-qubit measurement in the Pauli basis.\",\n            \"label\": \"Single-qubit measurement time\",\n            \"path\": \"jobParams/qubitParams/oneQubitMeasurementTime\"\n          },\n          {\n            \"description\": \"Operation time for single-qubit gate (t_gate) in ns\",\n            \"explanation\": \"This is the operation time in nanoseconds to perform a single-qubit Clifford operation, e.g., Hadamard or Phase gates.\",\n            \"label\": \"Single-qubit gate time\",\n            \"path\": \"jobParams/qubitParams/oneQubitGateTime\"\n          },\n          {\n            \"description\": \"Operation time for two-qubit gate in ns\",\n            \"explanation\": \"This is the operation time in nanoseconds to perform a two-qubit Clifford operation, e.g., a CNOT or CZ gate.\",\n            \"label\": \"Two-qubit gate time\",\n            \"path\": \"jobParams/qubitParams/twoQubitGateTime\"\n          },\n          {\n            \"description\": \"Operation time for a T gate\",\n            \"explanation\": \"This is the operation time in nanoseconds to execute a T gate.\",\n            \"label\": \"T gate time\",\n            \"path\": \"jobParams/qubitParams/tGateTime\"\n          },\n          {\n            \"description\": \"Error rate for single-qubit measurement\",\n            \"explanation\": \"This is the probability in which a single-qubit measurement in the Pauli basis may fail.\",\n            \"label\": \"Single-qubit measurement error rate\",\n            \"path\": \"jobParams/qubitParams/oneQubitMeasurementErrorRate\"\n          },\n          {\n            \"description\": \"Error rate for single-qubit Clifford gate (p)\",\n            \"explanation\": \"This is the probability in which a single-qubit Clifford operation, e.g., Hadamard or Phase gates, may fail.\",\n            \"label\": \"Single-qubit error rate\",\n            \"path\": \"jobParams/qubitParams/oneQubitGateErrorRate\"\n          },\n          {\n            \"description\": \"Error rate for two-qubit Clifford gate\",\n            \"explanation\": \"This is the probability in which a two-qubit Clifford operation, e.g., CNOT or CZ gates, may fail.\",\n            \"label\": \"Two-qubit error rate\",\n            \"path\": \"jobParams/qubitParams/twoQubitGateErrorRate\"\n          },\n          {\n            \"description\": \"Error rate to prepare single-qubit T state or apply a T gate (p_T)\",\n            \"explanation\": \"This is the probability in which executing a single T gate may fail.\",\n            \"label\": \"T gate error rate\",\n            \"path\": \"jobParams/qubitParams/tGateErrorRate\"\n          }\n        ],\n        \"title\": \"Physical qubit parameters\"\n      }\n    ]\n  },\n  \"status\": \"success\",\n  \"tfactory\": {\n    \"codeDistancePerRound\": [\n      7,\n      19\n    ],\n    \"logicalErrorRate\": 2.1639895946963144E-11,\n    \"numInputTstates\": 255,\n    \"numRounds\": 2,\n    \"numTstates\": 1,\n    \"numUnitsPerRound\": [\n      17,\n      1\n    ],\n    \"physicalQubits\": 33320,\n    \"physicalQubitsPerRound\": [\n      33320,\n      22382\n    ],\n    \"runtime\": 120000.0,\n    \"runtimePerRound\": [\n      36400.0,\n      83600.0\n    ],\n    \"unitNamePerRound\": [\n      \"15-to-1 space efficient logical\",\n      \"15-to-1 RM prep logical\"\n    ]\n  }\n} }",
            "application/x-qsharp-data": "{\"errorBudget\":{\"logical\":0.0003333333333333333,\"rotations\":0.0003333333333333333,\"tstates\":0.0003333333333333333},\"jobParams\":{\"errorBudget\":0.001,\"qecScheme\":{\"crossingPrefactor\":0.03,\"errorCorrectionThreshold\":0.01,\"logicalCycleTime\":\"(4 * twoQubitGateTime + 2 * oneQubitMeasurementTime) * codeDistance\",\"name\":\"surface_code\",\"physicalQubitsPerLogicalQubit\":\"2 * codeDistance * codeDistance\"},\"qubitParams\":{\"instructionSet\":\"GateBased\",\"name\":\"qubit_gate_ns_e3\",\"oneQubitGateErrorRate\":0.001,\"oneQubitGateTime\":\"50 ns\",\"oneQubitMeasurementErrorRate\":0.001,\"oneQubitMeasurementTime\":\"100 ns\",\"tGateErrorRate\":0.001,\"tGateTime\":\"50 ns\",\"twoQubitGateErrorRate\":0.001,\"twoQubitGateTime\":\"50 ns\"}},\"logicalCounts\":{\"ccixCount\":14688,\"cczCount\":136,\"measurementCount\":14723,\"numQubits\":20,\"rotationCount\":86783,\"rotationDepth\":26316,\"tCount\":18497},\"logicalQubit\":{\"codeDistance\":19,\"logicalCycleTime\":7600.0,\"logicalErrorRate\":3.000000000000003E-12,\"physicalQubits\":722},\"physicalCounts\":{\"breakdown\":{\"algorithmicLogicalDepth\":717111,\"algorithmicLogicalQubits\":54,\"cliffordErrorRate\":0.001,\"logicalDepth\":717111,\"numTfactories\":42,\"numTfactoryRuns\":45244,\"numTsPerRotation\":21,\"numTstates\":1900236,\"physicalQubitsForAlgorithm\":38988,\"physicalQubitsForTfactories\":1399440,\"requiredLogicalQubitErrorRate\":8.607927512160376E-12,\"requiredLogicalTstateErrorRate\":1.75416807877197E-10},\"physicalQubits\":1438428,\"runtime\":5450043600},\"physicalCountsFormatted\":{\"codeDistancePerRound\":\"7, 19\",\"errorBudget\":\"1.00e-3\",\"errorBudgetLogical\":\"3.33e-4\",\"errorBudgetRotations\":\"3.33e-4\",\"errorBudgetTstates\":\"3.33e-4\",\"logicalCycleTime\":\"7us 600ns\",\"logicalErrorRate\":\"3.00e-12\",\"numTsPerRotation\":\"21\",\"numUnitsPerRound\":\"17, 1\",\"physicalQubitsForTfactoriesPercentage\":\"97.29 %\",\"physicalQubitsPerRound\":\"33320, 22382\",\"requiredLogicalQubitErrorRate\":\"8.61e-12\",\"requiredLogicalTstateErrorRate\":\"1.75e-10\",\"runtime\":\"5s 450ms 43us 600ns\",\"tfactoryRuntime\":\"120us\",\"tfactoryRuntimePerRound\":\"36us 400ns, 83us 600ns\",\"tstateLogicalErrorRate\":\"2.16e-11\",\"unitNamePerRound\":\"15-to-1 space efficient logical, 15-to-1 RM prep logical\"},\"reportData\":{\"assumptions\":[\"_More details on the following lists of assumptions can be found in the paper [Accessing requirements for scaling quantum computers and their applications](https://aka.ms/AQ/RE/Paper)._\",\"**Uniform independent physical noise.** We assume that the noise on physical qubits and physical qubit operations is the standard circuit noise model. In particular we assume error events at different space-time locations are independent and that error rates are uniform across the system in time and space.\",\"**Efficient classical computation.** We assume that classical overhead (compilation, control, feedback, readout, decoding, etc.) does not dominate the overall cost of implementing the full quantum algorithm.\",\"**Extraction circuits for planar quantum ISA.** We assume that stabilizer extraction circuits with similar depth and error correction performance to those for standard surface and Hastings-Haah code patches can be constructed to implement all operations of the planar quantum ISA (instruction set architecture).\",\"**Uniform independent logical noise.** We assume that the error rate of a logical operation is approximately equal to its space-time volume (the number of tiles multiplied by the number of logical time steps) multiplied by the error rate of a logical qubit in a standard one-tile patch in one logical time step.\",\"**Negligible Clifford costs for synthesis.** We assume that the space overhead for synthesis and space and time overhead for transport of magic states within magic state factories and to synthesis qubits are all negligible.\",\"**Smooth magic state consumption rate.** We assume that the rate of T state consumption throughout the compiled algorithm is almost constant, or can be made almost constant without significantly increasing the number of logical time steps for the algorithm.\"],\"groups\":[{\"alwaysVisible\":true,\"entries\":[{\"description\":\"Number of physical qubits\",\"explanation\":\"This value represents the total number of physical qubits, which is the sum of 38988 physical qubits to implement the algorithm logic, and 1399440 physical qubits to execute the T factories that are responsible to produce the T states that are consumed by the algorithm.\",\"label\":\"Physical qubits\",\"path\":\"physicalCounts/physicalQubits\"},{\"description\":\"Total runtime\",\"explanation\":\"This is a runtime estimate (in nanosecond precision) for the execution time of the algorithm.  In general, the execution time corresponds to the duration of one logical cycle (7us 600ns) multiplied by the 717111 logical cycles to run the algorithm.  If however the duration of a single T factory (here: 120us) is larger than the algorithm runtime, we extend the number of logical cycles artificially in order to exceed the runtime of a single T factory.\",\"label\":\"Runtime\",\"path\":\"physicalCountsFormatted/runtime\"}],\"title\":\"Physical resource estimates\"},{\"alwaysVisible\":false,\"entries\":[{\"description\":\"Number of logical qubits for the algorithm after layout\",\"explanation\":\"Laying out the logical qubits in the presence of nearest-neighbor constraints requires additional logical qubits.  In particular, to layout the $Q_{\\\\rm alg} = 20$ logical qubits in the input algorithm, we require in total $2 \\\\cdot Q_{\\\\rm alg} + \\\\lceil \\\\sqrt{8 \\\\cdot Q_{\\\\rm alg}}\\\\rceil + 1 = 54$ logical qubits.\",\"label\":\"Logical algorithmic qubits\",\"path\":\"physicalCounts/breakdown/algorithmicLogicalQubits\"},{\"description\":\"Number of logical cycles for the algorithm\",\"explanation\":\"To execute the algorithm using _Parallel Synthesis Sequential Pauli Computation_ (PSSPC), operations are scheduled in terms of multi-qubit Pauli measurements, for which assume an execution time of one logical cycle.  Based on the input algorithm, we require one multi-qubit measurement for the 14723 single-qubit measurements, the 86783 arbitrary single-qubit rotations, and the 18497 T gates, three multi-qubit measurements for each of the 136 CCZ and 14688 CCiX gates in the input program, as well as 21 multi-qubit measurements for each of the 26316 non-Clifford layers in which there is at least one single-qubit rotation with an arbitrary angle rotation.\",\"label\":\"Algorithmic depth\",\"path\":\"physicalCounts/breakdown/algorithmicLogicalDepth\"},{\"description\":\"Number of logical cycles performed\",\"explanation\":\"This number is usually equal to the logical depth of the algorithm, which is 717111.  However, in the case in which a single T factory is slower than the execution time of the algorithm, we adjust the logical cycle depth to exceed the T factory's execution time.\",\"label\":\"Logical depth\",\"path\":\"physicalCounts/breakdown/logicalDepth\"},{\"description\":\"Number of T states consumed by the algorithm\",\"explanation\":\"To execute the algorithm, we require one T state for each of the 18497 T gates, four T states for each of the 136 CCZ and 14688 CCiX gates, as well as 21 for each of the 86783 single-qubit rotation gates with arbitrary angle rotation.\",\"label\":\"Number of T states\",\"path\":\"physicalCounts/breakdown/numTstates\"},{\"description\":\"Number of T factories capable of producing the demanded 1900236 T states during the algorithm's runtime\",\"explanation\":\"The total number of T factories 42 that are executed in parallel is computed as $\\\\left\\\\lceil\\\\dfrac{1900236\\\\;\\\\text{T states} \\\\cdot 120us\\\\;\\\\text{T factory duration}}{1\\\\;\\\\text{T states per T factory} \\\\cdot 5s 450ms 43us 600ns\\\\;\\\\text{algorithm runtime}}\\\\right\\\\rceil$\",\"label\":\"Number of T factories\",\"path\":\"physicalCounts/breakdown/numTfactories\"},{\"description\":\"Number of times all T factories are invoked\",\"explanation\":\"In order to prepare the 1900236 T states, the 42 copies of the T factory are repeatedly invoked 45244 times.\",\"label\":\"Number of T factory invocations\",\"path\":\"physicalCounts/breakdown/numTfactoryRuns\"},{\"description\":\"Number of physical qubits for the algorithm after layout\",\"explanation\":\"The 38988 are the product of the 54 logical qubits after layout and the 722 physical qubits that encode a single logical qubit.\",\"label\":\"Physical algorithmic qubits\",\"path\":\"physicalCounts/breakdown/physicalQubitsForAlgorithm\"},{\"description\":\"Number of physical qubits for the T factories\",\"explanation\":\"Each T factory requires 33320 physical qubits and we run 42 in parallel, therefore we need $1399440 = 33320 \\\\cdot 42$ qubits.\",\"label\":\"Physical T factory qubits\",\"path\":\"physicalCounts/breakdown/physicalQubitsForTfactories\"},{\"description\":\"The minimum logical qubit error rate required to run the algorithm within the error budget\",\"explanation\":\"The minimum logical qubit error rate is obtained by dividing the logical error probability 3.33e-4 by the product of 54 logical qubits and the total cycle count 717111.\",\"label\":\"Required logical qubit error rate\",\"path\":\"physicalCountsFormatted/requiredLogicalQubitErrorRate\"},{\"description\":\"The minimum T state error rate required for distilled T states\",\"explanation\":\"The minimum T state error rate is obtained by dividing the T distillation error probability 3.33e-4 by the total number of T states 1900236.\",\"label\":\"Required logical T state error rate\",\"path\":\"physicalCountsFormatted/requiredLogicalTstateErrorRate\"},{\"description\":\"Number of T states to implement a rotation with an arbitrary angle\",\"explanation\":\"The number of T states to implement a rotation with an arbitrary angle is $\\\\lceil 0.53 \\\\log_2(86783 / 0.0003333333333333333) + 5.3\\\\rceil$ [[arXiv:2203.10064](https://arxiv.org/abs/2203.10064)].  For simplicity, we use this formula for all single-qubit arbitrary angle rotations, and do not distinguish between best, worst, and average cases.\",\"label\":\"Number of T states per rotation\",\"path\":\"physicalCountsFormatted/numTsPerRotation\"}],\"title\":\"Resource estimates breakdown\"},{\"alwaysVisible\":false,\"entries\":[{\"description\":\"Name of QEC scheme\",\"explanation\":\"You can load pre-defined QEC schemes by using the name `surface_code` or `floquet_code`. The latter only works with Majorana qubits.\",\"label\":\"QEC scheme\",\"path\":\"jobParams/qecScheme/name\"},{\"description\":\"Required code distance for error correction\",\"explanation\":\"The code distance is the smallest odd integer greater or equal to $\\\\dfrac{2\\\\log(0.03 / 0.000000000008607927512160376)}{\\\\log(0.01/0.001)} - 1$\",\"label\":\"Code distance\",\"path\":\"logicalQubit/codeDistance\"},{\"description\":\"Number of physical qubits per logical qubit\",\"explanation\":\"The number of physical qubits per logical qubit are evaluated using the formula 2 * codeDistance * codeDistance that can be user-specified.\",\"label\":\"Physical qubits\",\"path\":\"logicalQubit/physicalQubits\"},{\"description\":\"Duration of a logical cycle in nanoseconds\",\"explanation\":\"The runtime of one logical cycle in nanoseconds is evaluated using the formula (4 * twoQubitGateTime + 2 * oneQubitMeasurementTime) * codeDistance that can be user-specified.\",\"label\":\"Logical cycle time\",\"path\":\"physicalCountsFormatted/logicalCycleTime\"},{\"description\":\"Logical qubit error rate\",\"explanation\":\"The logical qubit error rate is computed as $0.03 \\\\cdot \\\\left(\\\\dfrac{0.001}{0.01}\\\\right)^\\\\frac{19 + 1}{2}$\",\"label\":\"Logical qubit error rate\",\"path\":\"physicalCountsFormatted/logicalErrorRate\"},{\"description\":\"Crossing prefactor used in QEC scheme\",\"explanation\":\"The crossing prefactor is usually extracted numerically from simulations when fitting an exponential curve to model the relationship between logical and physical error rate.\",\"label\":\"Crossing prefactor\",\"path\":\"jobParams/qecScheme/crossingPrefactor\"},{\"description\":\"Error correction threshold used in QEC scheme\",\"explanation\":\"The error correction threshold is the physical error rate below which the error rate of the logical qubit is less than the error rate of the physical qubit that constitute it.  This value is usually extracted numerically from simulations of the logical error rate.\",\"label\":\"Error correction threshold\",\"path\":\"jobParams/qecScheme/errorCorrectionThreshold\"},{\"description\":\"QEC scheme formula used to compute logical cycle time\",\"explanation\":\"This is the formula that is used to compute the logical cycle time 7us 600ns.\",\"label\":\"Logical cycle time formula\",\"path\":\"jobParams/qecScheme/logicalCycleTime\"},{\"description\":\"QEC scheme formula used to compute number of physical qubits per logical qubit\",\"explanation\":\"This is the formula that is used to compute the number of physical qubits per logical qubits 722.\",\"label\":\"Physical qubits formula\",\"path\":\"jobParams/qecScheme/physicalQubitsPerLogicalQubit\"}],\"title\":\"Logical qubit parameters\"},{\"alwaysVisible\":false,\"entries\":[{\"description\":\"Number of physical qubits for a single T factory\",\"explanation\":\"This corresponds to the maximum number of physical qubits over all rounds of T distillation units in a T factory.  A round of distillation contains of multiple copies of distillation units to achieve the required success probability of producing a T state with the expected logical T state error rate.\",\"label\":\"Physical qubits\",\"path\":\"tfactory/physicalQubits\"},{\"description\":\"Runtime of a single T factory\",\"explanation\":\"The runtime of a single T factory is the accumulated runtime of executing each round in a T factory.\",\"label\":\"Runtime\",\"path\":\"physicalCountsFormatted/tfactoryRuntime\"},{\"description\":\"Number of output T states produced in a single run of T factory\",\"explanation\":\"The T factory takes as input 255 noisy physical T states with an error rate of 0.001 and produces 1 T states with an error rate of 2.16e-11.\",\"label\":\"Number of output T states per run\",\"path\":\"tfactory/numTstates\"},{\"description\":\"Number of physical input T states consumed in a single run of a T factory\",\"explanation\":\"This value includes the physical input T states of all copies of the distillation unit in the first round.\",\"label\":\"Number of input T states per run\",\"path\":\"tfactory/numInputTstates\"},{\"description\":\"The number of distillation rounds\",\"explanation\":\"This is the number of distillation rounds.  In each round one or multiple copies of some distillation unit is executed.\",\"label\":\"Distillation rounds\",\"path\":\"tfactory/numRounds\"},{\"description\":\"The number of units in each round of distillation\",\"explanation\":\"This is the number of copies for the distillation units per round.\",\"label\":\"Distillation units per round\",\"path\":\"physicalCountsFormatted/numUnitsPerRound\"},{\"description\":\"The types of distillation units\",\"explanation\":\"These are the types of distillation units that are executed in each round.  The units can be either physical or logical, depending on what type of qubit they are operating.  Space-efficient units require fewer qubits for the cost of longer runtime compared to Reed-Muller preparation units.\",\"label\":\"Distillation units\",\"path\":\"physicalCountsFormatted/unitNamePerRound\"},{\"description\":\"The code distance in each round of distillation\",\"explanation\":\"This is the code distance used for the units in each round.  If the code distance is 1, then the distillation unit operates on physical qubits instead of error-corrected logical qubits.\",\"label\":\"Distillation code distances\",\"path\":\"physicalCountsFormatted/codeDistancePerRound\"},{\"description\":\"The number of physical qubits used in each round of distillation\",\"explanation\":\"The maximum number of physical qubits over all rounds is the number of physical qubits for the T factory, since qubits are reused by different rounds.\",\"label\":\"Number of physical qubits per round\",\"path\":\"physicalCountsFormatted/physicalQubitsPerRound\"},{\"description\":\"The runtime of each distillation round\",\"explanation\":\"The runtime of the T factory is the sum of the runtimes in all rounds.\",\"label\":\"Runtime per round\",\"path\":\"physicalCountsFormatted/tfactoryRuntimePerRound\"},{\"description\":\"Logical T state error rate\",\"explanation\":\"This is the logical T state error rate achieved by the T factory which is equal or smaller than the required error rate 1.75e-10.\",\"label\":\"Logical T state error rate\",\"path\":\"physicalCountsFormatted/tstateLogicalErrorRate\"}],\"title\":\"T factory parameters\"},{\"alwaysVisible\":false,\"entries\":[{\"description\":\"Number of logical qubits in the input quantum program\",\"explanation\":\"We determine 54 from this number by assuming to align them in a 2D grid.  Auxiliary qubits are added to allow for sufficient space to execute multi-qubit Pauli measurements on all or a subset of the logical qubits.\",\"label\":\"Logical qubits (pre-layout)\",\"path\":\"logicalCounts/numQubits\"},{\"description\":\"Number of T gates in the input quantum program\",\"explanation\":\"This includes all T gates and adjoint T gates, but not T gates used to implement rotation gates with arbitrary angle, CCZ gates, or CCiX gates.\",\"label\":\"T gates\",\"path\":\"logicalCounts/tCount\"},{\"description\":\"Number of rotation gates in the input quantum program\",\"explanation\":\"This is the number of all rotation gates. If an angle corresponds to a Pauli, Clifford, or T gate, it is not accounted for in this number.\",\"label\":\"Rotation gates\",\"path\":\"logicalCounts/rotationCount\"},{\"description\":\"Depth of rotation gates in the input quantum program\",\"explanation\":\"This is the number of all non-Clifford layers that include at least one single-qubit rotation gate with an arbitrary angle.\",\"label\":\"Rotation depth\",\"path\":\"logicalCounts/rotationDepth\"},{\"description\":\"Number of CCZ-gates in the input quantum program\",\"explanation\":\"This is the number of CCZ gates.\",\"label\":\"CCZ gates\",\"path\":\"logicalCounts/cczCount\"},{\"description\":\"Number of CCiX-gates in the input quantum program\",\"explanation\":\"This is the number of CCiX gates, which applies $-iX$ controlled on two control qubits [[1212.5069](https://arxiv.org/abs/1212.5069)].\",\"label\":\"CCiX gates\",\"path\":\"logicalCounts/ccixCount\"},{\"description\":\"Number of single qubit measurements in the input quantum program\",\"explanation\":\"This is the number of single qubit measurements in Pauli basis that are used in the input program.  Note that all measurements are counted, however, the measurement result is is determined randomly (with a fixed seed) to be 0 or 1 with a probability of 50%.\",\"label\":\"Measurement operations\",\"path\":\"logicalCounts/measurementCount\"}],\"title\":\"Pre-layout logical resources\"},{\"alwaysVisible\":false,\"entries\":[{\"description\":\"Total error budget for the algorithm\",\"explanation\":\"The total error budget sets the overall allowed error for the algorithm, i.e., the number of times it is allowed to fail.  Its value must be between 0 and 1 and the default value is 0.001, which corresponds to 0.1%, and means that the algorithm is allowed to fail once in 1000 executions.  This parameter is highly application specific. For example, if one is running Shor's algorithm for factoring integers, a large value for the error budget may be tolerated as one can check that the output are indeed the prime factors of the input.  On the other hand, a much smaller error budget may be needed for an algorithm solving a problem with a solution which cannot be efficiently verified.  This budget $\\\\epsilon = \\\\epsilon_{\\\\log} + \\\\epsilon_{\\\\rm dis} + \\\\epsilon_{\\\\rm syn}$ is uniformly distributed and applies to errors $\\\\epsilon_{\\\\log}$ to implement logical qubits, an error budget $\\\\epsilon_{\\\\rm dis}$ to produce T states through distillation, and an error budget $\\\\epsilon_{\\\\rm syn}$ to synthesize rotation gates with arbitrary angles.  Note that for distillation and rotation synthesis, the respective error budgets $\\\\epsilon_{\\\\rm dis}$ and $\\\\epsilon_{\\\\rm syn}$ are uniformly distributed among all T states and all rotation gates, respectively. If there are no rotation gates in the input algorithm, the error budget is uniformly distributed to logical errors and T state errors.\",\"label\":\"Total error budget\",\"path\":\"physicalCountsFormatted/errorBudget\"},{\"description\":\"Probability of at least one logical error\",\"explanation\":\"This is one third of the total error budget 1.00e-3 if the input algorithm contains rotation with gates with arbitrary angles, or one half of it, otherwise.\",\"label\":\"Logical error probability\",\"path\":\"physicalCountsFormatted/errorBudgetLogical\"},{\"description\":\"Probability of at least one faulty T distillation\",\"explanation\":\"This is one third of the total error budget 1.00e-3 if the input algorithm contains rotation with gates with arbitrary angles, or one half of it, otherwise.\",\"label\":\"T distillation error probability\",\"path\":\"physicalCountsFormatted/errorBudgetTstates\"},{\"description\":\"Probability of at least one failed rotation synthesis\",\"explanation\":\"This is one third of the total error budget 1.00e-3.\",\"label\":\"Rotation synthesis error probability\",\"path\":\"physicalCountsFormatted/errorBudgetRotations\"}],\"title\":\"Assumed error budget\"},{\"alwaysVisible\":false,\"entries\":[{\"description\":\"Some descriptive name for the qubit model\",\"explanation\":\"You can load pre-defined qubit parameters by using the names `qubit_gate_ns_e3`, `qubit_gate_ns_e4`, `qubit_gate_us_e3`, `qubit_gate_us_e4`, `qubit_maj_ns_e4`, or `qubit_maj_ns_e6`.  The names of these pre-defined qubit parameters indicate the instruction set (gate-based or Majorana), the operation speed (ns or ¬µs regime), as well as the fidelity (e.g., e3 for $10^{-3}$ gate error rates).\",\"label\":\"Qubit name\",\"path\":\"jobParams/qubitParams/name\"},{\"description\":\"Underlying qubit technology (gate-based or Majorana)\",\"explanation\":\"When modeling the physical qubit abstractions, we distinguish between two different physical instruction sets that are used to operate the qubits.  The physical instruction set can be either *gate-based* or *Majorana*.  A gate-based instruction set provides single-qubit measurement, single-qubit gates (incl. T gates), and two-qubit gates.  A Majorana instruction set provides a physical T gate, single-qubit measurement and two-qubit joint measurement operations.\",\"label\":\"Instruction set\",\"path\":\"jobParams/qubitParams/instructionSet\"},{\"description\":\"Operation time for single-qubit measurement (t_meas) in ns\",\"explanation\":\"This is the operation time in nanoseconds to perform a single-qubit measurement in the Pauli basis.\",\"label\":\"Single-qubit measurement time\",\"path\":\"jobParams/qubitParams/oneQubitMeasurementTime\"},{\"description\":\"Operation time for single-qubit gate (t_gate) in ns\",\"explanation\":\"This is the operation time in nanoseconds to perform a single-qubit Clifford operation, e.g., Hadamard or Phase gates.\",\"label\":\"Single-qubit gate time\",\"path\":\"jobParams/qubitParams/oneQubitGateTime\"},{\"description\":\"Operation time for two-qubit gate in ns\",\"explanation\":\"This is the operation time in nanoseconds to perform a two-qubit Clifford operation, e.g., a CNOT or CZ gate.\",\"label\":\"Two-qubit gate time\",\"path\":\"jobParams/qubitParams/twoQubitGateTime\"},{\"description\":\"Operation time for a T gate\",\"explanation\":\"This is the operation time in nanoseconds to execute a T gate.\",\"label\":\"T gate time\",\"path\":\"jobParams/qubitParams/tGateTime\"},{\"description\":\"Error rate for single-qubit measurement\",\"explanation\":\"This is the probability in which a single-qubit measurement in the Pauli basis may fail.\",\"label\":\"Single-qubit measurement error rate\",\"path\":\"jobParams/qubitParams/oneQubitMeasurementErrorRate\"},{\"description\":\"Error rate for single-qubit Clifford gate (p)\",\"explanation\":\"This is the probability in which a single-qubit Clifford operation, e.g., Hadamard or Phase gates, may fail.\",\"label\":\"Single-qubit error rate\",\"path\":\"jobParams/qubitParams/oneQubitGateErrorRate\"},{\"description\":\"Error rate for two-qubit Clifford gate\",\"explanation\":\"This is the probability in which a two-qubit Clifford operation, e.g., CNOT or CZ gates, may fail.\",\"label\":\"Two-qubit error rate\",\"path\":\"jobParams/qubitParams/twoQubitGateErrorRate\"},{\"description\":\"Error rate to prepare single-qubit T state or apply a T gate (p_T)\",\"explanation\":\"This is the probability in which executing a single T gate may fail.\",\"label\":\"T gate error rate\",\"path\":\"jobParams/qubitParams/tGateErrorRate\"}],\"title\":\"Physical qubit parameters\"}]},\"status\":\"success\",\"tfactory\":{\"codeDistancePerRound\":[7,19],\"logicalErrorRate\":2.1639895946963144E-11,\"numInputTstates\":255,\"numRounds\":2,\"numTstates\":1,\"numUnitsPerRound\":[17,1],\"physicalQubits\":33320,\"physicalQubitsPerRound\":[33320,22382],\"runtime\":120000.0,\"runtimePerRound\":[36400.0,83600.0],\"unitNamePerRound\":[\"15-to-1 space efficient logical\",\"15-to-1 RM prep logical\"]}}"
          },
          "metadata": {
            "text/plain": {},
            "application/x-qsharp-data": {}
          }
        }
      ],
      "execution_count": 48,
      "metadata": {
        "jupyter": {
          "source_hidden": false,
          "outputs_hidden": true
        },
        "nteract": {
          "transient": {
            "deleting": false
          }
        }
      }
    },
    {
      "cell_type": "code",
      "source": [
        "%simulate shorImplementatonTest n=247"
      ],
      "outputs": [
        {
          "output_type": "stream",
          "name": "stdout",
          "text": "Número aleatorio entre 2 y 246: \nNúmero aleatorio: 181\nLa estimación del periodo no retorna un factor valido.\nNúmero aleatorio entre 2 y 246: \nNúmero aleatorio: 41\nGCD de 76 y 19:\nNuevo intento.\nGCD de 57 y 19:\nNuevo intento.\nGCD de 38 y 19:\nNuevo intento.\nGCD de 78 y 13:\nNuevo intento.\nGCD de 65 y 13:\nNuevo intento.\nGCD de 52 y 13:\nNuevo intento.\nGCD de 39 y 13:\nNuevo intento.\nGCD de 26 y 13:\nNuevo intento.\n"
        },
        {
          "output_type": "execute_result",
          "execution_count": 45,
          "data": {
            "text/plain": "(19, 13)",
            "application/x-qsharp-data": "{\"@type\":\"@tuple\",\"Item1\":19,\"Item2\":13}"
          },
          "metadata": {
            "text/plain": {},
            "application/x-qsharp-data": {}
          }
        }
      ],
      "execution_count": 45,
      "metadata": {
        "jupyter": {
          "source_hidden": false,
          "outputs_hidden": false
        },
        "nteract": {
          "transient": {
            "deleting": false
          }
        }
      }
    },
    {
      "attachments": {},
      "cell_type": "markdown",
      "source": [
        "## Conclusiones\n",
        "1. Según el código previo, la complejidad computacional temporal es O(nlog²(n)).\n",
        "Esto debido a las distintas repeticiones a evaluar en un número aleatorio.\n",
        "2. Según el código previo, la complejidad computacional espacial es O(log²(n)).\n",
        "Esto debido a la cantidad de veces que recorre la celda de la multiplicación modular."
      ],
      "metadata": {
        "nteract": {
          "transient": {
            "deleting": false
          }
        }
      }
    }
  ],
  "metadata": {
    "kernel_info": {
      "name": "iqsharp"
    },
    "kernelspec": {
      "name": "iqsharp",
      "language": "qsharp",
      "display_name": "Q#"
    },
    "language_info": {
      "name": "qsharp",
      "version": "0.27",
      "mimetype": "text/x-qsharp",
      "file_extension": ".qs"
    },
    "nteract": {
      "version": "nteract-front-end@1.0.0"
    }
  },
  "nbformat": 4,
  "nbformat_minor": 0
}